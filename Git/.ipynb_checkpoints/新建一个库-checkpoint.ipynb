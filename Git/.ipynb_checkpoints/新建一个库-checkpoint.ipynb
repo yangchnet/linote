{
 "cells": [
  {
   "cell_type": "markdown",
   "metadata": {},
   "source": [
    "# 怎样从本地现有代码新建一个库"
   ]
  },
  {
   "cell_type": "markdown",
   "metadata": {},
   "source": [
    "1. 在本地代码目录初始化git\n",
    "```bash\n",
    "git init\n",
    "```\n",
    "2. 然后将代码添加到仓库中\n",
    "```bash\n",
    "git add .    #这里是添加了当前目录所有的文件\n",
    "```\n",
    "3. 提交代码到本地库中\n",
    "```bash\n",
    "git commit -m \"这里是提交的注释\"\n",
    "```\n",
    "4. 接下来我们需要在github上新建一个库，比如说新库的名字为hello\n",
    "\n",
    "5. 将本地的仓库关联到github上\n",
    "```bash\n",
    "git remote add origin https://github.com/yourname/hello\n",
    "```\n",
    "6. 上传之前，先要拉取远程的相关信息\n",
    "```bash\n",
    "git pull origin master\n",
    "```\n",
    "7. 最后上传\n",
    "```bash\n",
    "git push -u origin master\n",
    "```"
   ]
  },
  {
   "cell_type": "markdown",
   "metadata": {},
   "source": [
    "## 遇到的问题\n",
    "> 来自 https://github.com/yangchnet/Mygolang\n",
    "     * branch            master     -> FETCH_HEAD\n",
    "    fatal: 拒绝合并无关的历史\n",
    "    \n",
    "解决方案\n",
    "首先将远程仓库和本地仓库关联起来：\n",
    "```bash\n",
    "git branch --set-upstream-to=origin/master master\n",
    "```\n",
    "然后使用git pull整合远程仓库和本地仓库，\n",
    "```bash\n",
    "git pull --allow-unrelated-histories    (忽略版本不同造成的影响)\n",
    "```\n",
    "\n"
   ]
  }
 ],
 "metadata": {
  "kernelspec": {
   "display_name": "Python 3",
   "language": "python",
   "name": "python3"
  },
  "language_info": {
   "codemirror_mode": {
    "name": "ipython",
    "version": 3
   },
   "file_extension": ".py",
   "mimetype": "text/x-python",
   "name": "python",
   "nbconvert_exporter": "python",
   "pygments_lexer": "ipython3",
   "version": "3.7.4"
  }
 },
 "nbformat": 4,
 "nbformat_minor": 2
}
