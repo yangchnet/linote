{
 "cells": [
  {
   "cell_type": "markdown",
   "metadata": {},
   "source": [
    "# Github API问题"
   ]
  },
  {
   "cell_type": "markdown",
   "metadata": {},
   "source": [
    "# 使用github的RESTful API"
   ]
  },
  {
   "cell_type": "markdown",
   "metadata": {},
   "source": [
    "访问```https://developer.github.com/v3/```来查看帮助文档"
   ]
  },
  {
   "cell_type": "markdown",
   "metadata": {},
   "source": [
    "## API访问限制"
   ]
  },
  {
   "cell_type": "markdown",
   "metadata": {},
   "source": [
    "在云服务器上使用git的API时，发现出现```message\":\"API rate limit exceeded for 59.110.140.133. (But here's the good news: Authenticated requests get a higher rate limit. Check out the documentation for more details.)\",\"documentation_url\":\"https://developer.github.com/v3/#rate-limiting```提示信息，显然，这是存在着访问限制。"
   ]
  },
  {
   "cell_type": "markdown",
   "metadata": {},
   "source": [
    "## 查看访问限制"
   ]
  },
  {
   "cell_type": "markdown",
   "metadata": {},
   "source": [
    "使用```curl -i https://api.github.com/rate_limit```查看自己的限制信息\n",
    "```json\n",
    "HTTP/1.1 200 OK\n",
    "Content-Type: application/json\n",
    "X-Ratelimit-Limit: 60\n",
    "X-Ratelimit-Remaining: 59\n",
    "X-Ratelimit-Reset: 1585470905\n",
    "Date: Sun, 29 Mar 2020 07:49:35 GMT\n",
    "Content-Length: 482\n",
    "Accept-Ranges: bytes\n",
    "X-GitHub-Request-Id: BB32:30AB:3EF690:50F336:5E80530E\n",
    "\n",
    "{\n",
    "  \"resources\": {\n",
    "    \"core\": {\n",
    "      \"limit\": 60,\n",
    "      \"remaining\": 59,\n",
    "      \"reset\": 1585470905\n",
    "    },\n",
    "    \"graphql\": {\n",
    "      \"limit\": 0,\n",
    "      \"remaining\": 0,\n",
    "      \"reset\": 1585471775\n",
    "    },\n",
    "    \"integration_manifest\": {\n",
    "      \"limit\": 5000,\n",
    "      \"remaining\": 5000,\n",
    "      \"reset\": 1585471775\n",
    "    },\n",
    "    \"search\": {\n",
    "      \"limit\": 10,\n",
    "      \"remaining\": 10,\n",
    "      \"reset\": 1585468235\n",
    "    }\n",
    "  },\n",
    "  \"rate\": {\n",
    "    \"limit\": 60,\n",
    "    \"remaining\": 59,\n",
    "    \"reset\": 1585470905\n",
    "  }\n",
    "}\n",
    "```\n",
    "rate.limit 为60次，访问60次后就被限制，很显然不太够用"
   ]
  },
  {
   "cell_type": "markdown",
   "metadata": {},
   "source": [
    "## 提高访问限制\n",
    "通过在github注册应用程序，可提高到每小时5000次访问，一般应用程序足够了\n",
    "在```https://github.com/settings/applications/new```注册应用程序  \n",
    "![](https://www.wangbase.com/blogimg/asset/201904/bg2019042102.jpg)  \n",
    "就可以得到client_id和client_secret  \n",
    "使用```curl -u my_client_id:my_client_secret 'https://api.github.com/user/repos'```进行身份验证，然后即可"
   ]
  }
 ],
 "metadata": {
  "kernelspec": {
   "display_name": "Go",
   "language": "go",
   "name": "gophernotes"
  },
  "language_info": {
   "codemirror_mode": "",
   "file_extension": ".go",
   "mimetype": "",
   "name": "go",
   "nbconvert_exporter": "",
   "pygments_lexer": "",
   "version": "go1.13.6"
  }
 },
 "nbformat": 4,
 "nbformat_minor": 2
}
