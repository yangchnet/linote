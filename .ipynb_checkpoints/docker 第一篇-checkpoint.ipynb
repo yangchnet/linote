{
 "cells": [
  {
   "cell_type": "markdown",
   "metadata": {},
   "source": [
    "## 1、docker的安装（Ubuntu）\n",
    "### 1.1 设置存储库\n",
    "> 若是已安装旧版本的docker，  \n",
    "请卸载：sudo apt-get remove docker docker-engine docker.io containerd runc\n",
    "#### 1.1.1、更新apt索引\n",
    " ```bash\n",
    " sudo apt-get update\n",
    " ```\n",
    "#### 1.1.2、安装依赖\n",
    "```bash\n",
    "sudo apt-get install \\\n",
    "    apt-transport-https \\\n",
    "    ca-certificates \\\n",
    "    curl \\\n",
    "    gnupg-agent \\\n",
    "    software-properties-common\n",
    "```\n",
    "#### 1.1.3、添加docker官方的GPG秘钥\n",
    "```bash\n",
    "curl -fsSL https://download.docker.com/linux/ubuntu/gpg | sudo apt-key add -\n",
    "```\n",
    "> 在进行此步时，出现了sudo: unable to resolve host iZ2ze4512bfzoapfvch6btZ，这是因为机器不能反向解析  \n",
    "打开主机上的 /etc/hosts  \n",
    "添加： 127.0.0.1 【hostname】# 【hostname】用主机名替代  \n",
    "可在/etc/hostname中修改主机名，sudo shutdown -r now重启过后完成主机名修改\n",
    "\n",
    "验证添加成功：\n",
    "```bash\n",
    "sudo apt-key fingerprint 0EBFCD88\n",
    "```\n",
    "#### 1.1.4、 设置存储库\n",
    "```\n",
    "sudo add-apt-repository \"deb [arch=amd64] https://download.docker.com/linux/ubuntu $(lsb_release -cs) \\stable\"\n",
    "\n",
    "```"
   ]
  },
  {
   "cell_type": "markdown",
   "metadata": {},
   "source": [
    "### 1.2、安装dockerCE\n",
    "#### 1.2.1 更新apt索引\n",
    "```bash\n",
    "sudo apt-get update\n",
    "```\n",
    "#### 1.2.2、安装最新版本的dockerCE和containerd\n",
    "```bash\n",
    "sudo apt-get install docker-ce docker-ce-cli containerd.io\n",
    "```\n",
    "#### 1.2.3、通过运行hello-world验证是否正确安装了dockerCE\n",
    "```bash\n",
    "sudo docker run hello-world\n",
    "```\n",
    "#### 1.2.4、卸载dockerCE\n",
    "1、卸载dockerCE软件包  \n",
    "```bash\n",
    "sudo apt-get purge docker-ce\n",
    "```\n",
    "2、主机上的图像，容器，卷或自定义配置文件不会自动删除。要删除所有图像，容器和卷：  \n",
    "```bash\n",
    "sudo rm -rf /var/lib/docker\n",
    "```"
   ]
  }
 ],
 "metadata": {
  "kernelspec": {
   "display_name": "Python 3",
   "language": "python",
   "name": "python3"
  },
  "language_info": {
   "codemirror_mode": {
    "name": "ipython",
    "version": 3
   },
   "file_extension": ".py",
   "mimetype": "text/x-python",
   "name": "python",
   "nbconvert_exporter": "python",
   "pygments_lexer": "ipython3",
   "version": "3.7.2"
  }
 },
 "nbformat": 4,
 "nbformat_minor": 2
}
