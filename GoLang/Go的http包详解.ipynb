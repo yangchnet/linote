{
 "cells": [
  {
   "cell_type": "markdown",
   "metadata": {},
   "source": [
    "# Go的http包详解"
   ]
  },
  {
   "cell_type": "markdown",
   "metadata": {},
   "source": [
    "详细地解剖一下 http 包，看它到底是怎样实现整个过程的。  \n",
    "Go 的 http 有两个核心功能：Conn、ServeMux"
   ]
  },
  {
   "cell_type": "markdown",
   "metadata": {},
   "source": [
    "## Conn的goroputine"
   ]
  },
  {
   "cell_type": "markdown",
   "metadata": {},
   "source": [
    "为了实现高并发和高性能，go使用了goroutine来处理Conn的读写事件，这样每个请求都能保持独立，相互不会阻塞，可以高效的相应网络事件。   \n",
    "go在等待客户端请求中是这样的：  \n",
    "```go\n",
    "c, err := srv.newConn(rw)\n",
    "if err != nil {\n",
    "    continue\n",
    "}\n",
    "go c.serve()\n",
    "```  \n",
    "可以看到，客户端的每次请求都会创建一个Conn，这个Conn里面保存了该次请求的信息，然后再传递到相应的handler，该handler中便可以读取到相应的header信息，这样保证了每个请求的独立性。"
   ]
  },
  {
   "cell_type": "markdown",
   "metadata": {},
   "source": [
    "## ServeMux的自定义"
   ]
  },
  {
   "cell_type": "markdown",
   "metadata": {},
   "source": [
    "```conn.server```内部调用了http包默认的路由器，通过路由器把本次请求的信息传递到了后端的处理函数，那么这个路由器是怎么实现的呢？"
   ]
  },
  {
   "cell_type": "markdown",
   "metadata": {},
   "source": [
    "它的结构如下：\n",
    "```go\n",
    "type ServeMux struct{\n",
    "    mu sync.RWMutext  // 锁，请求涉及到并发处理，因此需要一个锁机制\n",
    "    m map[string]muxEntry  // 路由规则，一个String对应一个mux实体，这里的String就是注册的一个路由表达式\n",
    "    hosts bool  // 是否在任意的规则中带有host信息\n",
    "}\n",
    "```\n",
    "下面看一下muxEntry\n",
    "```go\n",
    "type muxEntry struct {\n",
    "    explicit bool // 是否精确匹配\n",
    "    h Handler // 这个路由表达式对应哪个handler\n",
    "    pattern string // 匹配字符串\n",
    "}\n",
    "```\n",
    "在看一下Handler的定义  \n",
    "```go\n",
    "type Handler interface {\n",
    "    ServeHTTP(ResponseWriter, *Request)  // 路由实现器\n",
    "}\n",
    "```\n",
    "Handler是一个接口，但是附中的```sayhelloName```函数中并没有实现ServeHTTP这个接口，为什么能添加呢？这是因为http包里面还定义了一个类型```HandlerFunc```，定义的函数```sayhelloName```就是这个HandlerFunc调用之后的结果，**这个类型默认就实现了ServeHTTP这个方法，即我们调用了HandlerFunc(f)，强制类型转换f成为HandlerFunc类型，这样f就拥有了ServeHTTP方法。**\n",
    "```go\n",
    "type HandlerFunc func(ResponseWriter, *Request)\n",
    "\n",
    "// ServeHTTP calls f(w, r)\n",
    "func (f HandlerFunc) ServeHTTP(w ResponseWriter, r *Request){\n",
    "    f (w, r)\n",
    "}\n",
    "```"
   ]
  },
  {
   "cell_type": "markdown",
   "metadata": {},
   "source": [
    "---\n",
    "路由器里面存储好了对应的路由规则之后，那么具体的请求又是怎么分发的呢？下面的代码，默认的路由器实现了```ServeHTTP```\n",
    "```go\n",
    "func (mux *ServeMux) ServeHTTP(w ResponseWriter, r *Request) {\n",
    "    if r.RequestURL == \"*\"{\n",
    "        w.Header().Set(\"connection\", \"clost\")\n",
    "        w.WriteHeader(StatusBadReqest)\n",
    "        return\n",
    "    }\n",
    "    h, _ := mux.Handler(r)\n",
    "    h.ServeHTTP(w, r)\n",
    "}\n",
    "```\n",
    "路由器接收到请求后，如果是```*```那么关闭链接，否则调用```mux.Handler(r)```返回对应设置路由的处理Handler，然后执行```h.ServeHTTP(w, r)```，也就是调用对应路由的handler的ServeHTTP接口，那么mux.Handler(r)怎么处理的呢？\n",
    "```go\n",
    "func (mux *ServeMux) Handler(r *Request)(h Handler, pattern string){\n",
    "    if r.Method != \"CONNECT\" {\n",
    "        if p := cleanPath(r.URL.Path); p != r.URL.Path{\n",
    "            _, pattern = mux.handler(r.Host, p)\n",
    "            return RedirectHandler(p, StatusMovedPermanently), pattern\n",
    "        }\n",
    "    }\n",
    "    return mux.handler(r.Host, r.URL.Path)\n",
    "}\n",
    "func (mux *ServeMux) handler(host, path string) (h Handler, pattern string) {\n",
    "    mux.mu.RLock()\n",
    "    defer mux.mu.RUnlock()\n",
    "\n",
    "    // Host-specific pattern takes precedence over generic ones\n",
    "    if mux.hosts {\n",
    "        h, pattern = mux.match(host + path)\n",
    "    }\n",
    "    if h == nil {\n",
    "        h, pattern = mux.match(path)\n",
    "    }\n",
    "    if h == nil {\n",
    "        h, pattern = NotFoundHandler(), \"\"\n",
    "    }\n",
    "    return\n",
    "}\n",
    "```\n",
    "根据用户请求的URL和路由器里面存储的map来匹配，当匹配到之后返回存储的handler，调用这个handler的ServeHTTP接口就可以执行到相应的函数。\n",
    "\n",
    "Go 其实支持外部实现的路由器 ListenAndServe 的第二个参数就是用以配置外部路由器的，它是一个 Handler 接口，即外部路由器只要实现了 Handler 接口就可以，我们可以在自己实现的路由器的 ServeHTTP 里面实现自定义路由功能。\n",
    "如下代码所示，我们自己实现了一个简易的路由器  \n"
   ]
  },
  {
   "cell_type": "markdown",
   "metadata": {},
   "source": [
    "```go\n",
    "import (\n",
    "    \"fmt\"\n",
    "    \"net/http\"\n",
    ")\n",
    "\n",
    "type MyMux struct {\n",
    "}\n",
    "\n",
    "func (p *MyMux) ServeHTTP(w http.ResponseWriter, r *http.Request) {\n",
    "    if r.URL.Path == \"/\" {\n",
    "        sayhelloName(w, r)\n",
    "        return\n",
    "    }\n",
    "    http.NotFound(w, r)\n",
    "    return\n",
    "}\n",
    "\n",
    "func sayhelloName(w http.ResponseWriter, r *http.Request) {\n",
    "    fmt.Fprintf(w, \"Hello myroute!\")\n",
    "}\n",
    "\n",
    "func main() {\n",
    "    mux := &MyMux{}\n",
    "    http.ListenAndServe(\":9090\", mux)\n",
    "}\n",
    "```"
   ]
  },
  {
   "cell_type": "markdown",
   "metadata": {},
   "source": [
    "## GO代码的执行流程"
   ]
  },
  {
   "cell_type": "markdown",
   "metadata": {},
   "source": [
    "通过对http包的分析之后，现在让我们来梳理一下整个的代码执行过程。\n",
    "* 首先调用Http.HandleFunc\n",
    "按顺序做了几件事\n",
    "    1. 调用了DefaultServeMux 的 HandleFunc\n",
    "    2. 调用了 DefaultServeMux 的 Handle\n",
    "    3. 往 DefaultServeMux 的 map [string] muxEntry 中增加对应的 handler 和路由规则\n",
    "* 其次调用 http.ListenAndServe (\":9090\", nil)  \n",
    "按顺序做了几件事\n",
    "    1. 实例化 Server\n",
    "    2. 调用 Server 的 ListenAndServe ()\n",
    "    3. 调用 net.Listen (\"tcp\", addr) 监听端口\n",
    "    4. 启动一个 for 循环，在循环体中 Accept 请求\n",
    "    5. 对每个请求实例化一个 Conn，并且开启一个 goroutine 为这个请求进行服务 go c.serve ()\n",
    "    6. 读取每个请求的内容 w, err := c.readRequest ()\n",
    "    7. 判断 handler 是否为空，如果没有设置 handler（这个例子就没有设置 handler），handler 就设置为 DefaultServeMux\n",
    "    8. 调用 handler 的 ServeHttp\n",
    "    9. 在这个例子中，下面就进入到 DefaultServeMux.ServeHttp\n",
    "    10. 根据 request 选择 handler，并且进入到这个 handler 的 ServeHTTP\n",
    "    ```go\n",
    "    mux.handler(r).ServeHTTP(w, r)\n",
    "    ```\n",
    "    11. 选择 handler：\n",
    "        - 判断是否有路由能满足这个 request（循环遍历 ServeMux 的 muxEntry）\n",
    "        - B 如果有路由满足，调用这个路由 handler 的 ServeHTTP\n",
    "        - 如果没有路由满足，调用 NotFoundHandler 的 ServeHTTP\n",
    "\n"
   ]
  },
  {
   "cell_type": "markdown",
   "metadata": {},
   "source": [
    "---"
   ]
  },
  {
   "cell_type": "markdown",
   "metadata": {},
   "source": [
    "附：\n",
    "```go\n",
    "func sayHelloName(w http.ResponseWriter, r *http.Request){\n",
    "    r.ParseForm()\n",
    "    fmt.Println(r.Form)\n",
    "    fmt.Println(\"path\", r.URL.Path)\n",
    "    fmt.Println(\"scheme\", r.URL.Scheme)\n",
    "    fmt.Println(r.Form[\"url_long\"])\n",
    "    for k, v := range r.Form{\n",
    "        fmt.Println(\"key: \", k)\n",
    "        fmt.Println(\"val: \", strings.Join(v, \" \"))\n",
    "    }\n",
    "    fmt.Println(w, \"hello world\")\n",
    "}\n",
    "\n",
    "func main() {\n",
    "    http.HandleFunc(\"/\", sayHelloName)\n",
    "    err := http.ListenAndServe(\":9090\", nil)\n",
    "    if err != nil {\n",
    "        log.Fatal(\"listenandserver: \", err)\n",
    "    }\n",
    "}\n",
    "```"
   ]
  }
 ],
 "metadata": {
  "kernelspec": {
   "display_name": "Go",
   "language": "go",
   "name": "gophernotes"
  },
  "language_info": {
   "codemirror_mode": "",
   "file_extension": ".go",
   "mimetype": "",
   "name": "go",
   "nbconvert_exporter": "",
   "pygments_lexer": "",
   "version": "go1.13.6"
  }
 },
 "nbformat": 4,
 "nbformat_minor": 2
}
