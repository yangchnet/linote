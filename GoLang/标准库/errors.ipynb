{
 "cells": [
  {
   "cell_type": "markdown",
   "metadata": {},
   "source": [
    "# errors标准库"
   ]
  },
  {
   "cell_type": "markdown",
   "metadata": {},
   "source": [
    "errors标准库很简单，整个标准库只有寥寥几行\n",
    "```go\n",
    "package errors\n",
    "\n",
    "// New returns an error that formats as the given text.\n",
    "// Each call to New returns a distinct error value even if the text is identical.\n",
    "func New(text string) error {\n",
    "\treturn &errorString{text}\n",
    "}\n",
    "\n",
    "// errorString is a trivial implementation of error.\n",
    "type errorString struct {\n",
    "\ts string\n",
    "}\n",
    "\n",
    "func (e *errorString) Error() string {\n",
    "\treturn e.s\n",
    "}\n",
    "```\n"
   ]
  },
  {
   "cell_type": "markdown",
   "metadata": {},
   "source": [
    "其中较常用的是```func New(text string) error```,例子:"
   ]
  },
  {
   "cell_type": "code",
   "execution_count": 4,
   "metadata": {},
   "outputs": [
    {
     "name": "stdout",
     "output_type": "stream",
     "text": [
      "emit macho dwarf: elf header corrupted"
     ]
    }
   ],
   "source": [
    "import (\n",
    "    \"errors\"\n",
    "    \"fmt\"\n",
    ")\n",
    "func ExampleNew() {\n",
    "    err := errors.New(\"emit macho dwarf: elf header corrupted\")\n",
    "    if err != nil {\n",
    "        fmt.Print(err)\n",
    "    }\n",
    "    // Output: emit macho dwarf: elf header corrupted\n",
    "}\n",
    "ExampleNew()"
   ]
  },
  {
   "cell_type": "markdown",
   "metadata": {},
   "source": [
    "但其实更常用的一个关于error的函数却是在```fmt```中，即```fmt.Errorf```, 它能让我们更灵活的创建错误对象"
   ]
  },
  {
   "cell_type": "code",
   "execution_count": 5,
   "metadata": {},
   "outputs": [],
   "source": [
    "// The fmt package's Errorf function lets us use the package's formatting\n",
    "// features to create descriptive error messages.\n",
    "func ExampleNew_errorf() {\n",
    "    const name, id = \"bimmler\", 17\n",
    "    err := fmt.Errorf(\"user %q (id %d) not found\", name, id)\n",
    "    if err != nil {\n",
    "        fmt.Print(err)\n",
    "    }\n",
    "    // Output: user \"bimmler\" (id 17) not found\n",
    "}"
   ]
  }
 ],
 "metadata": {
  "kernelspec": {
   "display_name": "Go",
   "language": "go",
   "name": "gophernotes"
  },
  "language_info": {
   "codemirror_mode": "",
   "file_extension": ".go",
   "mimetype": "",
   "name": "go",
   "nbconvert_exporter": "",
   "pygments_lexer": "",
   "version": "go1.13.6"
  }
 },
 "nbformat": 4,
 "nbformat_minor": 2
}
