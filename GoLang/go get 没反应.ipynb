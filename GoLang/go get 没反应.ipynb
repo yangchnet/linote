{
 "cells": [
  {
   "cell_type": "markdown",
   "metadata": {},
   "source": [
    "# go get 没反应"
   ]
  },
  {
   "cell_type": "markdown",
   "metadata": {},
   "source": [
    "**修改hosts，然后reboot**\n",
    "添加\n",
    "```bash\n",
    "192.30.253.112 github.com\n",
    "151.101.185.194 github.global.ssl.fastly.net\n",
    "```\n",
    "到```/etc/hosts```\n",
    "然后reboot"
   ]
  },
  {
   "cell_type": "markdown",
   "metadata": {},
   "source": [
    "## go get golang.org"
   ]
  },
  {
   "cell_type": "markdown",
   "metadata": {},
   "source": [
    "在使用```go get golang.org/...```时，总是```time out```（就算fp也一样，fp之后可以访问```golang.org```），不知道为啥。\n",
    "\n",
    "幸好github上存在golang.org的镜像  \n",
    "例如\n",
    "```bash\n",
    "go get -u golang.org/x/net\n",
    "```\n",
    "那么这个包的位置在github上就是```github.com/golang/net```, 所以，我们可以手动建立```golang.org/x/```目录，并切换到该目录下，然后使用\n",
    "```bash\n",
    "git clone https://github.com/golang/net.git\n",
    "```\n",
    "**注意：**要使用```git clone```命令，直接下载下来复制到目录下会提示找不到版本号。"
   ]
  }
 ],
 "metadata": {
  "kernelspec": {
   "display_name": "Go",
   "language": "go",
   "name": "gophernotes"
  },
  "language_info": {
   "codemirror_mode": "",
   "file_extension": ".go",
   "mimetype": "",
   "name": "go",
   "nbconvert_exporter": "",
   "pygments_lexer": "",
   "version": "go1.14.2"
  }
 },
 "nbformat": 4,
 "nbformat_minor": 4
}
