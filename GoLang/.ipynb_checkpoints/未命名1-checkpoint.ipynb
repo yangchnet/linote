{
 "cells": [
  {
   "cell_type": "markdown",
   "metadata": {},
   "source": [
    "# go get 没反应"
   ]
  },
  {
   "cell_type": "markdown",
   "metadata": {},
   "source": [
    "**修改hosts，然后reboot**\n",
    "添加\n",
    "```bash\n",
    "192.30.253.112 github.com\n",
    "151.101.185.194 github.global.ssl.fastly.net\n",
    "```\n",
    "到```/etc/hosts```\n",
    "然后reboot"
   ]
  }
 ],
 "metadata": {
  "kernelspec": {
   "display_name": "Go",
   "language": "go",
   "name": "gophernotes"
  },
  "language_info": {
   "codemirror_mode": "",
   "file_extension": ".go",
   "mimetype": "",
   "name": "go",
   "nbconvert_exporter": "",
   "pygments_lexer": "",
   "version": "go1.13.6"
  }
 },
 "nbformat": 4,
 "nbformat_minor": 2
}
