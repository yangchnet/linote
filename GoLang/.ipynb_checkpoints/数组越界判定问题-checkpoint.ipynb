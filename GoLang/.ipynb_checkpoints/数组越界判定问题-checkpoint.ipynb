{
 "cells": [
  {
   "cell_type": "markdown",
   "metadata": {},
   "source": [
    "# 数组越界判定问题"
   ]
  },
  {
   "cell_type": "markdown",
   "metadata": {},
   "source": [
    "> 今天写了一个数组的代码，里面有个函数为数组越界判定，测试的时候没通过，看了答案才发现另有玄机"
   ]
  },
  {
   "cell_type": "markdown",
   "metadata": {},
   "source": [
    "### 数组定义"
   ]
  },
  {
   "cell_type": "code",
   "execution_count": 2,
   "metadata": {},
   "outputs": [],
   "source": [
    "type Array struct{\n",
    "    data []int\n",
    "    length uint\n",
    "}"
   ]
  },
  {
   "cell_type": "markdown",
   "metadata": {},
   "source": [
    "### 越界判定1"
   ]
  },
  {
   "cell_type": "code",
   "execution_count": 25,
   "metadata": {},
   "outputs": [],
   "source": [
    "// 判断索引是否越界\n",
    "func (this *Array)isIndexOutRange1(index uint) bool{\n",
    "    if index > this.length-1{ //这种写法错误\n",
    "       return true\n",
    "    } \n",
    "    return false\n",
    "}"
   ]
  },
  {
   "cell_type": "markdown",
   "metadata": {},
   "source": [
    "### 越界判定2"
   ]
  },
  {
   "cell_type": "code",
   "execution_count": 7,
   "metadata": {},
   "outputs": [],
   "source": [
    "// 判断索引是否越界\n",
    "func (this *Array)isIndexOutRange2(index uint) bool{\n",
    "    if index >= uint(cap(this.data)){\n",
    "        return true\n",
    "    }\n",
    "    return false\n",
    "}"
   ]
  },
  {
   "cell_type": "markdown",
   "metadata": {},
   "source": [
    "第一种写法根据数组当前长度与要访问的下标进行比较，来判定是否下标越界  \n",
    "第二种写法根绝数组占用内存大小与下标比较来判定  \n",
    "二者的区别在哪?"
   ]
  },
  {
   "cell_type": "code",
   "execution_count": 22,
   "metadata": {},
   "outputs": [],
   "source": [
    "a := Array{\n",
    "    data: []int{1,2,3},\n",
    "    length: 3,\n",
    "}"
   ]
  },
  {
   "cell_type": "code",
   "execution_count": 23,
   "metadata": {},
   "outputs": [
    {
     "data": {
      "text/plain": [
       "3"
      ]
     },
     "execution_count": 23,
     "metadata": {},
     "output_type": "execute_result"
    }
   ],
   "source": [
    "a.length"
   ]
  },
  {
   "cell_type": "code",
   "execution_count": 24,
   "metadata": {},
   "outputs": [
    {
     "data": {
      "text/plain": [
       "3"
      ]
     },
     "execution_count": 24,
     "metadata": {},
     "output_type": "execute_result"
    }
   ],
   "source": [
    "cap(a.data)"
   ]
  },
  {
   "cell_type": "code",
   "execution_count": 29,
   "metadata": {},
   "outputs": [
    {
     "data": {
      "text/plain": [
       "false"
      ]
     },
     "execution_count": 29,
     "metadata": {},
     "output_type": "execute_result"
    }
   ],
   "source": [
    "a.isIndexOutRange1(2)"
   ]
  },
  {
   "cell_type": "code",
   "execution_count": 30,
   "metadata": {},
   "outputs": [
    {
     "data": {
      "text/plain": [
       "false"
      ]
     },
     "execution_count": 30,
     "metadata": {},
     "output_type": "execute_result"
    }
   ],
   "source": [
    "a.isIndexOutRange2(2)"
   ]
  },
  {
   "cell_type": "markdown",
   "metadata": {},
   "source": [
    "这样看起来两者似乎没有什么差别，其实差别出在对数组类型的初试化"
   ]
  },
  {
   "cell_type": "code",
   "execution_count": null,
   "metadata": {},
   "outputs": [],
   "source": [
    "func NewArray(capacity uint) *Array{\n",
    "    if capacity == 0 {\n",
    "        return nil\n",
    "    }\n",
    "    return &Array{\n",
    "        /**\n",
    "            @Des: make中第一个参数是类型，第二个参数是分配的空间，\n",
    "                    第三个参数是预留空间，需要重新切片使用\n",
    "        */\n",
    "        data: make([]int, capacity, capacity),\n",
    "        length: 0,\n",
    "    }\n",
    "}"
   ]
  },
  {
   "cell_type": "markdown",
   "metadata": {},
   "source": [
    "在NewArray函数中，我们定义了一个长度为capacity，容量为capacity的Array，也就是说，假如capacity为10，那么这个切片的长度就为10，当其length为3时，代表里面只有3个元素被赋值了，但是其实他有10个元素的位置，访问第四个元素，是可以访问到的。"
   ]
  }
 ],
 "metadata": {
  "kernelspec": {
   "display_name": "Go",
   "language": "go",
   "name": "gophernotes"
  },
  "language_info": {
   "codemirror_mode": "",
   "file_extension": ".go",
   "mimetype": "",
   "name": "go",
   "nbconvert_exporter": "",
   "pygments_lexer": "",
   "version": "go1.13.6"
  }
 },
 "nbformat": 4,
 "nbformat_minor": 2
}
