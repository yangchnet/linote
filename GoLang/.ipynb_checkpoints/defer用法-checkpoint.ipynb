{
 "cells": [
  {
   "cell_type": "markdown",
   "metadata": {},
   "source": [
    "# defer用法"
   ]
  },
  {
   "cell_type": "markdown",
   "metadata": {},
   "source": [
    "defer用来延迟对某个语句的调用，常用于处理成对的操作，如打开、关闭、连接、断开连接，加锁、释放锁。通过defer语句，无论函数逻辑多复杂，都能保证在任何代码执行路径下，资源被释放。defer应该直接跟在请求资源的语句后。\n",
    "\n",
    "defer语句将函数的调用push到一个列表中，当外层函数返回时，会执行保存的函数列表"
   ]
  },
  {
   "cell_type": "markdown",
   "metadata": {},
   "source": [
    "举个例子，这个程序打开两个文件并将一个文件的内容复制到另一个文件的函数\n",
    "```go\n",
    "func CopyFile(dstName, srcName string) (written int64, err error) {\n",
    "    src, err := os.Open(srcName)\n",
    "    if err != nil {\n",
    "        return\n",
    "    }\n",
    "\n",
    "    dst, err := os.Create(dstName)\n",
    "    if err != nil {\n",
    "        return\n",
    "    }\n",
    "\n",
    "    written, err = io.Copy(dst, src)\n",
    "    dst.Close()\n",
    "    src.Close()\n",
    "    return\n",
    "}\n",
    "```\n",
    "\n",
    "这个函数似乎可以正常工作，但其实存在一个bug，如果对```os.Create```的调用失败，该函数将返回但却不关闭源文件，通过在第二个return语句中调用```src.Close```可以解决这个问题。但是如果函数更加复杂，问题可能不会那么容易被发现和解决。通过使用defer语句，可以确保始终关闭文件。\n",
    "```go\n",
    "func CopyFile(dstName, srcName string) (written int64, err error) {\n",
    "    src, err := os.Open(srcName)\n",
    "    if err != nil {\n",
    "        return\n",
    "    }\n",
    "    defer src.Close()\n",
    "\n",
    "    dst, err := os.Create(dstName)\n",
    "    if err != nil {\n",
    "        return\n",
    "    }\n",
    "    defer dst.Close()\n",
    "\n",
    "    return io.Copy(dst, src)\n",
    "}\n",
    "```\n",
    "Defer语句使我们可以考虑在打开每个文件后立即将其关闭，从而确保无论函数中有return语句多少，文件都将被关闭。\n"
   ]
  },
  {
   "cell_type": "markdown",
   "metadata": {},
   "source": [
    "----"
   ]
  },
  {
   "cell_type": "markdown",
   "metadata": {},
   "source": [
    "defer语句的行为直接且可预测，有三个简单的规则："
   ]
  },
  {
   "cell_type": "markdown",
   "metadata": {},
   "source": [
    "### 1. defer函数的参数是在defer函数声明时的参数"
   ]
  },
  {
   "cell_type": "code",
   "execution_count": 3,
   "metadata": {},
   "outputs": [
    {
     "name": "stdout",
     "output_type": "stream",
     "text": [
      "0\n"
     ]
    }
   ],
   "source": [
    "import \"fmt\"\n",
    "func a() {\n",
    "    i := 0\n",
    "    defer fmt.Println(i)\n",
    "    i++\n",
    "    return\n",
    "}\n",
    "a()"
   ]
  },
  {
   "cell_type": "markdown",
   "metadata": {},
   "source": [
    "### 2. defer函数的执行顺序与声明顺序相反，类似于栈"
   ]
  },
  {
   "cell_type": "code",
   "execution_count": 5,
   "metadata": {},
   "outputs": [
    {
     "name": "stdout",
     "output_type": "stream",
     "text": [
      "3\n",
      "2\n",
      "1\n",
      "0\n"
     ]
    }
   ],
   "source": [
    "func b() {\n",
    "    for i := 0; i < 4; i++ {\n",
    "        defer fmt.Println(i)\n",
    "    }\n",
    "}\n",
    "b()"
   ]
  },
  {
   "cell_type": "markdown",
   "metadata": {},
   "source": [
    "### 3. defer函数可以读取函数的返回值"
   ]
  },
  {
   "cell_type": "code",
   "execution_count": 6,
   "metadata": {},
   "outputs": [
    {
     "data": {
      "text/plain": [
       "2"
      ]
     },
     "execution_count": 6,
     "metadata": {},
     "output_type": "execute_result"
    }
   ],
   "source": [
    "func c() (i int) {\n",
    "    defer func() { i++ }()\n",
    "    return 1\n",
    "}\n",
    "c()"
   ]
  },
  {
   "cell_type": "markdown",
   "metadata": {},
   "source": [
    "defer语句中的函数会在return语句更新返回值变量后再执行，又因为在函数中定义的匿名函数可以访问该函数包括返回值变量在内的所有变量，所以，对匿名函数采用defer机制，可以使其访问函数的返回值。"
   ]
  },
  {
   "cell_type": "markdown",
   "metadata": {},
   "source": [
    "被延迟执行的匿名函数甚至可以修改函数返回给调用者的返回值"
   ]
  },
  {
   "cell_type": "code",
   "execution_count": 8,
   "metadata": {},
   "outputs": [
    {
     "name": "stdout",
     "output_type": "stream",
     "text": [
      "12\n"
     ]
    },
    {
     "data": {
      "text/plain": [
       "3 <nil>"
      ]
     },
     "execution_count": 8,
     "metadata": {},
     "output_type": "execute_result"
    }
   ],
   "source": [
    "func triple(x int) ( result int){\n",
    "    defer func() {result += x}()\n",
    "    return x*2\n",
    "}\n",
    "fmt.Println(triple(4))"
   ]
  },
  {
   "cell_type": "code",
   "execution_count": 11,
   "metadata": {},
   "outputs": [
    {
     "name": "stdout",
     "output_type": "stream",
     "text": [
      "12\n"
     ]
    },
    {
     "data": {
      "text/plain": [
       "3 <nil>"
      ]
     },
     "execution_count": 11,
     "metadata": {},
     "output_type": "execute_result"
    }
   ],
   "source": [
    "func triple(x int) ( result int){\n",
    "    defer func() {result += x}()\n",
    "    return x*2\n",
    "}\n",
    "fmt.Println(triple(4))"
   ]
  },
  {
   "cell_type": "markdown",
   "metadata": {},
   "source": [
    "### defer函数"
   ]
  },
  {
   "cell_type": "markdown",
   "metadata": {},
   "source": [
    "> 可以用这种方法记录一个函数的运行时间"
   ]
  },
  {
   "cell_type": "code",
   "execution_count": 16,
   "metadata": {},
   "outputs": [
    {
     "name": "stdout",
     "output_type": "stream",
     "text": [
      "h1\n",
      "\n",
      "h2\n"
     ]
    }
   ],
   "source": [
    "func test(){\n",
    "    defer a()() // 这里后一个括号必须要加，否则a()返回的函数将不被执行\n",
    "    fmt.Println()\n",
    "}\n",
    "func a() func(){\n",
    "    fmt.Println(\"h1\")\n",
    "    return func(){fmt.Println(\"h2\")}\n",
    "}\n",
    "test()"
   ]
  },
  {
   "cell_type": "markdown",
   "metadata": {},
   "source": [
    "### 循环体中的defer语句"
   ]
  },
  {
   "cell_type": "markdown",
   "metadata": {},
   "source": [
    "在循环语句中的defer语句要特别注意，因为只有在函数执行完毕后，这些被延迟的函数才会执行。  \n",
    "下面的代码将会导致系统的文件描述符耗尽，因为在所有文件都被处理之前， 没有文件会被关闭。  \n",
    "```go\n",
    "fo _,filename := range filenames{\n",
    "    f, err := os.Open(filename)\n",
    "    if err != nil {\n",
    "        return err\n",
    "    }\n",
    "    defer f.close()\n",
    "    descriptors\n",
    "    //...\n",
    "}\n",
    "```"
   ]
  },
  {
   "cell_type": "markdown",
   "metadata": {},
   "source": [
    "一种解决办法是将循环体中的defer语句移至另外一个函数，在每次循环时，调用这个函数。  \n",
    "```go\n",
    "for _, filename := {\n",
    "    if err := doFile(filename); err != nil {\n",
    "        return err\n",
    "    }\n",
    "}\n",
    "func doFile(filename string) error{\n",
    "    f, err := os.Open(filename)\n",
    "    if err != nil {\n",
    "        return err\n",
    "    }\n",
    "    defer f.Close()\n",
    "    //...process\n",
    "}\n",
    "```"
   ]
  },
  {
   "cell_type": "code",
   "execution_count": null,
   "metadata": {},
   "outputs": [],
   "source": []
  }
 ],
 "metadata": {
  "kernelspec": {
   "display_name": "Go",
   "language": "go",
   "name": "gophernotes"
  },
  "language_info": {
   "codemirror_mode": "",
   "file_extension": ".go",
   "mimetype": "",
   "name": "go",
   "nbconvert_exporter": "",
   "pygments_lexer": "",
   "version": "go1.13.1"
  }
 },
 "nbformat": 4,
 "nbformat_minor": 2
}
