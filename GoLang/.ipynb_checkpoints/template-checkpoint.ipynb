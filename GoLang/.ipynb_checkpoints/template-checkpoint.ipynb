{
 "cells": [
  {
   "cell_type": "markdown",
   "metadata": {},
   "source": [
    "# http/template"
   ]
  },
  {
   "cell_type": "markdown",
   "metadata": {},
   "source": [
    "## 什么是模板"
   ]
  },
  {
   "cell_type": "markdown",
   "metadata": {},
   "source": [
    "模板是一种常见的视图，通过它我们可以传递数据以使该视图有意义。可以以任何方式对其进行自定义以获取任何可能的输出。"
   ]
  },
  {
   "cell_type": "markdown",
   "metadata": {},
   "source": [
    "## 模板包"
   ]
  },
  {
   "cell_type": "markdown",
   "metadata": {},
   "source": [
    "Go中的模板附带两个包text/template和html/template。文本包允许我们使用模板插入文本，而HTML模板通过提供安全的HTML代码来帮助我们。"
   ]
  },
  {
   "cell_type": "markdown",
   "metadata": {},
   "source": [
    "## Part of template"
   ]
  },
  {
   "cell_type": "markdown",
   "metadata": {},
   "source": [
    "### 1. 模板动作"
   ]
  },
  {
   "cell_type": "markdown",
   "metadata": {},
   "source": [
    "模板动作是主要的控制流程，数据评估功能。这些动作控制最终输出将如何显示\n",
    "```template\n",
    "{{ /* a comment isside template */ }}\n",
    "```"
   ]
  },
  {
   "cell_type": "markdown",
   "metadata": {},
   "source": [
    "### 2. 控制结构"
   ]
  },
  {
   "cell_type": "markdown",
   "metadata": {},
   "source": [
    "控制结构确定模板的控制流程，有助于产生结构化的输出，以下是模板中的一些控制结构  \n",
    "**if语句**  \n",
    "```html\n",
    "{{ if .condition }} {{ else }} {{ end }}\n",
    "```\n",
    "循环块  \n",
    "```html\n",
    "{{ range .Items }} {{ end }}\n",
    "```"
   ]
  },
  {
   "cell_type": "markdown",
   "metadata": {},
   "source": [
    "### 3. 功能"
   ]
  },
  {
   "cell_type": "markdown",
   "metadata": {},
   "source": [
    "函数也可以在模板内部使用，可以使用管道符```|```来使用预定义的函数"
   ]
  },
  {
   "cell_type": "markdown",
   "metadata": {},
   "source": [
    "> 如何预定义函数\n",
    "\n",
    "下面的代码创建并分析上面定义的模板templ。注意方法调用链的顺序:template.New先创建并返回一个模板;Funcs方法将daysAgo等自定义函数注册到模板中,并返回模板;最后调用Parse函数分析模板。\n",
    "\n",
    "```go\n",
    "report, err := template.New(\"report\").Funcs(template.FuncMap{\"daysAgo\": daysAgo}).Parse(templ)\n",
    "if err != nil {\n",
    "    log.Fatal(err)\n",
    "}\n",
    "```"
   ]
  },
  {
   "cell_type": "markdown",
   "metadata": {},
   "source": [
    "## 在Go中解析模板"
   ]
  },
  {
   "cell_type": "markdown",
   "metadata": {},
   "source": [
    "现在，我们来解析一些文本和HTML模板"
   ]
  },
  {
   "cell_type": "markdown",
   "metadata": {},
   "source": [
    "### 1. 访问数据"
   ]
  },
  {
   "cell_type": "markdown",
   "metadata": {},
   "source": [
    "要访问传递的数据，使用点```.```，如下所示：  \n",
    "```\n",
    "{{ .data }}\n",
    "```"
   ]
  },
  {
   "cell_type": "markdown",
   "metadata": {},
   "source": [
    "### 2. 解析文本模板"
   ]
  },
  {
   "cell_type": "markdown",
   "metadata": {},
   "source": [
    "现在，来解析一个文本模板  \n",
    "```go\n",
    "package main\n",
    " \n",
    "import (\n",
    "    \"os\"\n",
    "    \"text/template\"\n",
    ")\n",
    " \n",
    "type User struct {\n",
    "    Name    string\n",
    "    Bio     string\n",
    "}\n",
    " \n",
    "func main() {\n",
    "    u := User{\"John\", \"a regular user\"}\n",
    " \n",
    "    ut, err := template.New(\"users\").Parse(\"The user is {{ .Name }} and he is {{ .Bio }}.\")\n",
    "     \n",
    "    if err != nil {\n",
    "        panic(err)\n",
    "    }\n",
    " \n",
    "    err = ut.Execute(os.Stdout, u)\n",
    " \n",
    "    if err != nil {\n",
    "        panic(err)\n",
    "    }\n",
    "}\n",
    "```\n",
    "\n",
    "其输出如图所示：  \n",
    "![](https://cdn.golangdocs.com/wp-content/uploads/2020/01/string-template-parse.png)"
   ]
  },
  {
   "cell_type": "markdown",
   "metadata": {},
   "source": [
    "### 3. 解析HTML模板"
   ]
  },
  {
   "cell_type": "markdown",
   "metadata": {},
   "source": [
    "> hello.html   \n",
    "\n",
    "```html\n",
    "<h1>Go templates</h1>\n",
    "<p>The user is {{ .Name }}</p>\n",
    "<h2>Skills:</h2>\n",
    "{{ range .Skills }} \n",
    "    <p>{{ . }}</p>\n",
    "{{ end }}\n",
    "```\n",
    "\n",
    "> main.go\n",
    "\n",
    "```go\n",
    "package main\n",
    " \n",
    "import (\n",
    "    \"os\"\n",
    "    \"html/template\"\n",
    ")\n",
    " \n",
    "func main() {\n",
    "    t, err := template.ParseFiles(\"templates/hello.gohtml\")\n",
    " \n",
    "    if err != nil {\n",
    "        panic(err)\n",
    "    }\n",
    " \n",
    "    data := struct {\n",
    "        Name string\n",
    "        Skills []string\n",
    "    }{\n",
    "        Name: \"John Doe\",\n",
    "        Skills: []string{\n",
    "            \"C++\",\n",
    "            \"Java\",\n",
    "            \"Python\",\n",
    "        },\n",
    "    }\n",
    " \n",
    "    err = t.Execute(os.Stdout, data)\n",
    " \n",
    "    if err != nil {\n",
    "        panic(err)\n",
    "    }\n",
    "}\n",
    "```\n",
    "\n",
    "\n",
    "则结果：  \n",
    "![](https://cdn.golangdocs.com/wp-content/uploads/2020/01/html-template-parsing-1.png)"
   ]
  },
  {
   "cell_type": "markdown",
   "metadata": {},
   "source": [
    "## Go中的模板验证"
   ]
  },
  {
   "cell_type": "markdown",
   "metadata": {},
   "source": [
    "为了验证模板是否有效，我们使用template.Must()函数。它有助于在解析过程中验证模板。因为模板通常在编译时就测试好了,如果模板解析失败将是一个致命的错误template.Must\n",
    "辅助函数可以简化这个致命错误的处理:它接受一个模板和一个error类型的参数,检测error是否为nil(如果不是nil则发出panic异常),然后返回传入的模板\n",
    "```go\n",
    "var report = template.Must(template.New(\"issuelist\").\n",
    "Funcs(template.FuncMap{\"daysAgo\": daysAgo}).\n",
    "Parse(templ))\n",
    "func main() {\n",
    "    result, err := github.SearchIssues(os.Args[1:])\n",
    "    if err != nil {\n",
    "        log.Fatal(err)\n",
    "}\n",
    "if err := report.Execute(os.Stdout, result); err != nil {\n",
    "        log.Fatal(err)\n",
    "    }\n",
    "}\n",
    "```"
   ]
  }
 ],
 "metadata": {
  "kernelspec": {
   "display_name": "Go",
   "language": "go",
   "name": "gophernotes"
  },
  "language_info": {
   "codemirror_mode": "",
   "file_extension": ".go",
   "mimetype": "",
   "name": "go",
   "nbconvert_exporter": "",
   "pygments_lexer": "",
   "version": "go1.13.6"
  }
 },
 "nbformat": 4,
 "nbformat_minor": 2
}
