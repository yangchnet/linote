{
 "cells": [
  {
   "cell_type": "markdown",
   "metadata": {},
   "source": [
    "# 类型断言"
   ]
  },
  {
   "cell_type": "markdown",
   "metadata": {},
   "source": [
    "类型断言是一个使用在接口上的操作，语法上看起来像是x.(T)，因此被称为断言类型，这里x是接口，T是类型。一个类型断言检查它操作对象的动态类型是否和断言的类型匹配。"
   ]
  },
  {
   "cell_type": "markdown",
   "metadata": {},
   "source": [
    "这里有两种可能：\n",
    "1. 如果断言的类型T是一个具体类型，然后类型断言检查x的动态类型是否和T相同。如果检查成功了，类型断言的结果是x的动态值，即T。换句话说，**具体类型的类型断言从它的操作对象中获得具体的值**。如果检查失败，接下来这个操作会panic。"
   ]
  },
  {
   "cell_type": "code",
   "execution_count": 15,
   "metadata": {},
   "outputs": [],
   "source": [
    "import (\n",
    "    \"io\"\n",
    "    \"os\"\n",
    "    \"bytes\"\n",
    "    \"fmt\"\n",
    ")"
   ]
  },
  {
   "cell_type": "code",
   "execution_count": 18,
   "metadata": {},
   "outputs": [
    {
     "name": "stdout",
     "output_type": "stream",
     "text": [
      "0xc0004560c0"
     ]
    },
    {
     "data": {
      "text/plain": [
       "12 <nil>"
      ]
     },
     "execution_count": 18,
     "metadata": {},
     "output_type": "execute_result"
    }
   ],
   "source": [
    "var w io.Writer\n",
    "w = os.Stdout\n",
    "f := w.(*os.File)   // 类型检查成功了，所以f的值为os.Stdout\n",
    "f == os.Stdout   // true\n",
    "fmt.Printf(\"%p\", f)"
   ]
  },
  {
   "cell_type": "code",
   "execution_count": 19,
   "metadata": {},
   "outputs": [
    {
     "ename": "ERROR",
     "evalue": "interface conversion: <io.Writer> is <*os.File>, not <*bytes.Buffer>",
     "output_type": "error",
     "traceback": [
      "interface conversion: <io.Writer> is <*os.File>, not <*bytes.Buffer>"
     ]
    }
   ],
   "source": [
    "c := w.(*bytes.Buffer)   // 类型检查失败"
   ]
  },
  {
   "cell_type": "markdown",
   "metadata": {},
   "source": [
    "2. 如果相反断言的类型T是一个接口类型，然后类型断言检查是否x的动态类型满足T。如果这个检查成功了，动态值没有获取到，这个结果仍然是一个有相同类型和值部分的接口值，但是结果有类型T。换句话说，**对一个接口类型的类型断言改变了类型的表述方式，改变了可以获取的方法集合（通常更大）， 但是它保护了接口值内部的动态类型和值的部分。**"
   ]
  },
  {
   "cell_type": "code",
   "execution_count": 21,
   "metadata": {},
   "outputs": [
    {
     "ename": "ERROR",
     "evalue": "repl.go:1:10: expected ';', found 'IDENT' Wirter",
     "output_type": "error",
     "traceback": [
      "repl.go:1:10: expected ';', found 'IDENT' Wirter"
     ]
    }
   ],
   "source": [
    "var w io Wirter\n",
    "w = os.Stdout\n",
    "rw := w.(io.ReadWriter)\n",
    "w = new(ByterCounter)\n",
    "rw = w.(io.ReadWriter)"
   ]
  },
  {
   "cell_type": "markdown",
   "metadata": {},
   "source": [
    "如果断言操作的对象是一个nil接口值，那么不论被断言的是什么类型，断言都会失败。  \n",
    "对一个更少限制性的接口类型（更少的方法集合）做断言，因为它表现的就像赋值操作一样，除了对于nil接口值的情况。"
   ]
  }
 ],
 "metadata": {
  "kernelspec": {
   "display_name": "Go",
   "language": "go",
   "name": "gophernotes"
  },
  "language_info": {
   "codemirror_mode": "",
   "file_extension": ".go",
   "mimetype": "",
   "name": "go",
   "nbconvert_exporter": "",
   "pygments_lexer": "",
   "version": "go1.13.6"
  }
 },
 "nbformat": 4,
 "nbformat_minor": 2
}
