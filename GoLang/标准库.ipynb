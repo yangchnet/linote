{
 "cells": [
  {
   "cell_type": "markdown",
   "metadata": {},
   "source": [
    "# Go中的标准库"
   ]
  },
  {
   "cell_type": "markdown",
   "metadata": {},
   "source": [
    "在Go语言的安装文件里包含了一些可以直接使用的包，即标准库。Go语言的标准库（通常被称为语言自带的电池），提供了清晰的构建模块和公共接口，包含 I/O 操作、文本处理、图像、密码学、网络和分布式应用程序等，并支持许多标准化的文件格式和编解码协议。\n",
    "\n",
    "在 Windows 下，标准库的位置在Go语言根目录下的子目录 pkg\\windows_amd64 中；在 Linux 下，标准库在Go语言根目录下的子目录 pkg\\linux_amd64 中（如果是安装的是 32 位，则在 linux_386 目录中）。一般情况下，标准包会存放在 ```$GOROOT/pkg/$GOOS_$GOARCH/``` 目录下。\n",
    "\n",
    "Go语言的编译器也是标准库的一部分，通过词法器扫描源码，使用语法树获得源码逻辑分支等。Go语言的周边工具也是建立在这些标准库上。在标准库上可以完成几乎大部分的需求。\n",
    "\n",
    "Go语言的标准库以包的方式提供支持，下表列出了Go语言标准库中常见的包及其功能。\n"
   ]
  },
  {
   "cell_type": "markdown",
   "metadata": {},
   "source": [
    "* bufio\t带缓冲的 I/O 操作\n",
    "* bytes\t实现字节操作\n",
    "* container\t封装堆、列表和环形列表等容器\n",
    "* crypto\t加密算法\n",
    "* database\t数据库驱动和接口\n",
    "* debug\t各种调试文件格式访问及调试功能\n",
    "* encoding\t常见算法如 JSON、XML、Base64 等\n",
    "* flag\t命令行解析\n",
    "* fmt\t格式化操作\n",
    "* go\tGo语言的词法、语法树、类型等。可通过这个包进行代码信息提取和修改\n",
    "* html\tHTML 转义及模板系统\n",
    "* image\t常见图形格式的访问及生成\n",
    "* io\t实现 I/O 原始访问接口及访问封装\n",
    "* math\t数学库\n",
    "* net\t网络库，支持 Socket、HTTP、邮件、RPC、SMTP 等\n",
    "* os\t操作系统平台不依赖平台操作封装\n",
    "* path\t兼容各操作系统的路径操作实用函数\n",
    "* plugin\tGo 1.7 加入的插件系统。支持将代码编译为插件，按需加载\n",
    "* reflect\t语言反射支持。可以动态获得代码中的类型信息，获取和修改变量的值\n",
    "* regexp\t正则表达式封装\n",
    "* runtime\t运行时接口\n",
    "* sort\t排序接口\n",
    "* strings\t字符串转换、解析及实用函数\n",
    "* time\t时间接口\n",
    "* text\t文本模板及 Token 词法器"
   ]
  }
 ],
 "metadata": {
  "kernelspec": {
   "display_name": "Go",
   "language": "go",
   "name": "gophernotes"
  },
  "language_info": {
   "name": ""
  }
 },
 "nbformat": 4,
 "nbformat_minor": 2
}
