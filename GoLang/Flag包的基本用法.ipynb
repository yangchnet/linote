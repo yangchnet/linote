{
 "cells": [
  {
   "cell_type": "markdown",
   "metadata": {},
   "source": [
    "# Flag包的基本用法"
   ]
  },
  {
   "cell_type": "markdown",
   "metadata": {},
   "source": [
    "> flag包用于处理golang命令行程序中的参数"
   ]
  },
  {
   "cell_type": "markdown",
   "metadata": {},
   "source": [
    "## 1. 使用flag包的基本流程"
   ]
  },
  {
   "cell_type": "markdown",
   "metadata": {},
   "source": [
    "使用flag包涉及三个步骤：  \n",
    "1. 定义变量以捕获标志值\n",
    "2. 定义Go应用程序将使用的标志\n",
    "3. 在执行时解析提供给应用程序的标志。 \n",
    "\n",
    "flag软件包中的大多数功能都与定义标志并将其绑定到定义的变量有关。解析阶段由Parse()函数处理。"
   ]
  },
  {
   "cell_type": "markdown",
   "metadata": {},
   "source": [
    "### 一个例子"
   ]
  },
  {
   "cell_type": "markdown",
   "metadata": {},
   "source": [
    "创建一个程序，该程序定义一个布尔标志，该标志会更改将打印到标准输出的消息。如果-color提供了一个标志，程序将以蓝色打印一条消息。如果未提供标志，则消息将被打印为没有任何颜色。"
   ]
  },
  {
   "cell_type": "markdown",
   "metadata": {},
   "source": [
    "```go\n",
    "// boolean.go\n",
    "import (\n",
    "    \"flag\"\n",
    "    \"fmt\"\n",
    ")\n",
    "\n",
    "type Color string   // 定义变量以捕获标志值\n",
    "\n",
    "const (\n",
    "    ColorBlack  Color = \"\\u001b[30m\"\n",
    "    ColorRed          = \"\\u001b[31m\"\n",
    "    ColorGreen        = \"\\u001b[32m\"\n",
    "    ColorYellow       = \"\\u001b[33m\"\n",
    "    ColorBlue         = \"\\u001b[34m\"\n",
    "    ColorReset        = \"\\u001b[0m\"\n",
    ")\n",
    "\n",
    "func colorize(color Color, message string) {\n",
    "    fmt.Println(string(color), message, string(ColorReset))\n",
    "}\n",
    "\n",
    "func main() {\n",
    "    useColor := flag.Bool(\"color\", false, \"display colorized output\")  // 定义Go应用程序将使用的标志\n",
    "    flag.Parse()  // 解析标志\n",
    "\n",
    "    if *useColor {\n",
    "        colorize(ColorBlue, \"Hello, DigitalOcean!\")\n",
    "        return\n",
    "    }\n",
    "    fmt.Println(\"Hello, DigitalOcean!\")\n",
    "}\n",
    "```"
   ]
  },
  {
   "cell_type": "markdown",
   "metadata": {},
   "source": [
    "在```main```函数中，使用```flag.Bool```定义了一个布尔型的标志```color```，其默认值为第二个参数```false```，在未提供```color```参数时将默认使用此值。最后一个参数是关于此标志用法的说明文档。\n",
    "\n",
    "```flag.Bool```返回值是一个```bool```指针类型，```flag.Parse```使用此```bool```指针根据用户传递的标志来设置变量。然后我们就可以通过引用这个指针来检查这个变量，通过变量的值控制程序的行为。"
   ]
  },
  {
   "cell_type": "markdown",
   "metadata": {},
   "source": [
    "## 2. 处理位置参数"
   ]
  },
  {
   "cell_type": "markdown",
   "metadata": {},
   "source": [
    "通常，命令带有一定的参数，并且这些参数是命令工作的焦点所在，例如：```python main.py```,这里的```main.py```就是一个位置参数，是```python```这个命令的第一个参数。\n",
    "\n",
    "假如我们有个命令```head```，它打印一个文件的开始几行，用法为：```head {inputfile}```。  \n",
    "通常，```Parse()```函数解析一个命令直到其检查到没有标志参数的存在。```flag```包通过```Args```和```Arg```函数来解决位置参数的问题。"
   ]
  },
  {
   "cell_type": "markdown",
   "metadata": {},
   "source": [
    "```go\n",
    "// head.go\n",
    "import (\n",
    "    \"bufio\"\n",
    "    \"flag\"\n",
    "    \"fmt\"\n",
    "    \"io\"\n",
    "    \"os\"\n",
    ")\n",
    "\n",
    "func main() {\n",
    "    var count int\n",
    "    flag.IntVar(&count, \"n\", 5, \"number of lines to read from the file\")\n",
    "    flag.Parse()\n",
    "\n",
    "    var in io.Reader\n",
    "    if filename := flag.Arg(0); filename != \"\" {\n",
    "        f, err := os.Open(filename)\n",
    "        if err != nil {\n",
    "            fmt.Println(\"error opening file: err:\", err)\n",
    "            os.Exit(1)\n",
    "        }\n",
    "        defer f.Close()\n",
    "\n",
    "        in = f\n",
    "    } else {\n",
    "        in = os.Stdin\n",
    "    }\n",
    "\n",
    "    buf := bufio.NewScanner(in)\n",
    "\n",
    "    for i := 0; i < count; i++ {\n",
    "        if !buf.Scan() {\n",
    "            break\n",
    "        }\n",
    "        fmt.Println(buf.Text())\n",
    "    }\n",
    "\n",
    "    if err := buf.Err(); err != nil {\n",
    "        fmt.Fprintln(os.Stderr, \"error reading: err:\", err)\n",
    "    }\n",
    "}\n",
    "```"
   ]
  },
  {
   "cell_type": "markdown",
   "metadata": {},
   "source": [
    "首先，我们定义了一个```count```变量来标记程序需要读取文件的前几行。通过```flag.IntVar```定义了```-n```参数。这个函数允许我们传递一个指针作为标记而不是像没有```Var```后缀的函数那样返回一个指针。```flag.IntVar```和```flag.Int```之间除了这一点不同外，其余参数的意义都相同。在使用```flag.Parse```解析后，接下来是根据参数来控制程序逻辑。   \n",
    "\n",
    "在```if```部分，使用```flag.Arg```来访问在所有标志参数之后的第一个位置参数。"
   ]
  }
 ],
 "metadata": {
  "kernelspec": {
   "display_name": "Go",
   "language": "go",
   "name": "gophernotes"
  },
  "language_info": {
   "codemirror_mode": "",
   "file_extension": ".go",
   "mimetype": "",
   "name": "go",
   "nbconvert_exporter": "",
   "pygments_lexer": "",
   "version": "go1.13.6"
  }
 },
 "nbformat": 4,
 "nbformat_minor": 2
}
