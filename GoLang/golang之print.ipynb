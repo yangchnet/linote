{
 "cells": [
  {
   "cell_type": "markdown",
   "metadata": {},
   "source": [
    "# golang中的print系函数详解"
   ]
  },
  {
   "cell_type": "markdown",
   "metadata": {},
   "source": [
    "pirnt系函数来自fmt包，主要用于做各种格式的输出\n",
    "这些函数主要有\n",
    "\n",
    "1. [fmt.Fprintf](#fmt.Fprintf)\n",
    "2. [fmt.Printf](#fmt.Printf)\n",
    "3. [fmt.Sprintf](#fmt.Sprintf)\n",
    "4. [fmt.Fprint](#fmt.Fprint)\n",
    "5. [fmt.Print](#fmt.Print)\n",
    "6. [fmt.Sprint](#fmt.Sprint)\n",
    "7. [fmt.Fprintln](#fmt.Fprintln)\n",
    "8. [fmt.Println](#fmt.Println)\n",
    "9. [fmt.Sprintln](#fmt.Sprintln)  \n",
    "10. [总结](#总结)\n",
    "\n",
    "下面来逐个分析"
   ]
  },
  {
   "cell_type": "code",
   "execution_count": 17,
   "metadata": {},
   "outputs": [],
   "source": [
    "import (\n",
    "    \"fmt\"\n",
    "    \"os\"\n",
    "    \"io\"\n",
    ")"
   ]
  },
  {
   "cell_type": "markdown",
   "metadata": {},
   "source": [
    "## fmt.Fprintf"
   ]
  },
  {
   "cell_type": "markdown",
   "metadata": {},
   "source": [
    "* 函数原型：    \n",
    "```go\n",
    "Fprintf(w io.Writer, format string, a ...interface{}) (n int, err error)\n",
    "```\n",
    "\n",
    "* 官方注释    \n",
    "Fprintf formats according to a format specifier and writes to w.It returns the number of bytes written and any write error encountered.\n",
    "\n",
    "* Arguement  \n",
    "```fmt.Fprintf()``` 依据指定的格式向第一个参数内写入字符串，第一参数必须实现了 ```io.Writer``` 接口。```Fprintf()``` 能够写入任何类型，只要其实现了 ```Write``` 方法，包括 ```os.Stdout```,文件（例如 ```os.File```），管道，网络连接，通道等等，同样的也可以使用 ```bufio``` 包中缓冲写入。bufio 包中定义了 ```type Writer struct{...}```。```Fprintf```：来格式化并输出到 io.Writers 而不是 os.Stdout。"
   ]
  },
  {
   "cell_type": "code",
   "execution_count": 13,
   "metadata": {},
   "outputs": [
    {
     "name": "stdout",
     "output_type": "stream",
     "text": [
      "Kim is 22 years old.\n",
      "21 bytes written.\n"
     ]
    }
   ],
   "source": [
    "// example\n",
    "func ExampleFprintf() {\n",
    "\tconst name, age = \"Kim\", 22\n",
    "\tn, err := fmt.Fprintf(os.Stdout, \"%s is %d years old.\\n\", name, age)\n",
    "\n",
    "\t// The n and err return values from Fprintf are\n",
    "\t// those returned by the underlying io.Writer.\n",
    "\tif err != nil {\n",
    "\t\tfmt.Fprintf(os.Stderr, \"Fprintf: %v\\n\", err)\n",
    "\t}\n",
    "\tfmt.Printf(\"%d bytes written.\\n\", n)\n",
    "\n",
    "\t// Output:\n",
    "\t// Kim is 22 years old.\n",
    "\t// 21 bytes written.\n",
    "}\n",
    "ExampleFprintf()"
   ]
  },
  {
   "cell_type": "markdown",
   "metadata": {},
   "source": [
    "## fmt.Printf"
   ]
  },
  {
   "cell_type": "markdown",
   "metadata": {},
   "source": [
    "* 函数原型  \n",
    "```go\n",
    "Printf(format string, a ...interface{}) (n int, err error)\n",
    "```\n",
    "\n",
    "* 官方注释  \n",
    "Printf formats according to a format specifier and writes to standard output.It returns the number of bytes written and any write error encountered.\n",
    "\n",
    "* Arguement  \n",
    "只可以打印出格式化的字符串。只可以直接输出字符串类型的变量（不可以输出整形变量和整形 等），其实这个函数是```fmt.Fprintf```的调用，其调用语句```return Fprintf(os.Stdout, format, a...)```，输出对象为标准输出。\n",
    "\n",
    "* optional  \n",
    "\n",
    "|optional|description|  \n",
    "|----|----|    \n",
    "|%d|十进制整数|  \n",
    "|%x, %o, %b| 十六进制，八进制，二进制整数|  \n",
    "|%f, %g, %e| 浮点数，3.141593 3.141592653589793 3.141593e+00|  \n",
    "|%t| 布尔 ture或false|  \n",
    "|%c|字符（rune）（Uniode码点）|  \n",
    "|%s|字符串|  \n",
    "|%q|带双引号的字符串\"abc\"或带单引号的字符'c'|  \n",
    "|%v|变量的自然形式|  \n",
    "|%T|变量的类型|  \n",
    "|%%|字面上的百分号标志（无操作数）|\n"
   ]
  },
  {
   "cell_type": "code",
   "execution_count": 15,
   "metadata": {},
   "outputs": [
    {
     "name": "stdout",
     "output_type": "stream",
     "text": [
      "整数：1\t浮点数：3.14\t字符串：hello world\n",
      "Kim is 22 years old.\n"
     ]
    }
   ],
   "source": [
    "fmt.Printf(\"整数：%d\\t浮点数：%v\\t字符串：%s\\n\", 1, 3.14, \"hello world\")\n",
    "func ExamplePrintf() {\n",
    "\tconst name, age = \"Kim\", 22\n",
    "\tfmt.Printf(\"%s is %d years old.\\n\", name, age)\n",
    "\n",
    "\t// It is conventional not to worry about any\n",
    "\t// error returned by Printf.\n",
    "\n",
    "\t// Output:\n",
    "\t// Kim is 22 years old.\n",
    "}\n",
    "ExamplePrintf()"
   ]
  },
  {
   "cell_type": "markdown",
   "metadata": {},
   "source": [
    "## fmt.Sprintf"
   ]
  },
  {
   "cell_type": "markdown",
   "metadata": {},
   "source": [
    "* 函数原型  \n",
    "```go\n",
    "func Sprintf(format string, a ...interface{}) string\n",
    "```  \n",
    "\n",
    "* 官方注释  \n",
    "Sprintf formats according to a format specifier and returns the resulting string.\n",
    "\n",
    "* Argument  \n",
    "格式化并返回一个字符串而不带任何输出。可用于给其他函数传递格式化参数。"
   ]
  },
  {
   "cell_type": "code",
   "execution_count": 18,
   "metadata": {},
   "outputs": [
    {
     "name": "stdout",
     "output_type": "stream",
     "text": [
      "Kim is 22 years old.\n"
     ]
    }
   ],
   "source": [
    "func ExampleSprintf() {\n",
    "\tconst name, age = \"Kim\", 22\n",
    "\ts := fmt.Sprintf(\"%s is %d years old.\\n\", name, age)\n",
    "\n",
    "\tio.WriteString(os.Stdout, s) // Ignoring error for simplicity.\n",
    "\n",
    "\t// Output:\n",
    "\t// Kim is 22 years old.\n",
    "}\n",
    "ExampleSprintf()"
   ]
  },
  {
   "cell_type": "markdown",
   "metadata": {},
   "source": [
    "## fmt.Fprint"
   ]
  },
  {
   "cell_type": "markdown",
   "metadata": {},
   "source": [
    "* 函数原型  \n",
    "```go\n",
    "Fprint(w io.Writer, a ...interface{}) (n int, err error)\n",
    "```  \n",
    "\n",
    "* 官方注释  \n",
    "Fprint formats using the default formats for its operands and writes to w.Spaces are added between operands when neither is a string.It returns the number of bytes written and any write error encountered.\n",
    "\n",
    "* Argument  \n",
    "向```io.Writer```对象中输入字符，第一个参数为输入对象，后面的参数为字符串，直接输出"
   ]
  },
  {
   "cell_type": "code",
   "execution_count": 21,
   "metadata": {},
   "outputs": [
    {
     "name": "stdout",
     "output_type": "stream",
     "text": [
      "Kim is 22 years old.\n",
      "21 bytes written.\n"
     ]
    }
   ],
   "source": [
    "func ExampleFprint() {\n",
    "\tconst name, age = \"Kim\", 22\n",
    "\tn, err := fmt.Fprint(os.Stdout, name, \" is \", age, \" years old.\\n\")\n",
    "\n",
    "\t// The n and err return values from Fprint are\n",
    "\t// those returned by the underlying io.Writer.\n",
    "\tif err != nil {\n",
    "\t\tfmt.Fprintf(os.Stderr, \"Fprint: %v\\n\", err)\n",
    "\t}\n",
    "\tfmt.Print(n, \" bytes written.\\n\")\n",
    "\n",
    "\t// Output:\n",
    "\t// Kim is 22 years old.\n",
    "\t// 21 bytes written.\n",
    "}\n",
    "ExampleFprint()"
   ]
  },
  {
   "cell_type": "markdown",
   "metadata": {},
   "source": [
    "## fmt.Print"
   ]
  },
  {
   "cell_type": "markdown",
   "metadata": {},
   "source": [
    "* 函数原型  \n",
    "```go\n",
    "func Print(a ...interface{}) (n int, err error) {\n",
    "\treturn Fprint(os.Stdout, a...)\n",
    "}\n",
    "```  \n",
    "\n",
    "* 官方注释  \n",
    "Print formats using the default formats for its operands and writes to standard output.Spaces are added between operands when neither is a string.It returns the number of bytes written and any write error encountered.  \n",
    "\n",
    "* Arguement  \n",
    "显然，这个函数是对```fmt.Fprint```的调用，只是把输入对象默认为标准输出。"
   ]
  },
  {
   "cell_type": "code",
   "execution_count": 22,
   "metadata": {},
   "outputs": [
    {
     "name": "stdout",
     "output_type": "stream",
     "text": [
      "Kim is 22 years old.\n"
     ]
    }
   ],
   "source": [
    "func ExamplePrint() {\n",
    "\tconst name, age = \"Kim\", 22\n",
    "\tfmt.Print(name, \" is \", age, \" years old.\\n\")\n",
    "\n",
    "\t// It is conventional not to worry about any\n",
    "\t// error returned by Print.\n",
    "\n",
    "\t// Output:\n",
    "\t// Kim is 22 years old.\n",
    "}\n",
    "ExamplePrint()"
   ]
  },
  {
   "cell_type": "markdown",
   "metadata": {},
   "source": [
    "## fmt.Sprint"
   ]
  },
  {
   "cell_type": "markdown",
   "metadata": {},
   "source": [
    "* 函数原型  \n",
    "```go\n",
    "Sprint(a ...interface{}) string  \n",
    "```\n",
    "\n",
    "* 官方注释  \n",
    "Sprint formats using the default formats for its operands and returns the resulting string.Spaces are added between operands when neither is a string.\n",
    "\n",
    "* Arguement  \n",
    "格式化并返回一个字符串而不带任何输出"
   ]
  },
  {
   "cell_type": "code",
   "execution_count": 23,
   "metadata": {},
   "outputs": [
    {
     "name": "stdout",
     "output_type": "stream",
     "text": [
      "Kim is 22 years old.\n"
     ]
    }
   ],
   "source": [
    "func ExampleSprint() {\n",
    "\tconst name, age = \"Kim\", 22\n",
    "\ts := fmt.Sprint(name, \" is \", age, \" years old.\\n\")\n",
    "\n",
    "\tio.WriteString(os.Stdout, s) // Ignoring error for simplicity.\n",
    "\n",
    "\t// Output:\n",
    "\t// Kim is 22 years old.\n",
    "}\n",
    "ExampleSprint()"
   ]
  },
  {
   "cell_type": "markdown",
   "metadata": {},
   "source": [
    "## fmt.Fprintln"
   ]
  },
  {
   "cell_type": "markdown",
   "metadata": {},
   "source": [
    "* 函数原型  \n",
    "```go\n",
    "Fprintln(w io.Writer, a ...interface{}) (n int, err error)\n",
    "```\n",
    "\n",
    "* 官方注释  \n",
    "Fprintln formats using the default formats for its operands and writes to w.Spaces are always added between operands and a newline is appended.It returns the number of bytes written and any write error encountered.\n",
    "\n",
    "* Arguement  \n",
    "输入字符串到```io.Writer```,并且带有换行"
   ]
  },
  {
   "cell_type": "code",
   "execution_count": 24,
   "metadata": {},
   "outputs": [
    {
     "name": "stdout",
     "output_type": "stream",
     "text": [
      "Kim is 22 years old.\n",
      "21 bytes written.\n"
     ]
    }
   ],
   "source": [
    "func ExampleFprintln() {\n",
    "\tconst name, age = \"Kim\", 22\n",
    "\tn, err := fmt.Fprintln(os.Stdout, name, \"is\", age, \"years old.\")\n",
    "\n",
    "\t// The n and err return values from Fprintln are\n",
    "\t// those returned by the underlying io.Writer.\n",
    "\tif err != nil {\n",
    "\t\tfmt.Fprintf(os.Stderr, \"Fprintln: %v\\n\", err)\n",
    "\t}\n",
    "\tfmt.Println(n, \"bytes written.\")\n",
    "\n",
    "\t// Output:\n",
    "\t// Kim is 22 years old.\n",
    "\t// 21 bytes written.\n",
    "}\n",
    "ExampleFprintln()"
   ]
  },
  {
   "cell_type": "markdown",
   "metadata": {},
   "source": [
    "## fmt.Println"
   ]
  },
  {
   "cell_type": "markdown",
   "metadata": {},
   "source": [
    "* 函数原型  \n",
    "```go\n",
    "func Println(a ...interface{}) (n int, err error) {\n",
    "\treturn Fprintln(os.Stdout, a...)\n",
    "}\n",
    "```\n",
    "\n",
    "* 官方注释  \n",
    "Println formats using the default formats for its operands and writes to standard output.Spaces are always added between operands and a newline is appended.It returns the number of bytes written and any write error encountered.\n",
    "\n",
    "* Arguement  \n",
    "显然这个函数是对```fmt.Fprintln```的调用，输入到```os.Stdout```"
   ]
  },
  {
   "cell_type": "code",
   "execution_count": 25,
   "metadata": {},
   "outputs": [
    {
     "name": "stdout",
     "output_type": "stream",
     "text": [
      "Kim is 22 years old.\n"
     ]
    }
   ],
   "source": [
    "func ExamplePrintln() {\n",
    "\tconst name, age = \"Kim\", 22\n",
    "\tfmt.Println(name, \"is\", age, \"years old.\")\n",
    "\n",
    "\t// It is conventional not to worry about any\n",
    "\t// error returned by Println.\n",
    "\n",
    "\t// Output:\n",
    "\t// Kim is 22 years old.\n",
    "}\n",
    "ExamplePrintln()"
   ]
  },
  {
   "cell_type": "markdown",
   "metadata": {},
   "source": [
    "## fmt.Sprintln"
   ]
  },
  {
   "cell_type": "markdown",
   "metadata": {},
   "source": [
    "* 函数原型  \n",
    "```go\n",
    "Sprintln(a ...interface{}) string\n",
    "```\n",
    "\n",
    "* 官方注释 \n",
    "Sprintln formats using the default formats for its operands and returns the resulting string.Spaces are always added between operands and a newline is appended.  \n",
    "\n",
    "* Arguement  \n",
    "返回一个字符串，不做任何输出"
   ]
  },
  {
   "cell_type": "code",
   "execution_count": 26,
   "metadata": {},
   "outputs": [
    {
     "name": "stdout",
     "output_type": "stream",
     "text": [
      "Kim is 22 years old.\n"
     ]
    }
   ],
   "source": [
    "func ExampleSprintln() {\n",
    "\tconst name, age = \"Kim\", 22\n",
    "\ts := fmt.Sprintln(name, \"is\", age, \"years old.\")\n",
    "\n",
    "\tio.WriteString(os.Stdout, s) // Ignoring error for simplicity.\n",
    "\n",
    "\t// Output:\n",
    "\t// Kim is 22 years old.\n",
    "}\n",
    "ExampleSprintln()"
   ]
  },
  {
   "cell_type": "markdown",
   "metadata": {},
   "source": [
    "## 总结"
   ]
  },
  {
   "cell_type": "markdown",
   "metadata": {},
   "source": [
    "所有的函数名都是```_print_```格式的，其中```_```代表某个标志，标志及其含义如下：  \n",
    "\n",
    "|标志|含义|  \n",
    "|-----|-----|  \n",
    "|_f|格式化|  \n",
    "|_ln|换行|  \n",
    "|F_|输入到某个对象|  \n",
    "|S_|只返回而不做输出|  \n",
    "\n",
    "且，  \n",
    "```fmt.Fprintf```和```fmt.Printf```是一对    \n",
    "```fmt.Fprint```和```fmt.Print```是一对  \n",
    "```fmt.Fprintln```和```fmt.Println```是一对    \n",
    "不带```F```前缀的函数均是对带```F```前缀函数的调用，其输入对象均设置为标准输出"
   ]
  }
 ],
 "metadata": {
  "kernelspec": {
   "display_name": "Go",
   "language": "go",
   "name": "gophernotes"
  },
  "language_info": {
   "codemirror_mode": "",
   "file_extension": ".go",
   "mimetype": "",
   "name": "go",
   "nbconvert_exporter": "",
   "pygments_lexer": "",
   "version": "go1.13.1"
  }
 },
 "nbformat": 4,
 "nbformat_minor": 2
}
