{
 "cells": [
  {
   "cell_type": "markdown",
   "metadata": {},
   "source": [
    "# Go语言中的错误处理策略 "
   ]
  },
  {
   "cell_type": "markdown",
   "metadata": {},
   "source": [
    "## 0. 错误处理的编码风格"
   ]
  },
  {
   "cell_type": "markdown",
   "metadata": {},
   "source": [
    "检查某个子函数是否失败后，我们通常将处理失败的逻辑代码放在处理成功的代码之前。如果某个错误会导致函数返回，那么成功的逻辑代码不应该放在else中，而应直接放在函数体中。"
   ]
  },
  {
   "cell_type": "markdown",
   "metadata": {},
   "source": [
    "## 1. 错误传播 "
   ]
  },
  {
   "cell_type": "markdown",
   "metadata": {},
   "source": [
    "函数某个子程序的失败，会变成该函数的失败\n",
    "```go\n",
    "resp, err := http.Get(url) \n",
    "if err != nil{ \n",
    "    return nill, err\n",
    "}\n",
    "```\n",
    "\n",
    "或是构造新的错误信息返回给调用者\n",
    "```go\n",
    "doc, err := html.Parse(resp.Body) \n",
    "resp.Body.Close() \n",
    "if err != nil { \n",
    "    return nil, fmt.Errorf(\"parsing %s as HTML: %v\", url,err)\n",
    "}\n",
    "```\n",
    "\n",
    "一般而言，被调函数f(x)会将调用信息和参数信息作为发生错误时的上下文放在错误信息中并返回给调用者，调用者需要添加一些错误信息中不包含的信息。"
   ]
  },
  {
   "cell_type": "markdown",
   "metadata": {},
   "source": [
    "## 2. 重试失败的操作 "
   ]
  },
  {
   "cell_type": "markdown",
   "metadata": {},
   "source": [
    "如果错误的发生是偶然的，或由不可预知的问题导致的。此时可重新尝试失败的操作，但是在重试时，要限制重试的时间间隔或重试的时间次数，防止无限制的重试。\n",
    "```go\n",
    "func WaitForServer(url string) error { \n",
    "    const timeout = 1 * time.Minute \n",
    "    deadline := time.Now().Add(timeout) \n",
    "    for tries := 0; time.Now().Before(deadline); tries++ {\n",
    "        _, err := http.Head(url) \n",
    "        if err == nil {\n",
    "            return nil // success\n",
    "        } \n",
    "        log.Printf(\"server not responding (%s);retrying…\", err) \n",
    "        time.Sleep(time.Second << uint(tries)) // exponential back-off\n",
    "    } \n",
    "    return fmt.Errorf(\"server %s failed to respond after %s\", url, timeout)\n",
    "}\n",
    "```"
   ]
  },
  {
   "cell_type": "markdown",
   "metadata": {},
   "source": [
    "## 3. 输出错误信息并结束程序 "
   ]
  },
  {
   "cell_type": "markdown",
   "metadata": {},
   "source": [
    "这种策略应只在main中使用，对于库函数而言，应仅向上传播错误，除非该错误意味着程序内部包含不一致性，即遇到了bug，才能在库函数中结束程序\n",
    "```go\n",
    "// (In function main.) \n",
    "if err := WaitForServer(url); err != nil { \n",
    "    fmt.Fprintf(os.Stderr, \"Site is down: %v\\n\", err) \n",
    "    os.Exit(1)\n",
    "}\n",
    "```\n"
   ]
  },
  {
   "cell_type": "markdown",
   "metadata": {},
   "source": [
    "## 4. 只输出错误信息 "
   ]
  },
  {
   "cell_type": "markdown",
   "metadata": {},
   "source": [
    "只输出错误信息，不需要中断函数的执行\n",
    "```go\n",
    "if err := Ping(); err != nil { \n",
    "    log.Printf(\"ping failed: %v; networking disabled\",err)\n",
    "}\n",
    "```"
   ]
  },
  {
   "cell_type": "markdown",
   "metadata": {},
   "source": [
    "## 5. 直接忽略错误 "
   ]
  },
  {
   "cell_type": "markdown",
   "metadata": {},
   "source": [
    "```go\n",
    "dir, err := ioutil.TempDir(\"\", \"scratch\")\n",
    "if err != nil { \n",
    "    return fmt.Errorf(\"failed to create temp dir: %v\",err)\n",
    "} // ...use temp dir… \n",
    "os.RemoveAll(dir) // ignore errors; $TMPDIR is cleaned periodically\n",
    "```"
   ]
  }
 ],
 "metadata": {
  "kernelspec": {
   "display_name": "Python 3",
   "language": "python",
   "name": "python3"
  },
  "language_info": {
   "codemirror_mode": {
    "name": "ipython",
    "version": 3
   },
   "file_extension": ".py",
   "mimetype": "text/x-python",
   "name": "python",
   "nbconvert_exporter": "python",
   "pygments_lexer": "ipython3",
   "version": "3.7.0"
  }
 },
 "nbformat": 4,
 "nbformat_minor": 2
}
