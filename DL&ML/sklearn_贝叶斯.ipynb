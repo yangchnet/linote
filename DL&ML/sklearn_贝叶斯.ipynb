{
 "cells": [
  {
   "cell_type": "markdown",
   "metadata": {},
   "source": [
    "# 使用sklearn的贝叶斯分类器进行文本分类"
   ]
  },
  {
   "cell_type": "markdown",
   "metadata": {},
   "source": [
    "## 1、sklearn简介 "
   ]
  },
  {
   "cell_type": "markdown",
   "metadata": {},
   "source": [
    "sklearn是一个Python第三方提供的非常强力的机器学习库，它包含了从数据预处理到训练模型的各个方面。在实战使用scikit-learn中可以极大的节省我们编写代码的时间以及减少我们的代码量，使我们有更多的精力去分析数据分布，调整模型和修改超参。"
   ]
  },
  {
   "cell_type": "markdown",
   "metadata": {},
   "source": [
    "## 2、朴素贝叶斯在文本分类中的常用模型：多项式、伯努利"
   ]
  },
  {
   "cell_type": "markdown",
   "metadata": {},
   "source": [
    "朴素贝叶斯分类器是一种有监督学习，常见有两种模型，多项式模型(multinomial model)即为词频型和伯努利模(Bernoulli model)即文档型。二者的计算粒度不一样，多项式模型以单词为粒度，伯努利模型以文件为粒度，因此二者的先验概率和类条件概率的计算方法都不同。计算后验概率时，对于一个文档d，多项式模型中，只有在d中出现过的单词，才会参与后验概率计算，伯努利模型中，没有在d中出现，但是在全局单词表中出现的单词，也会参与计算，不过是作为“反方”参与的。这里暂不虑特征抽取、为避免消除测试文档时类条件概率中有为0现象而做的取对数等问题。"
   ]
  },
  {
   "cell_type": "markdown",
   "metadata": {},
   "source": [
    "### 2.1、多项式模型 "
   ]
  },
  {
   "cell_type": "markdown",
   "metadata": {},
   "source": [
    "![多项式模型](../image/多项式.webp)"
   ]
  },
  {
   "cell_type": "markdown",
   "metadata": {},
   "source": [
    "### 2.2、伯努利模型"
   ]
  },
  {
   "cell_type": "markdown",
   "metadata": {},
   "source": [
    "![伯努利模型](../image/伯努利.webp)"
   ]
  },
  {
   "cell_type": "markdown",
   "metadata": {},
   "source": [
    "### 2.3、两个模型的区别 "
   ]
  },
  {
   "cell_type": "markdown",
   "metadata": {},
   "source": [
    "![区别](../image/区别.webp)"
   ]
  },
  {
   "cell_type": "markdown",
   "metadata": {},
   "source": [
    "## 3、实战演练 "
   ]
  },
  {
   "cell_type": "markdown",
   "metadata": {},
   "source": [
    "使用在康奈尔大学下载的2M影评作为训练数据和测试数据，里面共同、共有1400条，好评和差评各自700条，我选择总数的70%作为训练数据，30%作为测试数据，来检测sklearn自带的贝叶斯分类器的分类效果。"
   ]
  },
  {
   "cell_type": "markdown",
   "metadata": {},
   "source": [
    "___"
   ]
  },
  {
   "cell_type": "markdown",
   "metadata": {},
   "source": [
    "> 读取全部数据，并随机打乱"
   ]
  },
  {
   "cell_type": "code",
   "execution_count": 1,
   "metadata": {},
   "outputs": [],
   "source": [
    "import os\n",
    "import random\n",
    "def get_dataset():\n",
    "    data = []\n",
    "    for root, dirs, files in os.walk('../dataset/aclImdb/neg'):\n",
    "        for file in files:\n",
    "            realpath = os.path.join(root, file)\n",
    "            with open(realpath, errors='ignore') as f:\n",
    "                data.append((f.read(), 0))\n",
    "    for root, dirs, files in os.walk(r'../dataset/aclImdb/pos'):\n",
    "        for file in files:\n",
    "            realpath = os.path.join(root, file)\n",
    "            with open(realpath, errors='ignore') as f:\n",
    "                data.append((f.read(), 1))\n",
    "    random.shuffle(data)\n",
    "\n",
    "    return data"
   ]
  },
  {
   "cell_type": "code",
   "execution_count": 2,
   "metadata": {},
   "outputs": [
    {
     "data": {
      "text/plain": [
       "[(\"Being a fan of Andy Goldsworthy's art for a while now, and owning some of his books, I had some expectations of what I would see. What I got was something completely satisfying, and quite a bit more than I expected. Being an artist myself (I work in clay), finding inspiration within our surroundings to make good art is imperative, and it is something Andy Goldsworthy has mastered. Following him over the course of a year, the director captures the spontaneous energy, skill, and devotion to the artists connection with nature with dratic inspiring flair. The music set to the film is embracing and intoxicating. If you are an artist in need of inspiration, or anyone else in need of an uplifting experience, then SEE THIS MOVIE. I for one am glad to know that Andy is somewhere out there. Creating, dancing, wrestling with the forces of nature to make our world more beautiful.\",\n",
       "  1),\n",
       " (\"A film I expected very little from, and only watched to pass a quiet hour - but what an hour it turned out to be. Roll is an excellent if none-too-serious little story of 'country-boy-lost-in-the-big-city-makes-good', it is funny throughout, the characters are endearing and the pace is just right.<br /><br />Toby Malone is the true star of the film with his endearing portrayal of Matt, said country boy and local Aussie Rules football hero come to the big city to try out for one of the big teams. He is supported superbly by John Batchelor as local gangster Tiny. Watch out for these two.<br /><br />Highly recommended.\",\n",
       "  1)]"
      ]
     },
     "execution_count": 2,
     "metadata": {},
     "output_type": "execute_result"
    }
   ],
   "source": [
    "data = get_dataset()\n",
    "data[:2]"
   ]
  },
  {
   "cell_type": "markdown",
   "metadata": {},
   "source": [
    "___"
   ]
  },
  {
   "cell_type": "markdown",
   "metadata": {},
   "source": [
    "> 按照7:3的比例划分训练集和测试集"
   ]
  },
  {
   "cell_type": "code",
   "execution_count": 3,
   "metadata": {},
   "outputs": [],
   "source": [
    "def train_and_test_data(data_):\n",
    "    filesize = int(0.7 * len(data_))\n",
    "    # 训练集和测试集的比例为7:3\n",
    "    train_data_ = [each[0] for each in data_[:filesize]]\n",
    "    train_target_ = [each[1] for each in data_[:filesize]]\n",
    "\n",
    "    test_data_ = [each[0] for each in data_[filesize:]]\n",
    "    test_target_ = [each[1] for each in data_[filesize:]]\n",
    "\n",
    "    return train_data_, train_target_, test_data_, test_target_"
   ]
  },
  {
   "cell_type": "code",
   "execution_count": 4,
   "metadata": {},
   "outputs": [],
   "source": [
    "train_data, train_target, test_data, test_target = train_and_test_data(data)"
   ]
  },
  {
   "cell_type": "markdown",
   "metadata": {},
   "source": [
    "___"
   ]
  },
  {
   "cell_type": "markdown",
   "metadata": {},
   "source": [
    "> 使用多项式贝叶斯分类器"
   ]
  },
  {
   "cell_type": "code",
   "execution_count": 5,
   "metadata": {},
   "outputs": [
    {
     "name": "stdout",
     "output_type": "stream",
     "text": [
      "[[0.21379806 0.78620194]\n",
      " [0.61108605 0.38891395]\n",
      " [0.25629837 0.74370163]\n",
      " ...\n",
      " [0.33889503 0.66110497]\n",
      " [0.73665026 0.26334974]\n",
      " [0.1870178  0.8129822 ]]\n",
      "0.8596\n"
     ]
    }
   ],
   "source": [
    "from sklearn.naive_bayes import MultinomialNB\n",
    "from sklearn.pipeline import Pipeline\n",
    "from sklearn.feature_extraction.text import TfidfVectorizer, HashingVectorizer, CountVectorizer\n",
    "from sklearn import metrics\n",
    "from sklearn.naive_bayes import BernoulliNB\n",
    "\n",
    "nbc = Pipeline([\n",
    "    ('vect', TfidfVectorizer()),\n",
    "    ('clf', MultinomialNB(alpha=1.0)),\n",
    "])\n",
    "nbc.fit(train_data, train_target)    #训练我们的多项式模型贝叶斯分类器\n",
    "predict = nbc.predict(test_data)  #在测试集上预测结果\n",
    "y_score = nbc.fit(train_data, train_target).predict_proba(test_data)\n",
    "print(y_score)\n",
    "count = 0                                      #统计预测正确的结果个数\n",
    "for left , right in zip(predict, test_target):\n",
    "      if left == right:\n",
    "            count += 1\n",
    "print(count/len(test_target))"
   ]
  },
  {
   "cell_type": "markdown",
   "metadata": {},
   "source": [
    "___"
   ]
  },
  {
   "cell_type": "markdown",
   "metadata": {},
   "source": [
    "> 使用伯努利模型分类器"
   ]
  },
  {
   "cell_type": "code",
   "execution_count": 21,
   "metadata": {},
   "outputs": [
    {
     "name": "stdout",
     "output_type": "stream",
     "text": [
      "0.8818635607321131\n"
     ]
    }
   ],
   "source": [
    "nbc_1= Pipeline([\n",
    "    ('vect', TfidfVectorizer()),\n",
    "    ('clf', BernoulliNB(alpha=0.1)),\n",
    "])\n",
    "nbc_1.fit(train_data, train_target)\n",
    "predict = nbc_1.predict(test_data)  #在测试集上预测结果\n",
    "count = 0                                      #统计预测正确的结果个数\n",
    "for left , right in zip(predict, test_target):\n",
    "      if left == right:\n",
    "            count += 1\n",
    "print(count/len(test_target))"
   ]
  },
  {
   "cell_type": "markdown",
   "metadata": {},
   "source": [
    "___"
   ]
  },
  {
   "cell_type": "markdown",
   "metadata": {},
   "source": [
    "从分类结果可以看出，和多项式模型相比，使用伯努利模型的贝叶斯分类器，在文本分类方面的精度相比，差别不大，我们可以针对我们面对的具体问题，进行实验，选择最为合适的分类器。"
   ]
  },
  {
   "cell_type": "markdown",
   "metadata": {},
   "source": [
    "# 作业\n",
    "sklearn中一共提供了四种贝叶斯分类器：\n",
    "* 高斯朴素贝叶斯\n",
    "* 多项式朴素贝叶斯\n",
    "* 补充朴素贝叶斯\n",
    "* 伯努利朴素贝叶斯  \n",
    "\n",
    "从四种贝叶斯分类器模型中找出具有最佳分类效果的分类器，并用直方图直观表示其分类准确率。"
   ]
  },
  {
   "cell_type": "markdown",
   "metadata": {},
   "source": [
    "# 参考资料\n",
    "[sklearn官方网站](https://scikit-learn.org/stable/index.html)   \n",
    "https://scikit-learn.org/stable/index.html  \n",
    "\n",
    "[sklearn:朴素贝叶斯](https://scikit-learn.org/stable/modules/naive_bayes.html#naive-bayes)     \n",
    "https://scikit-learn.org/stable/modules/naive_bayes.html#naive-bayes"
   ]
  }
 ],
 "metadata": {
  "kernelspec": {
   "display_name": "Python 3",
   "language": "python",
   "name": "python3"
  },
  "language_info": {
   "codemirror_mode": {
    "name": "ipython",
    "version": 3
   },
   "file_extension": ".py",
   "mimetype": "text/x-python",
   "name": "python",
   "nbconvert_exporter": "python",
   "pygments_lexer": "ipython3",
   "version": "3.7.2"
  }
 },
 "nbformat": 4,
 "nbformat_minor": 2
}
