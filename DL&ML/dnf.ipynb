{
 "cells": [
  {
   "cell_type": "markdown",
   "metadata": {},
   "source": [
    "# 基于卷积神经网络和决策树的体域网数据融合方法"
   ]
  },
  {
   "cell_type": "raw",
   "metadata": {},
   "source": [
    "现阶段想法:在softmax层后接随机森林，通过种树增加分类准确率"
   ]
  },
  {
   "cell_type": "code",
   "execution_count": 33,
   "metadata": {},
   "outputs": [],
   "source": [
    "import tensorflow as tf\n",
    "import numpy as np\n",
    "import tensorflow.examples.tutorials.mnist.input_data as input_data\n",
    "import scipy as sp\n",
    "%matplotlib inline\n",
    "sess = tf.Session()"
   ]
  },
  {
   "cell_type": "code",
   "execution_count": 9,
   "metadata": {},
   "outputs": [],
   "source": [
    "DEPTH = 3  # Depth of a tree\n",
    "N_LEAF = 2 ** (DEPTH + 1)  # Number of leaf node\n",
    "N_LABEL = 10  # Number of classes\n",
    "N_TREE = 5  # Number of trees (ensemble)\n",
    "N_BATCH = 128  # Number of data points per mini-batch 分批训练，每一批128个"
   ]
  },
  {
   "cell_type": "markdown",
   "metadata": {},
   "source": [
    "--------"
   ]
  },
  {
   "cell_type": "markdown",
   "metadata": {},
   "source": [
    "### 初始化矩阵"
   ]
  },
  {
   "cell_type": "code",
   "execution_count": 10,
   "metadata": {},
   "outputs": [],
   "source": [
    "def init_weights(shape):\n",
    "    return tf.Variable(tf.random_normal(shape, stddev=0.01))"
   ]
  },
  {
   "cell_type": "code",
   "execution_count": 11,
   "metadata": {},
   "outputs": [],
   "source": [
    "def init_prob_weights(shape, minval=-5, maxval=5):\n",
    "    return tf.Variable(tf.random_uniform(shape, minval, maxval))"
   ]
  },
  {
   "cell_type": "markdown",
   "metadata": {},
   "source": [
    "-------"
   ]
  },
  {
   "cell_type": "markdown",
   "metadata": {},
   "source": [
    "### 定义模型"
   ]
  },
  {
   "cell_type": "markdown",
   "metadata": {},
   "source": [
    "* a表示alive,激活之意，eg:l1a,表示layer_1_alive，第一个激活层\n",
    "* w表示weight,权重"
   ]
  },
  {
   "cell_type": "code",
   "execution_count": 22,
   "metadata": {},
   "outputs": [],
   "source": [
    "def model(X, w, w2, w3, w4_e, w_d_e, w_l_e, p_keep_conv, p_keep_hidden):\n",
    "    # 激活层1 & 池化层1 & dropout\n",
    "    l1a = tf.nn.relu(tf.nn.conv2d(X, w, [1, 1, 1, 1], 'SAME'))\n",
    "    l1 = tf.nn.max_pool(l1a, ksize=[1, 2, 2, 1], strides=[1, 2, 2, 1], \n",
    "                        padding='SAME')\n",
    "    l1 = tf.nn.dropout(l1, p_keep_conv)\n",
    "    \n",
    "    # 激活层2 & 池化层 & dropout\n",
    "    l2a = tf.nn.relu(tf.nn.conv2d(l1, w2, [1, 1, 1, 1], 'SAME'))\n",
    "    l2 = tf.nn.max_pool(l2a, ksize=[1, 2, 2, 1],\n",
    "                       strides=[1, 2, 2, 1], padding='SAME')\n",
    "    l2 = tf.nn.dropout(l2, p_keep_conv)\n",
    "    \n",
    "    # 激活层3 & 池化层 & full connected layer & dropout\n",
    "    l3a = tf.nn.relu(tf.nn.conv2d(l2, w3, [1, 1, 1, 1], 'SAME'))\n",
    "    l3 = tf.nn.max_pool(l3a, ksize=[1, 2, 2, 1],\n",
    "                       strides=[1, 2, 2, 1], padding='SAME')\n",
    "    l3 = tf.reshape(l3, [-1, w4_e[0].get_shape().as_list()[0]])\n",
    "    l3 = tf.nn.dropout(l3, p_keep_conv)\n",
    "    \n",
    "    # decision node & prediction node (leaf node)\n",
    "    decision_p_e = []\n",
    "    leaf_p_e = []\n",
    "    for w4, w_d, w_l in zip(w4_e, w_d_e, w_l_e):\n",
    "        l4 = tf.nn.relu(tf.matmul(l3, w4))\n",
    "        l4 = tf.nn.dropout(l4, p_keep_conv)\n",
    "        \n",
    "        decision_p = tf.nn.sigmoid(tf.matmul(l4, w_d))\n",
    "        # 从这一句看，好像叶子节点不与决策节点相关\n",
    "        leaf_p = tf.nn.softmax(w_l)\n",
    "        \n",
    "        decision_p_e.append(decision_p)\n",
    "        leaf_p_e.append(leaf_p)\n",
    "        \n",
    "    return decision_p_e, leaf_p_e  \n",
    "    "
   ]
  },
  {
   "cell_type": "markdown",
   "metadata": {},
   "source": [
    "### 创建占位符作为输入"
   ]
  },
  {
   "cell_type": "code",
   "execution_count": 13,
   "metadata": {},
   "outputs": [],
   "source": [
    "X = tf.placeholder(\"float\", [N_BATCH, 28, 28, 1]) \n",
    "Y = tf.placeholder(\"float\", [N_BATCH, N_LABEL]) "
   ]
  },
  {
   "cell_type": "markdown",
   "metadata": {},
   "source": [
    "### 初始化参数"
   ]
  },
  {
   "cell_type": "code",
   "execution_count": 16,
   "metadata": {},
   "outputs": [],
   "source": [
    "w = init_weights([3, 3, 1, 32])\n",
    "w2 = init_weights([3, 3, 32, 64])\n",
    "w3 = init_weights([3, 3, 64, 128])\n",
    "\n",
    "w4_ensemble = []\n",
    "w_d_ensemble = []\n",
    "w_l_ensemble = []\n",
    "for i in range(N_TREE):\n",
    "    w4_ensemble.append(init_weights([128*4*4, 625]))\n",
    "    w_d_ensemble.append(init_prob_weights([625, N_LEAF], -1, 1))\n",
    "    w_l_ensemble.append(init_prob_weights([N_LEAF, N_LABEL], -2, 2))\n",
    "    \n",
    "p_keep_conv = tf.placeholder(\"float\")\n",
    "p_keep_hidden = tf.placeholder(\"float\")"
   ]
  },
  {
   "cell_type": "markdown",
   "metadata": {},
   "source": [
    "### 定义一个完全可微deep-ndf"
   ]
  },
  {
   "cell_type": "code",
   "execution_count": 23,
   "metadata": {},
   "outputs": [],
   "source": [
    "decision_p_e, leaf_p_e = model(X, w, w2, w3, w4_ensemble, w_d_ensemble,\n",
    "                              w_l_ensemble, p_keep_conv, p_keep_hidden)\n",
    "flat_decision_p_e = []\n",
    "\n",
    "for decision_p in decision_p_e:\n",
    "    # decision_p是d, decision_p_comp是1-d\n",
    "    decision_p_comp = tf.subtract(tf.ones_like(decision_p), decision_p)\n",
    "    \n",
    "    decision_p_pack = tf.stack([decision_p, decision_p_comp])\n",
    "    \n",
    "    flat_decision_p = tf.reshape(decision_p_pack, [-1])\n",
    "    flat_decision_p_e.append(flat_decision_p)"
   ]
  },
  {
   "cell_type": "code",
   "execution_count": 25,
   "metadata": {},
   "outputs": [],
   "source": [
    "batch_0_indices = \\\n",
    "        tf.tile(tf.expand_dims(tf.range(0, N_BATCH * N_LEAF, N_LEAF), \n",
    "                               1), [1, N_LEAF])"
   ]
  },
  {
   "cell_type": "markdown",
   "metadata": {},
   "source": [
    "------"
   ]
  },
  {
   "cell_type": "code",
   "execution_count": 29,
   "metadata": {},
   "outputs": [
    {
     "data": {
      "text/plain": [
       "array([[   0,    0,    0, ...,    0,    0,    0],\n",
       "       [  16,   16,   16, ...,   16,   16,   16],\n",
       "       [  32,   32,   32, ...,   32,   32,   32],\n",
       "       ...,\n",
       "       [2000, 2000, 2000, ..., 2000, 2000, 2000],\n",
       "       [2016, 2016, 2016, ..., 2016, 2016, 2016],\n",
       "       [2032, 2032, 2032, ..., 2032, 2032, 2032]], dtype=int32)"
      ]
     },
     "execution_count": 29,
     "metadata": {},
     "output_type": "execute_result"
    }
   ],
   "source": [
    "sess = tf.Session()\n",
    "sess.run(batch_0_indices)"
   ]
  },
  {
   "cell_type": "raw",
   "metadata": {},
   "source": [
    "batch_0_indices.shape = 128 * 16"
   ]
  },
  {
   "cell_type": "code",
   "execution_count": 30,
   "metadata": {},
   "outputs": [],
   "source": [
    "in_repeat = N_LEAF / 2\n",
    "out_repeat = N_BATCH"
   ]
  },
  {
   "cell_type": "code",
   "execution_count": 36,
   "metadata": {},
   "outputs": [
    {
     "name": "stdout",
     "output_type": "stream",
     "text": [
      "[[   0    0    0 ... 2048 2048 2048]\n",
      " [   0    0    0 ... 2048 2048 2048]\n",
      " [   0    0    0 ... 2048 2048 2048]\n",
      " ...\n",
      " [   0    0    0 ... 2048 2048 2048]\n",
      " [   0    0    0 ... 2048 2048 2048]\n",
      " [   0    0    0 ... 2048 2048 2048]]\n"
     ]
    }
   ],
   "source": [
    "batch_complement_indices = \\\n",
    "    np.array([[0] * int(in_repeat), [N_BATCH * N_LEAF] \\\n",
    "             * int(in_repeat)] * out_repeat).reshape(N_BATCH, N_LEAF)\n",
    "\n",
    "print(batch_complement_indices)"
   ]
  },
  {
   "cell_type": "code",
   "execution_count": 37,
   "metadata": {},
   "outputs": [
    {
     "data": {
      "text/plain": [
       "array([[   0,    0,    0, ..., 2048, 2048, 2048],\n",
       "       [  16,   16,   16, ..., 2064, 2064, 2064],\n",
       "       [  32,   32,   32, ..., 2080, 2080, 2080],\n",
       "       ...,\n",
       "       [2000, 2000, 2000, ..., 4048, 4048, 4048],\n",
       "       [2016, 2016, 2016, ..., 4064, 4064, 4064],\n",
       "       [2032, 2032, 2032, ..., 4080, 4080, 4080]], dtype=int32)"
      ]
     },
     "execution_count": 37,
     "metadata": {},
     "output_type": "execute_result"
    }
   ],
   "source": [
    "sess.run(tf.add(batch_0_indices, batch_complement_indices))"
   ]
  }
 ],
 "metadata": {
  "kernelspec": {
   "display_name": "Python 3",
   "language": "python",
   "name": "python3"
  },
  "language_info": {
   "codemirror_mode": {
    "name": "ipython",
    "version": 3
   },
   "file_extension": ".py",
   "mimetype": "text/x-python",
   "name": "python",
   "nbconvert_exporter": "python",
   "pygments_lexer": "ipython3",
   "version": "3.7.2"
  }
 },
 "nbformat": 4,
 "nbformat_minor": 2
}
