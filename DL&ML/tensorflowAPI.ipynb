{
 "cells": [
  {
   "cell_type": "code",
   "execution_count": 2,
   "metadata": {},
   "outputs": [],
   "source": [
    "import tensorflow as tf\n",
    "import numpy as np\n",
    "from IPython.display import Image"
   ]
  },
  {
   "cell_type": "markdown",
   "metadata": {},
   "source": [
    "### tf.ones_like()"
   ]
  },
  {
   "cell_type": "raw",
   "metadata": {},
   "source": [
    "创建一个所有元素设置为1的tensor"
   ]
  },
  {
   "cell_type": "markdown",
   "metadata": {},
   "source": [
    "### tf.subtract()"
   ]
  },
  {
   "cell_type": "raw",
   "metadata": {},
   "source": [
    "两个矩阵相减"
   ]
  },
  {
   "cell_type": "markdown",
   "metadata": {},
   "source": [
    "> decision_p_comp = tf.subtract(tf.ones_like(decision_p), decision_p)\n",
    "\n",
    "> 这一句计算出1-d"
   ]
  },
  {
   "cell_type": "markdown",
   "metadata": {},
   "source": [
    "### tf.stack"
   ]
  },
  {
   "cell_type": "raw",
   "metadata": {},
   "source": [
    "矩阵拼接，例如"
   ]
  },
  {
   "cell_type": "code",
   "execution_count": 3,
   "metadata": {},
   "outputs": [
    {
     "name": "stdout",
     "output_type": "stream",
     "text": [
      "[[1 2 3]\n",
      " [4 5 6]]\n",
      "[[1 4]\n",
      " [2 5]\n",
      " [3 6]]\n"
     ]
    }
   ],
   "source": [
    "a = tf.constant([1,2,3])\n",
    "b = tf.constant([4,5,6])\n",
    "c = tf.stack([a, b], axis = 0)\n",
    "d = tf.stack([a, b], axis = 1)\n",
    "sess = tf.Session()\n",
    "print(sess.run(c))\n",
    "print(sess.run(d))"
   ]
  },
  {
   "cell_type": "markdown",
   "metadata": {},
   "source": [
    "### tf.expand_dims"
   ]
  },
  {
   "cell_type": "raw",
   "metadata": {},
   "source": [
    "在axis位置增加一个维度"
   ]
  },
  {
   "cell_type": "markdown",
   "metadata": {},
   "source": [
    "### tf.tile "
   ]
  },
  {
   "cell_type": "raw",
   "metadata": {},
   "source": [
    "在同一维度上进行复制"
   ]
  },
  {
   "cell_type": "code",
   "execution_count": 4,
   "metadata": {},
   "outputs": [
    {
     "name": "stdout",
     "output_type": "stream",
     "text": [
      "[1 2 1 2 1 2]\n"
     ]
    }
   ],
   "source": [
    "with tf.Graph().as_default():\n",
    "    a = tf.constant([1,2],name='a') \n",
    "    b = tf.tile(a,[3])\n",
    "    sess = tf.Session()\n",
    "    print(sess.run(b))"
   ]
  },
  {
   "cell_type": "raw",
   "metadata": {},
   "source": [
    "axis 0 代表行  1 代表列"
   ]
  },
  {
   "cell_type": "markdown",
   "metadata": {},
   "source": [
    "### tf.reduce_mean"
   ]
  },
  {
   "cell_type": "raw",
   "metadata": {},
   "source": [
    "计算张量的各个维度上的元素的平均值。"
   ]
  },
  {
   "cell_type": "code",
   "execution_count": 5,
   "metadata": {},
   "outputs": [
    {
     "data": {
      "text/plain": [
       "<tf.Tensor 'Mean_2:0' shape=(2,) dtype=float32>"
      ]
     },
     "execution_count": 5,
     "metadata": {},
     "output_type": "execute_result"
    }
   ],
   "source": [
    "x = tf.constant([[1., 1.], [2., 2.]])\n",
    "tf.reduce_mean(x)  # 1.5\n",
    "tf.reduce_mean(x, 0)  # [1.5, 1.5]\n",
    "tf.reduce_mean(x, 1)  # [1.,  2.]"
   ]
  },
  {
   "cell_type": "markdown",
   "metadata": {},
   "source": [
    "### tf.nn.dropout"
   ]
  },
  {
   "cell_type": "raw",
   "metadata": {},
   "source": [
    "dropout的作用是为了防止或减轻过拟合，它一般用在全连接层\n",
    "通过在不同的训练过程中随机扔掉一部分神经元，也就是让某个神经元的激活值以一定的概率p, 让其停止工作，这次训练过程中不更新权值，也不参加神经网络的计算，但是他的权重得保存下来，待下次样本输入时可能会重新工作。\n",
    "其函数原型：\n",
    "tf.nn.dropout(x, keep_prob, noise_shape=None, seed=None,name=None) \n",
    "第一个参数为输入，第二个参数设置神经元被选中的概率，"
   ]
  },
  {
   "cell_type": "markdown",
   "metadata": {},
   "source": [
    "### tf.gather"
   ]
  },
  {
   "cell_type": "raw",
   "metadata": {},
   "source": [
    "根据索引，从输入张量中依次取元素，构成一个新的张量"
   ]
  }
 ],
 "metadata": {
  "kernelspec": {
   "display_name": "Python 3",
   "language": "python",
   "name": "python3"
  },
  "language_info": {
   "codemirror_mode": {
    "name": "ipython",
    "version": 3
   },
   "file_extension": ".py",
   "mimetype": "text/x-python",
   "name": "python",
   "nbconvert_exporter": "python",
   "pygments_lexer": "ipython3",
   "version": "3.7.2"
  }
 },
 "nbformat": 4,
 "nbformat_minor": 2
}
