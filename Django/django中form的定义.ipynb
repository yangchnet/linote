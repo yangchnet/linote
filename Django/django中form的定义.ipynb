{
 "cells": [
  {
   "cell_type": "markdown",
   "metadata": {},
   "source": [
    "# django中forms的定义 "
   ]
  },
  {
   "cell_type": "markdown",
   "metadata": {},
   "source": [
    "### 直接定义\n",
    "```python\n",
    "class ContactForm(forms.Form):\n",
    "    date = DateField(widget=CalendarWidget)\n",
    "    name = CharField(max_length=40, widget=OtherWidget)\n",
    "```\n",
    "widget参数定义了要使用的小部件，小部件选项可见[这里](https://docs.djangoproject.com/en/2.0/ref/forms/widgets/#built-in-widgets)"
   ]
  },
  {
   "cell_type": "markdown",
   "metadata": {},
   "source": [
    "### 通过模型定义  \n",
    "必须继承ModelForm类\n",
    "```python\n",
    "from django.forms import ModelForm\n",
    "class BlogForm(ModelForm):\n",
    "    class Meta:\n",
    "        model = Blog\n",
    "        fields = ['author', 'essay', 'title', 'label', 'cover']\n",
    "        widgets = {\n",
    "            'essay': CKEditorWidget,\n",
    "            'cover': \n",
    "        }\n",
    "```\n",
    "通过定义内部类来生命form的属性\n",
    "> 常用内部类参数说明：  \n",
    "model: 说明要继承的模型  \n",
    "field：说明要在表单中显示的字段，__all__表示所有  \n",
    "exclude: 要从表单中排除的字段  \n",
    "widgets: 设置字段的小部件  \n",
    "[（详细文档）](https://docs.djangoproject.com/en/2.0/ref/forms/fields/)"
   ]
  }
 ],
 "metadata": {
  "kernelspec": {
   "display_name": "Python 3",
   "language": "python",
   "name": "python3"
  },
  "language_info": {
   "codemirror_mode": {
    "name": "ipython",
    "version": 3
   },
   "file_extension": ".py",
   "mimetype": "text/x-python",
   "name": "python",
   "nbconvert_exporter": "python",
   "pygments_lexer": "ipython3",
   "version": "3.7.2"
  }
 },
 "nbformat": 4,
 "nbformat_minor": 2
}
