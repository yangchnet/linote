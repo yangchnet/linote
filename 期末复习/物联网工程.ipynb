{
 "cells": [
  {
   "cell_type": "markdown",
   "metadata": {},
   "source": [
    "# 物联网工程复习"
   ]
  },
  {
   "cell_type": "markdown",
   "metadata": {},
   "source": [
    "Author:李昌"
   ]
  },
  {
   "cell_type": "markdown",
   "metadata": {},
   "source": [
    "## 1、RFID冲突避免算法"
   ]
  },
  {
   "cell_type": "markdown",
   "metadata": {},
   "source": [
    "自适应标签防冲突协议具有快速标签识别特征，它可分为两种\n",
    "* 自适应查询分割（Adaptive Query Splitting，AQS）协议，是基于采用确定性方法的查询树协议的改进方法\n",
    "* 自适应二元分割（Adaptive Binary Splitting，ABS）协议，是建立在采用概率方法的二叉树协议之上的方法 \n"
   ]
  },
  {
   "cell_type": "markdown",
   "metadata": {},
   "source": [
    "### 1.1、自适应查询分割（Adaptive Query Splitting，AQS）"
   ]
  },
  {
   "cell_type": "markdown",
   "metadata": {},
   "source": [
    "**标签操作**\n",
    "```C\n",
    "/* 响应阅读器的询问\n",
    "查询串q为q1q2…qx\n",
    "（qi为一个二进制值，x为查询串长度）\n",
    "标签ID为t1t2…tb\n",
    "（ti为一个二进制值，b为ID串长度）\n",
    "isResponsible 是一个标记，它决定标签是否发射它的ID */\n",
    "  从阅读器接收开始一帧的命令\n",
    "  从阅读器接收消息 m\n",
    "while m != 帧结束命令 do\n",
    "    q = m\n",
    "    isResponsible = 1\n",
    "    for （i=1; i<x; i++） \n",
    "       do\n",
    "           if qi != ti then\n",
    "               isResponsible = 0\n",
    "              break\n",
    "           end if\n",
    "    end for\n",
    "    if isResponsible == 1 then\n",
    "       发送自身ID\n",
    "    end if\n",
    "       从阅读器接收消息 m\n",
    "end while\n",
    "\n",
    "```"
   ]
  },
  {
   "cell_type": "markdown",
   "metadata": {},
   "source": [
    "**阅读器操作**\n",
    "```C\n",
    "/*发送询问和接收标签的响应\n",
    " /*初始化队列Q和CQ*/\n",
    "Q=CQ\n",
    "CQ=NULL\n",
    "if Q==NULL then\n",
    " Push （Q，0）   /*将0推入队列Q*/\n",
    " Push （Q，1）   /*将1推入队列Q*/\n",
    "end if\n",
    "/*识别标签并形成CQ*/\n",
    "发送启动一个帧的命令\n",
    "while Q !=NULL do\n",
    "    q = Pop（Q）   /*从队列Q中弹出一个串并赋值给q*/\n",
    "    发送包含q的查询\n",
    "    接收标签响应并检测冲突\n",
    "    if 标签冲突 then\n",
    "        /*将查询串增长1比特压入队列Q*/\n",
    "        Push （Q，q0）   /*将q0推入队列Q*/\n",
    "        Push （Q，q1）   /*将q1推入队列Q*/\n",
    "    else if 只有一个标签响应 then\n",
    "        存储标签ID\n",
    "        Push （CQ，q）   /*将q推入队列CQ*/\n",
    "    else if 没有标签响应 then\n",
    "        Push （CQ，q）   /*将q推入队列CQ*/\n",
    "    end if\n",
    "end while\n",
    "QueryDeletion（CQ）  /*删除不需要的查询串*/\n",
    "发送帧结束命令\n",
    "```"
   ]
  },
  {
   "cell_type": "markdown",
   "metadata": {},
   "source": [
    "### 1.2、适应二元分割（Adaptive Binary Splitting，ABS）"
   ]
  },
  {
   "cell_type": "markdown",
   "metadata": {},
   "source": [
    "**标签操作算法**\n",
    "```C\n",
    "/*通过控制PSC和ASC发射ID，f是阅读器的反馈，用于指示可读、空闲、冲突*/\n",
    "  接收带有阅读器TSC的帧启动命令\n",
    "  /*初始化PSC和ASC*/\n",
    "  PSC=0\n",
    "  if ASC==NULL or ASC>TSC then\n",
    "      ASC被赋值为0与TSC之间的随机数\n",
    "  end if\n",
    "  /*为发射而处理PSC和ASC*/\n",
    "while PSC≤ASC do\n",
    "    if PSC==ASC then\n",
    "        发射ID\n",
    "        从阅读器接收反馈 f\n",
    "        if 反馈 f 指示为冲突 then\n",
    "            随机选择一个二进制值i\n",
    "            ASC=ASC+i\n",
    "        else\n",
    "            PSC=PSC+1\n",
    "        end if\n",
    "    else if PSC<ASC then\n",
    "        从阅读器接收反馈 f\n",
    "        if 反馈 f 指示为冲突 then\n",
    "             ASC=ASC+1\n",
    "        else if反馈 f 指示为可读 then\n",
    "            PSC=PSC+1\n",
    "        else if反馈 f 指示为空闲 then\n",
    "            ASC=ASC-1\n",
    "        end if\n",
    "    end if\n",
    "end while \n",
    "\n",
    "```"
   ]
  },
  {
   "cell_type": "markdown",
   "metadata": {},
   "source": [
    "**阅读器操作算法**\n",
    "```C\n",
    "/*根据接收到的标签响应数，发射反馈信息\n",
    "f是一个标记，用于指示可读、空闲、冲突*/\n",
    "PSC = 0\n",
    "if TSC==NULL then\n",
    "    TSC = 0\n",
    "end if\n",
    "发射带有阅读器TSC的帧启动命令\n",
    "while PSC≤TSC do\n",
    "    接收标签响应并检测冲突\n",
    "    if 标签冲突 then\n",
    "        TSC＝TSC＋1\n",
    "        将f赋值为冲突\n",
    "    else if 仅有一个标签响应 then\n",
    "        保存标签ID\n",
    "        PSC=PSC+1\n",
    "        将f赋值为可读\n",
    "    else if 没有标签响应 then\n",
    "        TSC＝TSC-1\n",
    "        将f赋值为空闲\n",
    "    end if\n",
    "    发射反馈 f\n",
    "end while\n",
    "\n",
    "```"
   ]
  },
  {
   "cell_type": "markdown",
   "metadata": {},
   "source": [
    "## 2、DDos攻击预防算法"
   ]
  },
  {
   "cell_type": "markdown",
   "metadata": {},
   "source": []
  },
  {
   "cell_type": "markdown",
   "metadata": {},
   "source": [
    "### 3、画图相关"
   ]
  },
  {
   "cell_type": "markdown",
   "metadata": {},
   "source": [
    "### 3.1、用例图"
   ]
  },
  {
   "cell_type": "markdown",
   "metadata": {},
   "source": [
    "> 用例图是指由参与者（Actor）、用例（Use Case），边界以及它们之间的关系构成的用于描述系统功能的视图\n",
    "\n",
    "![](http://www.processon.com/chart_image/522d8fcc0cf2e64bfd1c2b53.png)"
   ]
  },
  {
   "cell_type": "markdown",
   "metadata": {},
   "source": [
    "### 3.2、状态图"
   ]
  },
  {
   "cell_type": "markdown",
   "metadata": {},
   "source": [
    "> 状态图(Statechart Diagram)是描述一个实体基于事件反应的动态行为，显示了该实体如何根据当前所处的状态对不同的事件做出反应\n",
    "\n",
    "![](https://cn.bing.com/th?id=OIP.YUqX3HxLasy9PiN9YhrUfQHaE3&pid=Api&rs=1&p=0)\n",
    "\n",
    "![](https://cn.bing.com/th?id=OIP.Ike978rvsjqr0D1bNfupdAHaEW&pid=Api&rs=1&p=0)"
   ]
  },
  {
   "cell_type": "markdown",
   "metadata": {},
   "source": [
    "### 3.3、时序图"
   ]
  },
  {
   "cell_type": "markdown",
   "metadata": {},
   "source": [
    "> 通过描述对象之间发送消息的时间顺序显示多个对象之间的动态协作\n",
    "\n",
    "![](https://cn.bing.com/th?id=OIP.omCANLanXRyjTIvX7lX5kwHaG0&pid=Api&rs=1&p=0)"
   ]
  },
  {
   "cell_type": "markdown",
   "metadata": {},
   "source": [
    "### 3.4、流程图"
   ]
  },
  {
   "cell_type": "markdown",
   "metadata": {},
   "source": [
    "> 流程图是流经一个系统的信息流、观点流或部件流的图形代表\n",
    "\n",
    "![](http://wiki.mbalib.com/w/images/5/55/%E6%B5%81%E7%A8%8B%E5%9B%BE%E4%BE%8B.jpg)"
   ]
  }
 ],
 "metadata": {
  "kernelspec": {
   "display_name": "Python 3",
   "language": "python",
   "name": "python3"
  },
  "language_info": {
   "codemirror_mode": {
    "name": "ipython",
    "version": 3
   },
   "file_extension": ".py",
   "mimetype": "text/x-python",
   "name": "python",
   "nbconvert_exporter": "python",
   "pygments_lexer": "ipython3",
   "version": "3.7.2"
  }
 },
 "nbformat": 4,
 "nbformat_minor": 2
}
