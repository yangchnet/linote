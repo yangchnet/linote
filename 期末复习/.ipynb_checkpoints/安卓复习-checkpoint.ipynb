{
 "cells": [
  {
   "cell_type": "markdown",
   "metadata": {},
   "source": [
    "# 安卓复习 "
   ]
  },
  {
   "cell_type": "markdown",
   "metadata": {},
   "source": [
    "## 1. 安卓四大组件 "
   ]
  },
  {
   "cell_type": "markdown",
   "metadata": {},
   "source": [
    "1. Activity\n",
    "2. Service\n",
    "3. CententProvider\n",
    "4. BroadcastReceive"
   ]
  },
  {
   "cell_type": "markdown",
   "metadata": {},
   "source": [
    "### 1.1. Activity 启动流程 "
   ]
  },
  {
   "cell_type": "markdown",
   "metadata": {},
   "source": [
    " **AndroidManifest.xml -> Android操作系统 -> MainActivity: onCreate()方法 -> acitivity_main.xml **    \n",
    " \n",
    " 首先首先安卓操作系统访问主配置文件,找到启动哪个程序,找到默认的启动程序,启动程序的 activity,里面有一个 oncreate()方法被调用,这个方法里面会调用acitivity_main.xml 文件,这个文件会画出程序的界面。\n",
    " "
   ]
  },
  {
   "cell_type": "markdown",
   "metadata": {},
   "source": [
    "### 1.2 Activity组件 "
   ]
  },
  {
   "cell_type": "markdown",
   "metadata": {},
   "source": [
    "**是整个应用程序的门面，主要负责与用户进行交互**  \n",
    "\n",
    "1. 一个Activity通常就是一个单独的屏幕（窗口）。\n",
    "\n",
    "2. Activity之间通过Intent进行通信。\n",
    "\n",
    "3. android应用中每一个Activity都必须要在AndroidManifest.xml配置文件中声明，否则系统将不识别也不执行该Activity。\n",
    "\n"
   ]
  },
  {
   "cell_type": "markdown",
   "metadata": {},
   "source": [
    "### 1.3 Service 组件 "
   ]
  },
  {
   "cell_type": "markdown",
   "metadata": {},
   "source": [
    "**不可见，但承担着大部分数据处理的工作**  \n",
    "\n",
    "1. service用于在后台完成用户指定的操作。service分为两种：\n",
    "\n",
    "    a. started（启动）：当应用程序组件（如activity）调用startService()方法启动服务时，服务处于started状态。\n",
    "\n",
    "    b. bound（绑定）：当应用程序组件调用bindService()方法绑定到服务时，服务处于bound状态。\n",
    "\n",
    "2. startService()与bindService()区别：\n",
    "\n",
    "    a. started service（启动服务）是由其他组件调用startService()方法启动的，这导致服务的onStartCommand()方法被调用。当服务是started状态时，其生命周期与启动它的组件无关，并且可以在后台无限期运行，即使启动服务的组件已经被销毁。因此，服务需要在完成任务后调用stopSelf()方法停止，或者由其他组件调用stopService()方法停止。\n",
    "\n",
    "    b. 使用bindService()方法启用服务，调用者与服务绑定在了一起，调用者一旦退出，服务也就终止，大有“不求同时生，必须同时死”的特点。\n",
    "\n",
    "3. 开发人员需要在应用程序配置文件中声明全部的service，使用<service></service>标签。\n",
    "\n",
    "4. Service通常位于后台运行，它一般不需要与用户交互，因此Service组件没有图形用户界面。Service组件需要继承Service基类。Service组件通常用于为其他组件提供后台服务或监控其他组件的运行状态。"
   ]
  },
  {
   "cell_type": "markdown",
   "metadata": {},
   "source": [
    "### 1.4 CententProvider组件 "
   ]
  },
  {
   "cell_type": "markdown",
   "metadata": {},
   "source": [
    "**负责对外提供数据，允许有需要的应用程序访问这些数据**  \n",
    "\n",
    "（1）android平台提供了Content Provider使一个应用程序的指定数据集提供给其他应用程序。其他应用可以通过ContentResolver类从该内容提供者中获取或存入数据。\n",
    "\n",
    "（2）只有需要在多个应用程序间共享数据是才需要内容提供者。例如，通讯录数据被多个应用程序使用，且必须存储在一个内容提供者中。它的好处是统一数据访问方式。\n",
    "\n",
    "（3）ContentProvider实现数据共享。ContentProvider用于保存和获取数据，并使其对所有应用程序可见。这是不同应用程序间共享数据的唯一方式，因为android没有提供所有应用共同访问的公共存储区。\n",
    "\n",
    "（4）开发人员不会直接使用ContentProvider类的对象，大多数是通过ContentResolver对象实现对ContentProvider的操作。\n",
    "\n",
    "（5）ContentProvider使用URI来唯一标识其数据集，这里的URI以content://作为前缀，表示该数据由ContentProvider来管理。"
   ]
  },
  {
   "cell_type": "markdown",
   "metadata": {},
   "source": [
    "### 1.5. BroadcastReceiver组件 "
   ]
  },
  {
   "cell_type": "markdown",
   "metadata": {},
   "source": [
    "#### 1.5.1 概述 "
   ]
  },
  {
   "cell_type": "markdown",
   "metadata": {},
   "source": [
    "**针对手机当中出现的各种情况做出相应的对应**\n",
    "\n",
    "它是一个全局的监听器，它能够接收安卓系统、App内以及其它App发出的广播。安卓的广播采用观察者模式，基于消息的 订阅 / 发布 事件模型，因此广播的发送者和接收者完全解耦，易于使用和扩展。"
   ]
  },
  {
   "cell_type": "markdown",
   "metadata": {},
   "source": [
    "#### 1.5.2 使用流程 "
   ]
  },
  {
   "cell_type": "markdown",
   "metadata": {},
   "source": [
    "1. 修改布局文件\n",
    "2. 编辑Activity\n",
    "3. 编写Recivier类，继承BroadcastReceiver类，在该类中重写onReceiver()方法。接收到消息后逻辑处理。\n",
    "4. 编写AndroidMainfest.xml文件，注册Activity及BroadcastReceiver"
   ]
  },
  {
   "cell_type": "markdown",
   "metadata": {},
   "source": [
    "#### 1.5.3 注册方法 * "
   ]
  },
  {
   "cell_type": "markdown",
   "metadata": {},
   "source": [
    "广播接收者的注册有两种方法，分别是程序动态注册和AndroidManifest文件中进行静态注册。\n",
    "\n",
    "* 静态注册\n",
    "静态注册的方式是直接在xml文件中注册，示例如下：\n",
    "```java\n",
    "<receiver\n",
    "    //广播接收者的类名路径\n",
    "    android:name=\".MyReceiver\"\n",
    "    //发送广播的app应该具有的权限\n",
    "    android:permission=\"String\"\n",
    "    //广播是否可用，为true时系统才会初始化该广播\n",
    "    android:enabled=\"true\"\n",
    "    //是否能接受其他app发出的广播，当有intent-filter时默认为true\n",
    "    android:exported=\"true\">\n",
    "    <intent-filter>\n",
    "        //接受到的广播类型，可以使用系统已有的广播类型也可以自定义\n",
    "        <action android:name=\"com.jrmf360.sendrp\"/>\n",
    "    </intent-filter>\n",
    "</receiver>\n",
    "```\n",
    "当app启动时系统会自动实例化该广播类，并注册到系统中  \n",
    "使用这种方式进行注册后，即使你的应用程序没有启动，或者已经被关闭，这个BroadcastReceiver依然会继续运行，这样的运行机制可能会给软件的用户造成困扰。所以作为程序的开发者，我们希望能够有一种灵活的机制完成BroadcastReceiver的绑定和解除绑定操作。即动态注册。\n",
    "\n",
    "* 动态注册\n",
    "动态注册就是在代码中注册，这种方式比较灵活，当用到广播时才去注册且可以反注册，广播不会一直存在，节约内存。看个示例：\n",
    "\n",
    "```java  \n",
    "@Override\n",
    "protected void onResume() {\n",
    "    super.onResume();\n",
    "    broadcastReceiver = new MyBroadcastReceiver();\n",
    "    //创建意图过滤器并添加Action\n",
    "    IntentFilter intentFilter = new IntentFilter();\n",
    "    intentFilter.addAction(\"com.jrmf360.sendrp\");\n",
    "    //注册BroadcastReceiver\n",
    "    registerReceiver(broadcastReceiver,intentFilter);\n",
    "}\n",
    "\n",
    "@Override\n",
    "protected void onPause() {\n",
    "    super.onPause();\n",
    "    unregisterReceiver(broadcastReceiver);\n",
    "}\n",
    "\n",
    "class MyBroadcastReceiver extends BroadcastReceiver{\n",
    "\n",
    "    @Override\n",
    "    public void onReceive(Context context, Intent intent) {\n",
    "        String action = intent.getAction();\n",
    "        Log.e(getClass().getSimpleName(),\"action:\"+action);\n",
    "        Bundle extras = intent.getExtras();\n",
    "        String id = extras.getString(\"id\");\n",
    "        String name = extras.getString(\"name\");\n",
    "        Log.e(getClass().getSimpleName(),\"id:\"+id+\",name：\"+name);\n",
    "    }\n",
    "}\n",
    "```\n",
    "在onResume方法中注册BroadcastReceiver在onPause方法中取消注册BroadcastReceiver。注册和反注册必须成对出现以免造成内存泄漏。\n",
    "> * registerReceiver(receiver,filter);\n",
    "这个函数的作用就是将一个BroadcastReceiver注册到应用程序当中，这个函数接收两个参数，第一个参数是需要注册的BroadcastReceiver对象，第二个是一个IntentFilter。第一个参数是非常容易理解的，第二个参数的作用是定义了哪些Intent才能触发这个注册的BroadcastReceiver对象。类似于前面所讲解的<intent-filter>标签的作用；\n",
    "    \n",
    "> * unregisterReceiver(receiver);\n",
    "这个方法就非常的简单了，用于解除BroadcastReceiver的绑定状态。一旦解除完成，响应的BroadcastReceiver就不会再接收系统所广播的Intent了。\n",
    "\n",
    "    \n",
    "* 两种注册BroadcastReceiver方法的比较：  \n",
    "现在我们了解了两种注册BroadcastReceiver的方法之后，需要考虑一下这两种方法适用的场合：  \n",
    "    \n",
    "    (1)第一种注册的方法可以保证在应用程序安装之后，BroadcastReceiver始终处于活动状态，通常用于监听系统状态的改变，比如说手机的电量，wifi网卡的状态。对于这样的BroadcastReceiver，通常是在产生某个特定的系统事件之后，进行相应的操作，比如说wifi网卡打开时，给用户一个提示；  \n",
    "    \n",
    "    (2)第二种注册方法相对第一种要灵活的多，这样注册的BroadcastReceiver通常用于更新UI的状态。一般来说，都是在一个Activity启动的时候使用这样的方法注册BroadcastReceiver，一旦接收到广播的事件，就可以在onReceive方法当中更新当前的这个Activity当中的控件。但是需要注意的是如果这个Activity不可见了，就应该调用unregisterReceiver方法来解除注册；"
   ]
  },
  {
   "cell_type": "markdown",
   "metadata": {},
   "source": [
    "## 2. 安卓控件 "
   ]
  },
  {
   "cell_type": "markdown",
   "metadata": {},
   "source": [
    "### 2.1 控件类型\n",
    "\n",
    "|S.N.| UI控件与说明|\n",
    "|-----|-----|\n",
    "|1|TextView <br>这种控制用于显示文本给用户。|\n",
    "|2|EditText <br>是TextView预定义的子类，包括丰富的编辑功能。|\n",
    "|3|AutoCompleteTextView<br>是一个视图，它类似于EditText，不同之处是在用户键入时，它会显示自动完成建议的列表。|\n",
    "|4|Button <br>按钮式可以被按压，或者点击 - 由用户执行动作。|\n",
    "|5|ImageButton <br>ImageButton是一个AbsoluteLayout布局，它能够指定其子视图的确切位置。显示的图像（而不是文本），可由用户按下或点击一个按钮|\n",
    "|6|CheckBox <br>可以由用户来切换开/关。提供一组可选择的选项并不相互排斥时候呈现用户，应该使用复选框。|\n",
    "|7|ToggleButton <br>一个开/关按钮带有指示灯。|\n",
    "|8|RadioButton <br>单选按钮有两种状态：选中或取消选中。|\n",
    "|9|RadioGroup <br>用于组织一个或多个单选按钮。|\n",
    "|10|ProgressBar <br>进度条视图（ProgressBar）提供一些日常任务，当在后台执行任务时，给出视觉反馈。|\n",
    "|11|Spinner <br>一个下拉列表，允许用户选择从一组一个值（类似HTML中的select）|\n",
    "|12|TimePicker <br>imePicker视图允许用户选择一天中的时间，在24小时模式或AM/ PM模式。|\n",
    "|13|DatePicker<br>TimePicker视图允许用户选择一天中的时间，在24小时模式或AM/PM模式。|\n",
    "\n",
    "### 2.2 创建控件\n",
    "视图对象可能有一个唯一的ID分配给，这个唯一识别视图树内。一个视图ID在XML标签的语法是：\n",
    "```xml android:id=\"@+id/text_id\"```\n",
    "\n",
    "要创建一个用户界面控件/视图/小工具，必须在布局文件中定义一个视图/部件，并将其分配一个唯一的ID如下：\n",
    "```xml\n",
    "<?xml version=\"1.0\" encoding=\"utf-8\"?>\n",
    "<LinearLayout xmlns:android=\"http://schemas.android.com/apk/res/android\"\n",
    "   android:layout_width=\"fill_parent\" \n",
    "   android:layout_height=\"fill_parent\"\n",
    "   android:orientation=\"vertical\" >\n",
    "   \n",
    "   <TextView android:id=\"@+id/text_id\"\n",
    "      android:layout_width=\"wrap_content\"\n",
    "      android:layout_height=\"wrap_content\"\n",
    "      android:text=\"I am a TextView\" />\n",
    "</LinearLayout>\n",
    "```\n",
    "最后控制对象创建一个实例，并获得它的布局，使用以下命令：\n",
    "```java\n",
    "TextView myText = (TextView) findViewById(R.id.text_id);\n",
    "```\n"
   ]
  },
  {
   "cell_type": "markdown",
   "metadata": {},
   "source": [
    "## 3. 安卓布局 "
   ]
  },
  {
   "cell_type": "markdown",
   "metadata": {},
   "source": [
    "### 3.1 Android布局类型 "
   ]
  },
  {
   "cell_type": "markdown",
   "metadata": {},
   "source": [
    "|S.N.|布局和说明|\n",
    "|-----|-----|\n",
    "|1|Linear Layout<br>LinearLayout视图组，所有的子视图在单一的方向对齐，垂直或水平。|\n",
    "|2|Relative Layout<br>RelativeLayout相对位置显示子视图的视图组。|\n",
    "|3|Table Layout<br>TableLayout一种视图，组视图分为行和列。|\n",
    "|4|Absolute Layout<br>AbsoluteLayout 使能够指定其子视图的确切位置。|\n",
    "|5|Frame Layout<br>FrameLayout 屏幕上是一个占位符，可以用它来显示一个单一的视图。|\n",
    "|6|List View<br>ListView显示滚动项目列表视图组。|\n",
    "|7|Grid View<br>GridView 网格控件是一种ViewGroup用于显示一个二维，滚动的网格的项目。|\n"
   ]
  },
  {
   "cell_type": "markdown",
   "metadata": {},
   "source": [
    "### 3.2 布局属性 "
   ]
  },
  {
   "cell_type": "markdown",
   "metadata": {},
   "source": [
    "|属性|描述|\n",
    "|-----|-----|\n",
    "|android:id|唯一地标识该视图的ID|\n",
    "|android:layout_width|布局的宽度|\n",
    "|android:layout_height|这是布局的高度|\n",
    "|android:layout_marginTop|这是关于布局的顶侧的额外的空间|\n",
    "|android:layout_marginBottom|在布局上的底侧的额外的空间|\n",
    "|android:layout_marginLeft|在布局上的左侧的额外的空间|\n",
    "|android:layout_marginRight|在右侧的布局的额外空间|\n",
    "|android:layout_gravity|它指定子视图被定位|\n",
    "|android:layout_weight|指定有多少布局额外的空间应该分配给视图|\n",
    "|android:layout_x|指定布局的x坐标|\n",
    "|android:layout_y|此指定布局的y坐标|\n",
    "|android:layout_width|布局的宽度|\n",
    "|android:layout_width|布局的宽度|\n",
    "|android:paddingLeft|布局的左填充|\n",
    "|android:paddingRight|布局的右填充|\n",
    "|android:paddingTop|布局顶部填充|\n",
    "|android:paddingBottom|布局底部填充|\n",
    "\n"
   ]
  },
  {
   "cell_type": "markdown",
   "metadata": {},
   "source": [
    "### 3.3 LinearLayout布局 "
   ]
  },
  {
   "cell_type": "markdown",
   "metadata": {},
   "source": [
    "Android的LinearLayout视图组对齐所有的子在一个方向上垂直。\n",
    "![](https://www.runoob.com/wp-content/uploads/2015/07/15116314.jpg)  \n",
    "\n",
    "代码实例\n",
    "```xml\n",
    "<LinearLayout xmlns:android=\"http://schemas.android.com/apk/res/android\"    \n",
    "    xmlns:tools=\"http://schemas.android.com/tools\"    \n",
    "    android:id=\"@+id/LinearLayout1\"    \n",
    "    android:layout_width=\"match_parent\"    \n",
    "    android:layout_height=\"match_parent\"    \n",
    "    android:orientation=\"horizontal\">   \n",
    "        \n",
    "    <LinearLayout    \n",
    "        android:layout_width=\"0dp\"    \n",
    "        android:layout_height=\"fill_parent\"    \n",
    "        android:background=\"#ADFF2F\"     \n",
    "        android:layout_weight=\"1\"/>    \n",
    "       \n",
    "        \n",
    "    <LinearLayout    \n",
    "        android:layout_width=\"0dp\"    \n",
    "        android:layout_height=\"fill_parent\"    \n",
    "        android:background=\"#DA70D6\"     \n",
    "        android:layout_weight=\"2\"/>    \n",
    "        \n",
    "</LinearLayout>  \n",
    "```"
   ]
  },
  {
   "cell_type": "markdown",
   "metadata": {},
   "source": [
    "### 3.4 RelativeLayout(相对布局) "
   ]
  },
  {
   "cell_type": "markdown",
   "metadata": {},
   "source": [
    "![](https://www.runoob.com/wp-content/uploads/2015/07/797932661-1.png)\n",
    "\n",
    "代码实例\n",
    "```xml\n",
    "<RelativeLayout xmlns:android=\"http://schemas.android.com/apk/res/android\"    \n",
    "    xmlns:tools=\"http://schemas.android.com/tools\"    \n",
    "    android:id=\"@+id/RelativeLayout1\"    \n",
    "    android:layout_width=\"match_parent\"    \n",
    "    android:layout_height=\"match_parent\" >    \n",
    "    \n",
    "    <!-- 这个是在容器中央的 -->    \n",
    "        \n",
    "    <ImageView    \n",
    "        android:id=\"@+id/img1\"     \n",
    "        android:layout_width=\"80dp\"    \n",
    "        android:layout_height=\"80dp\"    \n",
    "        android:layout_centerInParent=\"true\"    \n",
    "        android:src=\"@drawable/pic1\"/>    \n",
    "        \n",
    "    <!-- 在中间图片的左边 -->    \n",
    "    <ImageView    \n",
    "        android:id=\"@+id/img2\"     \n",
    "        android:layout_width=\"80dp\"    \n",
    "        android:layout_height=\"80dp\"    \n",
    "        android:layout_toLeftOf=\"@id/img1\"    \n",
    "        android:layout_centerVertical=\"true\"    \n",
    "        android:src=\"@drawable/pic2\"/>    \n",
    "        \n",
    "    <!-- 在中间图片的右边 -->    \n",
    "    <ImageView    \n",
    "        android:id=\"@+id/img3\"     \n",
    "        android:layout_width=\"80dp\"    \n",
    "        android:layout_height=\"80dp\"    \n",
    "        android:layout_toRightOf=\"@id/img1\"    \n",
    "        android:layout_centerVertical=\"true\"    \n",
    "        android:src=\"@drawable/pic3\"/>    \n",
    "        \n",
    "    <!-- 在中间图片的上面-->    \n",
    "    <ImageView    \n",
    "        android:id=\"@+id/img4\"     \n",
    "        android:layout_width=\"80dp\"    \n",
    "        android:layout_height=\"80dp\"    \n",
    "        android:layout_above=\"@id/img1\"    \n",
    "        android:layout_centerHorizontal=\"true\"    \n",
    "        android:src=\"@drawable/pic4\"/>    \n",
    "        \n",
    "    <!-- 在中间图片的下面 -->    \n",
    "    <ImageView    \n",
    "        android:id=\"@+id/img5\"     \n",
    "        android:layout_width=\"80dp\"    \n",
    "        android:layout_height=\"80dp\"    \n",
    "        android:layout_below=\"@id/img1\"    \n",
    "        android:layout_centerHorizontal=\"true\"    \n",
    "        android:src=\"@drawable/pic5\"/>    \n",
    "    \n",
    "</RelativeLayout>\n",
    "```\n",
    "\n",
    "运行效果  \n",
    "![](https://www.runoob.com/wp-content/uploads/2015/07/14556678.jpg)"
   ]
  },
  {
   "cell_type": "markdown",
   "metadata": {},
   "source": [
    "### 3.5  TableLayout(表格布局)"
   ]
  },
  {
   "cell_type": "markdown",
   "metadata": {},
   "source": [
    "![](https://www.runoob.com/wp-content/uploads/2015/07/60974640.jpg)\n",
    "\n",
    "**如何确定行数与列数  **\n",
    "\n",
    "①如果我们直接往TableLayout中添加组件的话,那么这个组件将占满一行！！！  \n",
    "\n",
    "②如果我们想一行上有多个组件的话,就要添加一个TableRow的容器,把组件都丢到里面！  \n",
    "\n",
    "③tablerow中的组件个数就决定了该行有多少列,而列的宽度由该列中最宽的单元格决定  \n",
    "\n",
    "④tablerow的layout_width属性,默认是fill_parent的,我们自己设置成其他的值也不会生效！！！ 但是layout_height默认是wrapten——content的,我们却可以自己设置大小！  \n",
    "\n",
    "⑤整个表格布局的宽度取决于父容器的宽度(占满父容器本身)  \n",
    "\n",
    "⑥有多少行就要自己数啦,一个tablerow一行,一个单独的组件也一行！多少列则是看tableRow中 的组件个数,组件最多的就是TableLayout的列数  \n",
    "\n",
    "实例代码\n",
    "```xml\n",
    "<TableLayout  \n",
    "    android:id=\"@+id/TableLayout2\"  \n",
    "    android:layout_width=\"fill_parent\"  \n",
    "    android:layout_height=\"wrap_content\"  \n",
    "    android:collapseColumns=\"0,2\" >  \n",
    "\n",
    "    <TableRow>  \n",
    "\n",
    "        <Button  \n",
    "            android:layout_width=\"wrap_content\"  \n",
    "            android:layout_height=\"wrap_content\"  \n",
    "            android:text=\"one\" />  \n",
    "\n",
    "        <Button  \n",
    "            android:layout_width=\"wrap_content\"  \n",
    "            android:layout_height=\"wrap_content\"  \n",
    "            android:text=\"two\" />  \n",
    "\n",
    "        <Button  \n",
    "            android:layout_width=\"wrap_content\"  \n",
    "            android:layout_height=\"wrap_content\"  \n",
    "            android:text=\"three\" />  \n",
    "\n",
    "        <Button  \n",
    "            android:layout_width=\"wrap_content\"  \n",
    "            android:layout_height=\"wrap_content\"  \n",
    "            android:text=\"four\" />  \n",
    "\n",
    "        <Button  \n",
    "            android:layout_width=\"wrap_content\"  \n",
    "            android:layout_height=\"wrap_content\"  \n",
    "            android:text=\"five\" />  \n",
    "    </TableRow>  \n",
    "</TableLayout>\n",
    "```\n",
    "\n",
    "![](https://www.runoob.com/wp-content/uploads/2015/09/12531069.jpg)"
   ]
  },
  {
   "cell_type": "markdown",
   "metadata": {},
   "source": [
    "### 3.6  FrameLayout(帧布局)"
   ]
  },
  {
   "cell_type": "markdown",
   "metadata": {},
   "source": [
    "这个布局直接在屏幕上开辟出一块空白的区域,当我们往里面添加控件的时候,会默认把他们放到这块区域的左上角,而这种布局方式却没有任何的定位方式,所以它应用的场景并不多;帧布局的大小由控件中最大的子控件决定,如果控件的大小一样大的话,那么同一时刻就只能看到最上面的那个组件!后续添加的控件会覆盖前一个!虽然默认会将控件放置在左上角,但是我们也可以通过layout_gravity属性,指定到其他的位置.\n",
    "\n",
    "实例代码\n",
    "```xml\n",
    "<FrameLayout xmlns:android=\"http://schemas.android.com/apk/res/android\"    \n",
    "    xmlns:tools=\"http://schemas.android.com/tools\"    \n",
    "    android:id=\"@+id/FrameLayout1\"    \n",
    "    android:layout_width=\"match_parent\"    \n",
    "    android:layout_height=\"match_parent\"    \n",
    "    tools:context=\".MainActivity\"     \n",
    "    android:foreground=\"@drawable/logo\"    \n",
    "    android:foregroundGravity=\"right|bottom\">    \n",
    "    \n",
    "    <TextView    \n",
    "        android:layout_width=\"200dp\"    \n",
    "        android:layout_height=\"200dp\"    \n",
    "        android:background=\"#FF6143\" />    \n",
    "    <TextView    \n",
    "        android:layout_width=\"150dp\"    \n",
    "        android:layout_height=\"150dp\"    \n",
    "        android:background=\"#7BFE00\" />    \n",
    "     <TextView    \n",
    "        android:layout_width=\"100dp\"    \n",
    "        android:layout_height=\"100dp\"    \n",
    "        android:background=\"#FFFF00\" />    \n",
    "        \n",
    "</FrameLayout>    \n",
    "```\n",
    "\n",
    "![](https://www.runoob.com/wp-content/uploads/2015/07/23622209.jpg)"
   ]
  },
  {
   "cell_type": "markdown",
   "metadata": {},
   "source": [
    "### 3.7 GridLayout(网格布局)"
   ]
  },
  {
   "cell_type": "markdown",
   "metadata": {},
   "source": [
    "![](https://www.runoob.com/wp-content/uploads/2015/07/71483585.jpg)"
   ]
  },
  {
   "cell_type": "markdown",
   "metadata": {},
   "source": [
    "### 3.8  AbsoluteLayout(绝对布局)"
   ]
  },
  {
   "cell_type": "markdown",
   "metadata": {},
   "source": [
    "略。。。"
   ]
  },
  {
   "cell_type": "markdown",
   "metadata": {},
   "source": [
    "## 4. 安卓对象的状态"
   ]
  },
  {
   "cell_type": "markdown",
   "metadata": {},
   "source": [
    "### 4.1  Activity生命周期的阶段"
   ]
  },
  {
   "cell_type": "markdown",
   "metadata": {},
   "source": [
    "1. 开始阶段。\n",
    "\n",
    "2. Activity失去焦点被其他Activity覆盖阶段-两种方式。\n",
    "\n",
    "3. Activity重新获得焦点阶段-两种方式。\n",
    "\n",
    "4. 关闭阶段-三种方式。"
   ]
  },
  {
   "cell_type": "markdown",
   "metadata": {},
   "source": [
    "### 4.2  Activity对象的状态"
   ]
  },
  {
   "cell_type": "markdown",
   "metadata": {},
   "source": [
    "1. 活动状态:有焦点,可视,栈顶。\n",
    "\n",
    "2. 暂停状态:无焦点,部分可视,栈内。\n",
    "\n",
    "3. 停止状态:无焦点,不可视,栈内。\n",
    "\n",
    "4. 非活动状态:无焦点,不可视,被移出栈。\n",
    "\n",
    "![](https://cn.bing.com/th?id=OIP.lPojqdIXB4A2oNzFClB9VgHaEK&pid=Api&rs=1&p=0)"
   ]
  },
  {
   "cell_type": "markdown",
   "metadata": {},
   "source": [
    "### 4.3 Activity生命周期函数 "
   ]
  },
  {
   "cell_type": "markdown",
   "metadata": {},
   "source": [
    "* onCreate：创建Activity时被回调\n",
    "\n",
    "* onStart：启动Activity时被回调\n",
    "\n",
    "* onRestart：重新启动Activity时被回调\n",
    "\n",
    "* onResume：显示（可见）Activity时被回调。\n",
    "\n",
    "* onPause：暂停Activity时被回调\n",
    "\n",
    "* onStop：停止Activity时被回调\n",
    "\n",
    "* onDestroy：销毁Activity时被回调\n",
    "\n",
    "\n",
    "1. 开始阶段。\n",
    "    1. onCreate\n",
    "    2. onStart\n",
    "    3. onResume  \n",
    "2. Activity失去焦点被其他Activity覆盖阶段-两种方式。  \n",
    "    1. onPause  \n",
    "    2. onPause和onStop  \n",
    "3. Activity重新获得焦点阶段。-两种方式  \n",
    "    1. onResume。  \n",
    "    2. onRestart、onStart和onResume。Activity生命周期的阶段  \n",
    "4. 关闭阶段-三种方式。  \n",
    "    1. onPause、onStop和onDestroy。  \n",
    "    2. onPause 进程终止。  \n",
    "    3. onPause、onStop 进程终止。  \n",
    "    \n",
    "![](https://img-blog.csdn.net/20140214140801078?watermark/2/text/aHR0cDovL2Jsb2cuY3Nkbi5uZXQvY2hkamo=/font/5a6L5L2T/fontsize/400/fill/I0JBQkFCMA==/dissolve/70/gravity/SouthEast)"
   ]
  },
  {
   "cell_type": "markdown",
   "metadata": {},
   "source": [
    "## 5. 安卓监听器"
   ]
  },
  {
   "cell_type": "markdown",
   "metadata": {},
   "source": [
    "![](https://pic002.cnblogs.com/images/2011/103608/2011062016000714.png)"
   ]
  },
  {
   "cell_type": "markdown",
   "metadata": {},
   "source": [
    "### 5.1 为控件绑定监听器 "
   ]
  },
  {
   "cell_type": "markdown",
   "metadata": {},
   "source": [
    "1. 获取代表控件的对象\n",
    "\n",
    "```xml\n",
    "<Button\n",
    "android:id=\"@+id/button\"\n",
    "android:layout_width=\"match_parent\"\n",
    "android:layout_height=\"wrap_content\"\n",
    "android:text=\"button\" />\n",
    "```\n",
    "\n",
    "```java\n",
    "private Button button;\n",
    "button= (Button)findViewById(R.id.button);\n",
    "```\n",
    "\n",
    "2. 定义一个类,实现监听器接口\n",
    "\n",
    "```java\n",
    "class ButtonListener implements OnClickListener{\n",
    "    @Override\n",
    "    public void onClick(View V){\n",
    "        count++;\n",
    "        textView.setText(count + \"\");\n",
    "    }\n",
    "}\n",
    "```\n",
    "\n",
    "3. 生成监听器对象\n",
    "```java\n",
    "ButtonListener buttonlistener = new ButtonListener();\n",
    "```\n",
    "\n",
    "4. 为控件绑定监听器对象\n",
    "\n",
    "```java\n",
    "button.setOnClickListener(buttonlistener);\n",
    "```"
   ]
  },
  {
   "cell_type": "markdown",
   "metadata": {},
   "source": [
    "## 5. Socket编程"
   ]
  },
  {
   "cell_type": "markdown",
   "metadata": {},
   "source": [
    "```java\n",
    "//-------------------------server端-----------------------------//\n",
    "//声明一个ServerSocket对象\n",
    "ServerSocket serverSocket = null;\n",
    "\n",
    "//创建一个ServerSocket对象，并让这个Socket在4567端口监听\n",
    "serverSocket = new ServerSocket(4567);\n",
    "\n",
    "//调用ServerSocket的accept()方法，接受客户端所发送的请求\n",
    "Socket socket = serverSocket.accept();\n",
    "\n",
    "//从Socket当中得到InputStream对象\n",
    "InputStream inputStream = socket.getInputStream();\n",
    "byte buffer [] = new byte[1024*4];\n",
    "int temp = 0;\n",
    "\n",
    "//从InputStream当中读取客户端所发送的数据\n",
    "while((temp = inputStream.read(buffer)) != -1){\n",
    "    System.out.println(new String(buffer,0,temp));\n",
    "}\n",
    "\n",
    "//关闭\n",
    "serverSocket.close();\n",
    "\n",
    "//-------------------------client端-----------------------------//\n",
    "    \n",
    "//创建一个Socket对象，指定服务器端的IP地址和端口号\n",
    "Socket socket = new Socket(\"192.168.1.104\",4567);\n",
    "    \n",
    "//使用InputStream读取硬盘上的文件\n",
    "InputStream inputStream = new FileInputStream(\"f://file/words.txt\");\n",
    "    \n",
    "//从Socket当中得到OutputStream\n",
    "OutputStream outputStream = socket.getOutputStream();\n",
    "byte buffer [] = new byte[4*1024];\n",
    "int temp = 0 ;\n",
    "    \n",
    "//将InputStream当中的数据取出，并写入到OutputStream当中\n",
    "while((temp = inputStream.read(buffer)) != -1){\n",
    "outputStream.write(buffer, 0, temp);\n",
    "        \n",
    "```"
   ]
  },
  {
   "cell_type": "markdown",
   "metadata": {},
   "source": [
    "## 6. WiFi 编程 "
   ]
  },
  {
   "cell_type": "markdown",
   "metadata": {},
   "source": [
    "```xml\n",
    "<!-- 以下是使用wifi访问网络所需要的权限 -->\n",
    "<uses-permission android:name=\"android.permission.CHANGE_NETWORK_STATE\"></uses-permission>\n",
    "<uses-permission android:name=\"android.permission.CHANGE_WIFI_STATE\"></uses-permission>\n",
    "<uses-permission android:name=\"android.permission.ACCESS_NETWORK_STATE\"></uses-permission>\n",
    "<uses-permission android:name=\"android.permission.ACCESS_WIFI_STATE\"></uses-permission>\n",
    "```\n",
    "\n",
    "```java\n",
    "//设置3个按钮：\n",
    "private Button startButton = null;\n",
    "private Button stopButton = null;\n",
    "private Button checkButton = null;\n",
    "\n",
    "startButton = (Button)findViewById(R.id.startWifi);\n",
    "stopButton = (Button)findViewById(R.id.stopWifi);\n",
    "checkButton = (Button)findViewById(R.id.checkWifi);\n",
    "startButton.setOnClickListener(new StartWifiListener());\n",
    "stopButton.setOnClickListener(new StopWifiListener());\n",
    "checkButton.setOnClickListener(new CheckWifiListener());\n",
    "\n",
    "//------------------------------------\n",
    "    \n",
    "//获得wifi对象：\n",
    "wifiManager = (WifiManager)WifiActivity.this.getSystemService(Context.WIFI_SERVICE);\n",
    "\n",
    "//设置 开启无线网卡\n",
    "wifiManager.setWifiEnabled(true);\n",
    "\n",
    "//得到wifi网卡状态\n",
    "System.out.println(\"wifi state --->\" + wifiManager.getWifiState());\n",
    "\n",
    "//------------------------------------\n",
    "    \n",
    "//关闭wifi网卡\n",
    "wifiManager = (WifiManager)WifiActivity.this.getSystemService(Context.WIFI_SERVICE);\n",
    "wifiManager.setWifiEnabled(false);\n",
    "System.out.println(\"wifi state --->\" + wifiManager.getWifiState());\n",
    "\n",
    "//-----------------------------------------\n",
    "\n",
    "wifiManager = (WifiManager)WifiActivity.this.getSystemService(Context.WIFI_SERVICE);\n",
    "System.out.println(\"wifi state --->\" + wifiManager.getWifiState());\n",
    "\n",
    "//-------------------------------------------------\n",
    "```"
   ]
  },
  {
   "cell_type": "markdown",
   "metadata": {},
   "source": [
    "1. 什么是 WIFI\n",
    "WIFI 就是一种无线联网的技术,以前通过网线连接电脑,而现在则是通过无线电波来连网;常见的就是一个无线路由器,那么在这个无线路由器的电波覆盖的 有效范围都可以采用 WIFI 连接方式进行联网,如果无线路由器连接了一条 ADSL 线路或者别的上网线路,则又被称为“热点”;\n",
    "2. 获取 WIFI 网卡的状态\n",
    "类似于 WIFI 这样的系统级服务管理对象,通常都需要调用 Context对象的 getSystemService()方法来获取,这个方法接收一个字符串作为参数,根据参数的不同,得到不同的系统服务管理对象。管理 WIFI网卡的对象叫做 WifiManager,得到这个对象的方法如下:\n",
    "\n",
    "```java\n",
    "WifiManager wifiManager =(WifiManager)context.getSystemService(Context.WIFI_SERVICE);\n",
    "```\n",
    "\n",
    "对于 WifiManager 来说,经常使用的有如下操作:\n",
    "* 得到当前网卡状态:\n",
    "```java\n",
    "int wifiState = wifiManger.getWifiState();\n",
    "```\n",
    "\n",
    "这个函数返回的是一个整形,不同的返回值代表着不同的状态,每一种状态都对应着一个常量,这些常量都存放在 WifiManager类当中,具体含义如下:\n",
    "\n",
    "|状态|说明|编号|  \n",
    "|-----|----|----|  \n",
    "|WIFI_STATE_DISABLED:WIFI |网卡不可用|1|  \n",
    "|WIFI_STATE_DISABLING:WIFI |正在关闭|0|  \n",
    "|WIFI_STATE_ENABLED:WIFI |网卡可用|3|  \n",
    "|WIFI_STATE_ENABLING:WIFI |网卡正在打开|2|  \n",
    "|WIFI_STATE_UNKNOWN:|未知网卡状态 |4|  \n",
    "\n",
    "需要注意的是 WIFI 网卡的打开和关闭并不是瞬间的过程,需要一段时间。也就是说如果当前我们手机的网卡处于可用的状态,我们关闭网卡之后,并不是马上进入关闭状态,而是处于正在关闭状态,等关闭的动作完成以后才会真正进入到关闭状态!\n",
    "\n",
    "* 修改当前网卡状态\n",
    "    得到 WifiManager 对象之后,就可以修改 WIFI 网卡状态了,具体方法如下:\n",
    "\n",
    "    * 打开 WIFI 网卡\n",
    "    ```wifiManger.setWifiEnabled(true);```\n",
    "    * 关闭 WIFI 网卡\n",
    "    ```wifiManger.setWifiEnabled(false);```"
   ]
  },
  {
   "cell_type": "markdown",
   "metadata": {},
   "source": [
    "## 7. Sqlite数据库"
   ]
  },
  {
   "cell_type": "markdown",
   "metadata": {},
   "source": [
    "```java\n",
    "//创建数据库\n",
    "\n",
    " class CreateListener implements OnClickListener{\n",
    "\t\t@Override\n",
    "\t\tpublic void onClick(View v) {\n",
    "\t//创建一个DatabaseHelper对象\n",
    "DatabaseHelper dbHelper = new DatabaseHelper(SQLiteActivity.this,\"test_mars_db\");\n",
    "\t//只有调用了DatabaseHelper对象的getReadableDatabase()方法，或者是getWritableDatabase()方法之后，才会创建，或打开一个数据库\n",
    "SQLiteDatabase db = dbHelper.getReadableDatabase();\n",
    "\t\t}\n",
    "    }\n",
    "//=========================================================================\n",
    "//DatabaseHelper作为一个访问SQLite的助手类，提供两个方面的功能，\n",
    "//第一，getReadableDatabase(),getWritableDatabase()可以获得SQLiteDatabse对象，通过该对象可以对数据库进行操作\n",
    "//第二，提供了onCreate()和onUpgrade()两个回调函数，允许我们在创建和升级数据库时，进行自己的操作\n",
    "\n",
    "public class DatabaseHelper extends SQLiteOpenHelper {\n",
    "\t\n",
    "\tprivate static final int VERSION = 1;\n",
    "\t//在SQLiteOepnHelper的子类当中，必须有该构造函数\n",
    "\tpublic DatabaseHelper(Context context, String name, CursorFactory factory,\n",
    "\t\t\tint version) {\n",
    "\t\t//必须通过super调用父类当中的构造函数\n",
    "\t\tsuper(context, name, factory, version);\n",
    "\t\t// TODO Auto-generated constructor stub\n",
    "\t}\n",
    "\tpublic DatabaseHelper(Context context,String name){\n",
    "\t\tthis(context,name,VERSION);\n",
    "\t}\n",
    "\tpublic DatabaseHelper(Context context,String name,int version){\n",
    "\t\tthis(context, name,null,version);\n",
    "\t}\n",
    "\n",
    "//===============================================================================\n",
    "\t//该函数是在第一次创建数据库的时候执行,实际上是在第一次得到SQLiteDatabse对象的时候，才会调用这个方法\n",
    "\t@Override\n",
    "\tpublic void onCreate(SQLiteDatabase db) {\n",
    "\t\t// TODO Auto-generated method stub\n",
    "\t\tSystem.out.println(\"create a Database\");\n",
    "\t\t//execSQL函数用于执行SQL语句\n",
    "\t\tdb.execSQL(\"create table user(id int,name varchar(20))\");\n",
    "\t}\n",
    "\n",
    "//========================================================================\n",
    "//更新数据库版本\t\n",
    "@Override\n",
    "\tpublic void onUpgrade(SQLiteDatabase db, int oldVersion, int newVersion) {\n",
    "\t\t// TODO Auto-generated method stub\n",
    "\t\tSystem.out.println(\"update a Database\");\n",
    "\t}\n",
    "\n",
    "//----------------------------------------------------\n",
    "\n",
    "//升级数据库：\n",
    "\n",
    "    class UpdateListener implements OnClickListener{\n",
    "\n",
    "\t\t@Override\n",
    "\t\tpublic void onClick(View v) {\n",
    "\t\t\tDatabaseHelper dbHelper = new DatabaseHelper(SQLiteActivity.this,\"test_mars_db\",2);\n",
    "\t\t\tSQLiteDatabase db = dbHelper.getReadableDatabase();\n",
    "\t\t}\n",
    "    \t\n",
    "    }\n",
    "\n",
    "\n",
    "//-------------------------------------------------------------------------\n",
    "   //插入数据库：\n",
    "\n",
    " class InsertListener implements OnClickListener{\n",
    "\n",
    "\t\t@Override\n",
    "\t\tpublic void onClick(View v) {\n",
    "\t\t\t//生成ContentValues对象\n",
    "\t\t\tContentValues values = new ContentValues();\n",
    "\t\t\t//想该对象当中插入键值对，其中键是列名，值是希望插入到这一列的值，值必须和数据库当中的数据类型一致\n",
    "\t\t\tvalues.put(\"id\", 1);\n",
    "\t\t\tvalues.put(\"name\",\"zhangsan\");\n",
    "\t\t\tDatabaseHelper dbHelper = new DatabaseHelper(SQLiteActivity.this,\"test_mars_db\",2);\n",
    "\t\t\tSQLiteDatabase db = dbHelper.getWritableDatabase();\n",
    "\t\t\t//调用insert方法，就可以将数据插入到数据库当中\n",
    "\t\t\tdb.insert(\"user\", null, values);\n",
    "\t\t}\n",
    "    }\n",
    "//--------------------------------------------------------------\n",
    "    //更新操作就相当于执行SQL语句当中的update语句\n",
    "    //UPDATE table_name SET XXCOL=XXX WHERE XXCOL=XX...\n",
    "    class UpdateRecordListener implements OnClickListener{\n",
    "\n",
    "\t\t@Override\n",
    "\t\tpublic void onClick(View arg0) {\n",
    "\t\t\t// TODO Auto-generated method stub\n",
    "\t\t\t//得到一个可写的SQLiteDatabase对象\n",
    "\t\t\tDatabaseHelper dbHelper = new DatabaseHelper(SQLiteActivity.this,\"test_mars_db\");\n",
    "\t\t\tSQLiteDatabase db = dbHelper.getWritableDatabase();\n",
    "\t\t\tContentValues values = new ContentValues();\n",
    "\t\t\tvalues.put(\"name\", \"zhangsanfeng\");\n",
    "\t\t\t//第一个参数是要更新的表名\n",
    "\t\t\t//第二个参数是一个ContentValeus对象\n",
    "\t\t\t//第三个参数是where子句\n",
    "\t\t\tdb.update(\"user\", values, \"id=?\", new String[]{\"1\"});\n",
    "\t\t}\n",
    "    }\n",
    "\n",
    "//=======================================================================\n",
    "//查询：\n",
    "\n",
    "    class QueryListener implements OnClickListener{\n",
    "\n",
    "\t\t@Override\n",
    "\t\tpublic void onClick(View v) {\n",
    "\t\t\tSystem.out.println(\"aaa------------------\");\n",
    "\t\t\tLog.d(\"myDebug\", \"myFirstDebugMsg\");\n",
    "\t\t\t\n",
    "\t\t\tDatabaseHelper dbHelper = new DatabaseHelper(SQLiteActivity.this,\"test_mars_db\");\n",
    "\t\t\tSQLiteDatabase db = dbHelper.getReadableDatabase();\n",
    "            \n",
    "//表名， 查询那些列，查询条件，查询的后显示的方式，如何分组，如何排序。\t\t\t\n",
    "Cursor cursor = db.query(\"user\", new String[]{\"id\",\"name\"}, \"id=?\", new String[]{\"1\"}, null, null, null);\n",
    "\t\t\t\n",
    "while(cursor.moveToNext()){\n",
    "\t\t\t\tString name = cursor.getString(cursor.getColumnIndex(\"name\"));\n",
    "\t\t\t\tSystem.out.println(\"query--->\" + name);\n",
    "\t\t\t}\n",
    "\t\t}\n",
    "    }\n",
    "```"
   ]
  },
  {
   "cell_type": "markdown",
   "metadata": {},
   "source": [
    "## 附： 期末考试题型 "
   ]
  },
  {
   "cell_type": "markdown",
   "metadata": {},
   "source": [
    "1. 选择题（每小题1分，共10分）\n",
    "\n",
    "    全部是单选题。\n",
    "    \n",
    "2. 判断题（每小题1分，共5分）\n",
    "\n",
    "3. 简答题（每小题10分，共40分）\n",
    "\n",
    "    类似于期中考试的简答题。\n",
    "\n",
    "4. 程序设计题（每小题10分，共20分）\n",
    "\n",
    "    类似于期中考试的程序设计题，比期中考试难度加大。需要写出主要的程序代码，记住主要的接口函数名字。这道题相对来说要求比较高。\n",
    "\n",
    "5. 论述题（每小题25分，共25分）\n",
    "\n",
    "    根据自己的所学知识进行分析的题目。"
   ]
  },
  {
   "cell_type": "markdown",
   "metadata": {},
   "source": [
    "#####  Author： lichang"
   ]
  }
 ],
 "metadata": {
  "kernelspec": {
   "display_name": "Python 3",
   "language": "python",
   "name": "python3"
  },
  "language_info": {
   "codemirror_mode": {
    "name": "ipython",
    "version": 3
   },
   "file_extension": ".py",
   "mimetype": "text/x-python",
   "name": "python",
   "nbconvert_exporter": "python",
   "pygments_lexer": "ipython3",
   "version": "3.7.2"
  }
 },
 "nbformat": 4,
 "nbformat_minor": 2
}
