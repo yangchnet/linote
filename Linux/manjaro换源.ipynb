{
 "cells": [
  {
   "cell_type": "markdown",
   "metadata": {},
   "source": [
    "# manjaro换源 "
   ]
  },
  {
   "cell_type": "markdown",
   "metadata": {},
   "source": [
    "有关manjaro换源的文件：  \n",
    "/etc/pacman.d/mirrorlist"
   ]
  },
  {
   "cell_type": "markdown",
   "metadata": {},
   "source": [
    "网上教程：  \n",
    "```bash\n",
    "sudo pacman-mirrors -gb testing -c China  //选择中国源并更新\n",
    "sudo pacman -Syyu  //更新系统\n",
    "```"
   ]
  },
  {
   "cell_type": "markdown",
   "metadata": {},
   "source": [
    "manjaro更新  "
   ]
  },
  {
   "cell_type": "markdown",
   "metadata": {},
   "source": [
    "```bash\n",
    "pacman -Sc //清空并且下载新数据\n",
    "pacman-mirrors -gb testing -c China //更新源\n",
    "or\n",
    "pacman-mirrors -c China -g //更新源\n",
    "pacman -Syu //更新\n",
    "pacman -Syy //更新源数据库\n",
    "pacman -Syyu //安装更新\n",
    "```\n"
   ]
  }
 ],
 "metadata": {
  "kernelspec": {
   "display_name": "Python 3",
   "language": "python",
   "name": "python3"
  },
  "language_info": {
   "codemirror_mode": {
    "name": "ipython",
    "version": 3
   },
   "file_extension": ".py",
   "mimetype": "text/x-python",
   "name": "python",
   "nbconvert_exporter": "python",
   "pygments_lexer": "ipython3",
   "version": "3.7.2"
  }
 },
 "nbformat": 4,
 "nbformat_minor": 2
}
