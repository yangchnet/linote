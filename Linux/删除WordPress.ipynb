{
 "cells": [
  {
   "cell_type": "markdown",
   "metadata": {},
   "source": [
    "# 删除WordPress"
   ]
  },
  {
   "cell_type": "markdown",
   "metadata": {},
   "source": [
    "1. 删除网络文件：\n",
    "```bash\n",
    "rm -Rf /var/www/html/*\n",
    "```"
   ]
  },
  {
   "cell_type": "markdown",
   "metadata": {},
   "source": [
    "2. 删除数据库。首先获取mysql的root密码（通过ssh登录时显示在MOTD中）。\n",
    "```sql\n",
    "mysql -uroot -p\n",
    "```\n",
    "输入密码后使用语句：\n",
    "```sql\n",
    "DROP DATABASE wordpress;\n",
    "```\n",
    "删除WordPress数据库\n",
    "\n",
    "```sql\n",
    "exit;\n",
    "```"
   ]
  }
 ],
 "metadata": {
  "kernelspec": {
   "display_name": "Python 3",
   "language": "python",
   "name": "python3"
  },
  "language_info": {
   "codemirror_mode": {
    "name": "ipython",
    "version": 3
   },
   "file_extension": ".py",
   "mimetype": "text/x-python",
   "name": "python",
   "nbconvert_exporter": "python",
   "pygments_lexer": "ipython3",
   "version": "3.7.2"
  }
 },
 "nbformat": 4,
 "nbformat_minor": 2
}
