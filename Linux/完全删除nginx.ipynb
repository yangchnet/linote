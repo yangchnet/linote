{
 "cells": [
  {
   "cell_type": "markdown",
   "metadata": {},
   "source": [
    "# Ubuntu完全删除nginx"
   ]
  },
  {
   "cell_type": "markdown",
   "metadata": {},
   "source": [
    "## 1. 卸载nginx及相关软件"
   ]
  },
  {
   "cell_type": "markdown",
   "metadata": {},
   "source": [
    "* 卸载nginx\n",
    "```bash\n",
    "sudo apt-get --purge remove nginx\n",
    "```\n",
    "\n",
    "\n",
    "* 移除全部无用包 \n",
    "```bash\n",
    "sudo apt-get autoremove\n",
    "```\n",
    "\n",
    "\n",
    "* 列出与nginx相关的软件\n",
    "```bash\n",
    "dpkg --get-selections | grep nginx\n",
    "```\n",
    "\n",
    "\n",
    "* 删除之\n",
    "```bash\n",
    "sudo apt-get --purge remove nginx-common\n",
    "sudo apt-get --purge remove nginx-core\n",
    "```"
   ]
  },
  {
   "cell_type": "markdown",
   "metadata": {},
   "source": [
    "## 2. 停止所有与nginx有关的进程"
   ]
  },
  {
   "cell_type": "markdown",
   "metadata": {},
   "source": [
    "* 查看相关进程\n",
    "```bash\n",
    "ps -ef | grep nginx\n",
    "```\n",
    "\n",
    "\n",
    "* 停止这些进程\n",
    "```bash\n",
    "sudo kill -9 {process_id}\n",
    "```\n",
    "> 00:00:00 grep --color=auto nginx 这个不是\n"
   ]
  },
  {
   "cell_type": "markdown",
   "metadata": {},
   "source": [
    "## 3. 查找主机中与nginx相关的文件\n",
    "使用命令：\n",
    "```bash\n",
    "sudo  find  /  -name  nginx*\n",
    "```\n",
    "\n",
    "删除之\n",
    "```bash\n",
    "sudo rm -rf {dir}\n",
    "```"
   ]
  },
  {
   "cell_type": "markdown",
   "metadata": {},
   "source": [
    "## 4. 现在可以重新安装nginx"
   ]
  },
  {
   "cell_type": "markdown",
   "metadata": {},
   "source": [
    "```bash\n",
    "sudo apt-get update\n",
    "sudo apt-get install nginx\n",
    "```"
   ]
  }
 ],
 "metadata": {
  "kernelspec": {
   "display_name": "Python 3",
   "language": "python",
   "name": "python3"
  },
  "language_info": {
   "codemirror_mode": {
    "name": "ipython",
    "version": 3
   },
   "file_extension": ".py",
   "mimetype": "text/x-python",
   "name": "python",
   "nbconvert_exporter": "python",
   "pygments_lexer": "ipython3",
   "version": "3.7.2"
  }
 },
 "nbformat": 4,
 "nbformat_minor": 2
}
