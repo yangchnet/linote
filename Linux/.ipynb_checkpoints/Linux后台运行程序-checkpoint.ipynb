{
 "cells": [
  {
   "cell_type": "markdown",
   "metadata": {},
   "source": [
    "# Linux后台运行程序"
   ]
  },
  {
   "cell_type": "markdown",
   "metadata": {},
   "source": [
    "使用screen"
   ]
  },
  {
   "cell_type": "markdown",
   "metadata": {},
   "source": [
    "## screen介绍 "
   ]
  },
  {
   "cell_type": "markdown",
   "metadata": {},
   "source": [
    "Screen是一个控制台应用程序，允许您在一个窗口中使用多个终端会话。该程序在shell会话中运行，并充当其他终端会话的容器和管理器，类似于窗口管理器管理窗口的方式。\n",
    "\n",
    "在许多情况下，创建多个终端窗口是不可能或不理想的。您可能需要在没有运行X服务器的情况下管理多个控制台会话，您可能需要轻松访问许多远程云服务器，或者您可能需要在处理其他任务时监视正在运行的程序的输出。所有需求都可以通过屏幕的强大功能轻松解决。"
   ]
  },
  {
   "cell_type": "markdown",
   "metadata": {},
   "source": [
    "## 安装srceen "
   ]
  },
  {
   "cell_type": "markdown",
   "metadata": {},
   "source": [
    "ubuntu下   \n",
    "```bash\n",
    "sudo apt-get install screen\n",
    "```  \n",
    "manjaro下   \n",
    "```bash\n",
    "sudo pacman -S screen\n",
    "```"
   ]
  },
  {
   "cell_type": "markdown",
   "metadata": {},
   "source": [
    "## 基本使用方法 "
   ]
  },
  {
   "cell_type": "markdown",
   "metadata": {},
   "source": [
    "使用```screen```命令打开一个新的窗口，在其中运行你想运行的脚本。   \n",
    "开始运行后， 按```ctrl+ad```退出窗口   \n",
    "使用```screen -r```重新进入窗口   "
   ]
  },
  {
   "cell_type": "markdown",
   "metadata": {},
   "source": [
    "## 附：重定向 "
   ]
  },
  {
   "cell_type": "markdown",
   "metadata": {},
   "source": [
    "|命令\t|说明|  \n",
    "|---|---|\n",
    "|command > file|\t将输出重定向到 file。|  \n",
    "|command < file\t|将输入重定向到 file。|  \n",
    "|command >> file\t|将输出以追加的方式重定向到 file。|  \n",
    "|n > file\t|将文件描述符为 n 的文件重定向到 file。|  \n",
    "|n >> file\t|将文件描述符为 n 的文件以追加的方式重定向到 file。|  \n",
    "|n >& m\t|将输出文件 m 和 n 合并。|  \n",
    "|n <& m\t|将输入文件 m 和 n 合并。|  \n",
    "|<< tag\t|将开始标记 tag 和结束标记 tag 之间的内容作为输入。|  "
   ]
  },
  {
   "cell_type": "markdown",
   "metadata": {},
   "source": [
    "Edited by Li Chang"
   ]
  }
 ],
 "metadata": {
  "kernelspec": {
   "display_name": "Python 3",
   "language": "python",
   "name": "python3"
  },
  "language_info": {
   "codemirror_mode": {
    "name": "ipython",
    "version": 3
   },
   "file_extension": ".py",
   "mimetype": "text/x-python",
   "name": "python",
   "nbconvert_exporter": "python",
   "pygments_lexer": "ipython3",
   "version": "3.7.2"
  }
 },
 "nbformat": 4,
 "nbformat_minor": 2
}
