{
 "cells": [
  {
   "cell_type": "markdown",
   "metadata": {},
   "source": [
    "# CentOS安装Python环境"
   ]
  },
  {
   "cell_type": "markdown",
   "metadata": {},
   "source": [
    "吐槽：网上一堆从官网获取安装包然后自己编译的，慢不说，还容易出错"
   ]
  },
  {
   "cell_type": "markdown",
   "metadata": {},
   "source": [
    "可使用以下命令安装Python3环境：  "
   ]
  },
  {
   "cell_type": "markdown",
   "metadata": {},
   "source": [
    "1. \n",
    "```bash\n",
    "yum install rh-python36\n",
    "```\n",
    "使用这条命令，安装Python3.6，但是安装后找不到，输入Python3后还是找不到命令"
   ]
  },
  {
   "cell_type": "markdown",
   "metadata": {},
   "source": [
    "2. scl enable rh-python36 bash  \n",
    "上面的命令是调用/opt/rh/rh-python36/enable更改shell环境变量的脚本。  \n",
    "如果再次检查Python版本，你会发现Python 3.6现在是当前shell中的默认版本。\n",
    "**需要指出的是，Python 3.6仅在此shell会话中设置为默认的Python版本。如果退出会话或从另一个终端打开一个新会话，Python 2.7将是默认的Python版本。**"
   ]
  },
  {
   "cell_type": "markdown",
   "metadata": {},
   "source": [
    "3. 可使用当前shell窗口建立一个Python3虚拟环境，这样就可以使用Python3\n",
    "\n",
    "```bash\n",
    "#首先，创建项目目录并切换到它：\n",
    "mkdir ~/my_new_project\n",
    "cd ~/my_new_project\n",
    "#使用该scl工具激活Python 3.6 ：\n",
    "sl enable rh-python36 bash\n",
    "# 从项目根目录内部运行以下命令以创建名为的虚拟环境my_project_venv：\n",
    "python -m venv my_project_venv\n",
    "#要首先使用虚拟环境，我们需要输入以下命令来激活它：\n",
    "source my_project_venv/bin/activate\n",
    "#激活环境后，shell提示符将以环境名称作为前缀：\n",
    "(my_project_venv) user@host:~/my_new_project$\n",
    "```"
   ]
  }
 ],
 "metadata": {
  "kernelspec": {
   "display_name": "Python 3",
   "language": "python",
   "name": "python3"
  },
  "language_info": {
   "codemirror_mode": {
    "name": "ipython",
    "version": 3
   },
   "file_extension": ".py",
   "mimetype": "text/x-python",
   "name": "python",
   "nbconvert_exporter": "python",
   "pygments_lexer": "ipython3",
   "version": "3.7.2"
  }
 },
 "nbformat": 4,
 "nbformat_minor": 2
}
