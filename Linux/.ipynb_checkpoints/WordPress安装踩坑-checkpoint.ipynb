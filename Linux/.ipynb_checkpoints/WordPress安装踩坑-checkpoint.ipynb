{
 "cells": [
  {
   "cell_type": "markdown",
   "metadata": {},
   "source": [
    "# WordPress安装踩坑"
   ]
  },
  {
   "cell_type": "markdown",
   "metadata": {},
   "source": [
    "## 1. 第一个坑，忘了安装PHP。。。"
   ]
  },
  {
   "cell_type": "markdown",
   "metadata": {},
   "source": [
    "## 2. 第二个坑，访问页面not found"
   ]
  },
  {
   "cell_type": "markdown",
   "metadata": {},
   "source": [
    "发现是因为同时开了apache2和nginx,导致冲突了，把nginx关掉就好了"
   ]
  },
  {
   "cell_type": "markdown",
   "metadata": {},
   "source": [
    "## 3. 第三个坑，打开页面全是源代码"
   ]
  },
  {
   "cell_type": "markdown",
   "metadata": {},
   "source": [
    "1. 打开/etc/apache2/apache2.conf，将以下内容添加到文件的底部：\n",
    "```conf\n",
    "<FilesMatch \\ .php $> \n",
    "SetHandler application / x-httpd-php \n",
    "</ FilesMatch>\n",
    "```\n",
    "\n",
    "2. 为了使PHP正常运行，您必须禁用mpm_event模块并启用mpm_prefork和php7模块。为此，请返回您的终端窗口并发出命令：\n",
    "```bash\n",
    "sudo a2dismod mpm_event && sudo a2enmod mpm_prefork && sudo a2enmod php7.0\n",
    "```"
   ]
  },
  {
   "cell_type": "markdown",
   "metadata": {},
   "source": [
    "## 4. 在执行上面的命令时，遇到了第四个坑"
   ]
  },
  {
   "cell_type": "markdown",
   "metadata": {},
   "source": [
    "```bash\n",
    "ERROR: Module php7.0 does not exist!\n",
    "```"
   ]
  },
  {
   "cell_type": "markdown",
   "metadata": {},
   "source": [
    "**解决办法**\n",
    "```bash\n",
    "sudo apt-get install libapache2-mod-php7.0\n",
    "```"
   ]
  },
  {
   "cell_type": "markdown",
   "metadata": {},
   "source": [
    "## 5. 您的PHP似乎没有安装运行WordPress所必需的MySQL扩展。"
   ]
  },
  {
   "cell_type": "markdown",
   "metadata": {},
   "source": [
    "```bash\n",
    "sudo apt-get install php-mysql\n",
    "```"
   ]
  },
  {
   "cell_type": "markdown",
   "metadata": {},
   "source": [
    "爬出来了。。"
   ]
  }
 ],
 "metadata": {
  "kernelspec": {
   "display_name": "Python 3",
   "language": "python",
   "name": "python3"
  },
  "language_info": {
   "codemirror_mode": {
    "name": "ipython",
    "version": 3
   },
   "file_extension": ".py",
   "mimetype": "text/x-python",
   "name": "python",
   "nbconvert_exporter": "python",
   "pygments_lexer": "ipython3",
   "version": "3.7.2"
  }
 },
 "nbformat": 4,
 "nbformat_minor": 2
}
