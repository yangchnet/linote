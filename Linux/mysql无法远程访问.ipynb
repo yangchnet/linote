{
 "cells": [
  {
   "cell_type": "markdown",
   "metadata": {},
   "source": [
    "#  Mysql无法远程访问"
   ]
  },
  {
   "cell_type": "markdown",
   "metadata": {},
   "source": [
    "在使用navicat远程连接阿里云的时候，出现“2003 can t connect to mysql server on 10061”错误"
   ]
  },
  {
   "cell_type": "markdown",
   "metadata": {},
   "source": [
    "经过艰难的谷歌百度stackflow后，发现是3306端口没有监听外部连接，只接收内部ip访问。"
   ]
  },
  {
   "cell_type": "markdown",
   "metadata": {},
   "source": [
    "### 解决方案\n",
    "1. 首先保证阿里云服务器3306端口开放\n",
    "2. 使用netstat -ntpl |grep 3306命令查看3306端口状态\n",
    " tcp        0      0 127.0.0.1:22                  0.0.0.0:*                   LISTEN      -   \n",
    " 可看出只接收内部访问  \n",
    "3. 打开/etc/mysql/mysql.conf.d/mysqld.cnf(网上大部分说是:/etc/mysql/my.cnf)\n",
    "将bind-address  = 127.0.0.1改成bind-address  = 0.0.0.0\n",
    "4. 再次使用netstat -ntpl |grep 3306命令查看\n",
    "tcp        0      0 0.0.0.0:22                  0.0.0.0:*                   LISTEN      -  \n",
    "此时3306端口开始监听所有网络访问"
   ]
  }
 ],
 "metadata": {
  "kernelspec": {
   "display_name": "Python 3",
   "language": "python",
   "name": "python3"
  },
  "language_info": {
   "codemirror_mode": {
    "name": "ipython",
    "version": 3
   },
   "file_extension": ".py",
   "mimetype": "text/x-python",
   "name": "python",
   "nbconvert_exporter": "python",
   "pygments_lexer": "ipython3",
   "version": "3.7.2"
  }
 },
 "nbformat": 4,
 "nbformat_minor": 2
}
