{
 "cells": [
  {
   "cell_type": "markdown",
   "metadata": {},
   "source": [
    "# pm2的使用"
   ]
  },
  {
   "cell_type": "markdown",
   "metadata": {},
   "source": [
    "PM2 Runtime是具有内置Load Balancer的Node.js应用程序的生产过程管理器。它允许您永久保持应用程序的活动，无需停机即可重新加载它们，并促进常见的Devops任务。"
   ]
  },
  {
   "cell_type": "markdown",
   "metadata": {},
   "source": [
    "## 对于ipv4主机"
   ]
  },
  {
   "cell_type": "markdown",
   "metadata": {},
   "source": [
    "* 用户名： lc\n",
    "* 密码： Lichang1-  \n",
    "\n",
    "登录后使用以下命令查看当前后台进程状态  \n",
    "```bash\n",
    "pm2 ls \n",
    "```\n",
    "若status为online，则表明脚本运行正常，若为其他状态，则说明出现错误或异常，可用以下命令停止脚本运行\n",
    "```bash\n",
    "pm2 stop 0\n",
    "```\n",
    "然后使用以下命令查看日志\n",
    "```bash\n",
    "cat server.log\n",
    "```   \n",
    "从日志中可获取错误信息或其他提示。\n",
    "\n",
    "若脚本一切正常，可直接进入数据库查看数据。\n",
    "\n",
    "**注意：注销登录前请使用```pm2 start server.sh```命令重新启动脚本！！！**"
   ]
  },
  {
   "cell_type": "markdown",
   "metadata": {},
   "source": [
    "## 对于ipv6主机 "
   ]
  },
  {
   "cell_type": "markdown",
   "metadata": {},
   "source": [
    "* 用户名： ubuntu\n",
    "* 密码： ahnu2019\n",
    "\n",
    "登录后使用以下命令查看当前后台进程状态  \n",
    "```bash\n",
    "pm2 ls \n",
    "```\n",
    "若status为online，则表明脚本运行正常，若为其他状态，则说明出现错误或异常，可用以下命令停止脚本运行\n",
    "```bash\n",
    "pm2 stop 1\n",
    "```\n",
    "然后使用以下命令查看日志\n",
    "```bash\n",
    "cat server.log\n",
    "```   \n",
    "从日志中可获取错误信息或其他提示。\n",
    "\n",
    "若脚本一切正常，可直接进入数据库查看数据。\n",
    "\n",
    "**注意：注销登录前请使用```pm2 start server.sh```命令重新启动脚本！！！**"
   ]
  }
 ],
 "metadata": {
  "kernelspec": {
   "display_name": "Python 3",
   "language": "python",
   "name": "python3"
  },
  "language_info": {
   "codemirror_mode": {
    "name": "ipython",
    "version": 3
   },
   "file_extension": ".py",
   "mimetype": "text/x-python",
   "name": "python",
   "nbconvert_exporter": "python",
   "pygments_lexer": "ipython3",
   "version": "3.7.2"
  }
 },
 "nbformat": 4,
 "nbformat_minor": 2
}
