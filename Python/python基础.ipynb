{
 "cells": [
  {
   "cell_type": "markdown",
   "metadata": {},
   "source": [
    "## 1、python与其他语言的对比（hello world） "
   ]
  },
  {
   "cell_type": "markdown",
   "metadata": {},
   "source": [
    "> C语言  \n",
    "\n",
    "```C\n",
    "include<stdio.h>\n",
    "int main()\n",
    "{\n",
    "    printf(\"hello world\");\n",
    "    return 0;\n",
    "}\n",
    "```"
   ]
  },
  {
   "cell_type": "markdown",
   "metadata": {},
   "source": [
    "> Java语言  \n",
    "\n",
    "```java\n",
    "public class HelloWorld{ \n",
    "    public static void main(String[] args) {  \n",
    "        System.out.println(\"Hello World!\"); \n",
    "    }\n",
    "}\n",
    "```"
   ]
  },
  {
   "cell_type": "markdown",
   "metadata": {},
   "source": [
    "> Python  \n",
    "\n",
    "```python\n",
    "print('hello world')\n",
    "```"
   ]
  },
  {
   "cell_type": "markdown",
   "metadata": {},
   "source": [
    "## 2、python中的常用数据类型 "
   ]
  },
  {
   "cell_type": "markdown",
   "metadata": {},
   "source": [
    "* Number  \n",
    "* String\n",
    "* List\n",
    "* Tuple\n",
    "* Dictionary"
   ]
  },
  {
   "cell_type": "code",
   "execution_count": 3,
   "metadata": {},
   "outputs": [],
   "source": [
    "# Number\n",
    "a = 1\n",
    "b = True\n",
    "c = 3.15\n",
    "d = 1.1+2.2j"
   ]
  },
  {
   "cell_type": "code",
   "execution_count": 14,
   "metadata": {},
   "outputs": [
    {
     "name": "stdout",
     "output_type": "stream",
     "text": [
      "True\n",
      "helloworld\n",
      "hello \n",
      " world\n",
      "hello \\n world\n",
      "str1:hello.\n",
      "ell\n"
     ]
    }
   ],
   "source": [
    "# 字符串\n",
    "str1 = 'hello'\n",
    "str1_1 = \"hello\"\n",
    "str2 = \"world\"\n",
    "print(str1==str1_1)\n",
    "\n",
    "# 字符串连接\n",
    "str3 = str1 + str2\n",
    "print(str3)\n",
    "\n",
    "# 转义字符\n",
    "str4 = 'hello \\n world'\n",
    "print(str4)\n",
    "str5 = 'hello \\\\n world'\n",
    "print(str5)\n",
    "\n",
    "# 格式化输出\n",
    "print('str1:%s.'%str1)\n",
    "\n",
    "# 切片\n",
    "print(str1[1:4])"
   ]
  },
  {
   "cell_type": "code",
   "execution_count": 41,
   "metadata": {},
   "outputs": [
    {
     "name": "stdout",
     "output_type": "stream",
     "text": [
      "google\n",
      "['google', 'alibaba', 'baidu', 3.14]\n",
      "['google', 'alibaba', 'baidu']\n",
      "['google', 'alibaba', 'baidu', 'microsoft', 'amazon']\n",
      "['google', 'alibaba', 'baidu', 'jingdong']\n"
     ]
    }
   ],
   "source": [
    "# 列表\n",
    "list1 = ['google', 'alibaba', 2001, 3.14]\n",
    "\n",
    "# 通过下标访问\n",
    "print(list1[0])\n",
    "\n",
    "# 更新列表\n",
    "list1[2] = 'baidu'\n",
    "print(list1)\n",
    "\n",
    "# 删除元素\n",
    "del list1[3]\n",
    "print(list1)\n",
    "\n",
    "# 拼接列表\n",
    "list2 = ['microsoft', 'amazon']\n",
    "list3 = list1 + list2\n",
    "print(list3)\n",
    "\n",
    "# 增添列表项\n",
    "list1.append('jingdong')\n",
    "print(list1)"
   ]
  },
  {
   "cell_type": "code",
   "execution_count": 23,
   "metadata": {},
   "outputs": [
    {
     "ename": "TypeError",
     "evalue": "'tuple' object does not support item assignment",
     "output_type": "error",
     "traceback": [
      "\u001b[0;31m---------------------------------------------------------------------------\u001b[0m",
      "\u001b[0;31mTypeError\u001b[0m                                 Traceback (most recent call last)",
      "\u001b[0;32m<ipython-input-23-4ed3e334c834>\u001b[0m in \u001b[0;36m<module>\u001b[0;34m\u001b[0m\n\u001b[1;32m      1\u001b[0m \u001b[0;31m# 元组：类似列表,是一系列元素的有序集合,但元组中的元素无法修改\u001b[0m\u001b[0;34m\u001b[0m\u001b[0;34m\u001b[0m\u001b[0;34m\u001b[0m\u001b[0m\n\u001b[1;32m      2\u001b[0m \u001b[0mtuple1\u001b[0m \u001b[0;34m=\u001b[0m \u001b[0;34m(\u001b[0m\u001b[0;34m'google'\u001b[0m\u001b[0;34m,\u001b[0m \u001b[0;34m'alibaba'\u001b[0m\u001b[0;34m,\u001b[0m \u001b[0;34m'baidu'\u001b[0m\u001b[0;34m)\u001b[0m\u001b[0;34m\u001b[0m\u001b[0;34m\u001b[0m\u001b[0m\n\u001b[0;32m----> 3\u001b[0;31m \u001b[0mtuple1\u001b[0m\u001b[0;34m[\u001b[0m\u001b[0;36m0\u001b[0m\u001b[0;34m]\u001b[0m \u001b[0;34m=\u001b[0m \u001b[0;34m'amazon'\u001b[0m\u001b[0;34m\u001b[0m\u001b[0;34m\u001b[0m\u001b[0m\n\u001b[0m",
      "\u001b[0;31mTypeError\u001b[0m: 'tuple' object does not support item assignment"
     ]
    }
   ],
   "source": [
    "# 元组：类似列表,是一系列元素的有序集合,但元组中的元素无法修改\n",
    "tuple1 = ('google', 'alibaba', 'baidu')\n",
    "tuple1[0] = 'amazon' # 不能被改变"
   ]
  },
  {
   "cell_type": "code",
   "execution_count": 25,
   "metadata": {},
   "outputs": [
    {
     "name": "stdout",
     "output_type": "stream",
     "text": [
      "green\n",
      "{'color': 'green', 'points': 5, 'x_pos': 0, 'y_pos': 4}\n"
     ]
    }
   ],
   "source": [
    "# 字典\n",
    "dict1 = {\n",
    "         'color': 'green', \n",
    "         'points': 5\n",
    "}\n",
    "\n",
    "# 访问列表中的值\n",
    "print(dict1['color'])\n",
    "\n",
    "# 增加字典中键值对\n",
    "dict1['x_pos'] = 0\n",
    "dict1['y_pos']  =4\n",
    "print(dict1)"
   ]
  },
  {
   "cell_type": "markdown",
   "metadata": {},
   "source": [
    "## 3、python中的结构语句 "
   ]
  },
  {
   "cell_type": "markdown",
   "metadata": {},
   "source": [
    "### 3.1、if条件语句 "
   ]
  },
  {
   "cell_type": "code",
   "execution_count": 27,
   "metadata": {},
   "outputs": [
    {
     "name": "stdout",
     "output_type": "stream",
     "text": [
      "Bmw\n"
     ]
    }
   ],
   "source": [
    "car = 'bmw'\n",
    "if car == 'bmw':\n",
    "    print(car.upper()) # 输出car的大写版本\n",
    "else:\n",
    "    print(car.title()) # 输出car的标题版本"
   ]
  },
  {
   "cell_type": "markdown",
   "metadata": {},
   "source": [
    "现实世界中,很多情况下需要考虑的情形都超过两个。例如,来看一个根据年龄段收费的\n",
    "游乐场:\n",
    "* 4岁以下免费;\n",
    "* 4~18岁收费5美元;\n",
    "* 18岁(含)以上收费10美元。  \n",
    "\n",
    "> 如果只使用一条 if 语句,如何确定门票价格呢?下面的代码确定一个人所属的年龄段,并打印一条包含门票价格的消息:"
   ]
  },
  {
   "cell_type": "code",
   "execution_count": 28,
   "metadata": {},
   "outputs": [
    {
     "name": "stdout",
     "output_type": "stream",
     "text": [
      "Your admission cost is $5.\n"
     ]
    }
   ],
   "source": [
    "age = 12\n",
    "if age < 4:\n",
    "    print(\"Your admission cost is $0.\")\n",
    "elif age < 18:\n",
    "    print(\"Your admission cost is $5.\")\n",
    "else:\n",
    "    print(\"Your admission cost is $10.\")"
   ]
  },
  {
   "cell_type": "markdown",
   "metadata": {},
   "source": [
    "### 3.2、for循环语句 "
   ]
  },
  {
   "cell_type": "code",
   "execution_count": 30,
   "metadata": {},
   "outputs": [
    {
     "name": "stdout",
     "output_type": "stream",
     "text": [
      "当前水果：banana\n",
      "当前水果：apple\n",
      "当前水果：mango\n"
     ]
    }
   ],
   "source": [
    "fruits = ['banana', 'apple', 'mango']\n",
    "for fruit in fruits:\n",
    "    print('当前水果：%s'%fruit)"
   ]
  },
  {
   "cell_type": "code",
   "execution_count": 33,
   "metadata": {},
   "outputs": [
    {
     "name": "stdout",
     "output_type": "stream",
     "text": [
      "1\n",
      "2\n",
      "3\n",
      "4\n",
      "5\n"
     ]
    }
   ],
   "source": [
    "# range 步长为1\n",
    "for i in range(0, 6):\n",
    "    print(i)"
   ]
  },
  {
   "cell_type": "code",
   "execution_count": 34,
   "metadata": {},
   "outputs": [
    {
     "name": "stdout",
     "output_type": "stream",
     "text": [
      "0\n",
      "2\n",
      "4\n"
     ]
    }
   ],
   "source": [
    "# range 步长为2\n",
    "for i in range(0, 6, 2):\n",
    "    print(i)"
   ]
  },
  {
   "cell_type": "code",
   "execution_count": 40,
   "metadata": {},
   "outputs": [
    {
     "name": "stdout",
     "output_type": "stream",
     "text": [
      "0\n",
      "1\n",
      "2\n",
      "01245"
     ]
    }
   ],
   "source": [
    "# break 和 continue\n",
    "for i in range(0, 6):\n",
    "    if i == 3:\n",
    "        break\n",
    "    print(i)\n",
    "\n",
    "for i in range(0, 6):\n",
    "    if i == 3:\n",
    "        continue\n",
    "    print(i, end='')"
   ]
  },
  {
   "cell_type": "markdown",
   "metadata": {},
   "source": [
    "### 3.3、while循环语句"
   ]
  },
  {
   "cell_type": "code",
   "execution_count": 42,
   "metadata": {},
   "outputs": [
    {
     "name": "stdout",
     "output_type": "stream",
     "text": [
      "1\n",
      "2\n",
      "3\n",
      "4\n",
      "5\n"
     ]
    }
   ],
   "source": [
    "# while循环\n",
    "current_number = 1\n",
    "while current_number <= 5:\n",
    "    print(current_number)\n",
    "    current_number += 1"
   ]
  },
  {
   "cell_type": "markdown",
   "metadata": {},
   "source": [
    "### 3.4、函数 "
   ]
  },
  {
   "cell_type": "code",
   "execution_count": 45,
   "metadata": {},
   "outputs": [
    {
     "name": "stdout",
     "output_type": "stream",
     "text": [
      "Hello, Jesse!\n",
      "Hello, Jack!\n"
     ]
    }
   ],
   "source": [
    "def greet_user(username):\n",
    "    \"\"\" 显示简单的问候语 \"\"\"\n",
    "    print(\"Hello, \" + username.title() + \"!\")\n",
    "\n",
    "greet_user('jesse')\n",
    "greet_user('jack')"
   ]
  },
  {
   "cell_type": "code",
   "execution_count": 55,
   "metadata": {},
   "outputs": [
    {
     "name": "stdout",
     "output_type": "stream",
     "text": [
      "第一个函数：5\n",
      "第二个函数：10\n",
      "第三个函数, 最大值：4, 最小值：1\n"
     ]
    }
   ],
   "source": [
    "# 有返回值的函数\n",
    "def add(a, b):\n",
    "    return a+b\n",
    "print('第一个函数：%d'%add(2, 3))\n",
    "\n",
    "# 列表作为参数的函数\n",
    "def add_l(mylist):\n",
    "    result = 0\n",
    "    for l in mylist:\n",
    "        result += l\n",
    "    return result\n",
    "print('第二个函数：%d'%add_l([1, 2, 3, 4]))\n",
    "\n",
    "# 有多个返回值的函数\n",
    "def muti_re(mylist):\n",
    "    a = max(mylist)\n",
    "    b = min(mylist)\n",
    "    return a, b\n",
    "a, b = muti_re([1, 2, 3, 4])\n",
    "print('第三个函数, 最大值：%d, 最小值：%d'%(a,b))"
   ]
  },
  {
   "cell_type": "markdown",
   "metadata": {},
   "source": [
    "有时候,你预先不知道函数需要接受多少个实参, 但是Python允许函数从调用语句中收集任意数量的实参。  \n",
    "> 例如,来看一个制作比萨的函数,它需要接受很多配料,但你无法预先确定顾客要多少种配\n",
    "料。下面的函数只有一个形参 *toppings ,但不管调用语句提供了多少实参,这个形参都将它们\n",
    "统统收入囊中:"
   ]
  },
  {
   "cell_type": "code",
   "execution_count": 2,
   "metadata": {},
   "outputs": [
    {
     "name": "stdout",
     "output_type": "stream",
     "text": [
      "('pepperoni',)\n",
      "('mushrooms', 'green peppers', 'extra cheese')\n"
     ]
    }
   ],
   "source": [
    "def make_pizza(*toppings):\n",
    "    print(toppings)\n",
    "make_pizza('pepperoni')\n",
    "make_pizza('mushrooms', 'green peppers', 'extra cheese')"
   ]
  },
  {
   "cell_type": "markdown",
   "metadata": {},
   "source": [
    "### 3.5、类 "
   ]
  },
  {
   "cell_type": "markdown",
   "metadata": {},
   "source": [
    "  面向对象编程是最有效的软件编写方法之一。在面向对象编程中,\n",
    "你编写表示现实世界中的事物和情景的类,并基于这些类来创建对象。\n",
    "编写类时,你定义一大类对象都有的通用行为。基于类创建对象时,\n",
    "每个对象都自动具备这种通用行为,然后可根据需要赋予每个对象独\n",
    "特的个性。使用面向对象编程可模拟现实情景,其逼真程度达到了令\n",
    "你惊讶的地步。\n",
    "  根据类来创建对象被称为实例化,这让你能够使用类的实例。在\n",
    "本章中,你将编写一些类并创建其实例。你将指定可在实例中存储什\n",
    "么信息,定义可对这些实例执行哪些操作。你还将编写一些类来扩展\n",
    "既有类的功能,让相似的类能够高效地共享代码。你将把自己编写的类存储在模块中,并在\n",
    "自己的程序文件中导入其他程序员编写的类"
   ]
  },
  {
   "cell_type": "markdown",
   "metadata": {},
   "source": [
    "使用类几乎可以模拟任何东西。下面来编写一个表示小狗的简单类 Dog ——它表示的不是特\n",
    "定的小狗,而是任何小狗。对于大多数宠物狗,我们都知道些什么呢?它们都有名字和年龄;我\n",
    "们还知道,大多数小狗还会蹲下和打滚。由于大多数小狗都具备上述两项信息(名字和年龄)和\n",
    "两种行为(蹲下和打滚),我们的 Dog 类将包含它们。这个类让Python知道如何创建表示小狗的对\n",
    "象。编写这个类后,我们将使用它来创建表示特定小狗的实例。 "
   ]
  },
  {
   "cell_type": "code",
   "execution_count": 11,
   "metadata": {},
   "outputs": [],
   "source": [
    "# 创建类\n",
    "class Dog():\n",
    "    def __init__(self, name, age):\n",
    "        self.name = name\n",
    "        self.age = age \n",
    "        \n",
    "    def sit(self):\n",
    "        print(self.name.title() + \" is now sitting.\") \n",
    "        \n",
    "    def roll_over(self):\n",
    "        print(self.name.title() + \" rolled over!\")对字符串的大小写进行更改"
   ]
  },
  {
   "cell_type": "markdown",
   "metadata": {},
   "source": [
    "类中的函数称为方法;你前面学到的有关函数的一切都适用于方法,就目前而言,唯一重要\n",
    "的差别是调用方法的方式。方法 __init__() 是一个特殊的方法,每当你根据 Dog 类创建新实\n",
    "例时,Python都会自动运行它。在这个方法的名称中,开头和末尾各有两个下划线,这是一种约\n",
    "定,旨在避免Python默认方法与普通方法发生名称冲突。"
   ]
  },
  {
   "cell_type": "code",
   "execution_count": 12,
   "metadata": {},
   "outputs": [
    {
     "name": "stdout",
     "output_type": "stream",
     "text": [
      "My dog's name is Willie.\n",
      "My dog is 6 years old.\n"
     ]
    }
   ],
   "source": [
    "# 根据类创建实例\n",
    "my_dog = Dog('willie', 6)\n",
    "print(\"My dog's name is \" + my_dog.name.title() + \".\")\n",
    "print(\"My dog is \" + str(my_dog.age) + \" years old.\")"
   ]
  },
  {
   "cell_type": "code",
   "execution_count": 13,
   "metadata": {},
   "outputs": [
    {
     "data": {
      "text/plain": [
       "'willie'"
      ]
     },
     "execution_count": 13,
     "metadata": {},
     "output_type": "execute_result"
    }
   ],
   "source": [
    "# 访问类的属性\n",
    "my_dog.name"
   ]
  },
  {
   "cell_type": "code",
   "execution_count": 14,
   "metadata": {},
   "outputs": [
    {
     "name": "stdout",
     "output_type": "stream",
     "text": [
      "Willie is now sitting.\n",
      "Willie rolled over!\n"
     ]
    }
   ],
   "source": [
    "# 调用类的方法\n",
    "my_dog.sit()\n",
    "my_dog.roll_over()"
   ]
  },
  {
   "cell_type": "markdown",
   "metadata": {},
   "source": [
    "## 4、对字符串的一些操作 "
   ]
  },
  {
   "cell_type": "markdown",
   "metadata": {},
   "source": [
    "### 4.1、对字符串的大小写进行更改"
   ]
  },
  {
   "cell_type": "code",
   "execution_count": 16,
   "metadata": {},
   "outputs": [
    {
     "name": "stdout",
     "output_type": "stream",
     "text": [
      "Ada Lovelace\n",
      "ADA LOVELACE\n",
      "ada lovelace\n"
     ]
    }
   ],
   "source": [
    "# 对字符串的大小写进行更改\n",
    "name = \"ada lovelace\"\n",
    "print(name.title())\n",
    "\n",
    "name = \"Ada Lovelace\"\n",
    "print(name.upper())\n",
    "print(name.lower())"
   ]
  },
  {
   "cell_type": "markdown",
   "metadata": {},
   "source": [
    "### 4.2、合并/拼接字符串"
   ]
  },
  {
   "cell_type": "code",
   "execution_count": 17,
   "metadata": {},
   "outputs": [
    {
     "name": "stdout",
     "output_type": "stream",
     "text": [
      "ada lovelace\n"
     ]
    }
   ],
   "source": [
    "first_name = \"ada\"\n",
    "last_name = \"lovelace\"\n",
    "full_name = first_name + \" \" + last_name\n",
    "print(full_name)\n"
   ]
  },
  {
   "cell_type": "markdown",
   "metadata": {},
   "source": [
    "### 4.3、使用制表符或换行符来添加空白"
   ]
  },
  {
   "cell_type": "code",
   "execution_count": 18,
   "metadata": {},
   "outputs": [
    {
     "name": "stdout",
     "output_type": "stream",
     "text": [
      "\tPython\n",
      "Languages:\n",
      "Python\n",
      "C\n",
      "JavaScript\n"
     ]
    }
   ],
   "source": [
    "print(\"\\tPython\")\n",
    "print(\"Languages:\\nPython\\nC\\nJavaScript\")"
   ]
  },
  {
   "cell_type": "markdown",
   "metadata": {},
   "source": [
    "### 4.4、删除空白 "
   ]
  },
  {
   "cell_type": "code",
   "execution_count": 21,
   "metadata": {},
   "outputs": [
    {
     "data": {
      "text/plain": [
       "'python '"
      ]
     },
     "execution_count": 21,
     "metadata": {},
     "output_type": "execute_result"
    }
   ],
   "source": [
    "favorite_language = ' python '\n",
    "# 删除末尾的空白\n",
    "favorite_language.rstrip()\n",
    "# 删除开头的空白\n",
    "favorite_language.lstrip()"
   ]
  },
  {
   "cell_type": "markdown",
   "metadata": {},
   "source": [
    "### 4.5、字符串分割 "
   ]
  },
  {
   "cell_type": "code",
   "execution_count": 25,
   "metadata": {},
   "outputs": [
    {
     "name": "stdout",
     "output_type": "stream",
     "text": [
      "['python', 'C', 'JAVA', 'PHP', 'MATLAB']\n",
      "python\n",
      "h\n"
     ]
    }
   ],
   "source": [
    "my_languages = 'python,C,JAVA,PHP,MATLAB'\n",
    "languages_list = my_languages.split(',')\n",
    "print(languages_list)\n",
    "print(languages_list[0])\n",
    "print(languages_list[0][3])"
   ]
  },
  {
   "cell_type": "markdown",
   "metadata": {},
   "source": [
    "##  习题"
   ]
  },
  {
   "cell_type": "markdown",
   "metadata": {},
   "source": [
    "### 1、打印出99乘法表 "
   ]
  },
  {
   "cell_type": "markdown",
   "metadata": {},
   "source": [
    "### 2、判断是否是闰年"
   ]
  },
  {
   "cell_type": "markdown",
   "metadata": {},
   "source": [
    "### 3、编写Python程序计算斐波那契数列，要求：输入序号n，输出数列的第n项，数列的计算用函数实现"
   ]
  },
  {
   "cell_type": "markdown",
   "metadata": {},
   "source": [
    "### 4、使用面向对象的思想， 创建一个名为 User 的类,其中包含属性 first_name 和 last_name ,还有用户简介通常会存储的其他几个属性。在类 User 中定义一个名为 describe_user() 的方法,它打印用户信息摘要;再定义一个名为 greet_user() 的方法,它向用户发出个性化的问候。\n",
    "### 创建多个表示不同用户的实例,并对每个实例都调用上述两个方法。"
   ]
  }
 ],
 "metadata": {
  "kernelspec": {
   "display_name": "Python 3",
   "language": "python",
   "name": "python3"
  },
  "language_info": {
   "codemirror_mode": {
    "name": "ipython",
    "version": 3
   },
   "file_extension": ".py",
   "mimetype": "text/x-python",
   "name": "python",
   "nbconvert_exporter": "python",
   "pygments_lexer": "ipython3",
   "version": "3.7.2"
  }
 },
 "nbformat": 4,
 "nbformat_minor": 2
}
