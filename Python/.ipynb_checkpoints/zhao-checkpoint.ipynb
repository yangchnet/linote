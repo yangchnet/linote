{
 "cells": [
  {
   "cell_type": "code",
   "execution_count": 44,
   "metadata": {},
   "outputs": [
    {
     "name": "stdout",
     "output_type": "stream",
     "text": [
      "0:00:02.465000\n",
      "0:00:02.243000\n"
     ]
    }
   ],
   "source": [
    "import datetime\n",
    "f1 = open('./1.txt', 'r')\n",
    "f2 = open('./2.txt', 'r')\n",
    "time1 = []\n",
    "time2 = []\n",
    "for l in f1.readlines():\n",
    "    if l[0] == '[':\n",
    "        l_12 = l[1:12] + str(int(l[12:14]) % 12) + l[14:24]\n",
    "#         print(l_12)\n",
    "        time1.append(l_12)\n",
    "for l in f2.readlines():\n",
    "    time2.append(l[-25:-2])\n",
    "    \n",
    "datetime1 = datetime.datetime.strptime(time1[0], \"%Y-%m-%d %H:%M:%S.%f\")\n",
    "datetime2 = datetime.datetime.strptime(time2[0], \"%Y-%m-%d %H:%M:%S.%f\")\n",
    "sumtime = datetime1 - datetime2\n",
    "for i in range(1, len(time1)): \n",
    "    if i % 100 == 0:\n",
    "        print(sumtime)\n",
    "        datetime1 = datetime.datetime.strptime(time1[i], \"%Y-%m-%d %H:%M:%S.%f\")\n",
    "        datetime2 = datetime.datetime.strptime(time2[i], \"%Y-%m-%d %H:%M:%S.%f\")\n",
    "        sumtime = datetime1 - datetime2\n",
    "    datetime1 = datetime.datetime.strptime(time1[i], \"%Y-%m-%d %H:%M:%S.%f\")\n",
    "    datetime2 = datetime.datetime.strptime(time2[i], \"%Y-%m-%d %H:%M:%S.%f\")\n",
    "    sumtime += datetime1 - datetime2\n",
    "print(sumtime)\n"
   ]
  }
 ],
 "metadata": {
  "kernelspec": {
   "display_name": "Python 3",
   "language": "python",
   "name": "python3"
  },
  "language_info": {
   "codemirror_mode": {
    "name": "ipython",
    "version": 3
   },
   "file_extension": ".py",
   "mimetype": "text/x-python",
   "name": "python",
   "nbconvert_exporter": "python",
   "pygments_lexer": "ipython3",
   "version": "3.7.2"
  }
 },
 "nbformat": 4,
 "nbformat_minor": 2
}
