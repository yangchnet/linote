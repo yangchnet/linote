{
 "cells": [
  {
   "cell_type": "code",
   "execution_count": 4,
   "metadata": {},
   "outputs": [
    {
     "name": "stdout",
     "output_type": "stream",
     "text": [
      "开始模拟登录\n",
      "statusCode = 200\n",
      "text = \n"
     ]
    }
   ],
   "source": [
    "import requests\n",
    "\n",
    "userAgent = \"Mozilla/5.0 (X11; Linux x86_64) AppleWebKit/537.36 (KHTML, like Gecko) Chrome/73.0.3683.86 Safari/537.36\"\n",
    "header = {\n",
    "    \"Referer\": \"http://libzwxt.ahnu.edu.cn/SeatManage/Default.aspx\",\n",
    "    'User-Agent': userAgent,\n",
    "}\n",
    "\n",
    "def Login(account, password):\n",
    "    # 模仿登录\n",
    "    print (\"开始模拟登录\")\n",
    "\n",
    "    postUrl = \"http://libzwxt.ahnu.edu.cn/SeatManage/Default.aspx\"\n",
    "    postData = {\n",
    "        '__EVENTTARGET': '',\n",
    "        '__EVENTARGUMENT': '',\n",
    "        '__VIEWSTATE': '/wEPDwUKLTkzMDA3Nzc0NQ9kFgJmD2QWAgIDD2QWBAIBD2QWAgIRDw8WAh4EVGV4dAUh5qyi6L+O5L2/55So5bqn5L2N6aKE57qm57O757uf77yBZGQCAw8PFgIfAAWKBDxwIHN0eWxlPSJ0ZXh0LWFsaWduOiBjZW50ZXI7Ij4NCgk8c3BhbiBzdHlsZT0iY29sb3I6IHJnYigxMjcsIDEyNywgMTI3KTsgZm9udC1mYW1pbHk6IOWui+S9kzsgdGV4dC1hbGlnbjogY2VudGVyOyI+54mI5p2D5omA5pyJPC9zcGFuPjxzcGFuIGNsYXNzPSJTVFlMRTEiIHN0eWxlPSJtYXJnaW46IDBweDsgcGFkZGluZzogMHB4OyBib3JkZXI6IDBweDsgb3V0bGluZTogcmdiKDAsIDAsIDApOyBmb250LWZhbWlseTog5a6L5L2TOyBjb2xvcjogcmdiKDEyNywgMTI3LCAxMjcpOyB0ZXh0LWFsaWduOiBjZW50ZXI7Ij4mY29weTs8L3NwYW4+PHNwYW4gc3R5bGU9ImNvbG9yOiByZ2IoMTI3LCAxMjcsIDEyNyk7IGZvbnQtZmFtaWx5OiDlrovkvZM7IHRleHQtYWxpZ246IGNlbnRlcjsiPuWNl+S6rOWNk+mjnuenkeaKgOaciemZkOWFrOWPuDwvc3Bhbj48YnIgc3R5bGU9ImNvbG9yOiByZ2IoMTI3LCAxMjcsIDEyNyk7IGZvbnQtZmFtaWx5OiDlrovkvZM7IHRleHQtYWxpZ246IGNlbnRlcjsiIC8+DQoJJm5ic3A7PC9wPmRkZIYAS1HfSoVhdqiTiErq5+kJ2kDvY1ZaMoeLHguq0xic',\n",
    "        '__VIEWSTATEGENERATOR': '8B81F21A',\n",
    "        '__EVENTVALIDATION': '/wEWBQLP1IusCQKYtLi6AQLP4+vPAgKSzO26AwL40JWiClm2JjH+oZlcHgJp0SLgeCRUVVemYqLfsq+Q7b9Au+EU',\n",
    "        'ctl00$ContentPlaceHolder1$txtLoginName' : '16111206015',\n",
    "        'ctl00$ContentPlaceHolder1$txtLoginPwd' : '341321199811025518',\n",
    "        'ctl00$ContentPlaceHolder1$txtCode' : '8D20S',\n",
    "        'ctl00$ContentPlaceHolder1$btnSubmit' : '登录',\n",
    "    }\n",
    "    responseRes = requests.post(postUrl, data = postData, headers = header)\n",
    "    # 无论是否登录成功，状态码一般都是 statusCode = 200\n",
    "    print(f\"statusCode = {responseRes.status_code}\")\n",
    "    print(f\"text = {responseRes.text}\")\n",
    "\n",
    "Login(\"16111206015\", \"341321199811025518\")"
   ]
  },
  {
   "cell_type": "code",
   "execution_count": 16,
   "metadata": {},
   "outputs": [],
   "source": [
    "from PIL import Image\n",
    "from io import BytesIO\n",
    "userAgent = \"Mozilla/5.0 (X11; Linux x86_64) AppleWebKit/537.36 (KHTML, like Gecko) Chrome/73.0.3683.86 Safari/537.36\"\n",
    "header = {\n",
    "    \"Referer\": \"http://libzwxt.ahnu.edu.cn/SeatManage/Default.aspx\",\n",
    "    'User-Agent': userAgent,\n",
    "}\n",
    "context = {'t': '1562497328602'}\n",
    "r = requests.get('http://libzwxt.ahnu.edu.cn/SeatManage/Handler/WaterMark.ashx', params=context)\n",
    "# r.text\n",
    "i = Image.open(BytesIO(r.content))\n",
    "i.save('11.gif')"
   ]
  },
  {
   "cell_type": "code",
   "execution_count": 17,
   "metadata": {},
   "outputs": [
    {
     "data": {
      "text/plain": [
       "''"
      ]
     },
     "execution_count": 17,
     "metadata": {},
     "output_type": "execute_result"
    }
   ],
   "source": [
    "from PIL import Image\n",
    "import pytesseract\n",
    "\n",
    "image=Image.open('11.gif')\n",
    "image.save('2.png')\n",
    "# print(image)\n",
    "# code = pytesseract.image_to_string(Image.open('2.png'))\n",
    "code = pytesseract.image_to_string(image)\n",
    "code"
   ]
  },
  {
   "cell_type": "code",
   "execution_count": 1,
   "metadata": {},
   "outputs": [],
   "source": [
    "import urllib.request\n",
    "import random\n",
    "\n",
    "\n",
    "def downloader(image_url):\n",
    "    file_name = random.randrange(1,10000)\n",
    "    full_file_name = str(file_name) + '.gif'\n",
    "    urllib.request.urlretrieve(image_url,full_file_name)\n",
    "\n",
    "\n",
    "downloader('http://libzwxt.ahnu.edu.cn/SeatManage/Handler/WaterMark.ashx')"
   ]
  }
 ],
 "metadata": {
  "kernelspec": {
   "display_name": "Python 3",
   "language": "python",
   "name": "python3"
  },
  "language_info": {
   "codemirror_mode": {
    "name": "ipython",
    "version": 3
   },
   "file_extension": ".py",
   "mimetype": "text/x-python",
   "name": "python",
   "nbconvert_exporter": "python",
   "pygments_lexer": "ipython3",
   "version": "3.7.2"
  }
 },
 "nbformat": 4,
 "nbformat_minor": 2
}
