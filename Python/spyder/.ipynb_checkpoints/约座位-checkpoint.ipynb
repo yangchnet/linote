{
 "cells": [
  {
   "cell_type": "markdown",
   "metadata": {},
   "source": [
    "### 模拟登陆"
   ]
  },
  {
   "cell_type": "code",
   "execution_count": 1,
   "metadata": {},
   "outputs": [],
   "source": [
    "import requests\n",
    "\n",
    "def login(account, password, code):\n",
    "    # 模仿登录\n",
    "    print (\"开始模拟登录\")\n",
    "    print(code)\n",
    "    header = {\n",
    "        \"Referer\": \"http://libzwxt.ahnu.edu.cn/SeatManage/Default.aspx\",\n",
    "        'User-Agent': \"Mozilla/5.0 (X11; Linux x86_64) AppleWebKit/537.36 (KHTML, like Gecko) Chrome/73.0.3683.86 Safari/537.36\",\n",
    "    }\n",
    "    postUrl = \"http://libzwxt.ahnu.edu.cn/SeatManage/Default.aspx\"\n",
    "    postData = {\n",
    "        '__EVENTTARGET': '',\n",
    "        '__EVENTARGUMENT': '',\n",
    "        '__VIEWSTATE': '/wEPDwUKLTkzMDA3Nzc0NQ9kFgJmD2QWAgIDD2QWBAIBD2QWAgIRDw8WAh4EVGV4dAUh5qyi6L+O5L2/55So5bqn5L2N6aKE57qm57O757uf77yBZGQCAw8PFgIfAAWKBDxwIHN0eWxlPSJ0ZXh0LWFsaWduOiBjZW50ZXI7Ij4NCgk8c3BhbiBzdHlsZT0iY29sb3I6IHJnYigxMjcsIDEyNywgMTI3KTsgZm9udC1mYW1pbHk6IOWui+S9kzsgdGV4dC1hbGlnbjogY2VudGVyOyI+54mI5p2D5omA5pyJPC9zcGFuPjxzcGFuIGNsYXNzPSJTVFlMRTEiIHN0eWxlPSJtYXJnaW46IDBweDsgcGFkZGluZzogMHB4OyBib3JkZXI6IDBweDsgb3V0bGluZTogcmdiKDAsIDAsIDApOyBmb250LWZhbWlseTog5a6L5L2TOyBjb2xvcjogcmdiKDEyNywgMTI3LCAxMjcpOyB0ZXh0LWFsaWduOiBjZW50ZXI7Ij4mY29weTs8L3NwYW4+PHNwYW4gc3R5bGU9ImNvbG9yOiByZ2IoMTI3LCAxMjcsIDEyNyk7IGZvbnQtZmFtaWx5OiDlrovkvZM7IHRleHQtYWxpZ246IGNlbnRlcjsiPuWNl+S6rOWNk+mjnuenkeaKgOaciemZkOWFrOWPuDwvc3Bhbj48YnIgc3R5bGU9ImNvbG9yOiByZ2IoMTI3LCAxMjcsIDEyNyk7IGZvbnQtZmFtaWx5OiDlrovkvZM7IHRleHQtYWxpZ246IGNlbnRlcjsiIC8+DQoJJm5ic3A7PC9wPmRkZIYAS1HfSoVhdqiTiErq5+kJ2kDvY1ZaMoeLHguq0xic',\n",
    "        '__VIEWSTATEGENERATOR': '8B81F21A',\n",
    "        '__EVENTVALIDATION': '/wEWBQLP1IusCQKYtLi6AQLP4+vPAgKSzO26AwL40JWiClm2JjH+oZlcHgJp0SLgeCRUVVemYqLfsq+Q7b9Au+EU',\n",
    "        'ctl00$ContentPlaceHolder1$txtLoginName' : account,\n",
    "        'ctl00$ContentPlaceHolder1$txtLoginPwd' : password,\n",
    "        'ctl00$ContentPlaceHolder1$txtCode' : code,\n",
    "        'ctl00$ContentPlaceHol1der1$btnSubmit' : '登录',\n",
    "    }\n",
    "#     print(postData)\n",
    "    login = requests.post(postUrl, data = postData, headers = header)\n",
    "    response = requests.get('http://libzwxt.ahnu.edu.cn/SeatManage/User/FloorList.aspx', cookies = login.cookies, headers = header)\n",
    "    # 无论是否登录成功，状态码一般都是 statusCode = 200\n",
    "    \n",
    "    print(f\"statusCode = {login.status_code}\")\n",
    "    return response.content\n",
    "#     print(f\"text = {responseRes.text}\")\n"
   ]
  },
  {
   "cell_type": "markdown",
   "metadata": {},
   "source": [
    "### 获取验证码"
   ]
  },
  {
   "cell_type": "code",
   "execution_count": 2,
   "metadata": {},
   "outputs": [],
   "source": [
    "# 获取验证码\n",
    "from PIL import Image\n",
    "from io import BytesIO\n",
    "import requests\n",
    "import pytesseract\n",
    "\n",
    "def getcode():\n",
    "    flag = 0\n",
    "    while flag == 0:\n",
    "        context = {'t': '1562497328602'}\n",
    "        r = requests.get('http://libzwxt.ahnu.edu.cn/SeatManage/Handler/WaterMark.ashx', params=context)\n",
    "        i = Image.open(BytesIO(r.content))\n",
    "        i.save('11.gif')\n",
    "        image=Image.open('11.gif')\n",
    "        code = pytesseract.image_to_string(image)\n",
    "        if len(code) > 0:\n",
    "            break\n",
    "        else:\n",
    "            continue\n",
    "    print(code)\n",
    "    return code\n",
    "# getcode()"
   ]
  },
  {
   "cell_type": "code",
   "execution_count": 13,
   "metadata": {},
   "outputs": [
    {
     "name": "stdout",
     "output_type": "stream",
     "text": [
      "OFSBG\n",
      "开始模拟登录\n",
      "OFSBG\n",
      "statusCode = 200\n"
     ]
    },
    {
     "data": {
      "text/plain": [
       "b'\\r\\n\\r\\n<!DOCTYPE html PUBLIC \"-//W3C//DTD XHTML 1.0 Transitional//EN\" \"http://www.w3.org/TR/xhtml1/DTD/xhtml1-transitional.dtd\">\\r\\n<html xmlns=\"http://www.w3.org/1999/xhtml\">\\r\\n<head><title>\\r\\n\\t\\xe5\\xba\\xa7\\xe4\\xbd\\x8d\\xe7\\xae\\xa1\\xe7\\x90\\x86\\xe7\\xb3\\xbb\\xe7\\xbb\\x9f-\\xe9\\xa2\\x84\\xe7\\xba\\xa6\\xe7\\x99\\xbb\\xe5\\xbd\\x95\\r\\n</title><link type=\"text/css\" href=\"Styles/DefaultMaster.css\" rel=\"stylesheet\" />\\r\\n    <link href=\"Styles/Login.css\" rel=\"Stylesheet\" type=\"text/css\" />\\r\\n    <script type=\"text/javascript\">\\r\\n        function change() {\\r\\n            var imgNode = document.getElementById(\"vimg\");\\r\\n            imgNode.src = \"Handler/WaterMark.ashx?t=\" + (new Date()).valueOf();  // \\xe8\\xbf\\x99\\xe9\\x87\\x8c\\xe5\\x8a\\xa0\\xe4\\xb8\\xaa\\xe6\\x97\\xb6\\xe9\\x97\\xb4\\xe7\\x9a\\x84\\xe5\\x8f\\x82\\xe6\\x95\\xb0\\xe6\\x98\\xaf\\xe4\\xb8\\xba\\xe4\\xba\\x86\\xe9\\x98\\xb2\\xe6\\xad\\xa2\\xe6\\xb5\\x8f\\xe8\\xa7\\x88\\xe5\\x99\\xa8\\xe7\\xbc\\x93\\xe5\\xad\\x98\\xe7\\x9a\\x84\\xe9\\x97\\xae\\xe9\\xa2\\x98\\r\\n        }\\r\\n    </script>\\r\\n    <style type=\"text/css\">\\r\\n        #DefaultDiv\\r\\n        {\\r\\n            text-align: center;\\r\\n            margin: 50 auto;\\r\\n        }\\r\\n    </style>\\r\\n    <style type=\"text/css\">\\r\\n        #floatdiv\\r\\n        {\\r\\n            display: block;\\r\\n            bottom: 150px;\\r\\n            right: 5px;\\r\\n            width: 300px;\\r\\n            position: fixed;\\r\\n            border: 1px solid #666;\\r\\n            background: #fff;\\r\\n            color: #000;\\r\\n            font-size: 14px;\\r\\n            font-weight: bold;\\r\\n            line-height: 150%;\\r\\n            filter: progid:DXImageTransform.Microsoft.Alpha(Opacity=80);\\r\\n            -moz-opacity: 0.8;\\r\\n            opacity: 0.8;\\r\\n        }\\r\\n        #subfloatdiv\\r\\n        {\\r\\n            background: #fff;\\r\\n            height: 23px;\\r\\n            line-height: 1.5em;\\r\\n            color: #f00;\\r\\n            border-bottom: 1px solid #666;\\r\\n            padding: 3px 5px 3px 5px;\\r\\n        }\\r\\n        #floatdiv a\\r\\n        {\\r\\n            color: #F00;\\r\\n            text-decoration: none;\\r\\n        }\\r\\n        * html #floatdiv\\r\\n        {\\r\\n            position: absolute;\\r\\n            right: 30px;\\r\\n        }\\r\\n        * html\\r\\n        {\\r\\n            overflow-x: auto;\\r\\n            overflow-y: hidden;\\r\\n        }\\r\\n        * html body\\r\\n        {\\r\\n            padding: 0px;\\r\\n            border: 0px;\\r\\n            margin: 0px;\\r\\n        }\\r\\n    </style>\\r\\n    <script type=\"text/javascript\" language=\"javascript\">\\r\\n        function closeit() {\\r\\n            document.getElementById(\"floatdiv\").style.display = \"none\";\\r\\n        }\\r\\n    </script>\\r\\n</head>\\r\\n<body>\\r\\n    <form method=\"post\" action=\"./Default.aspx\" onsubmit=\"javascript:return WebForm_OnSubmit();\" id=\"form1\">\\r\\n<div class=\"aspNetHidden\">\\r\\n<input type=\"hidden\" name=\"__EVENTTARGET\" id=\"__EVENTTARGET\" value=\"\" />\\r\\n<input type=\"hidden\" name=\"__EVENTARGUMENT\" id=\"__EVENTARGUMENT\" value=\"\" />\\r\\n<input type=\"hidden\" name=\"__VIEWSTATE\" id=\"__VIEWSTATE\" value=\"/wEPDwUKLTkzMDA3Nzc0NQ9kFgJmD2QWAgIDD2QWBAIBD2QWAgIRDw8WAh4EVGV4dAUh5qyi6L+O5L2/55So5bqn5L2N6aKE57qm57O757uf77yBZGQCAw8PFgIfAAWKBDxwIHN0eWxlPSJ0ZXh0LWFsaWduOiBjZW50ZXI7Ij4NCgk8c3BhbiBzdHlsZT0iY29sb3I6IHJnYigxMjcsIDEyNywgMTI3KTsgZm9udC1mYW1pbHk6IOWui+S9kzsgdGV4dC1hbGlnbjogY2VudGVyOyI+54mI5p2D5omA5pyJPC9zcGFuPjxzcGFuIGNsYXNzPSJTVFlMRTEiIHN0eWxlPSJtYXJnaW46IDBweDsgcGFkZGluZzogMHB4OyBib3JkZXI6IDBweDsgb3V0bGluZTogcmdiKDAsIDAsIDApOyBmb250LWZhbWlseTog5a6L5L2TOyBjb2xvcjogcmdiKDEyNywgMTI3LCAxMjcpOyB0ZXh0LWFsaWduOiBjZW50ZXI7Ij4mY29weTs8L3NwYW4+PHNwYW4gc3R5bGU9ImNvbG9yOiByZ2IoMTI3LCAxMjcsIDEyNyk7IGZvbnQtZmFtaWx5OiDlrovkvZM7IHRleHQtYWxpZ246IGNlbnRlcjsiPuWNl+S6rOWNk+mjnuenkeaKgOaciemZkOWFrOWPuDwvc3Bhbj48YnIgc3R5bGU9ImNvbG9yOiByZ2IoMTI3LCAxMjcsIDEyNyk7IGZvbnQtZmFtaWx5OiDlrovkvZM7IHRleHQtYWxpZ246IGNlbnRlcjsiIC8+DQoJJm5ic3A7PC9wPmRkZIYAS1HfSoVhdqiTiErq5+kJ2kDvY1ZaMoeLHguq0xic\" />\\r\\n</div>\\r\\n\\r\\n<script type=\"text/javascript\">\\r\\n//<![CDATA[\\r\\nvar theForm = document.forms[\\'form1\\'];\\r\\nif (!theForm) {\\r\\n    theForm = document.form1;\\r\\n}\\r\\nfunction __doPostBack(eventTarget, eventArgument) {\\r\\n    if (!theForm.onsubmit || (theForm.onsubmit() != false)) {\\r\\n        theForm.__EVENTTARGET.value = eventTarget;\\r\\n        theForm.__EVENTARGUMENT.value = eventArgument;\\r\\n        theForm.submit();\\r\\n    }\\r\\n}\\r\\n//]]>\\r\\n</script>\\r\\n\\r\\n\\r\\n<script src=\"/SeatManage/WebResource.axd?d=blM17IHSyeW-12uTRvCjAZlCz8tK-Ewj7dQT3_CvIYWuBQe1JbA5dGUJ1OXgcHphsssV1baO6OwxSKGWYp970o2qF_LA2bdKsPrYi_26iBI1&amp;t=636330974291362433\" type=\"text/javascript\"></script>\\r\\n\\r\\n\\r\\n<script src=\"/SeatManage/WebResource.axd?d=HMLCNzZs9aCDSgm2VW_Ez5mZypv-ulzNpRMVk85XUBBT8R2Ot2Q1CcyboRm5qe1tEYi8Dx8RLxIVELhEaBRFE8DANV4UKT937j9sXzPZMhM1&amp;t=636330974291362433\" type=\"text/javascript\"></script>\\r\\n<script type=\"text/javascript\">\\r\\n//<![CDATA[\\r\\nfunction WebForm_OnSubmit() {\\r\\nif (typeof(ValidatorOnSubmit) == \"function\" && ValidatorOnSubmit() == false) return false;\\r\\nreturn true;\\r\\n}\\r\\n//]]>\\r\\n</script>\\r\\n\\r\\n<div class=\"aspNetHidden\">\\r\\n\\r\\n\\t<input type=\"hidden\" name=\"__VIEWSTATEGENERATOR\" id=\"__VIEWSTATEGENERATOR\" value=\"8B81F21A\" />\\r\\n\\t<input type=\"hidden\" name=\"__EVENTVALIDATION\" id=\"__EVENTVALIDATION\" value=\"/wEWBQLP1IusCQKYtLi6AQLP4+vPAgKSzO26AwL40JWiClm2JjH+oZlcHgJp0SLgeCRUVVemYqLfsq+Q7b9Au+EU\" />\\r\\n</div>\\r\\n    <div class=\"wrapper\" id=\"header\">\\r\\n        <div class=\"head\">\\r\\n        </div>\\r\\n        <div class=\"navbar\">\\r\\n            <div class=\"nabvarl\">\\r\\n                <div class=\"navbox\">\\r\\n                    <div id=\"wp_nav_w2\">\\r\\n                        <ul class=\"wp_nav\">\\r\\n                            <li class=\"nav-item i1\"><a href=\"Default.aspx\">\\xe9\\xa2\\x84\\xe7\\xba\\xa6\\xe7\\x99\\xbb\\xe5\\xbd\\x95</a><i class=\"mark\"></i></li>\\r\\n                            <li class=\"nav-item i2\"><a href=\"RealTimeInfo.aspx\">\\xe5\\xba\\xa7\\xe4\\xbd\\x8d\\xe5\\xae\\x9e\\xe6\\x97\\xb6\\xe4\\xbf\\xa1\\xe6\\x81\\xaf</a><i class=\"mark\"></i></li>\\r\\n                            <li class=\"nav-item i3\"><a href=\"Rules.aspx\">\\xe9\\xa2\\x84\\xe7\\xba\\xa6\\xe8\\xa7\\x84\\xe5\\x88\\x99</a><i class=\"mark\"></i></li>\\r\\n                            <li class=\"nav-item i4\"><a href=\"help.htm\" target=\"_blank\">\\xe4\\xbd\\xbf\\xe7\\x94\\xa8\\xe8\\xaf\\xb4\\xe6\\x98\\x8e</a><i class=\"mark\"></i></li>\\r\\n                            \\r\\n                        </ul>\\r\\n                    </div>\\r\\n                </div>\\r\\n            </div>\\r\\n        </div>\\r\\n    </div>\\r\\n    \\r\\n    <div id=\"DefaultDiv\">\\r\\n        <table id=\"loginTable\" width=\"493\" style=\"height: 375; margin: 10px auto;\">\\r\\n            <tr>\\r\\n                <td colspan=\"3\" style=\"height: 186px; width: 493px; vertical-align: top\">\\r\\n                    <img src=\"Images/login/YuYueLogin.gif\" width=\"493px\" height=\"186px\" alt=\"\" />\\r\\n                </td>\\r\\n            </tr>\\r\\n            <tr>\\r\\n                <td style=\"width: 100px\">\\r\\n                    &nbsp;\\r\\n                </td>\\r\\n                <td style=\"width: 50px\">\\r\\n                    &nbsp;\\r\\n                </td>\\r\\n                <td style=\"text-align: left\">\\r\\n                </td>\\r\\n            </tr>\\r\\n            <tr>\\r\\n                <td style=\"width: 100px\">\\r\\n                    &nbsp;\\r\\n                </td>\\r\\n                <td style=\"width: 50px\">\\r\\n                    \\xe5\\xad\\xa6\\xe5\\xb7\\xa5\\xe5\\x8f\\xb7\\xef\\xbc\\x9a\\r\\n                </td>\\r\\n                <td style=\"text-align: left\" class=\"input\">\\r\\n                    <input name=\"ctl00$ContentPlaceHolder1$txtLoginName\" type=\"text\" id=\"ContentPlaceHolder1_txtLoginName\" style=\"width:120px;\" />\\r\\n                </td>\\r\\n            </tr>\\r\\n            <tr>\\r\\n                <td style=\"width: 100px\">\\r\\n                    &nbsp;\\r\\n                </td>\\r\\n                <td style=\"width: 50px\">\\r\\n                    &nbsp;\\r\\n                </td>\\r\\n                <td style=\"text-align: left\">\\r\\n                    <span id=\"ContentPlaceHolder1_RequiredFieldValidator1\" style=\"color:Red;visibility:hidden;\">\\xe5\\xad\\xa6\\xe5\\xb7\\xa5\\xe5\\x8f\\xb7\\xe4\\xb8\\x8d\\xe8\\x83\\xbd\\xe4\\xb8\\xba\\xe7\\xa9\\xba\\xef\\xbc\\x81</span>\\r\\n                </td>\\r\\n            </tr>\\r\\n            <tr>\\r\\n                <td style=\"width: 100px\">\\r\\n                    &nbsp;\\r\\n                </td>\\r\\n                <td style=\"width: 50px\">\\r\\n                    \\xe5\\xaf\\x86 &nbsp;&nbsp;\\xe7\\xa0\\x81\\xef\\xbc\\x9a\\r\\n                </td>\\r\\n                <td style=\"text-align: left\" class=\"input\">\\r\\n                    <input name=\"ctl00$ContentPlaceHolder1$txtLoginPwd\" type=\"password\" id=\"ContentPlaceHolder1_txtLoginPwd\" style=\"width:120px;\" />\\r\\n                </td>\\r\\n            </tr>\\r\\n            <tr>\\r\\n                <td style=\"width: 100px\">\\r\\n                    &nbsp;\\r\\n                </td>\\r\\n                <td style=\"width: 50px\">\\r\\n                    &nbsp;\\r\\n                </td>\\r\\n                <td style=\"text-align: left\">\\r\\n                    <span id=\"ContentPlaceHolder1_RequiredFieldValidator2\" style=\"color:Red;visibility:hidden;\">\\xe5\\xaf\\x86\\xe7\\xa0\\x81\\xe4\\xb8\\x8d\\xe8\\x83\\xbd\\xe4\\xb8\\xba\\xe7\\xa9\\xba\\xef\\xbc\\x81</span>\\r\\n                </td>\\r\\n            </tr>\\r\\n            <tr>\\r\\n                <td style=\"width: 100px\">\\r\\n                    &nbsp;\\r\\n                </td>\\r\\n                <td style=\"width: 50px\">\\r\\n                    \\xe9\\xaa\\x8c\\xe8\\xaf\\x81\\xe7\\xa0\\x81\\xef\\xbc\\x9a\\r\\n                </td>\\r\\n                <td style=\"text-align: left\" class=\"input\">\\r\\n                    <input name=\"ctl00$ContentPlaceHolder1$txtCode\" type=\"text\" id=\"ContentPlaceHolder1_txtCode\" style=\"width:50px;\" />\\r\\n                    <img src=\"Handler/WaterMark.ashx\" id=\"vimg\" alt=\"\" style=\"height: 25px; vertical-align: bottom\" />\\r\\n                    <input type=\"button\" value=\"\\xe6\\x8d\\xa2\\xe4\\xb8\\x80\\xe5\\xbc\\xa0\\xe5\\x9b\\xbe\\xe7\\x89\\x87\" onclick=\"change()\" style=\"width: 70px; height: 25px;\\r\\n                        vertical-align: bottom\" />\\r\\n                    <span id=\"ContentPlaceHolder1_RequiredFieldValidator3\" style=\"color:Red;visibility:hidden;\">\\xe9\\xaa\\x8c\\xe8\\xaf\\x81\\xe7\\xa0\\x81\\xe4\\xb8\\x8d\\xe8\\x83\\xbd\\xe4\\xb8\\xba\\xe7\\xa9\\xba\\xef\\xbc\\x81</span>\\r\\n                </td>\\r\\n            </tr>\\r\\n            <tr>\\r\\n                <td style=\"width: 100px\">\\r\\n                    &nbsp;\\r\\n                </td>\\r\\n                <td style=\"width: 50px\">\\r\\n                    &nbsp;\\r\\n                </td>\\r\\n                <td style=\"text-align: left\">\\r\\n                    <input type=\"submit\" name=\"ctl00$ContentPlaceHolder1$btnSubmit\" value=\"\\xe7\\x99\\xbb\\xe5\\xbd\\x95\" onclick=\"javascript:WebForm_DoPostBackWithOptions(new WebForm_PostBackOptions(&quot;ctl00$ContentPlaceHolder1$btnSubmit&quot;, &quot;&quot;, true, &quot;checkLogin&quot;, &quot;&quot;, false, false))\" id=\"ContentPlaceHolder1_btnSubmit\" accesskey=\"s\" class=\"btnSubmit\" />&nbsp;&nbsp;<span id=\"ContentPlaceHolder1_lblError\" style=\"color:Red;\"></span>\\r\\n                </td>\\r\\n            </tr>\\r\\n        </table>\\r\\n    </div>\\r\\n    <div id=\"floatdiv\">\\r\\n        <div id=\"subfloatdiv\">\\r\\n            <div style=\"width: 90%; display: block; float: left;\">\\r\\n                \\xe9\\x80\\x9a \\xe7\\x9f\\xa5</div>\\r\\n            <div style=\"width: 10%; display: block; text-align: center; cursor: pointer; float: right;\">\\r\\n                <span style=\"font-weight: bold; font-size: 1.5em;\" onclick=\"closeit()\">\\xc3\\x97 </span>\\r\\n            </div>\\r\\n        </div>\\r\\n        <div style=\"display: block; padding: 5px; font-size: 14px; font-weight: bold; text-align: left;\">\\r\\n            <span id=\"ContentPlaceHolder1_lblFloatADText\">\\xe6\\xac\\xa2\\xe8\\xbf\\x8e\\xe4\\xbd\\xbf\\xe7\\x94\\xa8\\xe5\\xba\\xa7\\xe4\\xbd\\x8d\\xe9\\xa2\\x84\\xe7\\xba\\xa6\\xe7\\xb3\\xbb\\xe7\\xbb\\x9f\\xef\\xbc\\x81</span></div>\\r\\n    </div>\\r\\n\\r\\n    <div class=\"wrapper\" id=\"footer\">\\r\\n        <div class=\"inner\">\\r\\n            <p>\\r\\n                <span id=\"lblCopyRight\"><p style=\"text-align: center;\">\\r\\n\\t<span style=\"color: rgb(127, 127, 127); font-family: \\xe5\\xae\\x8b\\xe4\\xbd\\x93; text-align: center;\">\\xe7\\x89\\x88\\xe6\\x9d\\x83\\xe6\\x89\\x80\\xe6\\x9c\\x89</span><span class=\"STYLE1\" style=\"margin: 0px; padding: 0px; border: 0px; outline: rgb(0, 0, 0); font-family: \\xe5\\xae\\x8b\\xe4\\xbd\\x93; color: rgb(127, 127, 127); text-align: center;\">&copy;</span><span style=\"color: rgb(127, 127, 127); font-family: \\xe5\\xae\\x8b\\xe4\\xbd\\x93; text-align: center;\">\\xe5\\x8d\\x97\\xe4\\xba\\xac\\xe5\\x8d\\x93\\xe9\\xa3\\x9e\\xe7\\xa7\\x91\\xe6\\x8a\\x80\\xe6\\x9c\\x89\\xe9\\x99\\x90\\xe5\\x85\\xac\\xe5\\x8f\\xb8</span><br style=\"color: rgb(127, 127, 127); font-family: \\xe5\\xae\\x8b\\xe4\\xbd\\x93; text-align: center;\" />\\r\\n\\t&nbsp;</p></span>\\r\\n            </p>\\r\\n        </div>\\r\\n    </div>\\r\\n    \\r\\n<script type=\"text/javascript\">\\r\\n//<![CDATA[\\r\\nvar Page_Validators =  new Array(document.getElementById(\"ContentPlaceHolder1_RequiredFieldValidator1\"), document.getElementById(\"ContentPlaceHolder1_RequiredFieldValidator2\"), document.getElementById(\"ContentPlaceHolder1_RequiredFieldValidator3\"));\\r\\n//]]>\\r\\n</script>\\r\\n\\r\\n<script type=\"text/javascript\">\\r\\n//<![CDATA[\\r\\nvar ContentPlaceHolder1_RequiredFieldValidator1 = document.all ? document.all[\"ContentPlaceHolder1_RequiredFieldValidator1\"] : document.getElementById(\"ContentPlaceHolder1_RequiredFieldValidator1\");\\r\\nContentPlaceHolder1_RequiredFieldValidator1.controltovalidate = \"ContentPlaceHolder1_txtLoginName\";\\r\\nContentPlaceHolder1_RequiredFieldValidator1.errormessage = \"\\xe5\\xad\\xa6\\xe5\\xb7\\xa5\\xe5\\x8f\\xb7\\xe4\\xb8\\x8d\\xe8\\x83\\xbd\\xe4\\xb8\\xba\\xe7\\xa9\\xba\\xef\\xbc\\x81\";\\r\\nContentPlaceHolder1_RequiredFieldValidator1.validationGroup = \"checkLogin\";\\r\\nContentPlaceHolder1_RequiredFieldValidator1.evaluationfunction = \"RequiredFieldValidatorEvaluateIsValid\";\\r\\nContentPlaceHolder1_RequiredFieldValidator1.initialvalue = \"\";\\r\\nvar ContentPlaceHolder1_RequiredFieldValidator2 = document.all ? document.all[\"ContentPlaceHolder1_RequiredFieldValidator2\"] : document.getElementById(\"ContentPlaceHolder1_RequiredFieldValidator2\");\\r\\nContentPlaceHolder1_RequiredFieldValidator2.controltovalidate = \"ContentPlaceHolder1_txtLoginPwd\";\\r\\nContentPlaceHolder1_RequiredFieldValidator2.errormessage = \"\\xe5\\xaf\\x86\\xe7\\xa0\\x81\\xe4\\xb8\\x8d\\xe8\\x83\\xbd\\xe4\\xb8\\xba\\xe7\\xa9\\xba\\xef\\xbc\\x81\";\\r\\nContentPlaceHolder1_RequiredFieldValidator2.validationGroup = \"checkLogin\";\\r\\nContentPlaceHolder1_RequiredFieldValidator2.evaluationfunction = \"RequiredFieldValidatorEvaluateIsValid\";\\r\\nContentPlaceHolder1_RequiredFieldValidator2.initialvalue = \"\";\\r\\nvar ContentPlaceHolder1_RequiredFieldValidator3 = document.all ? document.all[\"ContentPlaceHolder1_RequiredFieldValidator3\"] : document.getElementById(\"ContentPlaceHolder1_RequiredFieldValidator3\");\\r\\nContentPlaceHolder1_RequiredFieldValidator3.controltovalidate = \"ContentPlaceHolder1_txtCode\";\\r\\nContentPlaceHolder1_RequiredFieldValidator3.errormessage = \"\\xe9\\xaa\\x8c\\xe8\\xaf\\x81\\xe7\\xa0\\x81\\xe4\\xb8\\x8d\\xe8\\x83\\xbd\\xe4\\xb8\\xba\\xe7\\xa9\\xba\\xef\\xbc\\x81\";\\r\\nContentPlaceHolder1_RequiredFieldValidator3.validationGroup = \"checkLogin\";\\r\\nContentPlaceHolder1_RequiredFieldValidator3.evaluationfunction = \"RequiredFieldValidatorEvaluateIsValid\";\\r\\nContentPlaceHolder1_RequiredFieldValidator3.initialvalue = \"\";\\r\\n//]]>\\r\\n</script>\\r\\n\\r\\n\\r\\n<script type=\"text/javascript\">\\r\\n//<![CDATA[\\r\\n\\r\\nvar Page_ValidationActive = false;\\r\\nif (typeof(ValidatorOnLoad) == \"function\") {\\r\\n    ValidatorOnLoad();\\r\\n}\\r\\n\\r\\nfunction ValidatorOnSubmit() {\\r\\n    if (Page_ValidationActive) {\\r\\n        return ValidatorCommonOnSubmit();\\r\\n    }\\r\\n    else {\\r\\n        return true;\\r\\n    }\\r\\n}\\r\\n        //]]>\\r\\n</script>\\r\\n</form>\\r\\n</body>\\r\\n</html>\\r\\n'"
      ]
     },
     "execution_count": 13,
     "metadata": {},
     "output_type": "execute_result"
    }
   ],
   "source": [
    "a = login('16111206015', '341321199811025518', getcode())\n",
    "a"
   ]
  },
  {
   "cell_type": "markdown",
   "metadata": {},
   "source": [
    "### 获取cookie"
   ]
  },
  {
   "cell_type": "code",
   "execution_count": null,
   "metadata": {},
   "outputs": [],
   "source": [
    "login()"
   ]
  },
  {
   "cell_type": "code",
   "execution_count": 3,
   "metadata": {},
   "outputs": [],
   "source": [
    "def reservation(date):\n",
    "   \n",
    "    header = {\n",
    "    \"Referer\": \"http://libzwxt.ahnu.edu.cn/SeatManage/User/OrderOnline.aspx?sID=1440&ruleID=4\",\n",
    "    'User-Agent': \"Mozilla/5.0 (X11; Linux x86_64) AppleWebKit/537.36 (KHTML, like Gecko) Chrome/73.0.3683.86 Safari/537.36\",\n",
    "    'Cookie': 'ASP.NET_SessionId=epvlbvq2o2cidj0j4eh3xawn',\n",
    "    }\n",
    "    \n",
    "    postUrl = \"http://libzwxt.ahnu.edu.cn/SeatManage/User/OrderOnline.aspx?sID=1440&ruleID=4\"\n",
    "    \n",
    "    postData = {\n",
    "        'ctl00$ContentPlaceHolder1$ScriptManager1': 'ctl00$ContentPlaceHolder1$UpdatePanel1|ctl00$ContentPlaceHolder1$btnSubmit',\n",
    "        'ctl00$ContentPlaceHolder1$txtDay': date,\n",
    "        'ctl00$ContentPlaceHolder1$ddlStartTimeHour': '08',\n",
    "        'ctl00$ContentPlaceHolder1$ddlStartTimeMinute': '10',\n",
    "        'ctl00$ContentPlaceHolder1$ddlEndTimeHour': '22',\n",
    "        'ctl00$ContentPlaceHolder1$ddlEndTimeMinute': '00',\n",
    "        '__EVENTTARGET': '',\n",
    "        '__EVENTARGUMENT': '',\n",
    "        '__LASTFOCUS': '',\n",
    "        '__VIEWSTATE': '/wEPDwULLTE5ODQ2Mjk1OTMPZBYCZg9kFgICAw9kFgQCAw9kFgICAw9kFgJmD2QWEgIBDw8WAh4EVGV4dAUHbnpyMTAwM2RkAg0PZBYCAgEPDxYGHglCYWNrQ29sb3IKpAEeC0JvcmRlckNvbG9yCqQBHgRfIVNCAhhkZAITDxBkZBYBAg5kAhUPEGQPFjxmAgECAgIDAgQCBQIGAgcCCAIJAgoCCwIMAg0CDgIPAhACEQISAhMCFAIVAhYCFwIYAhkCGgIbAhwCHQIeAh8CIAIhAiICIwIkAiUCJgInAigCKQIqAisCLAItAi4CLwIwAjECMgIzAjQCNQI2AjcCOAI5AjoCOxY8EGRkZxBkZGcQZGRnEGRkZxBkZGcQZGRnEGRkZxBkZGcQZGRnEGRkZxBkZGcQZGRnEGRkZxBkZGcQZGRnEGRkZxBkZGcQZGRnEGRkZxBkZGcQZGRnEGRkZxBkZGcQZGRnEGRkZxBkZGcQZGRnEGRkZxBkZGcQZGRnEGRkZxBkZGcQZGRnEGRkZxBkZGcQZGRnEGRkZxBkZGcQZGRnEGRkZxBkZGcQZGRnEGRkZxBkZGcQZGRnEGRkZxBkZGcQZGRnEGRkZxBkZGcQZGRnEGRkZxBkZGcQZGRnEGRkZxBkZGcQZGRnEGRkZxBkZGcQZGRnZGQCHw8PFgIfAAULMDg6MDAtMjI6MDJkZAIhDw8WAh8ABQg2MOWIhumSn2RkAiMPDxYCHwAFCTg0MOWIhumSn2RkAiUPDxYCHwAFBzDliIbpkp9kZAInDw8WAh8ABQQx5aSpZGQCBQ8PFgIfAAWKBDxwIHN0eWxlPSJ0ZXh0LWFsaWduOiBjZW50ZXI7Ij4NCgk8c3BhbiBzdHlsZT0iY29sb3I6IHJnYigxMjcsIDEyNywgMTI3KTsgZm9udC1mYW1pbHk6IOWui+S9kzsgdGV4dC1hbGlnbjogY2VudGVyOyI+54mI5p2D5omA5pyJPC9zcGFuPjxzcGFuIGNsYXNzPSJTVFlMRTEiIHN0eWxlPSJtYXJnaW46IDBweDsgcGFkZGluZzogMHB4OyBib3JkZXI6IDBweDsgb3V0bGluZTogcmdiKDAsIDAsIDApOyBmb250LWZhbWlseTog5a6L5L2TOyBjb2xvcjogcmdiKDEyNywgMTI3LCAxMjcpOyB0ZXh0LWFsaWduOiBjZW50ZXI7Ij4mY29weTs8L3NwYW4+PHNwYW4gc3R5bGU9ImNvbG9yOiByZ2IoMTI3LCAxMjcsIDEyNyk7IGZvbnQtZmFtaWx5OiDlrovkvZM7IHRleHQtYWxpZ246IGNlbnRlcjsiPuWNl+S6rOWNk+mjnuenkeaKgOaciemZkOWFrOWPuDwvc3Bhbj48YnIgc3R5bGU9ImNvbG9yOiByZ2IoMTI3LCAxMjcsIDEyNyk7IGZvbnQtZmFtaWx5OiDlrovkvZM7IHRleHQtYWxpZ246IGNlbnRlcjsiIC8+DQoJJm5ic3A7PC9wPmRkZPrj43u4gooiW908R+B8PxE/ZfOTYV6YiL54tX6UciHC',\n",
    "        '__VIEWSTATEGENERATOR': '59E424ED',\n",
    "        '__EVENTVALIDATION': '/wEWyAEC6/jcjgoC3vWp3wYC3uq46wsC9NXmmAoCzsGlzwcCzsHRqwgCzsH9hgECzsHp3QkCzsGVuAICzsGBlwsCzsGt8gMCzsHZzgQCzsGF9gkCzsGxzQIC46iCug0C46iukQYC46ja7Q4C46jGyAcC46jypwgC46ieggEC46iK2QkC46i2tAIC46ji3QcC46iOuAgCmJLgoQsCmJKM/AMCmJK42wQCmJKktg0CmJLQkgYCmJL86Q4CmJLoxAcCmJKUowgCmJLAyA0CmJLspwYCvf3+jAECvf3q6wkCvf2WxgICvf2CnQsCvf2u+AMCvf3a1AQCvf3Gsw0Cvf3yjgYCvf3etwsCvf3KkgwC0uTc+w4C0uTI1gcCkvepjQcCkveljQcCjffJjgcCjffFjgcCjffBjgcCjff9jgcCjff5jgcCjff1jgcCjffxjgcCjfftjgcCjfepjQcCjfeljQcCjPfJjgcCjPfFjgcCjPfBjgcCvuDxGwK+4P0bAr7g+RsCvuDFGwK+4MEbAr7gzRsCvuDJGwK+4NUbAr7gkRgCvuCdGAKh4PEbAqHg/RsCoeD5GwKh4MUbAqHgwRsCoeDNGwKh4MkbAqHg1RsCoeCRGAKh4J0YAqDg8RsCoOD9GwKg4PkbAqDgxRsCoODBGwKg4M0bAqDgyRsCoODVGwKg4JEYAqDgnRgCo+DxGwKj4P0bAqPg+RsCo+DFGwKj4MEbAqPgzRsCo+DJGwKj4NUbAqPgkRgCo+CdGAKi4PEbAqLg/RsCouD5GwKi4MUbAqLgwRsCouDNGwKi4MkbAqLg1RsCouCRGAKi4J0YAqXg8RsCpeD9GwKl4PkbAqXgxRsCpeDBGwKl4M0bAqXgyRsCpeDVGwKl4JEYAqXgnRgCtOuPlAsCpISF+gcCpISJ+gcCu4Tl+QcCu4Tp+QcCu4Tt+QcCu4TR+QcCu4TV+QcCu4TZ+QcCu4Td+QcCu4TB+QcCu4SF+gcCu4SJ+gcCuoTl+QcCuoTp+QcCuoTt+QcCuoTR+QcCkNi3zQ8CkNi7zQ8CkNi/zQ8CkNiDzQ8CkNiHzQ8CkNiLzQ8CkNiPzQ8CkNiTzQ8CkNjXzg8CkNjbzg8Cj9i3zQ8Cj9i7zQ8Cj9i/zQ8Cj9iDzQ8Cj9iHzQ8Cj9iLzQ8Cj9iPzQ8Cj9iTzQ8Cj9jXzg8Cj9jbzg8Cjti3zQ8Cjti7zQ8Cjti/zQ8CjtiDzQ8CjtiHzQ8CjtiLzQ8CjtiPzQ8CjtiTzQ8CjtjXzg8Cjtjbzg8Cjdi3zQ8Cjdi7zQ8Cjdi/zQ8CjdiDzQ8CjdiHzQ8CjdiLzQ8CjdiPzQ8CjdiTzQ8CjdjXzg8Cjdjbzg8CjNi3zQ8CjNi7zQ8CjNi/zQ8CjNiDzQ8CjNiHzQ8CjNiLzQ8CjNiPzQ8CjNiTzQ8CjNjXzg8CjNjbzg8Ci9i3zQ8Ci9i7zQ8Ci9i/zQ8Ci9iDzQ8Ci9iHzQ8Ci9iLzQ8Ci9iPzQ8Ci9iTzQ8Ci9jXzg8Ci9jbzg8C+NCVogoCsOHXT/kZ50FMG6GKhyXtPCJVE1KqD3dSrY+r3pGYVEPOuAkI',\n",
    "        '__ASYNCPOST': 'true',\n",
    "        'ctl00$ContentPlaceHolder1$btnSubmit': '提交',\n",
    "    }\n",
    "    \n",
    "    responseRes = requests.post(postUrl, data = postData, headers = header)\n",
    "    \n",
    "    # 无论是否登录成功，状态码一般都是 statusCode = 200\n",
    "#     print(f\"statusCode = {responseRes.status_code}\")\n",
    "#     print(f\"text = {responseRes.text}\")\n",
    "\n",
    "# reservation()"
   ]
  },
  {
   "cell_type": "code",
   "execution_count": 5,
   "metadata": {},
   "outputs": [],
   "source": [
    "import time\n",
    "\n",
    "today = time.strftime(\"%Y-%m-%d\", time.localtime())\n",
    "tomorrow = today[:-2] + (str(int(today[-2:])+1)).zfill(2)\n",
    "\n",
    "reservation(tomorrow)"
   ]
  },
  {
   "cell_type": "markdown",
   "metadata": {},
   "source": [
    "ASP.NET_SessionId=fsu3smig2pbn5jlkwbslt3vv    wuxiang\n",
    "ASP.NET_SessionId=fsu3smig2pbn5jlkwbslt3vv\n",
    "\n",
    "ASP.NET_SessionId=i00prba4mkylgmjwfrvjptbz\n",
    "\n",
    "ASP.NET_SessionId=i00prba4mkylgmjwfrvjptbz\n",
    "\n",
    " ASP.NET_SessionId=2napx1xsbkr5kvmnjyz3cj5g\n",
    " ASP.NET_SessionId=dqqwhegvwof2ggsoqoqawbjx"
   ]
  }
 ],
 "metadata": {
  "kernelspec": {
   "display_name": "Python 3",
   "language": "python",
   "name": "python3"
  },
  "language_info": {
   "codemirror_mode": {
    "name": "ipython",
    "version": 3
   },
   "file_extension": ".py",
   "mimetype": "text/x-python",
   "name": "python",
   "nbconvert_exporter": "python",
   "pygments_lexer": "ipython3",
   "version": "3.7.2"
  }
 },
 "nbformat": 4,
 "nbformat_minor": 2
}
