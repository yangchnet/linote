{
 "cells": [
  {
   "cell_type": "markdown",
   "metadata": {},
   "source": [
    "### python与其他语言的对比（hello world） "
   ]
  },
  {
   "cell_type": "markdown",
   "metadata": {},
   "source": [
    "> C语言  \n",
    "\n",
    "```C\n",
    "include<stdio.h>\n",
    "int main()\n",
    "{\n",
    "    printf(\"hello world\");\n",
    "    return 0;\n",
    "}\n",
    "```"
   ]
  },
  {
   "cell_type": "markdown",
   "metadata": {},
   "source": [
    "> Java语言  \n",
    "\n",
    "```java\n",
    "public class HelloWorld{ \n",
    "    public static void main(String[] args) {  \n",
    "        System.out.println(\"Hello World!\"); \n",
    "    }\n",
    "}\n",
    "```"
   ]
  },
  {
   "cell_type": "markdown",
   "metadata": {},
   "source": [
    "> Python  \n",
    "\n",
    "```python\n",
    "print('hello world')\n",
    "```"
   ]
  },
  {
   "cell_type": "markdown",
   "metadata": {},
   "source": [
    "### python中的常用数据类型 "
   ]
  },
  {
   "cell_type": "markdown",
   "metadata": {},
   "source": [
    "* Number  \n",
    "* String\n",
    "* List\n",
    "* Tuple\n",
    "* Dictionary"
   ]
  },
  {
   "cell_type": "code",
   "execution_count": 3,
   "metadata": {},
   "outputs": [],
   "source": [
    "# Number\n",
    "a = 1\n",
    "b = True\n",
    "c = 3.15\n",
    "d = 1.1+2.2j"
   ]
  },
  {
   "cell_type": "code",
   "execution_count": 14,
   "metadata": {},
   "outputs": [
    {
     "name": "stdout",
     "output_type": "stream",
     "text": [
      "True\n",
      "helloworld\n",
      "hello \n",
      " world\n",
      "hello \\n world\n",
      "str1:hello.\n",
      "ell\n"
     ]
    }
   ],
   "source": [
    "# 字符串\n",
    "str1 = 'hello'\n",
    "str1_1 = \"hello\"\n",
    "str2 = \"world\"\n",
    "print(str1==str1_1)\n",
    "\n",
    "# 字符串连接\n",
    "str3 = str1 + str2\n",
    "print(str3)\n",
    "\n",
    "# 转义字符\n",
    "str4 = 'hello \\n world'\n",
    "print(str4)\n",
    "str5 = 'hello \\\\n world'\n",
    "print(str5)\n",
    "\n",
    "# 格式化输出\n",
    "print('str1:%s.'%str1)\n",
    "\n",
    "# 切片\n",
    "print(str1[1:4])"
   ]
  },
  {
   "cell_type": "code",
   "execution_count": 41,
   "metadata": {},
   "outputs": [
    {
     "name": "stdout",
     "output_type": "stream",
     "text": [
      "google\n",
      "['google', 'alibaba', 'baidu', 3.14]\n",
      "['google', 'alibaba', 'baidu']\n",
      "['google', 'alibaba', 'baidu', 'microsoft', 'amazon']\n",
      "['google', 'alibaba', 'baidu', 'jingdong']\n"
     ]
    }
   ],
   "source": [
    "# 列表\n",
    "list1 = ['google', 'alibaba', 2001, 3.14]\n",
    "\n",
    "# 通过下标访问\n",
    "print(list1[0])\n",
    "\n",
    "# 更新列表\n",
    "list1[2] = 'baidu'\n",
    "print(list1)\n",
    "\n",
    "# 删除元素\n",
    "del list1[3]\n",
    "print(list1)\n",
    "\n",
    "# 拼接列表\n",
    "list2 = ['microsoft', 'amazon']\n",
    "list3 = list1 + list2\n",
    "print(list3)\n",
    "\n",
    "# 增添列表项\n",
    "list1.append('jingdong')\n",
    "print(list1)"
   ]
  },
  {
   "cell_type": "code",
   "execution_count": 23,
   "metadata": {},
   "outputs": [
    {
     "ename": "TypeError",
     "evalue": "'tuple' object does not support item assignment",
     "output_type": "error",
     "traceback": [
      "\u001b[0;31m---------------------------------------------------------------------------\u001b[0m",
      "\u001b[0;31mTypeError\u001b[0m                                 Traceback (most recent call last)",
      "\u001b[0;32m<ipython-input-23-4ed3e334c834>\u001b[0m in \u001b[0;36m<module>\u001b[0;34m\u001b[0m\n\u001b[1;32m      1\u001b[0m \u001b[0;31m# 元组：类似列表,是一系列元素的有序集合,但元组中的元素无法修改\u001b[0m\u001b[0;34m\u001b[0m\u001b[0;34m\u001b[0m\u001b[0;34m\u001b[0m\u001b[0m\n\u001b[1;32m      2\u001b[0m \u001b[0mtuple1\u001b[0m \u001b[0;34m=\u001b[0m \u001b[0;34m(\u001b[0m\u001b[0;34m'google'\u001b[0m\u001b[0;34m,\u001b[0m \u001b[0;34m'alibaba'\u001b[0m\u001b[0;34m,\u001b[0m \u001b[0;34m'baidu'\u001b[0m\u001b[0;34m)\u001b[0m\u001b[0;34m\u001b[0m\u001b[0;34m\u001b[0m\u001b[0m\n\u001b[0;32m----> 3\u001b[0;31m \u001b[0mtuple1\u001b[0m\u001b[0;34m[\u001b[0m\u001b[0;36m0\u001b[0m\u001b[0;34m]\u001b[0m \u001b[0;34m=\u001b[0m \u001b[0;34m'amazon'\u001b[0m\u001b[0;34m\u001b[0m\u001b[0;34m\u001b[0m\u001b[0m\n\u001b[0m",
      "\u001b[0;31mTypeError\u001b[0m: 'tuple' object does not support item assignment"
     ]
    }
   ],
   "source": [
    "# 元组：类似列表,是一系列元素的有序集合,但元组中的元素无法修改\n",
    "tuple1 = ('google', 'alibaba', 'baidu')\n",
    "tuple1[0] = 'amazon' # 不能被改变"
   ]
  },
  {
   "cell_type": "code",
   "execution_count": 25,
   "metadata": {},
   "outputs": [
    {
     "name": "stdout",
     "output_type": "stream",
     "text": [
      "green\n",
      "{'color': 'green', 'points': 5, 'x_pos': 0, 'y_pos': 4}\n"
     ]
    }
   ],
   "source": [
    "# 字典\n",
    "dict1 = {\n",
    "         'color': 'green', \n",
    "         'points': 5\n",
    "}\n",
    "\n",
    "# 访问列表中的值\n",
    "print(dict1['color'])\n",
    "\n",
    "# 增加字典中键值对\n",
    "dict1['x_pos'] = 0\n",
    "dict1['y_pos']  =4\n",
    "print(dict1)"
   ]
  },
  {
   "cell_type": "markdown",
   "metadata": {},
   "source": [
    "### python中的结构语句 "
   ]
  },
  {
   "cell_type": "markdown",
   "metadata": {},
   "source": [
    "#### if条件语句 "
   ]
  },
  {
   "cell_type": "code",
   "execution_count": 27,
   "metadata": {},
   "outputs": [
    {
     "name": "stdout",
     "output_type": "stream",
     "text": [
      "Bmw\n"
     ]
    }
   ],
   "source": [
    "car = 'bmw'\n",
    "if car == 'bmw':\n",
    "    print(car.upper()) # 输出car的大写版本\n",
    "else:\n",
    "    print(car.title()) # 输出car的标题版本"
   ]
  },
  {
   "cell_type": "markdown",
   "metadata": {},
   "source": [
    "现实世界中,很多情况下需要考虑的情形都超过两个。例如,来看一个根据年龄段收费的\n",
    "游乐场:\n",
    "* 4岁以下免费;\n",
    "* 4~18岁收费5美元;\n",
    "* 18岁(含)以上收费10美元。  \n",
    "\n",
    "> 如果只使用一条 if 语句,如何确定门票价格呢?下面的代码确定一个人所属的年龄段,并打印一条包含门票价格的消息:"
   ]
  },
  {
   "cell_type": "code",
   "execution_count": 28,
   "metadata": {},
   "outputs": [
    {
     "name": "stdout",
     "output_type": "stream",
     "text": [
      "Your admission cost is $5.\n"
     ]
    }
   ],
   "source": [
    "age = 12\n",
    "if age < 4:\n",
    "    print(\"Your admission cost is $0.\")\n",
    "elif age < 18:\n",
    "    print(\"Your admission cost is $5.\")\n",
    "else:\n",
    "    print(\"Your admission cost is $10.\")"
   ]
  },
  {
   "cell_type": "markdown",
   "metadata": {},
   "source": [
    "#### for循环语句 "
   ]
  },
  {
   "cell_type": "code",
   "execution_count": 30,
   "metadata": {},
   "outputs": [
    {
     "name": "stdout",
     "output_type": "stream",
     "text": [
      "当前水果：banana\n",
      "当前水果：apple\n",
      "当前水果：mango\n"
     ]
    }
   ],
   "source": [
    "fruits = ['banana', 'apple', 'mango']\n",
    "for fruit in fruits:\n",
    "    print('当前水果：%s'%fruit)"
   ]
  },
  {
   "cell_type": "code",
   "execution_count": 33,
   "metadata": {},
   "outputs": [
    {
     "name": "stdout",
     "output_type": "stream",
     "text": [
      "1\n",
      "2\n",
      "3\n",
      "4\n",
      "5\n"
     ]
    }
   ],
   "source": [
    "# range 步长为1\n",
    "for i in range(0, 6):\n",
    "    print(i)"
   ]
  },
  {
   "cell_type": "code",
   "execution_count": 34,
   "metadata": {},
   "outputs": [
    {
     "name": "stdout",
     "output_type": "stream",
     "text": [
      "0\n",
      "2\n",
      "4\n"
     ]
    }
   ],
   "source": [
    "# range 步长为2\n",
    "for i in range(0, 6, 2):\n",
    "    print(i)"
   ]
  },
  {
   "cell_type": "code",
   "execution_count": 40,
   "metadata": {},
   "outputs": [
    {
     "name": "stdout",
     "output_type": "stream",
     "text": [
      "0\n",
      "1\n",
      "2\n",
      "01245"
     ]
    }
   ],
   "source": [
    "# break 和 continue\n",
    "for i in range(0, 6):\n",
    "    if i == 3:\n",
    "        break\n",
    "    print(i)\n",
    "\n",
    "for i in range(0, 6):\n",
    "    if i == 3:\n",
    "        continue\n",
    "    print(i, end='')"
   ]
  },
  {
   "cell_type": "code",
   "execution_count": 42,
   "metadata": {},
   "outputs": [
    {
     "name": "stdout",
     "output_type": "stream",
     "text": [
      "1\n",
      "2\n",
      "3\n",
      "4\n",
      "5\n"
     ]
    }
   ],
   "source": [
    "# while循环\n",
    "current_number = 1\n",
    "while current_number <= 5:\n",
    "    print(current_number)\n",
    "    current_number += 1"
   ]
  },
  {
   "cell_type": "markdown",
   "metadata": {},
   "source": [
    "#### 函数 "
   ]
  },
  {
   "cell_type": "code",
   "execution_count": 45,
   "metadata": {},
   "outputs": [
    {
     "name": "stdout",
     "output_type": "stream",
     "text": [
      "Hello, Jesse!\n",
      "Hello, Jack!\n"
     ]
    }
   ],
   "source": [
    "def greet_user(username):\n",
    "    \"\"\" 显示简单的问候语 \"\"\"\n",
    "    print(\"Hello, \" + username.title() + \"!\")\n",
    "\n",
    "greet_user('jesse')\n",
    "greet_user('jack')"
   ]
  },
  {
   "cell_type": "code",
   "execution_count": 55,
   "metadata": {},
   "outputs": [
    {
     "name": "stdout",
     "output_type": "stream",
     "text": [
      "第一个函数：5\n",
      "第二个函数：10\n",
      "第三个函数, 最大值：4, 最小值：1\n"
     ]
    }
   ],
   "source": [
    "# 有返回值的函数\n",
    "def add(a, b):\n",
    "    return a+b\n",
    "print('第一个函数：%d'%add(2, 3))\n",
    "\n",
    "# 列表作为参数的函数\n",
    "def add_l(mylist):\n",
    "    result = 0\n",
    "    for l in mylist:\n",
    "        result += l\n",
    "    return result\n",
    "print('第二个函数：%d'%add_l([1, 2, 3, 4]))\n",
    "\n",
    "# 有多个返回值的函数\n",
    "def muti_re(mylist):\n",
    "    a = max(mylist)\n",
    "    b = min(mylist)\n",
    "    return a, b\n",
    "a, b = muti_re([1, 2, 3, 4])\n",
    "print('第三个函数, 最大值：%d, 最小值：%d'%(a,b))"
   ]
  }
 ],
 "metadata": {
  "kernelspec": {
   "display_name": "Python 3",
   "language": "python",
   "name": "python3"
  },
  "language_info": {
   "codemirror_mode": {
    "name": "ipython",
    "version": 3
   },
   "file_extension": ".py",
   "mimetype": "text/x-python",
   "name": "python",
   "nbconvert_exporter": "python",
   "pygments_lexer": "ipython3",
   "version": "3.7.2"
  }
 },
 "nbformat": 4,
 "nbformat_minor": 2
}
