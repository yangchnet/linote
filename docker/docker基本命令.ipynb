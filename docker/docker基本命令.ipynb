{
 "cells": [
  {
   "cell_type": "markdown",
   "metadata": {},
   "source": [
    "## Docker基本命令 "
   ]
  },
  {
   "cell_type": "markdown",
   "metadata": {},
   "source": [
    "* 启动docker服务  \n",
    "sudo systemctl start docker\n",
    "* 查看本地镜像  \n",
    "sudo docker images\n",
    "* 查看正在运行的镜像  \n",
    "sudo docker ps   \n",
    "* 查看所有镜像  \n",
    "sudo docker ps -a \n",
    "* 停止正在运行的镜像  \n",
    "sudo docker stop container_name\n",
    "* 开始运行某个镜像  \n",
    "sudo docker start container_name\n",
    "* 删除某个镜像  \n",
    "sudo docker rmi container_name\n",
    "* 进入某个正在运行的镜像  \n",
    "sudo docker attach container_name\n",
    "* 导出容器  \n",
    "sudo docker export container_id > name.tar\n",
    "* 导入容器  \n",
    "cat name.tar | sudo docker import -test/buntu:v1.0\n",
    "* 从网络导入  \n",
    "sudo docker import http://example.com/exampleimage.tgz example/imagerepo\n"
   ]
  },
  {
   "cell_type": "code",
   "execution_count": null,
   "metadata": {},
   "outputs": [],
   "source": []
  }
 ],
 "metadata": {
  "kernelspec": {
   "display_name": "Python 3",
   "language": "python",
   "name": "python3"
  },
  "language_info": {
   "codemirror_mode": {
    "name": "ipython",
    "version": 3
   },
   "file_extension": ".py",
   "mimetype": "text/x-python",
   "name": "python",
   "nbconvert_exporter": "python",
   "pygments_lexer": "ipython3",
   "version": "3.7.4"
  }
 },
 "nbformat": 4,
 "nbformat_minor": 2
}
