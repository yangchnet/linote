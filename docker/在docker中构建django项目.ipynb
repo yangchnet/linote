{
 "cells": [
  {
   "cell_type": "markdown",
   "metadata": {},
   "source": [
    "# 在docker中构建django项目\n",
    "（需安装docker-compose, [安装教程](./安装docker-compose.ipynb)）"
   ]
  },
  {
   "cell_type": "markdown",
   "metadata": {},
   "source": [
    "## 1. 定义项目组件\n",
    "对于此项目，您需要创建Dockerfile，Python依赖项文件和docker-compose.yml文件。（您可以使用此文件的扩展名.yml或.yaml扩展名。）"
   ]
  },
  {
   "cell_type": "markdown",
   "metadata": {},
   "source": [
    "### 1.1. 创建一个空目录\n",
    "该目录应仅包含构建该映像的资源。"
   ]
  },
  {
   "cell_type": "markdown",
   "metadata": {},
   "source": [
    "### 1.2 创建Dockerfile\n",
    "内容如下：\n",
    "```bash\n",
    "FROM python:3\n",
    "ENV PYTHONUNBUFFERED 1\n",
    "RUN mkdir /code\n",
    "WORKDIR /code\n",
    "COPY requirements.txt /code/\n",
    "RUN pip install -r requirements.txt\n",
    "COPY . /code/\n",
    "```\n",
    "[对于DockerFile的解释](https://docs.docker.com/develop/develop-images/dockerfile_best-practices/)"
   ]
  },
  {
   "cell_type": "markdown",
   "metadata": {},
   "source": [
    "### 1.3 创建requirements.txt\n",
    "内容如下：\n",
    "```python\n",
    "django\n",
    "django-ckeditor\n",
    "pillow\n",
    "numpy\n",
    "```"
   ]
  },
  {
   "cell_type": "markdown",
   "metadata": {},
   "source": [
    "### 1.4 创建docker-compose.yml\n",
    "该docker-compose.yml文件描述了构成应用程序的服务。在此示例中，这些服务是Web服务器和数据库。撰写文件还描述了这些服务使用哪些Docker映像，它们如何链接在一起，以及它们可能需要安装在容器内的任何卷。最后，该docker-compose.yml文件描述了这些服务公开的端口。有关此文件如何工作的更多信息，请参阅[docker-compose.yml参考](https://docs.docker.com/compose/compose-file/)。\n",
    "内容如下：\n",
    "```yml\n",
    "version: '3'\n",
    "\n",
    "services:\n",
    "  db:\n",
    "    image: postgres\n",
    "  web:\n",
    "    build: .\n",
    "    command: python manage.py runserver 0.0.0.0:8000\n",
    "    volumes:\n",
    "      - .:/code\n",
    "    ports:\n",
    "      - \"8000:8000\"\n",
    "    depends_on:\n",
    "      - db\n",
    "```"
   ]
  },
  {
   "cell_type": "markdown",
   "metadata": {},
   "source": [
    "## 2 创建django项目\n",
    "1. 切换到项目跟目录】\n",
    "2. 通过运行docker-compose run 命令创建django项目\n",
    "```bash\n",
    "sudo docker-compose run web django-admin startproject mysite .\n",
    "```\n",
    "3. 查看项目内容  \n",
    "`ls -l`\n",
    "4. 更改文件所有权  \n",
    "```bash\n",
    "sudo chown -R $USER:$USER .\n",
    "```"
   ]
  },
  {
   "cell_type": "markdown",
   "metadata": {},
   "source": [
    "## 3 连接数据库 \n",
    "1. 打开mysite/setting.py  \n",
    "改为：\n",
    "```python\n",
    "DATABASES = {\n",
    "    'default': {\n",
    "        'ENGINE': 'django.db.backends.postgresql',\n",
    "        'NAME': 'postgres',\n",
    "        'USER': 'postgres',\n",
    "        'HOST': 'db',\n",
    "        'PORT': 5432,\n",
    "    }\n",
    "}\n",
    "```\n",
    "2. 从项目的顶级目录运行 docker-compose up命令"
   ]
  }
 ],
 "metadata": {
  "kernelspec": {
   "display_name": "Python 3",
   "language": "python",
   "name": "python3"
  },
  "language_info": {
   "codemirror_mode": {
    "name": "ipython",
    "version": 3
   },
   "file_extension": ".py",
   "mimetype": "text/x-python",
   "name": "python",
   "nbconvert_exporter": "python",
   "pygments_lexer": "ipython3",
   "version": "3.7.2"
  }
 },
 "nbformat": 4,
 "nbformat_minor": 2
}
