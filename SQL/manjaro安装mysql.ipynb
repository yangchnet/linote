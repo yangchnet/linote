{
 "cells": [
  {
   "cell_type": "markdown",
   "metadata": {},
   "source": [
    "# 如何在manjaro中安装MySQL"
   ]
  },
  {
   "cell_type": "markdown",
   "metadata": {},
   "source": [
    "```bash\n",
    "# 安装MySQL\n",
    "pacman -S mysql\n",
    "# 初始化MySQL，记住输出的root密码\n",
    "mysqld --initialize --user=mysql --basedir=/usr --datadir=/var/lib/mysql\n",
    "# 设置开机启动MySQL服务\n",
    "systemctl enable mysqld.service\n",
    "systemctl daemon-reload\n",
    "systemctl start mysqld.service\n",
    "# 使用MySQL前必须修改root密码，MySQL 8.0.15不能使用set password修改密码\n",
    "mysql -u root -p\n",
    "mysql> ALTER USER 'root'@'localhost' IDENTIFIED WITH mysql_native_password BY '新密码';\n",
    "```"
   ]
  }
 ],
 "metadata": {
  "kernelspec": {
   "display_name": "Python 3",
   "language": "python",
   "name": "python3"
  },
  "language_info": {
   "codemirror_mode": {
    "name": "ipython",
    "version": 3
   },
   "file_extension": ".py",
   "mimetype": "text/x-python",
   "name": "python",
   "nbconvert_exporter": "python",
   "pygments_lexer": "ipython3",
   "version": "3.8.2"
  }
 },
 "nbformat": 4,
 "nbformat_minor": 4
}
