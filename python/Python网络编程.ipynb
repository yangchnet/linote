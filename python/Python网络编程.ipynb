{
 "cells": [
  {
   "cell_type": "markdown",
   "metadata": {},
   "source": [
    "# python 网络编程"
   ]
  },
  {
   "cell_type": "markdown",
   "metadata": {},
   "source": [
    "使用socket模块，即套接字\n",
    "使用socket来创建套接字的语法如下：\n",
    "socket.socket(family[, type[, proto]])\n",
    "> 参数解释：\n",
    "* family: 套接字家族可以使AF_UNIX或者AF_INET\n",
    "* type: 套接字类型可以根据是面向连接的还是非连接分为SOCK_STREAM或SOCK_DGRAM\n",
    "* protocol：一般不填默认为0 \n",
    "\n",
    "#### socket对象的方法\n",
    "* s.bind()\t\n",
    "绑定地址（host,port）到套接字， 在AF_INET下,以元组（host,port）的形式表示地址。\n",
    "* s.listen()\t\n",
    "开始TCP监听。backlog指定在拒绝连接之前，操作系统可以挂起的最大连接数量。该值至少为1，大部分应用程序设为5就可以了。\n",
    "* s.accept()\t\n",
    "被动接受TCP客户端连接,(阻塞式)等待连接的到来\n",
    "客户端套接字\n",
    "* s.connect()\t\n",
    "主动初始化TCP服务器连接，。一般address的格式为元组（hostname,port），如果连接出错，返回socket.error错误。\n",
    "* s.connect_ex()\t\n",
    "connect()函数的扩展版本,出错时返回出错码,而不是抛出异常\n",
    "公共用途的套接字函数\n",
    "* s.recv()\t\n",
    "接收TCP数据，数据以字符串形式返回，bufsize指定要接收的最大数据量。flag提供有关消息的其他信息，通常可以忽略。\n",
    "* s.send()\t\n",
    "发送TCP数据，将string中的数据发送到连接的套接字。返回值是要发送的字节数量，该数量可能小于string的字节大小。\n",
    "* s.sendall()\t\n",
    "完整发送TCP数据，完整发送TCP数据。将string中的数据发送到连接的套接字，但在返回之前会尝试发送所有数据。成功返回None，失败则抛出异常。\n",
    "* s.recvfrom()\t\n",
    "接收UDP数据，与recv()类似，但返回值是（data,address）。其中data是包含接收数据的字符串，address是发送数据的套接字地址。\n",
    "* s.sendto()\t\n",
    "发送UDP数据，将数据发送到套接字，address是形式为（ipaddr，port）的元组，指定远程地址。返回值是发送的字节数。\n",
    "* s.close()\t\n",
    "关闭套接字\n",
    "* s.getpeername()\t\n",
    "返回连接套接字的远程地址。返回值通常是元组（ipaddr,port）。\n",
    "* s.getsockname()\t\n",
    "返回套接字自己的地址。通常是一个元组(ipaddr,port)\n",
    "* s.setsockopt(level,optname,value)\t\n",
    "设置给定套接字选项的值。\n",
    "* s.getsockopt(level,optname[.buflen])\t\n",
    "返回套接字选项的值。\n",
    "* s.settimeout(timeout)\t\n",
    "设置套接字操作的超时期，timeout是一个浮点数，单位是秒。值为None表示没有超时期。一般，超时期应该在刚创建套接字时设置，因为它们可能用于连接的操作（如connect()）\n",
    "* s.gettimeout()\t\n",
    "返回当前超时期的值，单位是秒，如果没有设置超时期，则返回None。\n",
    "* s.fileno()\t\n",
    "返回套接字的文件描述符。\n",
    "* s.setblocking(flag)\t\n",
    "如果flag为0，则将套接字设为非阻塞模式，否则将套接字设为阻塞模式（默认值）。非阻塞模式下，如果调用recv()没有发现任何数据，或send()调用无法立即发送数据，那么将引起socket.error异常。\n",
    "* s.makefile()\t\n",
    "创建一个与该套接字相关连的文件"
   ]
  },
  {
   "cell_type": "markdown",
   "metadata": {},
   "source": [
    "### 网络编程的基本设置步骤"
   ]
  },
  {
   "cell_type": "markdown",
   "metadata": {},
   "source": [
    "#### 服务端配置  \n",
    "1. 导入socket模块\n",
    "2. 使用bind方法创建套接字\n",
    "3. 使用listen方法等待连接，\n",
    "4. 使用accept方法被动接收tcp连接\n",
    "5. 使用send或recv方法进行收发\n",
    "\n",
    "#### 客户端配置  \n",
    "1. 导入socket模块\n",
    "2. 使用bind方法创建套接字\n",
    "3. 使用connect方法进行主动tcp连接\n",
    "4. 使用send或recv方法进行收发"
   ]
  }
 ],
 "metadata": {
  "kernelspec": {
   "display_name": "Python 3",
   "language": "python",
   "name": "python3"
  },
  "language_info": {
   "codemirror_mode": {
    "name": "ipython",
    "version": 3
   },
   "file_extension": ".py",
   "mimetype": "text/x-python",
   "name": "python",
   "nbconvert_exporter": "python",
   "pygments_lexer": "ipython3",
   "version": "3.5.2"
  }
 },
 "nbformat": 4,
 "nbformat_minor": 2
}
