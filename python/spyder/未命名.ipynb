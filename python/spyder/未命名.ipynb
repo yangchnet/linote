{
 "cells": [
  {
   "cell_type": "code",
   "execution_count": 1,
   "metadata": {},
   "outputs": [],
   "source": [
    "import requests "
   ]
  },
  {
   "cell_type": "code",
   "execution_count": 18,
   "metadata": {},
   "outputs": [
    {
     "name": "stdout",
     "output_type": "stream",
     "text": [
      "开始登陆\n",
      "successful\n",
      "开始预约\n"
     ]
    }
   ],
   "source": [
    "with requests.Session() as s:\n",
    "    print('开始登陆')\n",
    "    Header = {\n",
    "        'Referer': 'http://libzwxt.ahnu.edu.cn/SeatWx/Seat.aspx',\n",
    "        'User-Agent': 'Mozilla/5.0 (X11; Linux x86_64) AppleWebKit/537.36 (KHTML, like Gecko) Chrome/73.0.3683.86 Safari/537.36'\n",
    "    }\n",
    "    postUrl = 'http://libzwxt.ahnu.edu.cn/SeatWx/login.aspx'\n",
    "    postData = {\n",
    "        '__VIEWSTATE': '/wEPDwULLTE0MTcxNzMyMjZkZJoL/NVYL0T+r5y3cXpfEFEzXz+dxNVtb7TlDKf8jIxz',\n",
    "        '__VIEWSTATEGENERATOR': 'F2D227C8',\n",
    "        '__EVENTVALIDATION': '/wEWBQKV1czoDALyj/OQAgKXtYSMCgKM54rGBgKj48j5D1AZa5C6Zak6btNjhoHWy1AzD9qoyayyu5qGeLnFyXKG',\n",
    "        'tbUserName': '16111206038',\n",
    "        'tbPassWord': '16111206038',\n",
    "        'Button1': '登 录' ,\n",
    "        'hfurl':'' \n",
    "    }\n",
    "    login = s.post(postUrl, data=postData, headers=Header)\n",
    "#     print(login.content.decode())\n",
    "    if '个人中心' in login.content.decode():\n",
    "        print('successful')\n",
    "    \n",
    "    print('开始预约')\n",
    "    Header = {\n",
    "        'Referer': 'http://libzwxt.ahnu.edu.cn/SeatWx/Seat.aspx?fid=3&sid=1438',\n",
    "        'User-Agent': 'Mozilla/5.0 (X11; Linux x86_64) AppleWebKit/537.36 (KHTML, like Gecko) Chrome/73.0.3683.86 Safari/537.36'\n",
    "    }\n",
    "        \n",
    "    reserveUrl = 'http://libzwxt.ahnu.edu.cn/SeatWx/Seat.aspx?fid=3&sid=1438'\n",
    "    reserverData = {\n",
    "        'atDate': '2019-07-11',\n",
    "        'et': '2019-07-11 21:00',\n",
    "        'sid': '1438',\n",
    "        'st': '2019-07-11 17:00',\n",
    "    }\n",
    "    reserve = s.post(reserveUrl, data=reserverData, headers=Header)\n",
    "#     print(reserve.content.decode())"
   ]
  },
  {
   "cell_type": "code",
   "execution_count": 14,
   "metadata": {},
   "outputs": [],
   "source": [
    "import time\n",
    "import requests\n",
    "\n",
    "today = time.strftime(\"%Y-%m-%d\", time.localtime())\n",
    "tomorrow = today[:-2] + (str(int(today[-2:])+1)).zfill(2)\n",
    "\n",
    "def reservation(date):\n",
    "   \n",
    "    header = {\n",
    "    \"Referer\": \"http://libzwxt.ahnu.edu.cn/SeatWx/Seat.aspx?fid=3&sid=1438\",\n",
    "    'User-Agent': \"Mozilla/5.0 (X11; Linux x86_64) AppleWebKit/537.36 (KHTML, like Gecko) Chrome/73.0.3683.86 Safari/537.36\",\n",
    "    'Cookie': 'ASP.NET_SessionId=ucnexmhdwqrpwhggyzybjwyy; SeatManage=U_ID=R3RFA1/UsOI=&U_UserID=R3RFA1/UsOI=&U_StuCode=2aOU5Sq4ZgAW7sav+J/Cvg==&U_CardID=uRME5veOb1AbIJTLyb9VCg==&U_Name=otC6vEXB/fA=&U_WeiXinID=&U_SchoolID=S9m81ttZo/c=&U_DepartID=S9m81ttZo/c=&U_LocalStatus=S9m81ttZo/c=&U_BlackStatus=S9m81ttZo/c=&U_MailEnable=yLHpS3P7poo=&U_WeiXinMsgEnable=yLHpS3P7poo=&U_WeiXinBind=yLHpS3P7poo=&U_UtID=uByUG2rkKOA=&U_ClassID=yLHpS3P7poo=',\n",
    "    }\n",
    "    \n",
    "    postUrl = \"http://libzwxt.ahnu.edu.cn/SeatWx/ajaxpro/SeatManage.Seat,SeatManage.ashx\"\n",
    "    \n",
    "    postData = {\n",
    "        'atDate': '2019-07-11',\n",
    "        'et': '2019-07-11 21:00',\n",
    "        'sid': '1438',\n",
    "        'st': '2019-07-11 17:00',\n",
    "    }\n",
    "    \n",
    "    responseRes = requests.post(postUrl, data = postData, headers = header)\n",
    "\n",
    "reservation(tomorrow)\n"
   ]
  }
 ],
 "metadata": {
  "kernelspec": {
   "display_name": "Python 3",
   "language": "python",
   "name": "python3"
  },
  "language_info": {
   "codemirror_mode": {
    "name": "ipython",
    "version": 3
   },
   "file_extension": ".py",
   "mimetype": "text/x-python",
   "name": "python",
   "nbconvert_exporter": "python",
   "pygments_lexer": "ipython3",
   "version": "3.7.2"
  }
 },
 "nbformat": 4,
 "nbformat_minor": 2
}
