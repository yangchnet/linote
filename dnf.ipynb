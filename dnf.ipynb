{
 "cells": [
  {
   "cell_type": "markdown",
   "metadata": {},
   "source": [
    "# 基于卷积神经网络和决策树的体域网数据融合方法"
   ]
  },
  {
   "cell_type": "raw",
   "metadata": {},
   "source": [
    "现阶段想法:在softmax层后接随机森林，通过种树增加分类准确率"
   ]
  },
  {
   "cell_type": "code",
   "execution_count": 1,
   "metadata": {},
   "outputs": [],
   "source": [
    "import tensorflow as tf\n",
    "import numpy as np\n",
    "import tensorflow.examples.tutorials.mnist.input_data as input_data\n",
    "import scipy as sp\n",
    "%matplotlib inline"
   ]
  },
  {
   "cell_type": "code",
   "execution_count": 4,
   "metadata": {},
   "outputs": [],
   "source": [
    "DEPTH = 3  # Depth of a tree\n",
    "N_LEAF = 2 ** (DEPTH + 1)  # Number of leaf node\n",
    "N_LABEL = 10  # Number of classes\n",
    "N_TREE = 5  # Number of trees (ensemble)\n",
    "N_BATCH = 128  # Number of data points per mini-batch 分批训练，每一批128个"
   ]
  },
  {
   "cell_type": "markdown",
   "metadata": {},
   "source": [
    "--------"
   ]
  },
  {
   "cell_type": "markdown",
   "metadata": {},
   "source": [
    "### 初始化矩阵"
   ]
  },
  {
   "cell_type": "code",
   "execution_count": 5,
   "metadata": {},
   "outputs": [],
   "source": [
    "def init_weights(shape):\n",
    "    return tf.Variable(tf.random_normal(shape, stddev=0.01))"
   ]
  },
  {
   "cell_type": "code",
   "execution_count": 6,
   "metadata": {},
   "outputs": [],
   "source": [
    "def init_prob_weights(shape, minval=-5, maxval=5):\n",
    "    return tf.Variable(tf.random_uniform(shape, minval, maxval))"
   ]
  },
  {
   "cell_type": "markdown",
   "metadata": {},
   "source": [
    "-------"
   ]
  },
  {
   "cell_type": "markdown",
   "metadata": {},
   "source": [
    "### 定义模型"
   ]
  },
  {
   "cell_type": "markdown",
   "metadata": {},
   "source": [
    "* a表示alive,激活之意，eg:l1a,表示layer_1_alive，第一个激活层\n",
    "* w表示weight,权重"
   ]
  },
  {
   "cell_type": "code",
   "execution_count": 2,
   "metadata": {},
   "outputs": [],
   "source": [
    "def model(X, w, w2, w3, w4_e, w_d_e, w_l_e, p_keep_conv, p_keep_hidden):\n",
    "    # 激活层1 & 池化层1 & dropout\n",
    "    l1a = tf.nn.relu(tf.nn.conv2d(X, w, [1, 1, 1, 1], 'SAME'))\n",
    "    l1 = tf.nn.max_pool(l1a, ksize=[1, 2, 2, 1], strides=[1, 2, 2, 1], \n",
    "                        padding='SAME')\n",
    "    l1 = tf.nn.dropout(l1, p_keep_conv)\n",
    "    \n",
    "    # 激活层2 & 池化层 & dropout\n",
    "    l2a = tf.nn.relu(tf.nn.conv2d(l1, w2, [1, 1, 1, 1], 'SAME'))\n",
    "    l2 = tf.nn.max_pool(l2a, ksize=[1, 2, 2, 1],\n",
    "                       strides=[1, 2, 2, 1], padding='SAME')\n",
    "    l2 = tf.nn.dropout(l2, p_keep_conv)\n",
    "    \n",
    "    # 激活层3 & 池化层 & full connected layer & dropout\n",
    "    l3a = tf.nn.relu(tf.nn.conv2d(l2, w3, [1, 1, 1, 1], 'SAME'))\n",
    "    l3 = tf.nn.max_pool(l3a, ksize=[1, 2, 2, 1],\n",
    "                       strides=[1, 2, 2, 1], padding='SAME')\n",
    "    l3 = tf.reshape(l3, [-1, w4_e[0].get_shape().as_list()[0]])\n",
    "    l3 = tf.nn.dropout(l3, p_keep_conv)\n",
    "    \n",
    "    # decision node & prediction node (leaf node)\n",
    "    decision_p_e = []\n",
    "    leaf_p_e = []\n",
    "    for w4, w_d, w_l in zip(w4_e, w_d_e, w_l_e):\n",
    "        l4 = tf.nn.relu(tf.matmul(l3, w4))\n",
    "        l4 = tf.nn.drop(l4, p_keep_conv)\n",
    "        \n",
    "        decision_p = tf.nn.sigmoid(tf.matmul(l4, w_d))\n",
    "        leaf_p = tf.nn.softmax(w_l)\n",
    "        \n",
    "        decison_p_e.append(decison_p)\n",
    "        leaf_p_e.append(leaf_p)\n",
    "        \n",
    "    return decision_p_e, leaf_p_e  \n",
    "    "
   ]
  },
  {
   "cell_type": "code",
   "execution_count": 5,
   "metadata": {},
   "outputs": [],
   "source": [
    "X = tf.placeholder(\"float\", [N_BATCH, 28, 28, 1]) \n",
    "Y = tf.placeholder(\"float\", [N_BATCH, N_LABEL]) "
   ]
  }
 ],
 "metadata": {
  "kernelspec": {
   "display_name": "Python 3",
   "language": "python",
   "name": "python3"
  },
  "language_info": {
   "codemirror_mode": {
    "name": "ipython",
    "version": 3
   },
   "file_extension": ".py",
   "mimetype": "text/x-python",
   "name": "python",
   "nbconvert_exporter": "python",
   "pygments_lexer": "ipython3",
   "version": "3.7.2"
  }
 },
 "nbformat": 4,
 "nbformat_minor": 2
}
