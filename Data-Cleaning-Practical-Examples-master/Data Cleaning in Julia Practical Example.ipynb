{
 "cells": [
  {
   "cell_type": "markdown",
   "metadata": {},
   "source": [
    "# Data Cleaning In Julia\n",
    "\n",
    "### Common Issues With Data\n",
    "+ Reading the file\n",
    "+ Inconsistent Column Names\n",
    "+ Missing Data\n",
    "+ Different Data Types \n",
    "+ Duplicate rows\n",
    "+ etc"
   ]
  },
  {
   "cell_type": "code",
   "execution_count": 2,
   "metadata": {},
   "outputs": [],
   "source": [
    "# EDA packages\n",
    "using DataFrames"
   ]
  },
  {
   "cell_type": "markdown",
   "metadata": {},
   "source": [
    "## Loading or Reading the File\n",
    "+ Encoding Error\n",
    "+ Inconsistent rows "
   ]
  },
  {
   "cell_type": "code",
   "execution_count": 3,
   "metadata": {},
   "outputs": [
    {
     "ename": "LoadError",
     "evalue": "\u001b[91mArgumentError: Columns and column index must be the same length\u001b[39m",
     "output_type": "error",
     "traceback": [
      "\u001b[91mArgumentError: Columns and column index must be the same length\u001b[39m",
      "",
      "Stacktrace:",
      " [1] \u001b[1mDataFrames.DataFrame\u001b[22m\u001b[22m\u001b[1m(\u001b[22m\u001b[22m::Array{Any,1}, ::DataFrames.Index\u001b[1m)\u001b[22m\u001b[22m at \u001b[1mC:\\Users\\This PC\\.julia\\v0.6\\DataFrames\\src\\dataframe\\dataframe.jl:91\u001b[22m\u001b[22m",
      " [2] \u001b[1mbuilddf\u001b[22m\u001b[22m\u001b[1m(\u001b[22m\u001b[22m::Int64, ::Int64, ::Int64, ::Int64, ::DataFrames.ParsedCSV, ::DataFrames.ParseOptions{String,String}\u001b[1m)\u001b[22m\u001b[22m at \u001b[1mC:\\Users\\This PC\\.julia\\v0.6\\DataFrames\\src\\dataframe\\io.jl:652\u001b[22m\u001b[22m",
      " [3] \u001b[1mreadtable!\u001b[22m\u001b[22m\u001b[1m(\u001b[22m\u001b[22m::DataFrames.ParsedCSV, ::IOStream, ::Int64, ::DataFrames.ParseOptions{String,String}\u001b[1m)\u001b[22m\u001b[22m at \u001b[1mC:\\Users\\This PC\\.julia\\v0.6\\DataFrames\\src\\dataframe\\io.jl:792\u001b[22m\u001b[22m",
      " [4] \u001b[1m#readtable#84\u001b[22m\u001b[22m\u001b[1m(\u001b[22m\u001b[22m::Bool, ::Char, ::Array{Char,1}, ::Char, ::Array{String,1}, ::Array{String,1}, ::Array{String,1}, ::Bool, ::Int64, ::Array{Symbol,1}, ::Array{Any,1}, ::Bool, ::Char, ::Bool, ::Int64, ::Array{Int64,1}, ::Bool, ::Symbol, ::Bool, ::Bool, ::DataFrames.#readtable, ::IOStream, ::Int64\u001b[1m)\u001b[22m\u001b[22m at \u001b[1mC:\\Users\\This PC\\.julia\\v0.6\\DataFrames\\src\\dataframe\\io.jl:851\u001b[22m\u001b[22m",
      " [5] \u001b[1m(::DataFrames.#kw##readtable)\u001b[22m\u001b[22m\u001b[1m(\u001b[22m\u001b[22m::Array{Any,1}, ::DataFrames.#readtable, ::IOStream, ::Int64\u001b[1m)\u001b[22m\u001b[22m at \u001b[1m.\\<missing>:0\u001b[22m\u001b[22m",
      " [6] \u001b[1m#readtable#85\u001b[22m\u001b[22m\u001b[1m(\u001b[22m\u001b[22m::Bool, ::Char, ::Array{Char,1}, ::Char, ::Array{String,1}, ::Array{String,1}, ::Array{String,1}, ::Bool, ::Int64, ::Array{Symbol,1}, ::Array{Any,1}, ::Bool, ::Char, ::Bool, ::Int64, ::Array{Int64,1}, ::Bool, ::Symbol, ::Bool, ::Bool, ::DataFrames.#readtable, ::String\u001b[1m)\u001b[22m\u001b[22m at \u001b[1mC:\\Users\\This PC\\.julia\\v0.6\\DataFrames\\src\\dataframe\\io.jl:945\u001b[22m\u001b[22m",
      " [7] \u001b[1mreadtable\u001b[22m\u001b[22m\u001b[1m(\u001b[22m\u001b[22m::String\u001b[1m)\u001b[22m\u001b[22m at \u001b[1mC:\\Users\\This PC\\.julia\\v0.6\\DataFrames\\src\\dataframe\\io.jl:930\u001b[22m\u001b[22m",
      " [8] \u001b[1minclude_string\u001b[22m\u001b[22m\u001b[1m(\u001b[22m\u001b[22m::String, ::String\u001b[1m)\u001b[22m\u001b[22m at \u001b[1m.\\loading.jl:522\u001b[22m\u001b[22m"
     ]
    }
   ],
   "source": [
    "# Issue 1 \n",
    "df = readtable(\"raw_data_unmodified.csv\")"
   ]
  },
  {
   "cell_type": "code",
   "execution_count": 4,
   "metadata": {},
   "outputs": [
    {
     "ename": "LoadError",
     "evalue": "\u001b[91mArgumentError: Argument 'encoding' only supports ':utf8' currently.\u001b[39m",
     "output_type": "error",
     "traceback": [
      "\u001b[91mArgumentError: Argument 'encoding' only supports ':utf8' currently.\u001b[39m",
      "",
      "Stacktrace:",
      " [1] \u001b[1m#readtable#84\u001b[22m\u001b[22m\u001b[1m(\u001b[22m\u001b[22m::Bool, ::Char, ::Array{Char,1}, ::Char, ::Array{String,1}, ::Array{String,1}, ::Array{String,1}, ::Bool, ::Int64, ::Array{Symbol,1}, ::Array{Any,1}, ::Bool, ::Char, ::Bool, ::Int64, ::Array{Int64,1}, ::Bool, ::Symbol, ::Bool, ::Bool, ::DataFrames.#readtable, ::IOStream, ::Int64\u001b[1m)\u001b[22m\u001b[22m at \u001b[1mC:\\Users\\This PC\\.julia\\v0.6\\DataFrames\\src\\dataframe\\io.jl:821\u001b[22m\u001b[22m",
      " [2] \u001b[1m(::DataFrames.#kw##readtable)\u001b[22m\u001b[22m\u001b[1m(\u001b[22m\u001b[22m::Array{Any,1}, ::DataFrames.#readtable, ::IOStream, ::Int64\u001b[1m)\u001b[22m\u001b[22m at \u001b[1m.\\<missing>:0\u001b[22m\u001b[22m",
      " [3] \u001b[1m#readtable#85\u001b[22m\u001b[22m\u001b[1m(\u001b[22m\u001b[22m::Bool, ::Char, ::Array{Char,1}, ::Char, ::Array{String,1}, ::Array{String,1}, ::Array{String,1}, ::Bool, ::Int64, ::Array{Symbol,1}, ::Array{Any,1}, ::Bool, ::Char, ::Bool, ::Int64, ::Array{Int64,1}, ::Bool, ::Symbol, ::Bool, ::Bool, ::DataFrames.#readtable, ::String\u001b[1m)\u001b[22m\u001b[22m at \u001b[1mC:\\Users\\This PC\\.julia\\v0.6\\DataFrames\\src\\dataframe\\io.jl:945\u001b[22m\u001b[22m",
      " [4] \u001b[1m(::DataFrames.#kw##readtable)\u001b[22m\u001b[22m\u001b[1m(\u001b[22m\u001b[22m::Array{Any,1}, ::DataFrames.#readtable, ::String\u001b[1m)\u001b[22m\u001b[22m at \u001b[1m.\\<missing>:0\u001b[22m\u001b[22m",
      " [5] \u001b[1minclude_string\u001b[22m\u001b[22m\u001b[1m(\u001b[22m\u001b[22m::String, ::String\u001b[1m)\u001b[22m\u001b[22m at \u001b[1m.\\loading.jl:522\u001b[22m\u001b[22m"
     ]
    }
   ],
   "source": [
    "# Solution 1 Encoding it\n",
    "df = readtable(\"raw_data_unmodified.csv\",encoding=:latin1)"
   ]
  },
  {
   "cell_type": "code",
   "execution_count": 5,
   "metadata": {},
   "outputs": [
    {
     "ename": "LoadError",
     "evalue": "\u001b[91mArgumentError: Columns and column index must be the same length\u001b[39m",
     "output_type": "error",
     "traceback": [
      "\u001b[91mArgumentError: Columns and column index must be the same length\u001b[39m",
      "",
      "Stacktrace:",
      " [1] \u001b[1mDataFrames.DataFrame\u001b[22m\u001b[22m\u001b[1m(\u001b[22m\u001b[22m::Array{Any,1}, ::DataFrames.Index\u001b[1m)\u001b[22m\u001b[22m at \u001b[1mC:\\Users\\This PC\\.julia\\v0.6\\DataFrames\\src\\dataframe\\dataframe.jl:91\u001b[22m\u001b[22m",
      " [2] \u001b[1mbuilddf\u001b[22m\u001b[22m\u001b[1m(\u001b[22m\u001b[22m::Int64, ::Int64, ::Int64, ::Int64, ::DataFrames.ParsedCSV, ::DataFrames.ParseOptions{String,String}\u001b[1m)\u001b[22m\u001b[22m at \u001b[1mC:\\Users\\This PC\\.julia\\v0.6\\DataFrames\\src\\dataframe\\io.jl:652\u001b[22m\u001b[22m",
      " [3] \u001b[1mreadtable!\u001b[22m\u001b[22m\u001b[1m(\u001b[22m\u001b[22m::DataFrames.ParsedCSV, ::IOStream, ::Int64, ::DataFrames.ParseOptions{String,String}\u001b[1m)\u001b[22m\u001b[22m at \u001b[1mC:\\Users\\This PC\\.julia\\v0.6\\DataFrames\\src\\dataframe\\io.jl:792\u001b[22m\u001b[22m",
      " [4] \u001b[1m#readtable#84\u001b[22m\u001b[22m\u001b[1m(\u001b[22m\u001b[22m::Bool, ::Char, ::Array{Char,1}, ::Char, ::Array{String,1}, ::Array{String,1}, ::Array{String,1}, ::Bool, ::Int64, ::Array{Symbol,1}, ::Array{Any,1}, ::Bool, ::Char, ::Bool, ::Int64, ::Array{Int64,1}, ::Bool, ::Symbol, ::Bool, ::Bool, ::DataFrames.#readtable, ::IOStream, ::Int64\u001b[1m)\u001b[22m\u001b[22m at \u001b[1mC:\\Users\\This PC\\.julia\\v0.6\\DataFrames\\src\\dataframe\\io.jl:851\u001b[22m\u001b[22m",
      " [5] \u001b[1m(::DataFrames.#kw##readtable)\u001b[22m\u001b[22m\u001b[1m(\u001b[22m\u001b[22m::Array{Any,1}, ::DataFrames.#readtable, ::IOStream, ::Int64\u001b[1m)\u001b[22m\u001b[22m at \u001b[1m.\\<missing>:0\u001b[22m\u001b[22m",
      " [6] \u001b[1m#readtable#85\u001b[22m\u001b[22m\u001b[1m(\u001b[22m\u001b[22m::Bool, ::Char, ::Array{Char,1}, ::Char, ::Array{String,1}, ::Array{String,1}, ::Array{String,1}, ::Bool, ::Int64, ::Array{Symbol,1}, ::Array{Any,1}, ::Bool, ::Char, ::Bool, ::Int64, ::Array{Int64,1}, ::Bool, ::Symbol, ::Bool, ::Bool, ::DataFrames.#readtable, ::String\u001b[1m)\u001b[22m\u001b[22m at \u001b[1mC:\\Users\\This PC\\.julia\\v0.6\\DataFrames\\src\\dataframe\\io.jl:945\u001b[22m\u001b[22m",
      " [7] \u001b[1m(::DataFrames.#kw##readtable)\u001b[22m\u001b[22m\u001b[1m(\u001b[22m\u001b[22m::Array{Any,1}, ::DataFrames.#readtable, ::String\u001b[1m)\u001b[22m\u001b[22m at \u001b[1m.\\<missing>:0\u001b[22m\u001b[22m",
      " [8] \u001b[1minclude_string\u001b[22m\u001b[22m\u001b[1m(\u001b[22m\u001b[22m::String, ::String\u001b[1m)\u001b[22m\u001b[22m at \u001b[1m.\\loading.jl:522\u001b[22m\u001b[22m"
     ]
    }
   ],
   "source": [
    "df = readtable(\"raw_data_unmodified.csv\",encoding=:utf8)"
   ]
  },
  {
   "cell_type": "code",
   "execution_count": 7,
   "metadata": {},
   "outputs": [
    {
     "data": {
      "text/html": [
       "<table class=\"data-frame\"><thead><tr><th></th><th>movie_title</th><th>num_critic_for_reviews</th><th>duration</th><th>DIRECTOR_facebook_likes</th><th>actor_3_facebook_likes</th><th>ACTOR_1_facebook_likes</th><th>gross</th><th>num_voted_users</th><th>Cast_Total_facebook_likes</th><th>facenumber_in_poster</th><th>num_user_for_reviews</th><th>budget</th><th>title_year</th><th>ACTOR_2_facebook_likes</th><th>imdb_score</th><th>title_year_1</th></tr></thead><tbody><tr><th>1</th><td>Avatar?ÿ</td><td>723</td><td>178</td><td>10</td><td>855</td><td>1000</td><td>760505847</td><td>886204</td><td>4834</td><td>NA</td><td>3054</td><td>237000000</td><td>2009</td><td>936</td><td>7.9</td><td>2009</td></tr><tr><th>2</th><td>Pirates of the Caribbean: At World's End?ÿ</td><td>302</td><td>NA</td><td>563</td><td>1000</td><td>40000</td><td>309404152</td><td>471220</td><td>48350</td><td>NA</td><td>1238</td><td>300000000</td><td>2007</td><td>5000</td><td>7.1</td><td>NA</td></tr><tr><th>3</th><td>Spectre?ÿ</td><td>602</td><td>148</td><td>20</td><td>161</td><td>11000</td><td>200074175</td><td>275868</td><td>11700</td><td>1</td><td>994</td><td>245000000</td><td>2015</td><td>393</td><td>6.8</td><td>2015</td></tr><tr><th>4</th><td>The Dark Knight Rises?ÿ</td><td>813</td><td>NA</td><td>22000</td><td>23000</td><td>27000</td><td>448130642</td><td>1144337</td><td>106759</td><td>NA</td><td>2701</td><td>250000000</td><td>2012</td><td>23000</td><td>8.5</td><td>NA</td></tr><tr><th>5</th><td>John Carter?ÿ</td><td>462</td><td>132</td><td>\"475\"</td><td>530</td><td>640</td><td>73058679</td><td>212204</td><td>1873</td><td>1</td><td>738</td><td>263700000</td><td>2012</td><td>632</td><td>6.6</td><td>NA</td></tr><tr><th>6</th><td>Spider-Man 3?ÿ</td><td>392</td><td>156</td><td>23</td><td>4000</td><td>24000</td><td>336530303</td><td>383056</td><td>46055</td><td>NA</td><td>1902</td><td>258000000</td><td>2007</td><td>11000</td><td>6.2</td><td>2007</td></tr><tr><th>7</th><td>Tangled?ÿ</td><td>324</td><td>NA</td><td>15</td><td>284</td><td>799</td><td>200807262</td><td>294810</td><td>NA</td><td>1</td><td>387</td><td>260000000</td><td>2010</td><td>553</td><td>7.8</td><td>NA</td></tr><tr><th>8</th><td>Avengers: Age of Ultron?ÿ</td><td>635</td><td>141</td><td>10</td><td>19000</td><td>26000</td><td>458991599</td><td>462669</td><td>92000</td><td>4</td><td>1117</td><td>250000000</td><td>2015</td><td>21000</td><td>7.5</td><td>NA</td></tr><tr><th>9</th><td>Avengers: Age of Ultron?ÿ</td><td>635</td><td>141</td><td>10</td><td>19000</td><td>26000</td><td>458991599</td><td>462669</td><td>92000</td><td>4</td><td>1117</td><td>250000000</td><td>2015</td><td>21000</td><td>7.5</td><td>2015</td></tr><tr><th>10</th><td>Harry Potter and the Half-Blood Prince?ÿ</td><td>375</td><td>153</td><td>282</td><td>10000</td><td>25000</td><td>301956980</td><td>321795</td><td>58753</td><td>3</td><td>973</td><td>250000000</td><td>2009</td><td>11000</td><td>7.5</td><td>NA</td></tr><tr><th>11</th><td>Batman v Superman: Dawn of Justice?ÿ</td><td>673</td><td>183</td><td>NA</td><td>2000</td><td>15000</td><td>330249062</td><td>NA</td><td>24450</td><td>NA</td><td>3018</td><td>250000000</td><td>2016</td><td>NA</td><td>6.9</td><td>2016</td></tr><tr><th>12</th><td>Superman Returns?ÿ</td><td>434</td><td>169</td><td>NA</td><td>903</td><td>18000</td><td>200069408</td><td>240396</td><td>NA</td><td>2</td><td>2367</td><td>209000000</td><td>2006</td><td>10000</td><td>6.1</td><td>NA</td></tr><tr><th>13</th><td>Quantum of Solace?ÿ</td><td>403</td><td>106</td><td>395</td><td>393</td><td>451</td><td>168368427</td><td>330784</td><td>2023</td><td>1</td><td>1243</td><td>200000000</td><td>2008</td><td>412</td><td>6.7</td><td>2008</td></tr><tr><th>14</th><td>Pirates of the Caribbean: Dead Man's Chest?ÿ</td><td>313</td><td>151</td><td>563</td><td>1000</td><td>40000</td><td>423032628</td><td>522040</td><td>48486</td><td>2</td><td>1832</td><td>225000000</td><td>2006</td><td>5000</td><td>7.3</td><td>2008</td></tr></tbody></table>"
      ],
      "text/plain": [
       "14×16 DataFrames.DataFrame\n",
       "│ Row │ movie_title                                    │\n",
       "├─────┼────────────────────────────────────────────────┤\n",
       "│ 1   │ \"Avatar?ÿ\"                                     │\n",
       "│ 2   │ \"Pirates of the Caribbean: At World's End?ÿ\"   │\n",
       "│ 3   │ \"Spectre?ÿ\"                                    │\n",
       "│ 4   │ \"The Dark Knight Rises?ÿ\"                      │\n",
       "│ 5   │ \"John Carter?ÿ\"                                │\n",
       "│ 6   │ \"Spider-Man 3?ÿ\"                               │\n",
       "│ 7   │ \"Tangled?ÿ\"                                    │\n",
       "│ 8   │ \"Avengers: Age of Ultron?ÿ\"                    │\n",
       "│ 9   │ \"Avengers: Age of Ultron?ÿ\"                    │\n",
       "│ 10  │ \"Harry Potter and the Half-Blood Prince?ÿ\"     │\n",
       "│ 11  │ \"Batman v Superman: Dawn of Justice?ÿ\"         │\n",
       "│ 12  │ \"Superman Returns?ÿ\"                           │\n",
       "│ 13  │ \"Quantum of Solace?ÿ\"                          │\n",
       "│ 14  │ \"Pirates of the Caribbean: Dead Man's Chest?ÿ\" │\n",
       "\n",
       "│ Row │ num_critic_for_reviews │ duration │ DIRECTOR_facebook_likes │\n",
       "├─────┼────────────────────────┼──────────┼─────────────────────────┤\n",
       "│ 1   │ 723                    │ 178      │ \"10\"                    │\n",
       "│ 2   │ 302                    │ NA       │ \"563\"                   │\n",
       "│ 3   │ 602                    │ 148      │ \"20\"                    │\n",
       "│ 4   │ 813                    │ NA       │ \"22000\"                 │\n",
       "│ 5   │ 462                    │ 132      │ \"\\\"475\\\"\"                 │\n",
       "│ 6   │ 392                    │ 156      │ \"23\"                    │\n",
       "│ 7   │ 324                    │ NA       │ \"15\"                    │\n",
       "│ 8   │ 635                    │ 141      │ \"10\"                    │\n",
       "│ 9   │ 635                    │ 141      │ \"10\"                    │\n",
       "│ 10  │ 375                    │ 153      │ \"282\"                   │\n",
       "│ 11  │ 673                    │ 183      │ NA                      │\n",
       "│ 12  │ 434                    │ 169      │ NA                      │\n",
       "│ 13  │ 403                    │ 106      │ \"395\"                   │\n",
       "│ 14  │ 313                    │ 151      │ \"563\"                   │\n",
       "\n",
       "│ Row │ actor_3_facebook_likes │ ACTOR_1_facebook_likes │ gross     │\n",
       "├─────┼────────────────────────┼────────────────────────┼───────────┤\n",
       "│ 1   │ 855                    │ 1000                   │ 760505847 │\n",
       "│ 2   │ 1000                   │ 40000                  │ 309404152 │\n",
       "│ 3   │ 161                    │ 11000                  │ 200074175 │\n",
       "│ 4   │ 23000                  │ 27000                  │ 448130642 │\n",
       "│ 5   │ 530                    │ 640                    │ 73058679  │\n",
       "│ 6   │ 4000                   │ 24000                  │ 336530303 │\n",
       "│ 7   │ 284                    │ 799                    │ 200807262 │\n",
       "│ 8   │ 19000                  │ 26000                  │ 458991599 │\n",
       "│ 9   │ 19000                  │ 26000                  │ 458991599 │\n",
       "│ 10  │ 10000                  │ 25000                  │ 301956980 │\n",
       "│ 11  │ 2000                   │ 15000                  │ 330249062 │\n",
       "│ 12  │ 903                    │ 18000                  │ 200069408 │\n",
       "│ 13  │ 393                    │ 451                    │ 168368427 │\n",
       "│ 14  │ 1000                   │ 40000                  │ 423032628 │\n",
       "\n",
       "│ Row │ num_voted_users │ Cast_Total_facebook_likes │ facenumber_in_poster │\n",
       "├─────┼─────────────────┼───────────────────────────┼──────────────────────┤\n",
       "│ 1   │ 886204          │ 4834                      │ NA                   │\n",
       "│ 2   │ 471220          │ 48350                     │ NA                   │\n",
       "│ 3   │ 275868          │ 11700                     │ 1                    │\n",
       "│ 4   │ 1144337         │ 106759                    │ NA                   │\n",
       "│ 5   │ 212204          │ 1873                      │ 1                    │\n",
       "│ 6   │ 383056          │ 46055                     │ NA                   │\n",
       "│ 7   │ 294810          │ NA                        │ 1                    │\n",
       "│ 8   │ 462669          │ 92000                     │ 4                    │\n",
       "│ 9   │ 462669          │ 92000                     │ 4                    │\n",
       "│ 10  │ 321795          │ 58753                     │ 3                    │\n",
       "│ 11  │ NA              │ 24450                     │ NA                   │\n",
       "│ 12  │ 240396          │ NA                        │ 2                    │\n",
       "│ 13  │ 330784          │ 2023                      │ 1                    │\n",
       "│ 14  │ 522040          │ 48486                     │ 2                    │\n",
       "\n",
       "│ Row │ num_user_for_reviews │ budget    │ title_year │ ACTOR_2_facebook_likes │\n",
       "├─────┼──────────────────────┼───────────┼────────────┼────────────────────────┤\n",
       "│ 1   │ 3054                 │ 237000000 │ 2009       │ 936                    │\n",
       "│ 2   │ 1238                 │ 300000000 │ 2007       │ 5000                   │\n",
       "│ 3   │ 994                  │ 245000000 │ 2015       │ 393                    │\n",
       "│ 4   │ 2701                 │ 250000000 │ 2012       │ 23000                  │\n",
       "│ 5   │ 738                  │ 263700000 │ 2012       │ 632                    │\n",
       "│ 6   │ 1902                 │ 258000000 │ 2007       │ 11000                  │\n",
       "│ 7   │ 387                  │ 260000000 │ 2010       │ 553                    │\n",
       "│ 8   │ 1117                 │ 250000000 │ 2015       │ 21000                  │\n",
       "│ 9   │ 1117                 │ 250000000 │ 2015       │ 21000                  │\n",
       "│ 10  │ 973                  │ 250000000 │ 2009       │ 11000                  │\n",
       "│ 11  │ 3018                 │ 250000000 │ 2016       │ NA                     │\n",
       "│ 12  │ 2367                 │ 209000000 │ 2006       │ 10000                  │\n",
       "│ 13  │ 1243                 │ 200000000 │ 2008       │ 412                    │\n",
       "│ 14  │ 1832                 │ 225000000 │ 2006       │ 5000                   │\n",
       "\n",
       "│ Row │ imdb_score │ title_year_1 │\n",
       "├─────┼────────────┼──────────────┤\n",
       "│ 1   │ 7.9        │ 2009         │\n",
       "│ 2   │ 7.1        │ NA           │\n",
       "│ 3   │ 6.8        │ 2015         │\n",
       "│ 4   │ 8.5        │ NA           │\n",
       "│ 5   │ 6.6        │ NA           │\n",
       "│ 6   │ 6.2        │ 2007         │\n",
       "│ 7   │ 7.8        │ NA           │\n",
       "│ 8   │ 7.5        │ NA           │\n",
       "│ 9   │ 7.5        │ 2015         │\n",
       "│ 10  │ 7.5        │ NA           │\n",
       "│ 11  │ 6.9        │ 2016         │\n",
       "│ 12  │ 6.1        │ NA           │\n",
       "│ 13  │ 6.7        │ 2008         │\n",
       "│ 14  │ 7.3        │ 2008         │"
      ]
     },
     "execution_count": 7,
     "metadata": {},
     "output_type": "execute_result"
    }
   ],
   "source": [
    "# Solution 2 Encoding it With A Text Editor\n",
    "df = readtable(\"raw_data_unmodified.csv\")"
   ]
  },
  {
   "cell_type": "code",
   "execution_count": null,
   "metadata": {},
   "outputs": [],
   "source": []
  },
  {
   "cell_type": "markdown",
   "metadata": {},
   "source": [
    "## Inconsistent Column Names\n",
    "+ Change Cases\n",
    "+ Rename them"
   ]
  },
  {
   "cell_type": "markdown",
   "metadata": {},
   "source": [
    "### Change the case to Upper"
   ]
  },
  {
   "cell_type": "code",
   "execution_count": 8,
   "metadata": {},
   "outputs": [
    {
     "data": {
      "text/html": [
       "<table class=\"data-frame\"><thead><tr><th></th><th>movie_title</th><th>num_critic_for_reviews</th><th>duration</th><th>DIRECTOR_facebook_likes</th><th>actor_3_facebook_likes</th><th>ACTOR_1_facebook_likes</th><th>gross</th><th>num_voted_users</th><th>Cast_Total_facebook_likes</th><th>facenumber_in_poster</th><th>num_user_for_reviews</th><th>budget</th><th>title_year</th><th>ACTOR_2_facebook_likes</th><th>imdb_score</th><th>title_year_1</th></tr></thead><tbody><tr><th>1</th><td>Avatar?ÿ</td><td>723</td><td>178</td><td>10</td><td>855</td><td>1000</td><td>760505847</td><td>886204</td><td>4834</td><td>NA</td><td>3054</td><td>237000000</td><td>2009</td><td>936</td><td>7.9</td><td>2009</td></tr><tr><th>2</th><td>Pirates of the Caribbean: At World's End?ÿ</td><td>302</td><td>NA</td><td>563</td><td>1000</td><td>40000</td><td>309404152</td><td>471220</td><td>48350</td><td>NA</td><td>1238</td><td>300000000</td><td>2007</td><td>5000</td><td>7.1</td><td>NA</td></tr><tr><th>3</th><td>Spectre?ÿ</td><td>602</td><td>148</td><td>20</td><td>161</td><td>11000</td><td>200074175</td><td>275868</td><td>11700</td><td>1</td><td>994</td><td>245000000</td><td>2015</td><td>393</td><td>6.8</td><td>2015</td></tr><tr><th>4</th><td>The Dark Knight Rises?ÿ</td><td>813</td><td>NA</td><td>22000</td><td>23000</td><td>27000</td><td>448130642</td><td>1144337</td><td>106759</td><td>NA</td><td>2701</td><td>250000000</td><td>2012</td><td>23000</td><td>8.5</td><td>NA</td></tr></tbody></table>"
      ],
      "text/plain": [
       "4×16 DataFrames.DataFrame\n",
       "│ Row │ movie_title                                  │ num_critic_for_reviews │\n",
       "├─────┼──────────────────────────────────────────────┼────────────────────────┤\n",
       "│ 1   │ \"Avatar?ÿ\"                                   │ 723                    │\n",
       "│ 2   │ \"Pirates of the Caribbean: At World's End?ÿ\" │ 302                    │\n",
       "│ 3   │ \"Spectre?ÿ\"                                  │ 602                    │\n",
       "│ 4   │ \"The Dark Knight Rises?ÿ\"                    │ 813                    │\n",
       "\n",
       "│ Row │ duration │ DIRECTOR_facebook_likes │ actor_3_facebook_likes │\n",
       "├─────┼──────────┼─────────────────────────┼────────────────────────┤\n",
       "│ 1   │ 178      │ \"10\"                    │ 855                    │\n",
       "│ 2   │ NA       │ \"563\"                   │ 1000                   │\n",
       "│ 3   │ 148      │ \"20\"                    │ 161                    │\n",
       "│ 4   │ NA       │ \"22000\"                 │ 23000                  │\n",
       "\n",
       "│ Row │ ACTOR_1_facebook_likes │ gross     │ num_voted_users │\n",
       "├─────┼────────────────────────┼───────────┼─────────────────┤\n",
       "│ 1   │ 1000                   │ 760505847 │ 886204          │\n",
       "│ 2   │ 40000                  │ 309404152 │ 471220          │\n",
       "│ 3   │ 11000                  │ 200074175 │ 275868          │\n",
       "│ 4   │ 27000                  │ 448130642 │ 1144337         │\n",
       "\n",
       "│ Row │ Cast_Total_facebook_likes │ facenumber_in_poster │\n",
       "├─────┼───────────────────────────┼──────────────────────┤\n",
       "│ 1   │ 4834                      │ NA                   │\n",
       "│ 2   │ 48350                     │ NA                   │\n",
       "│ 3   │ 11700                     │ 1                    │\n",
       "│ 4   │ 106759                    │ NA                   │\n",
       "\n",
       "│ Row │ num_user_for_reviews │ budget    │ title_year │ ACTOR_2_facebook_likes │\n",
       "├─────┼──────────────────────┼───────────┼────────────┼────────────────────────┤\n",
       "│ 1   │ 3054                 │ 237000000 │ 2009       │ 936                    │\n",
       "│ 2   │ 1238                 │ 300000000 │ 2007       │ 5000                   │\n",
       "│ 3   │ 994                  │ 245000000 │ 2015       │ 393                    │\n",
       "│ 4   │ 2701                 │ 250000000 │ 2012       │ 23000                  │\n",
       "\n",
       "│ Row │ imdb_score │ title_year_1 │\n",
       "├─────┼────────────┼──────────────┤\n",
       "│ 1   │ 7.9        │ 2009         │\n",
       "│ 2   │ 7.1        │ NA           │\n",
       "│ 3   │ 6.8        │ 2015         │\n",
       "│ 4   │ 8.5        │ NA           │"
      ]
     },
     "execution_count": 8,
     "metadata": {},
     "output_type": "execute_result"
    }
   ],
   "source": [
    "head(df,4)"
   ]
  },
  {
   "cell_type": "code",
   "execution_count": 9,
   "metadata": {},
   "outputs": [
    {
     "data": {
      "text/plain": [
       "16-element Array{Symbol,1}:\n",
       " :movie_title              \n",
       " :num_critic_for_reviews   \n",
       " :duration                 \n",
       " :DIRECTOR_facebook_likes  \n",
       " :actor_3_facebook_likes   \n",
       " :ACTOR_1_facebook_likes   \n",
       " :gross                    \n",
       " :num_voted_users          \n",
       " :Cast_Total_facebook_likes\n",
       " :facenumber_in_poster     \n",
       " :num_user_for_reviews     \n",
       " :budget                   \n",
       " :title_year               \n",
       " :ACTOR_2_facebook_likes   \n",
       " :imdb_score               \n",
       " :title_year_1             "
      ]
     },
     "execution_count": 9,
     "metadata": {},
     "output_type": "execute_result"
    }
   ],
   "source": [
    "names(df)"
   ]
  },
  {
   "cell_type": "code",
   "execution_count": 10,
   "metadata": {},
   "outputs": [
    {
     "data": {
      "text/plain": [
       "\"SYMBOL[:MOVIE_TITLE, :NUM_CRITIC_FOR_REVIEWS, :DURATION, :DIRECTOR_FACEBOOK_LIKES, :ACTOR_3_FACEBOOK_LIKES, :ACTOR_1_FACEBOOK_LIKES, :GROSS, :NUM_VOTED_USERS, :CAST_TOTAL_FACEBOOK_LIKES, :FACENUMBER_IN_POSTER, :NUM_USER_FOR_REVIEWS, :BUDGET, :TITLE_YEAR, :ACTOR_2_FACEBOOK_LIKES, :IMDB_SCORE, :TITLE_YEAR_1]\""
      ]
     },
     "execution_count": 10,
     "metadata": {},
     "output_type": "execute_result"
    }
   ],
   "source": [
    "uppercase(string(names(df)))"
   ]
  },
  {
   "cell_type": "code",
   "execution_count": null,
   "metadata": {},
   "outputs": [],
   "source": [
    "# Use names! function and parse in an array \n",
    "# NB names!() will change the original\n",
    "# names!(dataframe,[arrayofname])"
   ]
  },
  {
   "cell_type": "code",
   "execution_count": 160,
   "metadata": {},
   "outputs": [
    {
     "data": {
      "text/plain": [
       "\"symbol[:movie_title, :num_critic_for_reviews, :time, :director_facebook_likes, :actor_3_facebook_likes, :actor_1_facebook_likes, :gross, :num_voted_users, :cast_total_facebook_likes, :facenumber_in_poster, :num_user_for_reviews, :budget, :title_year, :actor_2_facebook_likes, :imdb_score, :title_year_1]\""
      ]
     },
     "execution_count": 160,
     "metadata": {},
     "output_type": "execute_result"
    }
   ],
   "source": [
    "lowercase(string(names(df)))"
   ]
  },
  {
   "cell_type": "code",
   "execution_count": 165,
   "metadata": {},
   "outputs": [
    {
     "ename": "LoadError",
     "evalue": "\u001b[91mMethodError: Cannot `convert` an object of type String to an object of type Array\nThis may have arisen from a call to the constructor Array(...),\nsince type constructors fall back to convert methods.\u001b[39m",
     "output_type": "error",
     "traceback": [
      "\u001b[91mMethodError: Cannot `convert` an object of type String to an object of type Array\nThis may have arisen from a call to the constructor Array(...),\nsince type constructors fall back to convert methods.\u001b[39m",
      "",
      "Stacktrace:",
      " [1] \u001b[1mArray\u001b[22m\u001b[22m\u001b[1m(\u001b[22m\u001b[22m::String\u001b[1m)\u001b[22m\u001b[22m at \u001b[1m.\\sysimg.jl:77\u001b[22m\u001b[22m",
      " [2] \u001b[1minclude_string\u001b[22m\u001b[22m\u001b[1m(\u001b[22m\u001b[22m::String, ::String\u001b[1m)\u001b[22m\u001b[22m at \u001b[1m.\\loading.jl:522\u001b[22m\u001b[22m"
     ]
    }
   ],
   "source": [
    "names!(df[1:end],Array(lowercase(string(names(df)))))"
   ]
  },
  {
   "cell_type": "code",
   "execution_count": 12,
   "metadata": {},
   "outputs": [
    {
     "data": {
      "text/html": [
       "<table class=\"data-frame\"><thead><tr><th></th><th>MOVIE_TITLE</th><th>NUM_CRITIC_FOR_REVIEWS</th><th>DURATION</th><th>DIRECTOR_FACEBOOK_LIKES</th><th>ACTOR_3_FACEBOOK_LIKES</th><th>ACTOR_1_FACEBOOK_LIKES</th><th>GROSS</th><th>NUM_VOTED_USERS</th><th>CAST_TOTAL_FACEBOOK_LIKES</th><th>FACENUMBER_IN_POSTER</th><th>NUM_USER_FOR_REVIEWS</th><th>BUDGET</th><th>TITLE_YEAR</th><th>ACTOR_2_FACEBOOK_LIKES</th><th>IMDB_SCORE</th><th>TITLE_YEAR_1</th></tr></thead><tbody><tr><th>1</th><td>Avatar?ÿ</td><td>723</td><td>178</td><td>10</td><td>855</td><td>1000</td><td>760505847</td><td>886204</td><td>4834</td><td>NA</td><td>3054</td><td>237000000</td><td>2009</td><td>936</td><td>7.9</td><td>2009</td></tr><tr><th>2</th><td>Pirates of the Caribbean: At World's End?ÿ</td><td>302</td><td>NA</td><td>563</td><td>1000</td><td>40000</td><td>309404152</td><td>471220</td><td>48350</td><td>NA</td><td>1238</td><td>300000000</td><td>2007</td><td>5000</td><td>7.1</td><td>NA</td></tr><tr><th>3</th><td>Spectre?ÿ</td><td>602</td><td>148</td><td>20</td><td>161</td><td>11000</td><td>200074175</td><td>275868</td><td>11700</td><td>1</td><td>994</td><td>245000000</td><td>2015</td><td>393</td><td>6.8</td><td>2015</td></tr><tr><th>4</th><td>The Dark Knight Rises?ÿ</td><td>813</td><td>NA</td><td>22000</td><td>23000</td><td>27000</td><td>448130642</td><td>1144337</td><td>106759</td><td>NA</td><td>2701</td><td>250000000</td><td>2012</td><td>23000</td><td>8.5</td><td>NA</td></tr><tr><th>5</th><td>John Carter?ÿ</td><td>462</td><td>132</td><td>\"475\"</td><td>530</td><td>640</td><td>73058679</td><td>212204</td><td>1873</td><td>1</td><td>738</td><td>263700000</td><td>2012</td><td>632</td><td>6.6</td><td>NA</td></tr><tr><th>6</th><td>Spider-Man 3?ÿ</td><td>392</td><td>156</td><td>23</td><td>4000</td><td>24000</td><td>336530303</td><td>383056</td><td>46055</td><td>NA</td><td>1902</td><td>258000000</td><td>2007</td><td>11000</td><td>6.2</td><td>2007</td></tr><tr><th>7</th><td>Tangled?ÿ</td><td>324</td><td>NA</td><td>15</td><td>284</td><td>799</td><td>200807262</td><td>294810</td><td>NA</td><td>1</td><td>387</td><td>260000000</td><td>2010</td><td>553</td><td>7.8</td><td>NA</td></tr><tr><th>8</th><td>Avengers: Age of Ultron?ÿ</td><td>635</td><td>141</td><td>10</td><td>19000</td><td>26000</td><td>458991599</td><td>462669</td><td>92000</td><td>4</td><td>1117</td><td>250000000</td><td>2015</td><td>21000</td><td>7.5</td><td>NA</td></tr><tr><th>9</th><td>Avengers: Age of Ultron?ÿ</td><td>635</td><td>141</td><td>10</td><td>19000</td><td>26000</td><td>458991599</td><td>462669</td><td>92000</td><td>4</td><td>1117</td><td>250000000</td><td>2015</td><td>21000</td><td>7.5</td><td>2015</td></tr><tr><th>10</th><td>Harry Potter and the Half-Blood Prince?ÿ</td><td>375</td><td>153</td><td>282</td><td>10000</td><td>25000</td><td>301956980</td><td>321795</td><td>58753</td><td>3</td><td>973</td><td>250000000</td><td>2009</td><td>11000</td><td>7.5</td><td>NA</td></tr><tr><th>11</th><td>Batman v Superman: Dawn of Justice?ÿ</td><td>673</td><td>183</td><td>NA</td><td>2000</td><td>15000</td><td>330249062</td><td>NA</td><td>24450</td><td>NA</td><td>3018</td><td>250000000</td><td>2016</td><td>NA</td><td>6.9</td><td>2016</td></tr><tr><th>12</th><td>Superman Returns?ÿ</td><td>434</td><td>169</td><td>NA</td><td>903</td><td>18000</td><td>200069408</td><td>240396</td><td>NA</td><td>2</td><td>2367</td><td>209000000</td><td>2006</td><td>10000</td><td>6.1</td><td>NA</td></tr><tr><th>13</th><td>Quantum of Solace?ÿ</td><td>403</td><td>106</td><td>395</td><td>393</td><td>451</td><td>168368427</td><td>330784</td><td>2023</td><td>1</td><td>1243</td><td>200000000</td><td>2008</td><td>412</td><td>6.7</td><td>2008</td></tr><tr><th>14</th><td>Pirates of the Caribbean: Dead Man's Chest?ÿ</td><td>313</td><td>151</td><td>563</td><td>1000</td><td>40000</td><td>423032628</td><td>522040</td><td>48486</td><td>2</td><td>1832</td><td>225000000</td><td>2006</td><td>5000</td><td>7.3</td><td>2008</td></tr></tbody></table>"
      ],
      "text/plain": [
       "14×16 DataFrames.DataFrame\n",
       "│ Row │ MOVIE_TITLE                                    │\n",
       "├─────┼────────────────────────────────────────────────┤\n",
       "│ 1   │ \"Avatar?ÿ\"                                     │\n",
       "│ 2   │ \"Pirates of the Caribbean: At World's End?ÿ\"   │\n",
       "│ 3   │ \"Spectre?ÿ\"                                    │\n",
       "│ 4   │ \"The Dark Knight Rises?ÿ\"                      │\n",
       "│ 5   │ \"John Carter?ÿ\"                                │\n",
       "│ 6   │ \"Spider-Man 3?ÿ\"                               │\n",
       "│ 7   │ \"Tangled?ÿ\"                                    │\n",
       "│ 8   │ \"Avengers: Age of Ultron?ÿ\"                    │\n",
       "│ 9   │ \"Avengers: Age of Ultron?ÿ\"                    │\n",
       "│ 10  │ \"Harry Potter and the Half-Blood Prince?ÿ\"     │\n",
       "│ 11  │ \"Batman v Superman: Dawn of Justice?ÿ\"         │\n",
       "│ 12  │ \"Superman Returns?ÿ\"                           │\n",
       "│ 13  │ \"Quantum of Solace?ÿ\"                          │\n",
       "│ 14  │ \"Pirates of the Caribbean: Dead Man's Chest?ÿ\" │\n",
       "\n",
       "│ Row │ NUM_CRITIC_FOR_REVIEWS │ DURATION │ DIRECTOR_FACEBOOK_LIKES │\n",
       "├─────┼────────────────────────┼──────────┼─────────────────────────┤\n",
       "│ 1   │ 723                    │ 178      │ \"10\"                    │\n",
       "│ 2   │ 302                    │ NA       │ \"563\"                   │\n",
       "│ 3   │ 602                    │ 148      │ \"20\"                    │\n",
       "│ 4   │ 813                    │ NA       │ \"22000\"                 │\n",
       "│ 5   │ 462                    │ 132      │ \"\\\"475\\\"\"                 │\n",
       "│ 6   │ 392                    │ 156      │ \"23\"                    │\n",
       "│ 7   │ 324                    │ NA       │ \"15\"                    │\n",
       "│ 8   │ 635                    │ 141      │ \"10\"                    │\n",
       "│ 9   │ 635                    │ 141      │ \"10\"                    │\n",
       "│ 10  │ 375                    │ 153      │ \"282\"                   │\n",
       "│ 11  │ 673                    │ 183      │ NA                      │\n",
       "│ 12  │ 434                    │ 169      │ NA                      │\n",
       "│ 13  │ 403                    │ 106      │ \"395\"                   │\n",
       "│ 14  │ 313                    │ 151      │ \"563\"                   │\n",
       "\n",
       "│ Row │ ACTOR_3_FACEBOOK_LIKES │ ACTOR_1_FACEBOOK_LIKES │ GROSS     │\n",
       "├─────┼────────────────────────┼────────────────────────┼───────────┤\n",
       "│ 1   │ 855                    │ 1000                   │ 760505847 │\n",
       "│ 2   │ 1000                   │ 40000                  │ 309404152 │\n",
       "│ 3   │ 161                    │ 11000                  │ 200074175 │\n",
       "│ 4   │ 23000                  │ 27000                  │ 448130642 │\n",
       "│ 5   │ 530                    │ 640                    │ 73058679  │\n",
       "│ 6   │ 4000                   │ 24000                  │ 336530303 │\n",
       "│ 7   │ 284                    │ 799                    │ 200807262 │\n",
       "│ 8   │ 19000                  │ 26000                  │ 458991599 │\n",
       "│ 9   │ 19000                  │ 26000                  │ 458991599 │\n",
       "│ 10  │ 10000                  │ 25000                  │ 301956980 │\n",
       "│ 11  │ 2000                   │ 15000                  │ 330249062 │\n",
       "│ 12  │ 903                    │ 18000                  │ 200069408 │\n",
       "│ 13  │ 393                    │ 451                    │ 168368427 │\n",
       "│ 14  │ 1000                   │ 40000                  │ 423032628 │\n",
       "\n",
       "│ Row │ NUM_VOTED_USERS │ CAST_TOTAL_FACEBOOK_LIKES │ FACENUMBER_IN_POSTER │\n",
       "├─────┼─────────────────┼───────────────────────────┼──────────────────────┤\n",
       "│ 1   │ 886204          │ 4834                      │ NA                   │\n",
       "│ 2   │ 471220          │ 48350                     │ NA                   │\n",
       "│ 3   │ 275868          │ 11700                     │ 1                    │\n",
       "│ 4   │ 1144337         │ 106759                    │ NA                   │\n",
       "│ 5   │ 212204          │ 1873                      │ 1                    │\n",
       "│ 6   │ 383056          │ 46055                     │ NA                   │\n",
       "│ 7   │ 294810          │ NA                        │ 1                    │\n",
       "│ 8   │ 462669          │ 92000                     │ 4                    │\n",
       "│ 9   │ 462669          │ 92000                     │ 4                    │\n",
       "│ 10  │ 321795          │ 58753                     │ 3                    │\n",
       "│ 11  │ NA              │ 24450                     │ NA                   │\n",
       "│ 12  │ 240396          │ NA                        │ 2                    │\n",
       "│ 13  │ 330784          │ 2023                      │ 1                    │\n",
       "│ 14  │ 522040          │ 48486                     │ 2                    │\n",
       "\n",
       "│ Row │ NUM_USER_FOR_REVIEWS │ BUDGET    │ TITLE_YEAR │ ACTOR_2_FACEBOOK_LIKES │\n",
       "├─────┼──────────────────────┼───────────┼────────────┼────────────────────────┤\n",
       "│ 1   │ 3054                 │ 237000000 │ 2009       │ 936                    │\n",
       "│ 2   │ 1238                 │ 300000000 │ 2007       │ 5000                   │\n",
       "│ 3   │ 994                  │ 245000000 │ 2015       │ 393                    │\n",
       "│ 4   │ 2701                 │ 250000000 │ 2012       │ 23000                  │\n",
       "│ 5   │ 738                  │ 263700000 │ 2012       │ 632                    │\n",
       "│ 6   │ 1902                 │ 258000000 │ 2007       │ 11000                  │\n",
       "│ 7   │ 387                  │ 260000000 │ 2010       │ 553                    │\n",
       "│ 8   │ 1117                 │ 250000000 │ 2015       │ 21000                  │\n",
       "│ 9   │ 1117                 │ 250000000 │ 2015       │ 21000                  │\n",
       "│ 10  │ 973                  │ 250000000 │ 2009       │ 11000                  │\n",
       "│ 11  │ 3018                 │ 250000000 │ 2016       │ NA                     │\n",
       "│ 12  │ 2367                 │ 209000000 │ 2006       │ 10000                  │\n",
       "│ 13  │ 1243                 │ 200000000 │ 2008       │ 412                    │\n",
       "│ 14  │ 1832                 │ 225000000 │ 2006       │ 5000                   │\n",
       "\n",
       "│ Row │ IMDB_SCORE │ TITLE_YEAR_1 │\n",
       "├─────┼────────────┼──────────────┤\n",
       "│ 1   │ 7.9        │ 2009         │\n",
       "│ 2   │ 7.1        │ NA           │\n",
       "│ 3   │ 6.8        │ 2015         │\n",
       "│ 4   │ 8.5        │ NA           │\n",
       "│ 5   │ 6.6        │ NA           │\n",
       "│ 6   │ 6.2        │ 2007         │\n",
       "│ 7   │ 7.8        │ NA           │\n",
       "│ 8   │ 7.5        │ NA           │\n",
       "│ 9   │ 7.5        │ 2015         │\n",
       "│ 10  │ 7.5        │ NA           │\n",
       "│ 11  │ 6.9        │ 2016         │\n",
       "│ 12  │ 6.1        │ NA           │\n",
       "│ 13  │ 6.7        │ 2008         │\n",
       "│ 14  │ 7.3        │ 2008         │"
      ]
     },
     "execution_count": 12,
     "metadata": {},
     "output_type": "execute_result"
    }
   ],
   "source": [
    "names!(df,[:MOVIE_TITLE, :NUM_CRITIC_FOR_REVIEWS, :DURATION, :DIRECTOR_FACEBOOK_LIKES, :ACTOR_3_FACEBOOK_LIKES, :ACTOR_1_FACEBOOK_LIKES, :GROSS, :NUM_VOTED_USERS, :CAST_TOTAL_FACEBOOK_LIKES, :FACENUMBER_IN_POSTER, :NUM_USER_FOR_REVIEWS, :BUDGET, :TITLE_YEAR, :ACTOR_2_FACEBOOK_LIKES, :IMDB_SCORE, :TITLE_YEAR_1])"
   ]
  },
  {
   "cell_type": "code",
   "execution_count": 13,
   "metadata": {},
   "outputs": [
    {
     "data": {
      "text/plain": [
       "16-element Array{Symbol,1}:\n",
       " :MOVIE_TITLE              \n",
       " :NUM_CRITIC_FOR_REVIEWS   \n",
       " :DURATION                 \n",
       " :DIRECTOR_FACEBOOK_LIKES  \n",
       " :ACTOR_3_FACEBOOK_LIKES   \n",
       " :ACTOR_1_FACEBOOK_LIKES   \n",
       " :GROSS                    \n",
       " :NUM_VOTED_USERS          \n",
       " :CAST_TOTAL_FACEBOOK_LIKES\n",
       " :FACENUMBER_IN_POSTER     \n",
       " :NUM_USER_FOR_REVIEWS     \n",
       " :BUDGET                   \n",
       " :TITLE_YEAR               \n",
       " :ACTOR_2_FACEBOOK_LIKES   \n",
       " :IMDB_SCORE               \n",
       " :TITLE_YEAR_1             "
      ]
     },
     "execution_count": 13,
     "metadata": {},
     "output_type": "execute_result"
    }
   ],
   "source": [
    "names(df)"
   ]
  },
  {
   "cell_type": "code",
   "execution_count": null,
   "metadata": {},
   "outputs": [],
   "source": []
  },
  {
   "cell_type": "markdown",
   "metadata": {},
   "source": [
    "### Renaming Columns\n",
    "+ rename()\n",
    "+ rename!() =changes the original"
   ]
  },
  {
   "cell_type": "code",
   "execution_count": 14,
   "metadata": {},
   "outputs": [
    {
     "data": {
      "text/html": [
       "<table class=\"data-frame\"><thead><tr><th></th><th>MOVIE_TITLE</th><th>NUM_CRITIC_FOR_REVIEWS</th><th>TIME</th><th>DIRECTOR_FACEBOOK_LIKES</th><th>ACTOR_3_FACEBOOK_LIKES</th><th>ACTOR_1_FACEBOOK_LIKES</th><th>GROSS</th><th>NUM_VOTED_USERS</th><th>CAST_TOTAL_FACEBOOK_LIKES</th><th>FACENUMBER_IN_POSTER</th><th>NUM_USER_FOR_REVIEWS</th><th>BUDGET</th><th>TITLE_YEAR</th><th>ACTOR_2_FACEBOOK_LIKES</th><th>IMDB_SCORE</th><th>TITLE_YEAR_1</th></tr></thead><tbody><tr><th>1</th><td>Avatar?ÿ</td><td>723</td><td>178</td><td>10</td><td>855</td><td>1000</td><td>760505847</td><td>886204</td><td>4834</td><td>NA</td><td>3054</td><td>237000000</td><td>2009</td><td>936</td><td>7.9</td><td>2009</td></tr><tr><th>2</th><td>Pirates of the Caribbean: At World's End?ÿ</td><td>302</td><td>NA</td><td>563</td><td>1000</td><td>40000</td><td>309404152</td><td>471220</td><td>48350</td><td>NA</td><td>1238</td><td>300000000</td><td>2007</td><td>5000</td><td>7.1</td><td>NA</td></tr><tr><th>3</th><td>Spectre?ÿ</td><td>602</td><td>148</td><td>20</td><td>161</td><td>11000</td><td>200074175</td><td>275868</td><td>11700</td><td>1</td><td>994</td><td>245000000</td><td>2015</td><td>393</td><td>6.8</td><td>2015</td></tr><tr><th>4</th><td>The Dark Knight Rises?ÿ</td><td>813</td><td>NA</td><td>22000</td><td>23000</td><td>27000</td><td>448130642</td><td>1144337</td><td>106759</td><td>NA</td><td>2701</td><td>250000000</td><td>2012</td><td>23000</td><td>8.5</td><td>NA</td></tr><tr><th>5</th><td>John Carter?ÿ</td><td>462</td><td>132</td><td>\"475\"</td><td>530</td><td>640</td><td>73058679</td><td>212204</td><td>1873</td><td>1</td><td>738</td><td>263700000</td><td>2012</td><td>632</td><td>6.6</td><td>NA</td></tr><tr><th>6</th><td>Spider-Man 3?ÿ</td><td>392</td><td>156</td><td>23</td><td>4000</td><td>24000</td><td>336530303</td><td>383056</td><td>46055</td><td>NA</td><td>1902</td><td>258000000</td><td>2007</td><td>11000</td><td>6.2</td><td>2007</td></tr><tr><th>7</th><td>Tangled?ÿ</td><td>324</td><td>NA</td><td>15</td><td>284</td><td>799</td><td>200807262</td><td>294810</td><td>NA</td><td>1</td><td>387</td><td>260000000</td><td>2010</td><td>553</td><td>7.8</td><td>NA</td></tr><tr><th>8</th><td>Avengers: Age of Ultron?ÿ</td><td>635</td><td>141</td><td>10</td><td>19000</td><td>26000</td><td>458991599</td><td>462669</td><td>92000</td><td>4</td><td>1117</td><td>250000000</td><td>2015</td><td>21000</td><td>7.5</td><td>NA</td></tr><tr><th>9</th><td>Avengers: Age of Ultron?ÿ</td><td>635</td><td>141</td><td>10</td><td>19000</td><td>26000</td><td>458991599</td><td>462669</td><td>92000</td><td>4</td><td>1117</td><td>250000000</td><td>2015</td><td>21000</td><td>7.5</td><td>2015</td></tr><tr><th>10</th><td>Harry Potter and the Half-Blood Prince?ÿ</td><td>375</td><td>153</td><td>282</td><td>10000</td><td>25000</td><td>301956980</td><td>321795</td><td>58753</td><td>3</td><td>973</td><td>250000000</td><td>2009</td><td>11000</td><td>7.5</td><td>NA</td></tr><tr><th>11</th><td>Batman v Superman: Dawn of Justice?ÿ</td><td>673</td><td>183</td><td>NA</td><td>2000</td><td>15000</td><td>330249062</td><td>NA</td><td>24450</td><td>NA</td><td>3018</td><td>250000000</td><td>2016</td><td>NA</td><td>6.9</td><td>2016</td></tr><tr><th>12</th><td>Superman Returns?ÿ</td><td>434</td><td>169</td><td>NA</td><td>903</td><td>18000</td><td>200069408</td><td>240396</td><td>NA</td><td>2</td><td>2367</td><td>209000000</td><td>2006</td><td>10000</td><td>6.1</td><td>NA</td></tr><tr><th>13</th><td>Quantum of Solace?ÿ</td><td>403</td><td>106</td><td>395</td><td>393</td><td>451</td><td>168368427</td><td>330784</td><td>2023</td><td>1</td><td>1243</td><td>200000000</td><td>2008</td><td>412</td><td>6.7</td><td>2008</td></tr><tr><th>14</th><td>Pirates of the Caribbean: Dead Man's Chest?ÿ</td><td>313</td><td>151</td><td>563</td><td>1000</td><td>40000</td><td>423032628</td><td>522040</td><td>48486</td><td>2</td><td>1832</td><td>225000000</td><td>2006</td><td>5000</td><td>7.3</td><td>2008</td></tr></tbody></table>"
      ],
      "text/plain": [
       "14×16 DataFrames.DataFrame\n",
       "│ Row │ MOVIE_TITLE                                    │\n",
       "├─────┼────────────────────────────────────────────────┤\n",
       "│ 1   │ \"Avatar?ÿ\"                                     │\n",
       "│ 2   │ \"Pirates of the Caribbean: At World's End?ÿ\"   │\n",
       "│ 3   │ \"Spectre?ÿ\"                                    │\n",
       "│ 4   │ \"The Dark Knight Rises?ÿ\"                      │\n",
       "│ 5   │ \"John Carter?ÿ\"                                │\n",
       "│ 6   │ \"Spider-Man 3?ÿ\"                               │\n",
       "│ 7   │ \"Tangled?ÿ\"                                    │\n",
       "│ 8   │ \"Avengers: Age of Ultron?ÿ\"                    │\n",
       "│ 9   │ \"Avengers: Age of Ultron?ÿ\"                    │\n",
       "│ 10  │ \"Harry Potter and the Half-Blood Prince?ÿ\"     │\n",
       "│ 11  │ \"Batman v Superman: Dawn of Justice?ÿ\"         │\n",
       "│ 12  │ \"Superman Returns?ÿ\"                           │\n",
       "│ 13  │ \"Quantum of Solace?ÿ\"                          │\n",
       "│ 14  │ \"Pirates of the Caribbean: Dead Man's Chest?ÿ\" │\n",
       "\n",
       "│ Row │ NUM_CRITIC_FOR_REVIEWS │ TIME │ DIRECTOR_FACEBOOK_LIKES │\n",
       "├─────┼────────────────────────┼──────┼─────────────────────────┤\n",
       "│ 1   │ 723                    │ 178  │ \"10\"                    │\n",
       "│ 2   │ 302                    │ NA   │ \"563\"                   │\n",
       "│ 3   │ 602                    │ 148  │ \"20\"                    │\n",
       "│ 4   │ 813                    │ NA   │ \"22000\"                 │\n",
       "│ 5   │ 462                    │ 132  │ \"\\\"475\\\"\"                 │\n",
       "│ 6   │ 392                    │ 156  │ \"23\"                    │\n",
       "│ 7   │ 324                    │ NA   │ \"15\"                    │\n",
       "│ 8   │ 635                    │ 141  │ \"10\"                    │\n",
       "│ 9   │ 635                    │ 141  │ \"10\"                    │\n",
       "│ 10  │ 375                    │ 153  │ \"282\"                   │\n",
       "│ 11  │ 673                    │ 183  │ NA                      │\n",
       "│ 12  │ 434                    │ 169  │ NA                      │\n",
       "│ 13  │ 403                    │ 106  │ \"395\"                   │\n",
       "│ 14  │ 313                    │ 151  │ \"563\"                   │\n",
       "\n",
       "│ Row │ ACTOR_3_FACEBOOK_LIKES │ ACTOR_1_FACEBOOK_LIKES │ GROSS     │\n",
       "├─────┼────────────────────────┼────────────────────────┼───────────┤\n",
       "│ 1   │ 855                    │ 1000                   │ 760505847 │\n",
       "│ 2   │ 1000                   │ 40000                  │ 309404152 │\n",
       "│ 3   │ 161                    │ 11000                  │ 200074175 │\n",
       "│ 4   │ 23000                  │ 27000                  │ 448130642 │\n",
       "│ 5   │ 530                    │ 640                    │ 73058679  │\n",
       "│ 6   │ 4000                   │ 24000                  │ 336530303 │\n",
       "│ 7   │ 284                    │ 799                    │ 200807262 │\n",
       "│ 8   │ 19000                  │ 26000                  │ 458991599 │\n",
       "│ 9   │ 19000                  │ 26000                  │ 458991599 │\n",
       "│ 10  │ 10000                  │ 25000                  │ 301956980 │\n",
       "│ 11  │ 2000                   │ 15000                  │ 330249062 │\n",
       "│ 12  │ 903                    │ 18000                  │ 200069408 │\n",
       "│ 13  │ 393                    │ 451                    │ 168368427 │\n",
       "│ 14  │ 1000                   │ 40000                  │ 423032628 │\n",
       "\n",
       "│ Row │ NUM_VOTED_USERS │ CAST_TOTAL_FACEBOOK_LIKES │ FACENUMBER_IN_POSTER │\n",
       "├─────┼─────────────────┼───────────────────────────┼──────────────────────┤\n",
       "│ 1   │ 886204          │ 4834                      │ NA                   │\n",
       "│ 2   │ 471220          │ 48350                     │ NA                   │\n",
       "│ 3   │ 275868          │ 11700                     │ 1                    │\n",
       "│ 4   │ 1144337         │ 106759                    │ NA                   │\n",
       "│ 5   │ 212204          │ 1873                      │ 1                    │\n",
       "│ 6   │ 383056          │ 46055                     │ NA                   │\n",
       "│ 7   │ 294810          │ NA                        │ 1                    │\n",
       "│ 8   │ 462669          │ 92000                     │ 4                    │\n",
       "│ 9   │ 462669          │ 92000                     │ 4                    │\n",
       "│ 10  │ 321795          │ 58753                     │ 3                    │\n",
       "│ 11  │ NA              │ 24450                     │ NA                   │\n",
       "│ 12  │ 240396          │ NA                        │ 2                    │\n",
       "│ 13  │ 330784          │ 2023                      │ 1                    │\n",
       "│ 14  │ 522040          │ 48486                     │ 2                    │\n",
       "\n",
       "│ Row │ NUM_USER_FOR_REVIEWS │ BUDGET    │ TITLE_YEAR │ ACTOR_2_FACEBOOK_LIKES │\n",
       "├─────┼──────────────────────┼───────────┼────────────┼────────────────────────┤\n",
       "│ 1   │ 3054                 │ 237000000 │ 2009       │ 936                    │\n",
       "│ 2   │ 1238                 │ 300000000 │ 2007       │ 5000                   │\n",
       "│ 3   │ 994                  │ 245000000 │ 2015       │ 393                    │\n",
       "│ 4   │ 2701                 │ 250000000 │ 2012       │ 23000                  │\n",
       "│ 5   │ 738                  │ 263700000 │ 2012       │ 632                    │\n",
       "│ 6   │ 1902                 │ 258000000 │ 2007       │ 11000                  │\n",
       "│ 7   │ 387                  │ 260000000 │ 2010       │ 553                    │\n",
       "│ 8   │ 1117                 │ 250000000 │ 2015       │ 21000                  │\n",
       "│ 9   │ 1117                 │ 250000000 │ 2015       │ 21000                  │\n",
       "│ 10  │ 973                  │ 250000000 │ 2009       │ 11000                  │\n",
       "│ 11  │ 3018                 │ 250000000 │ 2016       │ NA                     │\n",
       "│ 12  │ 2367                 │ 209000000 │ 2006       │ 10000                  │\n",
       "│ 13  │ 1243                 │ 200000000 │ 2008       │ 412                    │\n",
       "│ 14  │ 1832                 │ 225000000 │ 2006       │ 5000                   │\n",
       "\n",
       "│ Row │ IMDB_SCORE │ TITLE_YEAR_1 │\n",
       "├─────┼────────────┼──────────────┤\n",
       "│ 1   │ 7.9        │ 2009         │\n",
       "│ 2   │ 7.1        │ NA           │\n",
       "│ 3   │ 6.8        │ 2015         │\n",
       "│ 4   │ 8.5        │ NA           │\n",
       "│ 5   │ 6.6        │ NA           │\n",
       "│ 6   │ 6.2        │ 2007         │\n",
       "│ 7   │ 7.8        │ NA           │\n",
       "│ 8   │ 7.5        │ NA           │\n",
       "│ 9   │ 7.5        │ 2015         │\n",
       "│ 10  │ 7.5        │ NA           │\n",
       "│ 11  │ 6.9        │ 2016         │\n",
       "│ 12  │ 6.1        │ NA           │\n",
       "│ 13  │ 6.7        │ 2008         │\n",
       "│ 14  │ 7.3        │ 2008         │"
      ]
     },
     "execution_count": 14,
     "metadata": {},
     "output_type": "execute_result"
    }
   ],
   "source": [
    "rename!(df,:DURATION,:TIME)"
   ]
  },
  {
   "cell_type": "markdown",
   "metadata": {},
   "source": [
    "## Missing Data\n",
    "+ Add a default value for missing data or use mean to fill it\n",
    "+ Delete the row/column with missing data\n",
    "+ Interpolate the rows\n",
    "+ Replace"
   ]
  },
  {
   "cell_type": "markdown",
   "metadata": {},
   "source": [
    "#### To check for missing data\n",
    "#### False means no missing data\n",
    "+ showcols()\n",
    "+ isna/ismissing\n",
    "+ isnan\n",
    "+ .na\n",
    "+ completecases"
   ]
  },
  {
   "cell_type": "code",
   "execution_count": 69,
   "metadata": {},
   "outputs": [
    {
     "data": {
      "text/html": [
       "<table class=\"data-frame\"><thead><tr><th></th><th>movie_title</th><th>num_critic_for_reviews</th><th>duration</th><th>DIRECTOR_facebook_likes</th><th>actor_3_facebook_likes</th><th>ACTOR_1_facebook_likes</th><th>gross</th><th>num_voted_users</th><th>Cast_Total_facebook_likes</th><th>facenumber_in_poster</th><th>num_user_for_reviews</th><th>budget</th><th>title_year</th><th>ACTOR_2_facebook_likes</th><th>imdb_score</th><th>title_year_1</th></tr></thead><tbody><tr><th>1</th><td>Avatar?ÿ</td><td>723</td><td>178</td><td>10</td><td>855</td><td>1000</td><td>760505847</td><td>886204</td><td>4834</td><td>NA</td><td>3054</td><td>237000000</td><td>2009</td><td>936</td><td>7.9</td><td>2009</td></tr><tr><th>2</th><td>Pirates of the Caribbean: At World's End?ÿ</td><td>302</td><td>NA</td><td>563</td><td>1000</td><td>40000</td><td>309404152</td><td>471220</td><td>48350</td><td>NA</td><td>1238</td><td>300000000</td><td>2007</td><td>5000</td><td>7.1</td><td>NA</td></tr><tr><th>3</th><td>Spectre?ÿ</td><td>602</td><td>148</td><td>20</td><td>161</td><td>11000</td><td>200074175</td><td>275868</td><td>11700</td><td>1</td><td>994</td><td>245000000</td><td>2015</td><td>393</td><td>6.8</td><td>2015</td></tr><tr><th>4</th><td>The Dark Knight Rises?ÿ</td><td>813</td><td>NA</td><td>22000</td><td>23000</td><td>27000</td><td>448130642</td><td>1144337</td><td>106759</td><td>NA</td><td>2701</td><td>250000000</td><td>2012</td><td>23000</td><td>8.5</td><td>NA</td></tr><tr><th>5</th><td>John Carter?ÿ</td><td>462</td><td>132</td><td>\"475\"</td><td>530</td><td>640</td><td>73058679</td><td>212204</td><td>1873</td><td>1</td><td>738</td><td>263700000</td><td>2012</td><td>632</td><td>6.6</td><td>NA</td></tr><tr><th>6</th><td>Spider-Man 3?ÿ</td><td>392</td><td>156</td><td>23</td><td>4000</td><td>24000</td><td>336530303</td><td>383056</td><td>46055</td><td>NA</td><td>1902</td><td>258000000</td><td>2007</td><td>11000</td><td>6.2</td><td>2007</td></tr><tr><th>7</th><td>Tangled?ÿ</td><td>324</td><td>NA</td><td>15</td><td>284</td><td>799</td><td>200807262</td><td>294810</td><td>NA</td><td>1</td><td>387</td><td>260000000</td><td>2010</td><td>553</td><td>7.8</td><td>NA</td></tr><tr><th>8</th><td>Avengers: Age of Ultron?ÿ</td><td>635</td><td>141</td><td>10</td><td>19000</td><td>26000</td><td>458991599</td><td>462669</td><td>92000</td><td>4</td><td>1117</td><td>250000000</td><td>2015</td><td>21000</td><td>7.5</td><td>NA</td></tr><tr><th>9</th><td>Avengers: Age of Ultron?ÿ</td><td>635</td><td>141</td><td>10</td><td>19000</td><td>26000</td><td>458991599</td><td>462669</td><td>92000</td><td>4</td><td>1117</td><td>250000000</td><td>2015</td><td>21000</td><td>7.5</td><td>2015</td></tr><tr><th>10</th><td>Harry Potter and the Half-Blood Prince?ÿ</td><td>375</td><td>153</td><td>282</td><td>10000</td><td>25000</td><td>301956980</td><td>321795</td><td>58753</td><td>3</td><td>973</td><td>250000000</td><td>2009</td><td>11000</td><td>7.5</td><td>NA</td></tr><tr><th>11</th><td>Batman v Superman: Dawn of Justice?ÿ</td><td>673</td><td>183</td><td>NA</td><td>2000</td><td>15000</td><td>330249062</td><td>NA</td><td>24450</td><td>NA</td><td>3018</td><td>250000000</td><td>2016</td><td>NA</td><td>6.9</td><td>2016</td></tr><tr><th>12</th><td>Superman Returns?ÿ</td><td>434</td><td>169</td><td>NA</td><td>903</td><td>18000</td><td>200069408</td><td>240396</td><td>NA</td><td>2</td><td>2367</td><td>209000000</td><td>2006</td><td>10000</td><td>6.1</td><td>NA</td></tr><tr><th>13</th><td>Quantum of Solace?ÿ</td><td>403</td><td>106</td><td>395</td><td>393</td><td>451</td><td>168368427</td><td>330784</td><td>2023</td><td>1</td><td>1243</td><td>200000000</td><td>2008</td><td>412</td><td>6.7</td><td>2008</td></tr><tr><th>14</th><td>Pirates of the Caribbean: Dead Man's Chest?ÿ</td><td>313</td><td>151</td><td>563</td><td>1000</td><td>40000</td><td>423032628</td><td>522040</td><td>48486</td><td>2</td><td>1832</td><td>225000000</td><td>2006</td><td>5000</td><td>7.3</td><td>2008</td></tr></tbody></table>"
      ],
      "text/plain": [
       "14×16 DataFrames.DataFrame\n",
       "│ Row │ movie_title                                    │\n",
       "├─────┼────────────────────────────────────────────────┤\n",
       "│ 1   │ \"Avatar?ÿ\"                                     │\n",
       "│ 2   │ \"Pirates of the Caribbean: At World's End?ÿ\"   │\n",
       "│ 3   │ \"Spectre?ÿ\"                                    │\n",
       "│ 4   │ \"The Dark Knight Rises?ÿ\"                      │\n",
       "│ 5   │ \"John Carter?ÿ\"                                │\n",
       "│ 6   │ \"Spider-Man 3?ÿ\"                               │\n",
       "│ 7   │ \"Tangled?ÿ\"                                    │\n",
       "│ 8   │ \"Avengers: Age of Ultron?ÿ\"                    │\n",
       "│ 9   │ \"Avengers: Age of Ultron?ÿ\"                    │\n",
       "│ 10  │ \"Harry Potter and the Half-Blood Prince?ÿ\"     │\n",
       "│ 11  │ \"Batman v Superman: Dawn of Justice?ÿ\"         │\n",
       "│ 12  │ \"Superman Returns?ÿ\"                           │\n",
       "│ 13  │ \"Quantum of Solace?ÿ\"                          │\n",
       "│ 14  │ \"Pirates of the Caribbean: Dead Man's Chest?ÿ\" │\n",
       "\n",
       "│ Row │ num_critic_for_reviews │ duration │ DIRECTOR_facebook_likes │\n",
       "├─────┼────────────────────────┼──────────┼─────────────────────────┤\n",
       "│ 1   │ 723                    │ 178      │ \"10\"                    │\n",
       "│ 2   │ 302                    │ NA       │ \"563\"                   │\n",
       "│ 3   │ 602                    │ 148      │ \"20\"                    │\n",
       "│ 4   │ 813                    │ NA       │ \"22000\"                 │\n",
       "│ 5   │ 462                    │ 132      │ \"\\\"475\\\"\"                 │\n",
       "│ 6   │ 392                    │ 156      │ \"23\"                    │\n",
       "│ 7   │ 324                    │ NA       │ \"15\"                    │\n",
       "│ 8   │ 635                    │ 141      │ \"10\"                    │\n",
       "│ 9   │ 635                    │ 141      │ \"10\"                    │\n",
       "│ 10  │ 375                    │ 153      │ \"282\"                   │\n",
       "│ 11  │ 673                    │ 183      │ NA                      │\n",
       "│ 12  │ 434                    │ 169      │ NA                      │\n",
       "│ 13  │ 403                    │ 106      │ \"395\"                   │\n",
       "│ 14  │ 313                    │ 151      │ \"563\"                   │\n",
       "\n",
       "│ Row │ actor_3_facebook_likes │ ACTOR_1_facebook_likes │ gross     │\n",
       "├─────┼────────────────────────┼────────────────────────┼───────────┤\n",
       "│ 1   │ 855                    │ 1000                   │ 760505847 │\n",
       "│ 2   │ 1000                   │ 40000                  │ 309404152 │\n",
       "│ 3   │ 161                    │ 11000                  │ 200074175 │\n",
       "│ 4   │ 23000                  │ 27000                  │ 448130642 │\n",
       "│ 5   │ 530                    │ 640                    │ 73058679  │\n",
       "│ 6   │ 4000                   │ 24000                  │ 336530303 │\n",
       "│ 7   │ 284                    │ 799                    │ 200807262 │\n",
       "│ 8   │ 19000                  │ 26000                  │ 458991599 │\n",
       "│ 9   │ 19000                  │ 26000                  │ 458991599 │\n",
       "│ 10  │ 10000                  │ 25000                  │ 301956980 │\n",
       "│ 11  │ 2000                   │ 15000                  │ 330249062 │\n",
       "│ 12  │ 903                    │ 18000                  │ 200069408 │\n",
       "│ 13  │ 393                    │ 451                    │ 168368427 │\n",
       "│ 14  │ 1000                   │ 40000                  │ 423032628 │\n",
       "\n",
       "│ Row │ num_voted_users │ Cast_Total_facebook_likes │ facenumber_in_poster │\n",
       "├─────┼─────────────────┼───────────────────────────┼──────────────────────┤\n",
       "│ 1   │ 886204          │ 4834                      │ NA                   │\n",
       "│ 2   │ 471220          │ 48350                     │ NA                   │\n",
       "│ 3   │ 275868          │ 11700                     │ 1                    │\n",
       "│ 4   │ 1144337         │ 106759                    │ NA                   │\n",
       "│ 5   │ 212204          │ 1873                      │ 1                    │\n",
       "│ 6   │ 383056          │ 46055                     │ NA                   │\n",
       "│ 7   │ 294810          │ NA                        │ 1                    │\n",
       "│ 8   │ 462669          │ 92000                     │ 4                    │\n",
       "│ 9   │ 462669          │ 92000                     │ 4                    │\n",
       "│ 10  │ 321795          │ 58753                     │ 3                    │\n",
       "│ 11  │ NA              │ 24450                     │ NA                   │\n",
       "│ 12  │ 240396          │ NA                        │ 2                    │\n",
       "│ 13  │ 330784          │ 2023                      │ 1                    │\n",
       "│ 14  │ 522040          │ 48486                     │ 2                    │\n",
       "\n",
       "│ Row │ num_user_for_reviews │ budget    │ title_year │ ACTOR_2_facebook_likes │\n",
       "├─────┼──────────────────────┼───────────┼────────────┼────────────────────────┤\n",
       "│ 1   │ 3054                 │ 237000000 │ 2009       │ 936                    │\n",
       "│ 2   │ 1238                 │ 300000000 │ 2007       │ 5000                   │\n",
       "│ 3   │ 994                  │ 245000000 │ 2015       │ 393                    │\n",
       "│ 4   │ 2701                 │ 250000000 │ 2012       │ 23000                  │\n",
       "│ 5   │ 738                  │ 263700000 │ 2012       │ 632                    │\n",
       "│ 6   │ 1902                 │ 258000000 │ 2007       │ 11000                  │\n",
       "│ 7   │ 387                  │ 260000000 │ 2010       │ 553                    │\n",
       "│ 8   │ 1117                 │ 250000000 │ 2015       │ 21000                  │\n",
       "│ 9   │ 1117                 │ 250000000 │ 2015       │ 21000                  │\n",
       "│ 10  │ 973                  │ 250000000 │ 2009       │ 11000                  │\n",
       "│ 11  │ 3018                 │ 250000000 │ 2016       │ NA                     │\n",
       "│ 12  │ 2367                 │ 209000000 │ 2006       │ 10000                  │\n",
       "│ 13  │ 1243                 │ 200000000 │ 2008       │ 412                    │\n",
       "│ 14  │ 1832                 │ 225000000 │ 2006       │ 5000                   │\n",
       "\n",
       "│ Row │ imdb_score │ title_year_1 │\n",
       "├─────┼────────────┼──────────────┤\n",
       "│ 1   │ 7.9        │ 2009         │\n",
       "│ 2   │ 7.1        │ NA           │\n",
       "│ 3   │ 6.8        │ 2015         │\n",
       "│ 4   │ 8.5        │ NA           │\n",
       "│ 5   │ 6.6        │ NA           │\n",
       "│ 6   │ 6.2        │ 2007         │\n",
       "│ 7   │ 7.8        │ NA           │\n",
       "│ 8   │ 7.5        │ NA           │\n",
       "│ 9   │ 7.5        │ 2015         │\n",
       "│ 10  │ 7.5        │ NA           │\n",
       "│ 11  │ 6.9        │ 2016         │\n",
       "│ 12  │ 6.1        │ NA           │\n",
       "│ 13  │ 6.7        │ 2008         │\n",
       "│ 14  │ 7.3        │ 2008         │"
      ]
     },
     "execution_count": 69,
     "metadata": {},
     "output_type": "execute_result"
    }
   ],
   "source": [
    "# Specify a group of strings to be converted to NA values during reading:\n",
    "df1 = readtable(\"raw_data_unmodified.csv\", nastrings=[\"NA\", \"na\", \"n/a\", \"missing\"])"
   ]
  },
  {
   "cell_type": "code",
   "execution_count": 70,
   "metadata": {},
   "outputs": [
    {
     "name": "stdout",
     "output_type": "stream",
     "text": [
      "14×16 DataFrames.DataFrame\n",
      "│ Col # │ Name                      │ Eltype  │ Missing │\n",
      "├───────┼───────────────────────────┼─────────┼─────────┤\n",
      "│ 1     │ movie_title               │ String  │ 0       │\n",
      "│ 2     │ num_critic_for_reviews    │ Int64   │ 0       │\n",
      "│ 3     │ duration                  │ Int64   │ 3       │\n",
      "│ 4     │ DIRECTOR_facebook_likes   │ String  │ 2       │\n",
      "│ 5     │ actor_3_facebook_likes    │ Int64   │ 0       │\n",
      "│ 6     │ ACTOR_1_facebook_likes    │ Int64   │ 0       │\n",
      "│ 7     │ gross                     │ Int64   │ 0       │\n",
      "│ 8     │ num_voted_users           │ Int64   │ 1       │\n",
      "│ 9     │ Cast_Total_facebook_likes │ Int64   │ 2       │\n",
      "│ 10    │ facenumber_in_poster      │ Int64   │ 5       │\n",
      "│ 11    │ num_user_for_reviews      │ Int64   │ 0       │\n",
      "│ 12    │ budget                    │ Int64   │ 0       │\n",
      "│ 13    │ title_year                │ Int64   │ 0       │\n",
      "│ 14    │ ACTOR_2_facebook_likes    │ Int64   │ 1       │\n",
      "│ 15    │ imdb_score                │ Float64 │ 0       │\n",
      "│ 16    │ title_year_1              │ Int64   │ 7       │"
     ]
    }
   ],
   "source": [
    "# Checking For Missing Data\n",
    "showcols(df1)\n"
   ]
  },
  {
   "cell_type": "code",
   "execution_count": null,
   "metadata": {},
   "outputs": [],
   "source": []
  },
  {
   "cell_type": "markdown",
   "metadata": {},
   "source": [
    "##### Checking with isna()"
   ]
  },
  {
   "cell_type": "code",
   "execution_count": 71,
   "metadata": {},
   "outputs": [
    {
     "data": {
      "text/plain": [
       "false"
      ]
     },
     "execution_count": 71,
     "metadata": {},
     "output_type": "execute_result"
    }
   ],
   "source": [
    "isna(df1)"
   ]
  },
  {
   "cell_type": "code",
   "execution_count": 72,
   "metadata": {},
   "outputs": [
    {
     "data": {
      "text/plain": [
       "4-element Array{Any,1}:\n",
       " 1   \n",
       " 2   \n",
       "  \" \"\n",
       " 4   "
      ]
     },
     "execution_count": 72,
     "metadata": {},
     "output_type": "execute_result"
    }
   ],
   "source": [
    "# Checking for missing value in index 1\n",
    "# False means it is not NA\n",
    "x = [1,2,\" \",4]"
   ]
  },
  {
   "cell_type": "code",
   "execution_count": 76,
   "metadata": {},
   "outputs": [
    {
     "data": {
      "text/plain": [
       "false"
      ]
     },
     "execution_count": 76,
     "metadata": {},
     "output_type": "execute_result"
    }
   ],
   "source": [
    "isna(x,4)"
   ]
  },
  {
   "cell_type": "code",
   "execution_count": 77,
   "metadata": {},
   "outputs": [
    {
     "data": {
      "text/plain": [
       "4-element BitArray{1}:\n",
       " false\n",
       " false\n",
       " false\n",
       " false"
      ]
     },
     "execution_count": 77,
     "metadata": {},
     "output_type": "execute_result"
    }
   ],
   "source": [
    "# Check for missing value with isna. for whole array\n",
    "isna.(x)"
   ]
  },
  {
   "cell_type": "code",
   "execution_count": 78,
   "metadata": {},
   "outputs": [
    {
     "data": {
      "text/plain": [
       "4-element DataArrays.DataArray{Int64,1}:\n",
       " 1  \n",
       " 2  \n",
       "  NA\n",
       " 4  "
      ]
     },
     "execution_count": 78,
     "metadata": {},
     "output_type": "execute_result"
    }
   ],
   "source": [
    "# Correct way of accepting NA with @data macro\n",
    "y = @data([1,2,NA,4])"
   ]
  },
  {
   "cell_type": "code",
   "execution_count": 79,
   "metadata": {},
   "outputs": [
    {
     "data": {
      "text/plain": [
       "true"
      ]
     },
     "execution_count": 79,
     "metadata": {},
     "output_type": "execute_result"
    }
   ],
   "source": [
    "# But with the @data you can see the na\n",
    "isna(y,3)"
   ]
  },
  {
   "cell_type": "code",
   "execution_count": 80,
   "metadata": {},
   "outputs": [
    {
     "data": {
      "text/plain": [
       "4-element BitArray{1}:\n",
       " false\n",
       " false\n",
       "  true\n",
       " false"
      ]
     },
     "execution_count": 80,
     "metadata": {},
     "output_type": "execute_result"
    }
   ],
   "source": [
    "isna.(y)"
   ]
  },
  {
   "cell_type": "code",
   "execution_count": 81,
   "metadata": {},
   "outputs": [
    {
     "data": {
      "text/plain": [
       "1-element Array{Int64,1}:\n",
       " 3"
      ]
     },
     "execution_count": 81,
     "metadata": {},
     "output_type": "execute_result"
    }
   ],
   "source": [
    "# Returns the individual rows with missing values/na\n",
    "find(isna.(y))"
   ]
  },
  {
   "cell_type": "code",
   "execution_count": 82,
   "metadata": {},
   "outputs": [
    {
     "data": {
      "text/plain": [
       "1"
      ]
     },
     "execution_count": 82,
     "metadata": {},
     "output_type": "execute_result"
    }
   ],
   "source": [
    "sum(isna.(y))"
   ]
  },
  {
   "cell_type": "markdown",
   "metadata": {},
   "source": [
    "### Back To Dataframe"
   ]
  },
  {
   "cell_type": "code",
   "execution_count": 83,
   "metadata": {},
   "outputs": [
    {
     "data": {
      "text/html": [
       "<table class=\"data-frame\"><thead><tr><th></th><th>movie_title</th><th>num_critic_for_reviews</th><th>duration</th><th>DIRECTOR_facebook_likes</th><th>actor_3_facebook_likes</th><th>ACTOR_1_facebook_likes</th><th>gross</th><th>num_voted_users</th><th>Cast_Total_facebook_likes</th><th>facenumber_in_poster</th><th>num_user_for_reviews</th><th>budget</th><th>title_year</th><th>ACTOR_2_facebook_likes</th><th>imdb_score</th><th>title_year_1</th></tr></thead><tbody><tr><th>1</th><td>Avatar?ÿ</td><td>723</td><td>178</td><td>10</td><td>855</td><td>1000</td><td>760505847</td><td>886204</td><td>4834</td><td>NA</td><td>3054</td><td>237000000</td><td>2009</td><td>936</td><td>7.9</td><td>2009</td></tr><tr><th>2</th><td>Pirates of the Caribbean: At World's End?ÿ</td><td>302</td><td>NA</td><td>563</td><td>1000</td><td>40000</td><td>309404152</td><td>471220</td><td>48350</td><td>NA</td><td>1238</td><td>300000000</td><td>2007</td><td>5000</td><td>7.1</td><td>NA</td></tr><tr><th>3</th><td>Spectre?ÿ</td><td>602</td><td>148</td><td>20</td><td>161</td><td>11000</td><td>200074175</td><td>275868</td><td>11700</td><td>1</td><td>994</td><td>245000000</td><td>2015</td><td>393</td><td>6.8</td><td>2015</td></tr><tr><th>4</th><td>The Dark Knight Rises?ÿ</td><td>813</td><td>NA</td><td>22000</td><td>23000</td><td>27000</td><td>448130642</td><td>1144337</td><td>106759</td><td>NA</td><td>2701</td><td>250000000</td><td>2012</td><td>23000</td><td>8.5</td><td>NA</td></tr><tr><th>5</th><td>John Carter?ÿ</td><td>462</td><td>132</td><td>\"475\"</td><td>530</td><td>640</td><td>73058679</td><td>212204</td><td>1873</td><td>1</td><td>738</td><td>263700000</td><td>2012</td><td>632</td><td>6.6</td><td>NA</td></tr><tr><th>6</th><td>Spider-Man 3?ÿ</td><td>392</td><td>156</td><td>23</td><td>4000</td><td>24000</td><td>336530303</td><td>383056</td><td>46055</td><td>NA</td><td>1902</td><td>258000000</td><td>2007</td><td>11000</td><td>6.2</td><td>2007</td></tr></tbody></table>"
      ],
      "text/plain": [
       "6×16 DataFrames.DataFrame\n",
       "│ Row │ movie_title                                  │ num_critic_for_reviews │\n",
       "├─────┼──────────────────────────────────────────────┼────────────────────────┤\n",
       "│ 1   │ \"Avatar?ÿ\"                                   │ 723                    │\n",
       "│ 2   │ \"Pirates of the Caribbean: At World's End?ÿ\" │ 302                    │\n",
       "│ 3   │ \"Spectre?ÿ\"                                  │ 602                    │\n",
       "│ 4   │ \"The Dark Knight Rises?ÿ\"                    │ 813                    │\n",
       "│ 5   │ \"John Carter?ÿ\"                              │ 462                    │\n",
       "│ 6   │ \"Spider-Man 3?ÿ\"                             │ 392                    │\n",
       "\n",
       "│ Row │ duration │ DIRECTOR_facebook_likes │ actor_3_facebook_likes │\n",
       "├─────┼──────────┼─────────────────────────┼────────────────────────┤\n",
       "│ 1   │ 178      │ \"10\"                    │ 855                    │\n",
       "│ 2   │ NA       │ \"563\"                   │ 1000                   │\n",
       "│ 3   │ 148      │ \"20\"                    │ 161                    │\n",
       "│ 4   │ NA       │ \"22000\"                 │ 23000                  │\n",
       "│ 5   │ 132      │ \"\\\"475\\\"\"                 │ 530                    │\n",
       "│ 6   │ 156      │ \"23\"                    │ 4000                   │\n",
       "\n",
       "│ Row │ ACTOR_1_facebook_likes │ gross     │ num_voted_users │\n",
       "├─────┼────────────────────────┼───────────┼─────────────────┤\n",
       "│ 1   │ 1000                   │ 760505847 │ 886204          │\n",
       "│ 2   │ 40000                  │ 309404152 │ 471220          │\n",
       "│ 3   │ 11000                  │ 200074175 │ 275868          │\n",
       "│ 4   │ 27000                  │ 448130642 │ 1144337         │\n",
       "│ 5   │ 640                    │ 73058679  │ 212204          │\n",
       "│ 6   │ 24000                  │ 336530303 │ 383056          │\n",
       "\n",
       "│ Row │ Cast_Total_facebook_likes │ facenumber_in_poster │\n",
       "├─────┼───────────────────────────┼──────────────────────┤\n",
       "│ 1   │ 4834                      │ NA                   │\n",
       "│ 2   │ 48350                     │ NA                   │\n",
       "│ 3   │ 11700                     │ 1                    │\n",
       "│ 4   │ 106759                    │ NA                   │\n",
       "│ 5   │ 1873                      │ 1                    │\n",
       "│ 6   │ 46055                     │ NA                   │\n",
       "\n",
       "│ Row │ num_user_for_reviews │ budget    │ title_year │ ACTOR_2_facebook_likes │\n",
       "├─────┼──────────────────────┼───────────┼────────────┼────────────────────────┤\n",
       "│ 1   │ 3054                 │ 237000000 │ 2009       │ 936                    │\n",
       "│ 2   │ 1238                 │ 300000000 │ 2007       │ 5000                   │\n",
       "│ 3   │ 994                  │ 245000000 │ 2015       │ 393                    │\n",
       "│ 4   │ 2701                 │ 250000000 │ 2012       │ 23000                  │\n",
       "│ 5   │ 738                  │ 263700000 │ 2012       │ 632                    │\n",
       "│ 6   │ 1902                 │ 258000000 │ 2007       │ 11000                  │\n",
       "\n",
       "│ Row │ imdb_score │ title_year_1 │\n",
       "├─────┼────────────┼──────────────┤\n",
       "│ 1   │ 7.9        │ 2009         │\n",
       "│ 2   │ 7.1        │ NA           │\n",
       "│ 3   │ 6.8        │ 2015         │\n",
       "│ 4   │ 8.5        │ NA           │\n",
       "│ 5   │ 6.6        │ NA           │\n",
       "│ 6   │ 6.2        │ 2007         │"
      ]
     },
     "execution_count": 83,
     "metadata": {},
     "output_type": "execute_result"
    }
   ],
   "source": [
    "head(df1)"
   ]
  },
  {
   "cell_type": "code",
   "execution_count": 84,
   "metadata": {},
   "outputs": [
    {
     "data": {
      "text/html": [
       "<table class=\"data-frame\"><thead><tr><th></th><th>MOVIE_TITLE</th><th>NUM_CRITIC_FOR_REVIEWS</th><th>DURATION</th><th>DIRECTOR_FACEBOOK_LIKES</th><th>ACTOR_3_FACEBOOK_LIKES</th><th>ACTOR_1_FACEBOOK_LIKES</th><th>GROSS</th><th>NUM_VOTED_USERS</th><th>CAST_TOTAL_FACEBOOK_LIKES</th><th>FACENUMBER_IN_POSTER</th><th>NUM_USER_FOR_REVIEWS</th><th>BUDGET</th><th>TITLE_YEAR</th><th>ACTOR_2_FACEBOOK_LIKES</th><th>IMDB_SCORE</th><th>TITLE_YEAR_1</th></tr></thead><tbody><tr><th>1</th><td>Avatar?ÿ</td><td>723</td><td>178</td><td>10</td><td>855</td><td>1000</td><td>760505847</td><td>886204</td><td>4834</td><td>NA</td><td>3054</td><td>237000000</td><td>2009</td><td>936</td><td>7.9</td><td>2009</td></tr><tr><th>2</th><td>Pirates of the Caribbean: At World's End?ÿ</td><td>302</td><td>NA</td><td>563</td><td>1000</td><td>40000</td><td>309404152</td><td>471220</td><td>48350</td><td>NA</td><td>1238</td><td>300000000</td><td>2007</td><td>5000</td><td>7.1</td><td>NA</td></tr><tr><th>3</th><td>Spectre?ÿ</td><td>602</td><td>148</td><td>20</td><td>161</td><td>11000</td><td>200074175</td><td>275868</td><td>11700</td><td>1</td><td>994</td><td>245000000</td><td>2015</td><td>393</td><td>6.8</td><td>2015</td></tr><tr><th>4</th><td>The Dark Knight Rises?ÿ</td><td>813</td><td>NA</td><td>22000</td><td>23000</td><td>27000</td><td>448130642</td><td>1144337</td><td>106759</td><td>NA</td><td>2701</td><td>250000000</td><td>2012</td><td>23000</td><td>8.5</td><td>NA</td></tr><tr><th>5</th><td>John Carter?ÿ</td><td>462</td><td>132</td><td>\"475\"</td><td>530</td><td>640</td><td>73058679</td><td>212204</td><td>1873</td><td>1</td><td>738</td><td>263700000</td><td>2012</td><td>632</td><td>6.6</td><td>NA</td></tr><tr><th>6</th><td>Spider-Man 3?ÿ</td><td>392</td><td>156</td><td>23</td><td>4000</td><td>24000</td><td>336530303</td><td>383056</td><td>46055</td><td>NA</td><td>1902</td><td>258000000</td><td>2007</td><td>11000</td><td>6.2</td><td>2007</td></tr><tr><th>7</th><td>Tangled?ÿ</td><td>324</td><td>NA</td><td>15</td><td>284</td><td>799</td><td>200807262</td><td>294810</td><td>NA</td><td>1</td><td>387</td><td>260000000</td><td>2010</td><td>553</td><td>7.8</td><td>NA</td></tr><tr><th>8</th><td>Avengers: Age of Ultron?ÿ</td><td>635</td><td>141</td><td>10</td><td>19000</td><td>26000</td><td>458991599</td><td>462669</td><td>92000</td><td>4</td><td>1117</td><td>250000000</td><td>2015</td><td>21000</td><td>7.5</td><td>NA</td></tr><tr><th>9</th><td>Avengers: Age of Ultron?ÿ</td><td>635</td><td>141</td><td>10</td><td>19000</td><td>26000</td><td>458991599</td><td>462669</td><td>92000</td><td>4</td><td>1117</td><td>250000000</td><td>2015</td><td>21000</td><td>7.5</td><td>2015</td></tr><tr><th>10</th><td>Harry Potter and the Half-Blood Prince?ÿ</td><td>375</td><td>153</td><td>282</td><td>10000</td><td>25000</td><td>301956980</td><td>321795</td><td>58753</td><td>3</td><td>973</td><td>250000000</td><td>2009</td><td>11000</td><td>7.5</td><td>NA</td></tr><tr><th>11</th><td>Batman v Superman: Dawn of Justice?ÿ</td><td>673</td><td>183</td><td>NA</td><td>2000</td><td>15000</td><td>330249062</td><td>NA</td><td>24450</td><td>NA</td><td>3018</td><td>250000000</td><td>2016</td><td>NA</td><td>6.9</td><td>2016</td></tr><tr><th>12</th><td>Superman Returns?ÿ</td><td>434</td><td>169</td><td>NA</td><td>903</td><td>18000</td><td>200069408</td><td>240396</td><td>NA</td><td>2</td><td>2367</td><td>209000000</td><td>2006</td><td>10000</td><td>6.1</td><td>NA</td></tr><tr><th>13</th><td>Quantum of Solace?ÿ</td><td>403</td><td>106</td><td>395</td><td>393</td><td>451</td><td>168368427</td><td>330784</td><td>2023</td><td>1</td><td>1243</td><td>200000000</td><td>2008</td><td>412</td><td>6.7</td><td>2008</td></tr><tr><th>14</th><td>Pirates of the Caribbean: Dead Man's Chest?ÿ</td><td>313</td><td>151</td><td>563</td><td>1000</td><td>40000</td><td>423032628</td><td>522040</td><td>48486</td><td>2</td><td>1832</td><td>225000000</td><td>2006</td><td>5000</td><td>7.3</td><td>2008</td></tr></tbody></table>"
      ],
      "text/plain": [
       "14×16 DataFrames.DataFrame\n",
       "│ Row │ MOVIE_TITLE                                    │\n",
       "├─────┼────────────────────────────────────────────────┤\n",
       "│ 1   │ \"Avatar?ÿ\"                                     │\n",
       "│ 2   │ \"Pirates of the Caribbean: At World's End?ÿ\"   │\n",
       "│ 3   │ \"Spectre?ÿ\"                                    │\n",
       "│ 4   │ \"The Dark Knight Rises?ÿ\"                      │\n",
       "│ 5   │ \"John Carter?ÿ\"                                │\n",
       "│ 6   │ \"Spider-Man 3?ÿ\"                               │\n",
       "│ 7   │ \"Tangled?ÿ\"                                    │\n",
       "│ 8   │ \"Avengers: Age of Ultron?ÿ\"                    │\n",
       "│ 9   │ \"Avengers: Age of Ultron?ÿ\"                    │\n",
       "│ 10  │ \"Harry Potter and the Half-Blood Prince?ÿ\"     │\n",
       "│ 11  │ \"Batman v Superman: Dawn of Justice?ÿ\"         │\n",
       "│ 12  │ \"Superman Returns?ÿ\"                           │\n",
       "│ 13  │ \"Quantum of Solace?ÿ\"                          │\n",
       "│ 14  │ \"Pirates of the Caribbean: Dead Man's Chest?ÿ\" │\n",
       "\n",
       "│ Row │ NUM_CRITIC_FOR_REVIEWS │ DURATION │ DIRECTOR_FACEBOOK_LIKES │\n",
       "├─────┼────────────────────────┼──────────┼─────────────────────────┤\n",
       "│ 1   │ 723                    │ 178      │ \"10\"                    │\n",
       "│ 2   │ 302                    │ NA       │ \"563\"                   │\n",
       "│ 3   │ 602                    │ 148      │ \"20\"                    │\n",
       "│ 4   │ 813                    │ NA       │ \"22000\"                 │\n",
       "│ 5   │ 462                    │ 132      │ \"\\\"475\\\"\"                 │\n",
       "│ 6   │ 392                    │ 156      │ \"23\"                    │\n",
       "│ 7   │ 324                    │ NA       │ \"15\"                    │\n",
       "│ 8   │ 635                    │ 141      │ \"10\"                    │\n",
       "│ 9   │ 635                    │ 141      │ \"10\"                    │\n",
       "│ 10  │ 375                    │ 153      │ \"282\"                   │\n",
       "│ 11  │ 673                    │ 183      │ NA                      │\n",
       "│ 12  │ 434                    │ 169      │ NA                      │\n",
       "│ 13  │ 403                    │ 106      │ \"395\"                   │\n",
       "│ 14  │ 313                    │ 151      │ \"563\"                   │\n",
       "\n",
       "│ Row │ ACTOR_3_FACEBOOK_LIKES │ ACTOR_1_FACEBOOK_LIKES │ GROSS     │\n",
       "├─────┼────────────────────────┼────────────────────────┼───────────┤\n",
       "│ 1   │ 855                    │ 1000                   │ 760505847 │\n",
       "│ 2   │ 1000                   │ 40000                  │ 309404152 │\n",
       "│ 3   │ 161                    │ 11000                  │ 200074175 │\n",
       "│ 4   │ 23000                  │ 27000                  │ 448130642 │\n",
       "│ 5   │ 530                    │ 640                    │ 73058679  │\n",
       "│ 6   │ 4000                   │ 24000                  │ 336530303 │\n",
       "│ 7   │ 284                    │ 799                    │ 200807262 │\n",
       "│ 8   │ 19000                  │ 26000                  │ 458991599 │\n",
       "│ 9   │ 19000                  │ 26000                  │ 458991599 │\n",
       "│ 10  │ 10000                  │ 25000                  │ 301956980 │\n",
       "│ 11  │ 2000                   │ 15000                  │ 330249062 │\n",
       "│ 12  │ 903                    │ 18000                  │ 200069408 │\n",
       "│ 13  │ 393                    │ 451                    │ 168368427 │\n",
       "│ 14  │ 1000                   │ 40000                  │ 423032628 │\n",
       "\n",
       "│ Row │ NUM_VOTED_USERS │ CAST_TOTAL_FACEBOOK_LIKES │ FACENUMBER_IN_POSTER │\n",
       "├─────┼─────────────────┼───────────────────────────┼──────────────────────┤\n",
       "│ 1   │ 886204          │ 4834                      │ NA                   │\n",
       "│ 2   │ 471220          │ 48350                     │ NA                   │\n",
       "│ 3   │ 275868          │ 11700                     │ 1                    │\n",
       "│ 4   │ 1144337         │ 106759                    │ NA                   │\n",
       "│ 5   │ 212204          │ 1873                      │ 1                    │\n",
       "│ 6   │ 383056          │ 46055                     │ NA                   │\n",
       "│ 7   │ 294810          │ NA                        │ 1                    │\n",
       "│ 8   │ 462669          │ 92000                     │ 4                    │\n",
       "│ 9   │ 462669          │ 92000                     │ 4                    │\n",
       "│ 10  │ 321795          │ 58753                     │ 3                    │\n",
       "│ 11  │ NA              │ 24450                     │ NA                   │\n",
       "│ 12  │ 240396          │ NA                        │ 2                    │\n",
       "│ 13  │ 330784          │ 2023                      │ 1                    │\n",
       "│ 14  │ 522040          │ 48486                     │ 2                    │\n",
       "\n",
       "│ Row │ NUM_USER_FOR_REVIEWS │ BUDGET    │ TITLE_YEAR │ ACTOR_2_FACEBOOK_LIKES │\n",
       "├─────┼──────────────────────┼───────────┼────────────┼────────────────────────┤\n",
       "│ 1   │ 3054                 │ 237000000 │ 2009       │ 936                    │\n",
       "│ 2   │ 1238                 │ 300000000 │ 2007       │ 5000                   │\n",
       "│ 3   │ 994                  │ 245000000 │ 2015       │ 393                    │\n",
       "│ 4   │ 2701                 │ 250000000 │ 2012       │ 23000                  │\n",
       "│ 5   │ 738                  │ 263700000 │ 2012       │ 632                    │\n",
       "│ 6   │ 1902                 │ 258000000 │ 2007       │ 11000                  │\n",
       "│ 7   │ 387                  │ 260000000 │ 2010       │ 553                    │\n",
       "│ 8   │ 1117                 │ 250000000 │ 2015       │ 21000                  │\n",
       "│ 9   │ 1117                 │ 250000000 │ 2015       │ 21000                  │\n",
       "│ 10  │ 973                  │ 250000000 │ 2009       │ 11000                  │\n",
       "│ 11  │ 3018                 │ 250000000 │ 2016       │ NA                     │\n",
       "│ 12  │ 2367                 │ 209000000 │ 2006       │ 10000                  │\n",
       "│ 13  │ 1243                 │ 200000000 │ 2008       │ 412                    │\n",
       "│ 14  │ 1832                 │ 225000000 │ 2006       │ 5000                   │\n",
       "\n",
       "│ Row │ IMDB_SCORE │ TITLE_YEAR_1 │\n",
       "├─────┼────────────┼──────────────┤\n",
       "│ 1   │ 7.9        │ 2009         │\n",
       "│ 2   │ 7.1        │ NA           │\n",
       "│ 3   │ 6.8        │ 2015         │\n",
       "│ 4   │ 8.5        │ NA           │\n",
       "│ 5   │ 6.6        │ NA           │\n",
       "│ 6   │ 6.2        │ 2007         │\n",
       "│ 7   │ 7.8        │ NA           │\n",
       "│ 8   │ 7.5        │ NA           │\n",
       "│ 9   │ 7.5        │ 2015         │\n",
       "│ 10  │ 7.5        │ NA           │\n",
       "│ 11  │ 6.9        │ 2016         │\n",
       "│ 12  │ 6.1        │ NA           │\n",
       "│ 13  │ 6.7        │ 2008         │\n",
       "│ 14  │ 7.3        │ 2008         │"
      ]
     },
     "execution_count": 84,
     "metadata": {},
     "output_type": "execute_result"
    }
   ],
   "source": [
    "names!(df1,[:MOVIE_TITLE, :NUM_CRITIC_FOR_REVIEWS, :DURATION, :DIRECTOR_FACEBOOK_LIKES, :ACTOR_3_FACEBOOK_LIKES, :ACTOR_1_FACEBOOK_LIKES, :GROSS, :NUM_VOTED_USERS, :CAST_TOTAL_FACEBOOK_LIKES, :FACENUMBER_IN_POSTER, :NUM_USER_FOR_REVIEWS, :BUDGET, :TITLE_YEAR, :ACTOR_2_FACEBOOK_LIKES, :IMDB_SCORE, :TITLE_YEAR_1])"
   ]
  },
  {
   "cell_type": "code",
   "execution_count": 85,
   "metadata": {},
   "outputs": [
    {
     "data": {
      "text/plain": [
       "3-element Array{Int64,1}:\n",
       " 2\n",
       " 4\n",
       " 7"
      ]
     },
     "execution_count": 85,
     "metadata": {},
     "output_type": "execute_result"
    }
   ],
   "source": [
    "# Returns the individual rows of a column with missing values/na\n",
    "find(isna.(df1[:, :DURATION]))"
   ]
  },
  {
   "cell_type": "code",
   "execution_count": 86,
   "metadata": {},
   "outputs": [
    {
     "data": {
      "text/html": [
       "<table class=\"data-frame\"><thead><tr><th></th><th>NUM_CRITIC_FOR_REVIEWS</th><th>DIRECTOR_FACEBOOK_LIKES</th><th>GROSS</th></tr></thead><tbody><tr><th>1</th><td>723</td><td>10</td><td>760505847</td></tr><tr><th>2</th><td>302</td><td>563</td><td>309404152</td></tr><tr><th>3</th><td>602</td><td>20</td><td>200074175</td></tr><tr><th>4</th><td>813</td><td>22000</td><td>448130642</td></tr><tr><th>5</th><td>462</td><td>\"475\"</td><td>73058679</td></tr><tr><th>6</th><td>392</td><td>23</td><td>336530303</td></tr><tr><th>7</th><td>324</td><td>15</td><td>200807262</td></tr><tr><th>8</th><td>635</td><td>10</td><td>458991599</td></tr><tr><th>9</th><td>635</td><td>10</td><td>458991599</td></tr><tr><th>10</th><td>375</td><td>282</td><td>301956980</td></tr><tr><th>11</th><td>673</td><td>NA</td><td>330249062</td></tr><tr><th>12</th><td>434</td><td>NA</td><td>200069408</td></tr><tr><th>13</th><td>403</td><td>395</td><td>168368427</td></tr><tr><th>14</th><td>313</td><td>563</td><td>423032628</td></tr></tbody></table>"
      ],
      "text/plain": [
       "14×3 DataFrames.DataFrame\n",
       "│ Row │ NUM_CRITIC_FOR_REVIEWS │ DIRECTOR_FACEBOOK_LIKES │ GROSS     │\n",
       "├─────┼────────────────────────┼─────────────────────────┼───────────┤\n",
       "│ 1   │ 723                    │ \"10\"                    │ 760505847 │\n",
       "│ 2   │ 302                    │ \"563\"                   │ 309404152 │\n",
       "│ 3   │ 602                    │ \"20\"                    │ 200074175 │\n",
       "│ 4   │ 813                    │ \"22000\"                 │ 448130642 │\n",
       "│ 5   │ 462                    │ \"\\\"475\\\"\"                 │ 73058679  │\n",
       "│ 6   │ 392                    │ \"23\"                    │ 336530303 │\n",
       "│ 7   │ 324                    │ \"15\"                    │ 200807262 │\n",
       "│ 8   │ 635                    │ \"10\"                    │ 458991599 │\n",
       "│ 9   │ 635                    │ \"10\"                    │ 458991599 │\n",
       "│ 10  │ 375                    │ \"282\"                   │ 301956980 │\n",
       "│ 11  │ 673                    │ NA                      │ 330249062 │\n",
       "│ 12  │ 434                    │ NA                      │ 200069408 │\n",
       "│ 13  │ 403                    │ \"395\"                   │ 168368427 │\n",
       "│ 14  │ 313                    │ \"563\"                   │ 423032628 │"
      ]
     },
     "execution_count": 86,
     "metadata": {},
     "output_type": "execute_result"
    }
   ],
   "source": [
    "df[find(isna.(df1[:, :DURATION]))]"
   ]
  },
  {
   "cell_type": "code",
   "execution_count": null,
   "metadata": {},
   "outputs": [],
   "source": [
    "isna()"
   ]
  },
  {
   "cell_type": "code",
   "execution_count": 88,
   "metadata": {},
   "outputs": [
    {
     "name": "stdout",
     "output_type": "stream",
     "text": [
      "the value is 178\n",
      "skipping missing values\n",
      "the value is 148\n",
      "skipping missing values\n",
      "the value is 132\n",
      "the value is 156\n",
      "skipping missing values\n",
      "the value is 141\n",
      "the value is 141\n",
      "the value is 153\n",
      "the value is 183\n",
      "the value is 169\n",
      "the value is 106\n",
      "the value is 151\n"
     ]
    }
   ],
   "source": [
    "# Returns the individual rows of a column with missing values/na\n",
    "nrows, ncols = size(df) # Size of rows\n",
    "# You can also use nrow() function instead of above\n",
    "for row in 1:nrows\n",
    "     if isna(df1[row, :DURATION])\n",
    "       println(\"skipping missing values\")\n",
    "     else\n",
    "       println(\"the value is $(df1[row, :DURATION])\")\n",
    "     end\n",
    "end\n"
   ]
  },
  {
   "cell_type": "markdown",
   "metadata": {},
   "source": [
    "#### Julia Tricks\n",
    "+ isna()\n",
    "+ isna.() \n",
    "+ .!isna.() #returns a dataframe that contains no rows with missing values.\n",
    "+ completecase() # "
   ]
  },
  {
   "cell_type": "code",
   "execution_count": 89,
   "metadata": {},
   "outputs": [
    {
     "data": {
      "text/plain": [
       "14-element DataArrays.DataArray{Bool,1}:\n",
       "  true\n",
       " false\n",
       "  true\n",
       " false\n",
       "  true\n",
       "  true\n",
       " false\n",
       "  true\n",
       "  true\n",
       "  true\n",
       "  true\n",
       "  true\n",
       "  true\n",
       "  true"
      ]
     },
     "execution_count": 89,
     "metadata": {},
     "output_type": "execute_result"
    }
   ],
   "source": [
    ".!isna.(df1[:DURATION])"
   ]
  },
  {
   "cell_type": "markdown",
   "metadata": {},
   "source": [
    "## Solutions for Missing Values\n",
    "+ Fill With NA"
   ]
  },
  {
   "cell_type": "code",
   "execution_count": 90,
   "metadata": {},
   "outputs": [
    {
     "name": "stdout",
     "output_type": "stream",
     "text": [
      "14×16 DataFrames.DataFrame\n",
      "│ Col # │ Name                      │ Eltype  │ Missing │\n",
      "├───────┼───────────────────────────┼─────────┼─────────┤\n",
      "│ 1     │ MOVIE_TITLE               │ String  │ 0       │\n",
      "│ 2     │ NUM_CRITIC_FOR_REVIEWS    │ Int64   │ 0       │\n",
      "│ 3     │ DURATION                  │ Int64   │ 3       │\n",
      "│ 4     │ DIRECTOR_FACEBOOK_LIKES   │ String  │ 2       │\n",
      "│ 5     │ ACTOR_3_FACEBOOK_LIKES    │ Int64   │ 0       │\n",
      "│ 6     │ ACTOR_1_FACEBOOK_LIKES    │ Int64   │ 0       │\n",
      "│ 7     │ GROSS                     │ Int64   │ 0       │\n",
      "│ 8     │ NUM_VOTED_USERS           │ Int64   │ 1       │\n",
      "│ 9     │ CAST_TOTAL_FACEBOOK_LIKES │ Int64   │ 2       │\n",
      "│ 10    │ FACENUMBER_IN_POSTER      │ Int64   │ 5       │\n",
      "│ 11    │ NUM_USER_FOR_REVIEWS      │ Int64   │ 0       │\n",
      "│ 12    │ BUDGET                    │ Int64   │ 0       │\n",
      "│ 13    │ TITLE_YEAR                │ Int64   │ 0       │\n",
      "│ 14    │ ACTOR_2_FACEBOOK_LIKES    │ Int64   │ 1       │\n",
      "│ 15    │ IMDB_SCORE                │ Float64 │ 0       │\n",
      "│ 16    │ TITLE_YEAR_1              │ Int64   │ 7       │"
     ]
    }
   ],
   "source": [
    "showcols(df1)"
   ]
  },
  {
   "cell_type": "code",
   "execution_count": 99,
   "metadata": {},
   "outputs": [
    {
     "data": {
      "text/plain": [
       "NA"
      ]
     },
     "execution_count": 99,
     "metadata": {},
     "output_type": "execute_result"
    }
   ],
   "source": [
    "# Fill with Default\n",
    "df1[isna.(df1[:DURATION]),:DURATION] = NA"
   ]
  },
  {
   "cell_type": "code",
   "execution_count": 101,
   "metadata": {},
   "outputs": [
    {
     "data": {
      "text/plain": [
       "14-element DataArrays.DataArray{Int64,1}:\n",
       "  178\n",
       " 9999\n",
       "  148\n",
       " 9999\n",
       "  132\n",
       "  156\n",
       " 9999\n",
       "  141\n",
       "  141\n",
       "  153\n",
       "  183\n",
       "  169\n",
       "  106\n",
       "  151"
      ]
     },
     "execution_count": 101,
     "metadata": {},
     "output_type": "execute_result"
    }
   ],
   "source": [
    "df1[:DURATION]"
   ]
  },
  {
   "cell_type": "code",
   "execution_count": 125,
   "metadata": {},
   "outputs": [
    {
     "name": "stdout",
     "output_type": "stream",
     "text": [
      "14×16 DataFrames.DataFrame\n",
      "│ Col # │ Name                      │ Eltype  │ Missing │\n",
      "├───────┼───────────────────────────┼─────────┼─────────┤\n",
      "│ 1     │ MOVIE_TITLE               │ String  │ 0       │\n",
      "│ 2     │ NUM_CRITIC_FOR_REVIEWS    │ Int64   │ 0       │\n",
      "│ 3     │ DURATION                  │ Int64   │ 0       │\n",
      "│ 4     │ DIRECTOR_FACEBOOK_LIKES   │ String  │ 2       │\n",
      "│ 5     │ ACTOR_3_FACEBOOK_LIKES    │ Int64   │ 0       │\n",
      "│ 6     │ ACTOR_1_FACEBOOK_LIKES    │ Int64   │ 0       │\n",
      "│ 7     │ GROSS                     │ Int64   │ 0       │\n",
      "│ 8     │ NUM_VOTED_USERS           │ Int64   │ 1       │\n",
      "│ 9     │ CAST_TOTAL_FACEBOOK_LIKES │ Int64   │ 2       │\n",
      "│ 10    │ FACENUMBER_IN_POSTER      │ Int64   │ 5       │\n",
      "│ 11    │ NUM_USER_FOR_REVIEWS      │ Int64   │ 0       │\n",
      "│ 12    │ BUDGET                    │ Int64   │ 0       │\n",
      "│ 13    │ TITLE_YEAR                │ Int64   │ 0       │\n",
      "│ 14    │ ACTOR_2_FACEBOOK_LIKES    │ Int64   │ 1       │\n",
      "│ 15    │ IMDB_SCORE                │ Float64 │ 0       │\n",
      "│ 16    │ TITLE_YEAR_1              │ Int64   │ 7       │"
     ]
    }
   ],
   "source": [
    "# Filling with the mean\n",
    "showcols(df1)"
   ]
  },
  {
   "cell_type": "code",
   "execution_count": 127,
   "metadata": {},
   "outputs": [
    {
     "data": {
      "text/plain": [
       "14-element DataArrays.DataArray{Int64,1}:\n",
       "  886204  \n",
       "  471220  \n",
       "  275868  \n",
       " 1144337  \n",
       "  212204  \n",
       "  383056  \n",
       "  294810  \n",
       "  462669  \n",
       "  462669  \n",
       "  321795  \n",
       "        NA\n",
       "  240396  \n",
       "  330784  \n",
       "  522040  "
      ]
     },
     "execution_count": 127,
     "metadata": {},
     "output_type": "execute_result"
    }
   ],
   "source": [
    "df1[:NUM_VOTED_USERS]"
   ]
  },
  {
   "cell_type": "code",
   "execution_count": 128,
   "metadata": {},
   "outputs": [
    {
     "data": {
      "text/plain": [
       "NA"
      ]
     },
     "execution_count": 128,
     "metadata": {},
     "output_type": "execute_result"
    }
   ],
   "source": [
    "mean(df1[:NUM_VOTED_USERS])"
   ]
  },
  {
   "cell_type": "code",
   "execution_count": 130,
   "metadata": {},
   "outputs": [
    {
     "data": {
      "text/plain": [
       "1-element Array{Int64,1}:\n",
       " 11"
      ]
     },
     "execution_count": 130,
     "metadata": {},
     "output_type": "execute_result"
    }
   ],
   "source": [
    "# Edit\n",
    "find(isna.(df1[:NUM_VOTED_USERS]))"
   ]
  },
  {
   "cell_type": "code",
   "execution_count": 131,
   "metadata": {},
   "outputs": [
    {
     "data": {
      "text/html": [
       "<table class=\"data-frame\"><thead><tr><th></th><th>NUM_VOTED_USERS</th></tr></thead><tbody><tr><th>1</th><td>886204</td></tr><tr><th>2</th><td>471220</td></tr><tr><th>3</th><td>275868</td></tr><tr><th>4</th><td>1144337</td></tr><tr><th>5</th><td>212204</td></tr><tr><th>6</th><td>383056</td></tr><tr><th>7</th><td>294810</td></tr><tr><th>8</th><td>462669</td></tr><tr><th>9</th><td>462669</td></tr><tr><th>10</th><td>321795</td></tr><tr><th>11</th><td>240396</td></tr><tr><th>12</th><td>330784</td></tr><tr><th>13</th><td>522040</td></tr></tbody></table>"
      ],
      "text/plain": [
       "13×1 DataFrames.DataFrame\n",
       "│ Row │ NUM_VOTED_USERS │\n",
       "├─────┼─────────────────┤\n",
       "│ 1   │ 886204          │\n",
       "│ 2   │ 471220          │\n",
       "│ 3   │ 275868          │\n",
       "│ 4   │ 1144337         │\n",
       "│ 5   │ 212204          │\n",
       "│ 6   │ 383056          │\n",
       "│ 7   │ 294810          │\n",
       "│ 8   │ 462669          │\n",
       "│ 9   │ 462669          │\n",
       "│ 10  │ 321795          │\n",
       "│ 11  │ 240396          │\n",
       "│ 12  │ 330784          │\n",
       "│ 13  │ 522040          │"
      ]
     },
     "execution_count": 131,
     "metadata": {},
     "output_type": "execute_result"
    }
   ],
   "source": [
    "df1[[1,2,3,4,5,6,7,8,9,10,12,13,14],[:NUM_VOTED_USERS]]"
   ]
  },
  {
   "cell_type": "code",
   "execution_count": 134,
   "metadata": {},
   "outputs": [
    {
     "data": {
      "text/html": [
       "<table class=\"data-frame\"><thead><tr><th></th><th>NUM_VOTED_USERS</th></tr></thead><tbody><tr><th>1</th><td>886204</td></tr><tr><th>2</th><td>471220</td></tr><tr><th>3</th><td>275868</td></tr><tr><th>4</th><td>1144337</td></tr><tr><th>5</th><td>212204</td></tr><tr><th>6</th><td>383056</td></tr><tr><th>7</th><td>294810</td></tr><tr><th>8</th><td>462669</td></tr><tr><th>9</th><td>462669</td></tr><tr><th>10</th><td>321795</td></tr><tr><th>11</th><td>240396</td></tr><tr><th>12</th><td>330784</td></tr><tr><th>13</th><td>522040</td></tr></tbody></table>"
      ],
      "text/plain": [
       "13×1 DataFrames.DataFrame\n",
       "│ Row │ NUM_VOTED_USERS │\n",
       "├─────┼─────────────────┤\n",
       "│ 1   │ 886204          │\n",
       "│ 2   │ 471220          │\n",
       "│ 3   │ 275868          │\n",
       "│ 4   │ 1144337         │\n",
       "│ 5   │ 212204          │\n",
       "│ 6   │ 383056          │\n",
       "│ 7   │ 294810          │\n",
       "│ 8   │ 462669          │\n",
       "│ 9   │ 462669          │\n",
       "│ 10  │ 321795          │\n",
       "│ 11  │ 240396          │\n",
       "│ 12  │ 330784          │\n",
       "│ 13  │ 522040          │"
      ]
     },
     "execution_count": 134,
     "metadata": {},
     "output_type": "execute_result"
    }
   ],
   "source": [
    "# Pick every element except 11\n",
    "df1[1:end .!=11,[:NUM_VOTED_USERS]]"
   ]
  },
  {
   "cell_type": "code",
   "execution_count": 133,
   "metadata": {},
   "outputs": [
    {
     "name": "stdout",
     "output_type": "stream",
     "text": [
      "NUM_VOTED_USERS\n",
      "Summary Stats:\n",
      "Mean:           462157.846154\n",
      "Minimum:        212204.000000\n",
      "1st Quartile:   294810.000000\n",
      "Median:         383056.000000\n",
      "3rd Quartile:   471220.000000\n",
      "Maximum:        1144337.000000\n",
      "Length:         13\n",
      "Type:           Int64\n",
      "Number Missing: 0\n",
      "% Missing:      0.000000\n",
      "\n"
     ]
    }
   ],
   "source": [
    "describe(df1[[1,2,3,4,5,6,7,8,9,10,12,13,14],[:NUM_VOTED_USERS]])"
   ]
  },
  {
   "cell_type": "code",
   "execution_count": null,
   "metadata": {},
   "outputs": [],
   "source": [
    "#df1[isna.(df1[:NUM_VOTED_USERS]),:NUM_VOTED_USERS] = 462157"
   ]
  },
  {
   "cell_type": "code",
   "execution_count": null,
   "metadata": {},
   "outputs": [],
   "source": []
  },
  {
   "cell_type": "markdown",
   "metadata": {},
   "source": [
    "### Deleting Rows or Dropping Rows with NA"
   ]
  },
  {
   "cell_type": "code",
   "execution_count": null,
   "metadata": {},
   "outputs": [],
   "source": [
    "df1 = readtable(\"raw_data_unmodified.csv\", nastrings=[\"NA\", \"na\", \"n/a\", \"missing\"])"
   ]
  },
  {
   "cell_type": "code",
   "execution_count": 139,
   "metadata": {},
   "outputs": [
    {
     "data": {
      "text/html": [
       "<table class=\"data-frame\"><thead><tr><th></th><th>MOVIE_TITLE</th><th>NUM_CRITIC_FOR_REVIEWS</th><th>DURATION</th><th>DIRECTOR_FACEBOOK_LIKES</th><th>ACTOR_3_FACEBOOK_LIKES</th><th>ACTOR_1_FACEBOOK_LIKES</th><th>GROSS</th><th>NUM_VOTED_USERS</th><th>CAST_TOTAL_FACEBOOK_LIKES</th><th>FACENUMBER_IN_POSTER</th><th>NUM_USER_FOR_REVIEWS</th><th>BUDGET</th><th>TITLE_YEAR</th><th>ACTOR_2_FACEBOOK_LIKES</th><th>IMDB_SCORE</th><th>TITLE_YEAR_1</th></tr></thead><tbody><tr><th>1</th><td>Avatar?ÿ</td><td>723</td><td>178</td><td>10</td><td>855</td><td>1000</td><td>760505847</td><td>886204</td><td>4834</td><td>NA</td><td>3054</td><td>237000000</td><td>2009</td><td>936</td><td>7.9</td><td>2009</td></tr><tr><th>2</th><td>Pirates of the Caribbean: At World's End?ÿ</td><td>302</td><td>9999</td><td>563</td><td>1000</td><td>40000</td><td>309404152</td><td>471220</td><td>48350</td><td>NA</td><td>1238</td><td>300000000</td><td>2007</td><td>5000</td><td>7.1</td><td>NA</td></tr><tr><th>3</th><td>Spectre?ÿ</td><td>602</td><td>148</td><td>20</td><td>161</td><td>11000</td><td>200074175</td><td>275868</td><td>11700</td><td>1</td><td>994</td><td>245000000</td><td>2015</td><td>393</td><td>6.8</td><td>2015</td></tr><tr><th>4</th><td>The Dark Knight Rises?ÿ</td><td>813</td><td>9999</td><td>22000</td><td>23000</td><td>27000</td><td>448130642</td><td>1144337</td><td>106759</td><td>NA</td><td>2701</td><td>250000000</td><td>2012</td><td>23000</td><td>8.5</td><td>NA</td></tr><tr><th>5</th><td>John Carter?ÿ</td><td>462</td><td>132</td><td>\"475\"</td><td>530</td><td>640</td><td>73058679</td><td>212204</td><td>1873</td><td>1</td><td>738</td><td>263700000</td><td>2012</td><td>632</td><td>6.6</td><td>NA</td></tr><tr><th>6</th><td>Spider-Man 3?ÿ</td><td>392</td><td>156</td><td>23</td><td>4000</td><td>24000</td><td>336530303</td><td>383056</td><td>46055</td><td>NA</td><td>1902</td><td>258000000</td><td>2007</td><td>11000</td><td>6.2</td><td>2007</td></tr></tbody></table>"
      ],
      "text/plain": [
       "6×16 DataFrames.DataFrame\n",
       "│ Row │ MOVIE_TITLE                                  │ NUM_CRITIC_FOR_REVIEWS │\n",
       "├─────┼──────────────────────────────────────────────┼────────────────────────┤\n",
       "│ 1   │ \"Avatar?ÿ\"                                   │ 723                    │\n",
       "│ 2   │ \"Pirates of the Caribbean: At World's End?ÿ\" │ 302                    │\n",
       "│ 3   │ \"Spectre?ÿ\"                                  │ 602                    │\n",
       "│ 4   │ \"The Dark Knight Rises?ÿ\"                    │ 813                    │\n",
       "│ 5   │ \"John Carter?ÿ\"                              │ 462                    │\n",
       "│ 6   │ \"Spider-Man 3?ÿ\"                             │ 392                    │\n",
       "\n",
       "│ Row │ DURATION │ DIRECTOR_FACEBOOK_LIKES │ ACTOR_3_FACEBOOK_LIKES │\n",
       "├─────┼──────────┼─────────────────────────┼────────────────────────┤\n",
       "│ 1   │ 178      │ \"10\"                    │ 855                    │\n",
       "│ 2   │ 9999     │ \"563\"                   │ 1000                   │\n",
       "│ 3   │ 148      │ \"20\"                    │ 161                    │\n",
       "│ 4   │ 9999     │ \"22000\"                 │ 23000                  │\n",
       "│ 5   │ 132      │ \"\\\"475\\\"\"                 │ 530                    │\n",
       "│ 6   │ 156      │ \"23\"                    │ 4000                   │\n",
       "\n",
       "│ Row │ ACTOR_1_FACEBOOK_LIKES │ GROSS     │ NUM_VOTED_USERS │\n",
       "├─────┼────────────────────────┼───────────┼─────────────────┤\n",
       "│ 1   │ 1000                   │ 760505847 │ 886204          │\n",
       "│ 2   │ 40000                  │ 309404152 │ 471220          │\n",
       "│ 3   │ 11000                  │ 200074175 │ 275868          │\n",
       "│ 4   │ 27000                  │ 448130642 │ 1144337         │\n",
       "│ 5   │ 640                    │ 73058679  │ 212204          │\n",
       "│ 6   │ 24000                  │ 336530303 │ 383056          │\n",
       "\n",
       "│ Row │ CAST_TOTAL_FACEBOOK_LIKES │ FACENUMBER_IN_POSTER │\n",
       "├─────┼───────────────────────────┼──────────────────────┤\n",
       "│ 1   │ 4834                      │ NA                   │\n",
       "│ 2   │ 48350                     │ NA                   │\n",
       "│ 3   │ 11700                     │ 1                    │\n",
       "│ 4   │ 106759                    │ NA                   │\n",
       "│ 5   │ 1873                      │ 1                    │\n",
       "│ 6   │ 46055                     │ NA                   │\n",
       "\n",
       "│ Row │ NUM_USER_FOR_REVIEWS │ BUDGET    │ TITLE_YEAR │ ACTOR_2_FACEBOOK_LIKES │\n",
       "├─────┼──────────────────────┼───────────┼────────────┼────────────────────────┤\n",
       "│ 1   │ 3054                 │ 237000000 │ 2009       │ 936                    │\n",
       "│ 2   │ 1238                 │ 300000000 │ 2007       │ 5000                   │\n",
       "│ 3   │ 994                  │ 245000000 │ 2015       │ 393                    │\n",
       "│ 4   │ 2701                 │ 250000000 │ 2012       │ 23000                  │\n",
       "│ 5   │ 738                  │ 263700000 │ 2012       │ 632                    │\n",
       "│ 6   │ 1902                 │ 258000000 │ 2007       │ 11000                  │\n",
       "\n",
       "│ Row │ IMDB_SCORE │ TITLE_YEAR_1 │\n",
       "├─────┼────────────┼──────────────┤\n",
       "│ 1   │ 7.9        │ 2009         │\n",
       "│ 2   │ 7.1        │ NA           │\n",
       "│ 3   │ 6.8        │ 2015         │\n",
       "│ 4   │ 8.5        │ NA           │\n",
       "│ 5   │ 6.6        │ NA           │\n",
       "│ 6   │ 6.2        │ 2007         │"
      ]
     },
     "execution_count": 139,
     "metadata": {},
     "output_type": "execute_result"
    }
   ],
   "source": [
    "head(df1)"
   ]
  },
  {
   "cell_type": "code",
   "execution_count": 141,
   "metadata": {},
   "outputs": [
    {
     "name": "stdout",
     "output_type": "stream",
     "text": [
      "14×16 DataFrames.DataFrame\n",
      "│ Col # │ Name                      │ Eltype  │ Missing │\n",
      "├───────┼───────────────────────────┼─────────┼─────────┤\n",
      "│ 1     │ MOVIE_TITLE               │ String  │ 0       │\n",
      "│ 2     │ NUM_CRITIC_FOR_REVIEWS    │ Int64   │ 0       │\n",
      "│ 3     │ DURATION                  │ Int64   │ 0       │\n",
      "│ 4     │ DIRECTOR_FACEBOOK_LIKES   │ String  │ 2       │\n",
      "│ 5     │ ACTOR_3_FACEBOOK_LIKES    │ Int64   │ 0       │\n",
      "│ 6     │ ACTOR_1_FACEBOOK_LIKES    │ Int64   │ 0       │\n",
      "│ 7     │ GROSS                     │ Int64   │ 0       │\n",
      "│ 8     │ NUM_VOTED_USERS           │ Int64   │ 1       │\n",
      "│ 9     │ CAST_TOTAL_FACEBOOK_LIKES │ Int64   │ 2       │\n",
      "│ 10    │ FACENUMBER_IN_POSTER      │ Int64   │ 5       │\n",
      "│ 11    │ NUM_USER_FOR_REVIEWS      │ Int64   │ 0       │\n",
      "│ 12    │ BUDGET                    │ Int64   │ 0       │\n",
      "│ 13    │ TITLE_YEAR                │ Int64   │ 0       │\n",
      "│ 14    │ ACTOR_2_FACEBOOK_LIKES    │ Int64   │ 1       │\n",
      "│ 15    │ IMDB_SCORE                │ Float64 │ 0       │\n",
      "│ 16    │ TITLE_YEAR_1              │ Int64   │ 7       │"
     ]
    }
   ],
   "source": [
    "showcols(df1)"
   ]
  },
  {
   "cell_type": "code",
   "execution_count": 143,
   "metadata": {},
   "outputs": [],
   "source": [
    "#dropmissing\n",
    "#isna ismissing\n",
    "dropna()"
   ]
  },
  {
   "cell_type": "code",
   "execution_count": 144,
   "metadata": {},
   "outputs": [
    {
     "data": {
      "text/plain": [
       "8-element DataArrays.DataArray{Int64,1}:\n",
       "  1  \n",
       "  2  \n",
       "  3  \n",
       "  5  \n",
       "   NA\n",
       "  6  \n",
       "   NA\n",
       " 10  "
      ]
     },
     "execution_count": 144,
     "metadata": {},
     "output_type": "execute_result"
    }
   ],
   "source": [
    "a = @data([1,2,3,5,NA,6,NA,10])"
   ]
  },
  {
   "cell_type": "code",
   "execution_count": 145,
   "metadata": {},
   "outputs": [
    {
     "data": {
      "text/plain": [
       "6-element Array{Int64,1}:\n",
       "  1\n",
       "  2\n",
       "  3\n",
       "  5\n",
       "  6\n",
       " 10"
      ]
     },
     "execution_count": 145,
     "metadata": {},
     "output_type": "execute_result"
    }
   ],
   "source": [
    "dropna(a)"
   ]
  },
  {
   "cell_type": "code",
   "execution_count": 146,
   "metadata": {},
   "outputs": [
    {
     "data": {
      "text/plain": [
       "8-element DataArrays.DataArray{Int64,1}:\n",
       "  1  \n",
       "  2  \n",
       "  3  \n",
       "  5  \n",
       "   NA\n",
       "  6  \n",
       "   NA\n",
       " 10  "
      ]
     },
     "execution_count": 146,
     "metadata": {},
     "output_type": "execute_result"
    }
   ],
   "source": [
    "a"
   ]
  },
  {
   "cell_type": "code",
   "execution_count": 157,
   "metadata": {},
   "outputs": [
    {
     "data": {
      "text/html": [
       "<table class=\"data-frame\"><thead><tr><th></th><th>MOVIE_TITLE</th><th>NUM_CRITIC_FOR_REVIEWS</th><th>DURATION</th><th>DIRECTOR_FACEBOOK_LIKES</th><th>ACTOR_3_FACEBOOK_LIKES</th><th>ACTOR_1_FACEBOOK_LIKES</th><th>GROSS</th><th>NUM_VOTED_USERS</th><th>CAST_TOTAL_FACEBOOK_LIKES</th><th>FACENUMBER_IN_POSTER</th><th>NUM_USER_FOR_REVIEWS</th><th>BUDGET</th><th>TITLE_YEAR</th><th>ACTOR_2_FACEBOOK_LIKES</th><th>IMDB_SCORE</th><th>TITLE_YEAR_1</th></tr></thead><tbody><tr><th>1</th><td>Spectre?ÿ</td><td>602</td><td>148</td><td>20</td><td>161</td><td>11000</td><td>200074175</td><td>275868</td><td>11700</td><td>1</td><td>994</td><td>245000000</td><td>2015</td><td>393</td><td>6.8</td><td>2015</td></tr><tr><th>2</th><td>Avengers: Age of Ultron?ÿ</td><td>635</td><td>141</td><td>10</td><td>19000</td><td>26000</td><td>458991599</td><td>462669</td><td>92000</td><td>4</td><td>1117</td><td>250000000</td><td>2015</td><td>21000</td><td>7.5</td><td>2015</td></tr><tr><th>3</th><td>Quantum of Solace?ÿ</td><td>403</td><td>106</td><td>395</td><td>393</td><td>451</td><td>168368427</td><td>330784</td><td>2023</td><td>1</td><td>1243</td><td>200000000</td><td>2008</td><td>412</td><td>6.7</td><td>2008</td></tr><tr><th>4</th><td>Pirates of the Caribbean: Dead Man's Chest?ÿ</td><td>313</td><td>151</td><td>563</td><td>1000</td><td>40000</td><td>423032628</td><td>522040</td><td>48486</td><td>2</td><td>1832</td><td>225000000</td><td>2006</td><td>5000</td><td>7.3</td><td>2008</td></tr></tbody></table>"
      ],
      "text/plain": [
       "4×16 DataFrames.DataFrame\n",
       "│ Row │ MOVIE_TITLE                                    │\n",
       "├─────┼────────────────────────────────────────────────┤\n",
       "│ 1   │ \"Spectre?ÿ\"                                    │\n",
       "│ 2   │ \"Avengers: Age of Ultron?ÿ\"                    │\n",
       "│ 3   │ \"Quantum of Solace?ÿ\"                          │\n",
       "│ 4   │ \"Pirates of the Caribbean: Dead Man's Chest?ÿ\" │\n",
       "\n",
       "│ Row │ NUM_CRITIC_FOR_REVIEWS │ DURATION │ DIRECTOR_FACEBOOK_LIKES │\n",
       "├─────┼────────────────────────┼──────────┼─────────────────────────┤\n",
       "│ 1   │ 602                    │ 148      │ \"20\"                    │\n",
       "│ 2   │ 635                    │ 141      │ \"10\"                    │\n",
       "│ 3   │ 403                    │ 106      │ \"395\"                   │\n",
       "│ 4   │ 313                    │ 151      │ \"563\"                   │\n",
       "\n",
       "│ Row │ ACTOR_3_FACEBOOK_LIKES │ ACTOR_1_FACEBOOK_LIKES │ GROSS     │\n",
       "├─────┼────────────────────────┼────────────────────────┼───────────┤\n",
       "│ 1   │ 161                    │ 11000                  │ 200074175 │\n",
       "│ 2   │ 19000                  │ 26000                  │ 458991599 │\n",
       "│ 3   │ 393                    │ 451                    │ 168368427 │\n",
       "│ 4   │ 1000                   │ 40000                  │ 423032628 │\n",
       "\n",
       "│ Row │ NUM_VOTED_USERS │ CAST_TOTAL_FACEBOOK_LIKES │ FACENUMBER_IN_POSTER │\n",
       "├─────┼─────────────────┼───────────────────────────┼──────────────────────┤\n",
       "│ 1   │ 275868          │ 11700                     │ 1                    │\n",
       "│ 2   │ 462669          │ 92000                     │ 4                    │\n",
       "│ 3   │ 330784          │ 2023                      │ 1                    │\n",
       "│ 4   │ 522040          │ 48486                     │ 2                    │\n",
       "\n",
       "│ Row │ NUM_USER_FOR_REVIEWS │ BUDGET    │ TITLE_YEAR │ ACTOR_2_FACEBOOK_LIKES │\n",
       "├─────┼──────────────────────┼───────────┼────────────┼────────────────────────┤\n",
       "│ 1   │ 994                  │ 245000000 │ 2015       │ 393                    │\n",
       "│ 2   │ 1117                 │ 250000000 │ 2015       │ 21000                  │\n",
       "│ 3   │ 1243                 │ 200000000 │ 2008       │ 412                    │\n",
       "│ 4   │ 1832                 │ 225000000 │ 2006       │ 5000                   │\n",
       "\n",
       "│ Row │ IMDB_SCORE │ TITLE_YEAR_1 │\n",
       "├─────┼────────────┼──────────────┤\n",
       "│ 1   │ 6.8        │ 2015         │\n",
       "│ 2   │ 7.5        │ 2015         │\n",
       "│ 3   │ 6.7        │ 2008         │\n",
       "│ 4   │ 7.3        │ 2008         │"
      ]
     },
     "execution_count": 157,
     "metadata": {},
     "output_type": "execute_result"
    }
   ],
   "source": [
    "completecases!(df1)\n",
    "# df.dropna(how=\"all\")"
   ]
  },
  {
   "cell_type": "code",
   "execution_count": 158,
   "metadata": {},
   "outputs": [
    {
     "data": {
      "text/html": [
       "<table class=\"data-frame\"><thead><tr><th></th><th>MOVIE_TITLE</th><th>NUM_CRITIC_FOR_REVIEWS</th><th>DURATION</th><th>DIRECTOR_FACEBOOK_LIKES</th><th>ACTOR_3_FACEBOOK_LIKES</th><th>ACTOR_1_FACEBOOK_LIKES</th><th>GROSS</th><th>NUM_VOTED_USERS</th><th>CAST_TOTAL_FACEBOOK_LIKES</th><th>FACENUMBER_IN_POSTER</th><th>NUM_USER_FOR_REVIEWS</th><th>BUDGET</th><th>TITLE_YEAR</th><th>ACTOR_2_FACEBOOK_LIKES</th><th>IMDB_SCORE</th><th>TITLE_YEAR_1</th></tr></thead><tbody><tr><th>1</th><td>Spectre?ÿ</td><td>602</td><td>148</td><td>20</td><td>161</td><td>11000</td><td>200074175</td><td>275868</td><td>11700</td><td>1</td><td>994</td><td>245000000</td><td>2015</td><td>393</td><td>6.8</td><td>2015</td></tr><tr><th>2</th><td>Avengers: Age of Ultron?ÿ</td><td>635</td><td>141</td><td>10</td><td>19000</td><td>26000</td><td>458991599</td><td>462669</td><td>92000</td><td>4</td><td>1117</td><td>250000000</td><td>2015</td><td>21000</td><td>7.5</td><td>2015</td></tr><tr><th>3</th><td>Quantum of Solace?ÿ</td><td>403</td><td>106</td><td>395</td><td>393</td><td>451</td><td>168368427</td><td>330784</td><td>2023</td><td>1</td><td>1243</td><td>200000000</td><td>2008</td><td>412</td><td>6.7</td><td>2008</td></tr><tr><th>4</th><td>Pirates of the Caribbean: Dead Man's Chest?ÿ</td><td>313</td><td>151</td><td>563</td><td>1000</td><td>40000</td><td>423032628</td><td>522040</td><td>48486</td><td>2</td><td>1832</td><td>225000000</td><td>2006</td><td>5000</td><td>7.3</td><td>2008</td></tr></tbody></table>"
      ],
      "text/plain": [
       "4×16 DataFrames.DataFrame\n",
       "│ Row │ MOVIE_TITLE                                    │\n",
       "├─────┼────────────────────────────────────────────────┤\n",
       "│ 1   │ \"Spectre?ÿ\"                                    │\n",
       "│ 2   │ \"Avengers: Age of Ultron?ÿ\"                    │\n",
       "│ 3   │ \"Quantum of Solace?ÿ\"                          │\n",
       "│ 4   │ \"Pirates of the Caribbean: Dead Man's Chest?ÿ\" │\n",
       "\n",
       "│ Row │ NUM_CRITIC_FOR_REVIEWS │ DURATION │ DIRECTOR_FACEBOOK_LIKES │\n",
       "├─────┼────────────────────────┼──────────┼─────────────────────────┤\n",
       "│ 1   │ 602                    │ 148      │ \"20\"                    │\n",
       "│ 2   │ 635                    │ 141      │ \"10\"                    │\n",
       "│ 3   │ 403                    │ 106      │ \"395\"                   │\n",
       "│ 4   │ 313                    │ 151      │ \"563\"                   │\n",
       "\n",
       "│ Row │ ACTOR_3_FACEBOOK_LIKES │ ACTOR_1_FACEBOOK_LIKES │ GROSS     │\n",
       "├─────┼────────────────────────┼────────────────────────┼───────────┤\n",
       "│ 1   │ 161                    │ 11000                  │ 200074175 │\n",
       "│ 2   │ 19000                  │ 26000                  │ 458991599 │\n",
       "│ 3   │ 393                    │ 451                    │ 168368427 │\n",
       "│ 4   │ 1000                   │ 40000                  │ 423032628 │\n",
       "\n",
       "│ Row │ NUM_VOTED_USERS │ CAST_TOTAL_FACEBOOK_LIKES │ FACENUMBER_IN_POSTER │\n",
       "├─────┼─────────────────┼───────────────────────────┼──────────────────────┤\n",
       "│ 1   │ 275868          │ 11700                     │ 1                    │\n",
       "│ 2   │ 462669          │ 92000                     │ 4                    │\n",
       "│ 3   │ 330784          │ 2023                      │ 1                    │\n",
       "│ 4   │ 522040          │ 48486                     │ 2                    │\n",
       "\n",
       "│ Row │ NUM_USER_FOR_REVIEWS │ BUDGET    │ TITLE_YEAR │ ACTOR_2_FACEBOOK_LIKES │\n",
       "├─────┼──────────────────────┼───────────┼────────────┼────────────────────────┤\n",
       "│ 1   │ 994                  │ 245000000 │ 2015       │ 393                    │\n",
       "│ 2   │ 1117                 │ 250000000 │ 2015       │ 21000                  │\n",
       "│ 3   │ 1243                 │ 200000000 │ 2008       │ 412                    │\n",
       "│ 4   │ 1832                 │ 225000000 │ 2006       │ 5000                   │\n",
       "\n",
       "│ Row │ IMDB_SCORE │ TITLE_YEAR_1 │\n",
       "├─────┼────────────┼──────────────┤\n",
       "│ 1   │ 6.8        │ 2015         │\n",
       "│ 2   │ 7.5        │ 2015         │\n",
       "│ 3   │ 6.7        │ 2008         │\n",
       "│ 4   │ 7.3        │ 2008         │"
      ]
     },
     "execution_count": 158,
     "metadata": {},
     "output_type": "execute_result"
    }
   ],
   "source": [
    "df1"
   ]
  },
  {
   "cell_type": "code",
   "execution_count": 159,
   "metadata": {},
   "outputs": [
    {
     "name": "stdout",
     "output_type": "stream",
     "text": [
      "4×16 DataFrames.DataFrame\n",
      "│ Col # │ Name                      │ Eltype  │ Missing │\n",
      "├───────┼───────────────────────────┼─────────┼─────────┤\n",
      "│ 1     │ MOVIE_TITLE               │ String  │ 0       │\n",
      "│ 2     │ NUM_CRITIC_FOR_REVIEWS    │ Int64   │ 0       │\n",
      "│ 3     │ DURATION                  │ Int64   │ 0       │\n",
      "│ 4     │ DIRECTOR_FACEBOOK_LIKES   │ String  │ 0       │\n",
      "│ 5     │ ACTOR_3_FACEBOOK_LIKES    │ Int64   │ 0       │\n",
      "│ 6     │ ACTOR_1_FACEBOOK_LIKES    │ Int64   │ 0       │\n",
      "│ 7     │ GROSS                     │ Int64   │ 0       │\n",
      "│ 8     │ NUM_VOTED_USERS           │ Int64   │ 0       │\n",
      "│ 9     │ CAST_TOTAL_FACEBOOK_LIKES │ Int64   │ 0       │\n",
      "│ 10    │ FACENUMBER_IN_POSTER      │ Int64   │ 0       │\n",
      "│ 11    │ NUM_USER_FOR_REVIEWS      │ Int64   │ 0       │\n",
      "│ 12    │ BUDGET                    │ Int64   │ 0       │\n",
      "│ 13    │ TITLE_YEAR                │ Int64   │ 0       │\n",
      "│ 14    │ ACTOR_2_FACEBOOK_LIKES    │ Int64   │ 0       │\n",
      "│ 15    │ IMDB_SCORE                │ Float64 │ 0       │\n",
      "│ 16    │ TITLE_YEAR_1              │ Int64   │ 0       │"
     ]
    }
   ],
   "source": [
    "showcols(df1)"
   ]
  },
  {
   "cell_type": "code",
   "execution_count": null,
   "metadata": {},
   "outputs": [],
   "source": []
  }
 ],
 "metadata": {
  "kernelspec": {
   "display_name": "Julia 0.6.1",
   "language": "julia",
   "name": "julia-0.6"
  },
  "language_info": {
   "file_extension": ".jl",
   "mimetype": "application/julia",
   "name": "julia",
   "version": "0.6.1"
  }
 },
 "nbformat": 4,
 "nbformat_minor": 2
}
