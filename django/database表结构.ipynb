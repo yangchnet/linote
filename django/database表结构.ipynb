{
 "cells": [
  {
   "cell_type": "markdown",
   "metadata": {},
   "source": [
    "# 数据库表结构 "
   ]
  },
  {
   "cell_type": "markdown",
   "metadata": {},
   "source": [
    "> code by lichang"
   ]
  },
  {
   "cell_type": "markdown",
   "metadata": {},
   "source": [
    "数据库名为django_mysql"
   ]
  },
  {
   "cell_type": "markdown",
   "metadata": {},
   "source": [
    "## 1.用户"
   ]
  },
  {
   "cell_type": "markdown",
   "metadata": {},
   "source": [
    "### 1.1 mhuse_mhuser表\n",
    "* id(key)\n",
    "* password（密文密码）\n",
    "* last_login\n",
    "* is_superuser\n",
    "*  username\n",
    "* first_name\n",
    "* last_name\n",
    "* email\n",
    "* is_staff\n",
    "*  is_active\n",
    "* date_joined\n",
    "*  usertype(normal, doctor)\n",
    "* deviceid\n",
    "* mypassword(明文密码)"
   ]
  },
  {
   "cell_type": "markdown",
   "metadata": {},
   "source": [
    "### 1.2 mhuser_normal表\n",
    "* **user** *(foreign key, mhuser_mhuser.id)*\n",
    "* **age**  *[IntegerField, blank=True]*\n",
    "* **gender** *[CharField,default='man',choice=('man','woman'), max_length=10, blank=True] (性别)*\n",
    "* **weight** *[FloatField, blank=True] （体重）*\n",
    "* **marry**  *[BooleanField, blank=True]（婚否）*\n",
    "* **career**  *[CharField, blank=True]（职业）*\n",
    "* **signature**  *[CharField, blank=True]（个性签名）*\n",
    "* **medicalhistory** *[TextField, max_length=1000, blank=True] （用药史）*\n",
    "* **avatar**  *[ImageField, blank=True] (头像)*"
   ]
  },
  {
   "cell_type": "markdown",
   "metadata": {},
   "source": [
    "### 1.3 mhuser_doctoruser表\n",
    "* **user** *(foreign key, mhuser_mhuser.id)*\n",
    "* **age** *[IntegerField, blank=True] \n",
    "* **gender** *[CharField,default='man',choice=('man','woman'), max_length=10, blank=True] (性别)*\n",
    "* **signature**  *[CharField, blank=True]（个性签名）*\n",
    "* **expert** *[CharField, blank=True] (擅长)*\n",
    "* **avatar**  *[ImageField, blank=True] (头像)*\n"
   ]
  },
  {
   "cell_type": "markdown",
   "metadata": {},
   "source": [
    "### 1.4 mhuser_match表\n",
    "* **normaluser** *[foreign key, mhusr_normaluser.user]*\n",
    "* **doctor** *[foreign key, mhuser_doctoruser.user]*\n",
    "* **charged** *[CharField, choice=(\n",
    "        ('pressure', '血压数据'),\n",
    "        ('oxygen', '血氧数据'),\n",
    "        ('heartbeat', '心跳数据'),\n",
    "        ('tem', '体温数据')] (负责的部分)*"
   ]
  },
  {
   "cell_type": "markdown",
   "metadata": {},
   "source": [
    "### 1.5 mhuser_temdata表\n",
    "* **own** *[foreign key, mhuser_normaluser.user]*\n",
    "* **time** *[DateTimeField]*\n",
    "* **tem_value** *[IntegerField]*"
   ]
  },
  {
   "cell_type": "markdown",
   "metadata": {},
   "source": [
    "### 1.6 mhuser_heartdata表\n",
    "* **own** *[foreign key, mhuser_normaluser.user]*\n",
    "* **time** *[DateTimeField]*\n",
    "* **b_value** *[IntegerField]*\n",
    "* **q_value** *[IntegerField]*\n",
    "* **s_value** *[IntegerField]*"
   ]
  },
  {
   "cell_type": "markdown",
   "metadata": {},
   "source": [
    "### 1.7 mhuser_oxygendata表\n",
    "* **own** *[foreign key, mhuser_normaluser.user]*\n",
    "* **time** *[DateTimeField]*\n",
    "* **hr_value** *[IntegerField]*\n",
    "* **spo2_value** *[IntegerField]*"
   ]
  },
  {
   "cell_type": "markdown",
   "metadata": {},
   "source": [
    "### 1.8 mhuser_pressuredata表\n",
    "* **own** *[foreign key, mhuser_normaluser.user]*\n",
    "* **time** *[DateTimeField]*\n",
    "* **s_value** *[IntegerField]*\n",
    "* **bpss_value** *[IntegerField]*\n",
    "* **bpsz_value** *[IntegerField]*"
   ]
  },
  {
   "cell_type": "markdown",
   "metadata": {},
   "source": [
    "## 2. 留言 "
   ]
  },
  {
   "cell_type": "markdown",
   "metadata": {},
   "source": [
    "### 2.1  explain_explain表\n",
    "* **match** *[foreign key, mhuser_match]*\n",
    "* **author** *[foreign key, mhuser_mhuser]*\n",
    "* **time** *[DateTimeField]*\n",
    "* **context** *[RichTextField, max_length=10000]"
   ]
  },
  {
   "cell_type": "markdown",
   "metadata": {},
   "source": [
    "## 3. 设备"
   ]
  },
  {
   "cell_type": "markdown",
   "metadata": {},
   "source": [
    "### 3.1  device_device表\n",
    "* **name** *[CharField, max_length=30]*\n",
    "* **cover1** *[ImageField]*\n",
    "* **cover2** *[ImageField, blank=True]*\n",
    "* **cover3** *[ImageField, blank=True]*\n",
    "* **cover4** *[ImageField, blank=True]*\n",
    "* **cover5** *[ImageField, blank=True]*\n",
    "* **label** *[TextField, max_length=50] (标签)*\n",
    "* **sales** *[IntegerField, default=0] (销量)*\n",
    "* **price** *[FloatField, default=0.0] (价格)*\n",
    "* **detailimage1** *[ImageField, blank=True] (详情图片)*\n",
    "* **detailimage2** *[ImageField, blank=True] (详情图片)*\n",
    "* **detailimage3** *[ImageField, blank=True] (详情图片)*\n",
    "* **detailimage4** *[ImageField, blank=True] (详情图片)*\n",
    "* **detailimage5** *[ImageField, blank=True] (详情图片)*"
   ]
  },
  {
   "cell_type": "markdown",
   "metadata": {},
   "source": [
    "## 4. 评论"
   ]
  },
  {
   "cell_type": "markdown",
   "metadata": {},
   "source": [
    "### 4.1 comment_blogcomment表\n",
    "> 一级评论， 对博客进行评论  \n",
    "\n",
    "* **author** *[foreign key, mhuser_mhuser]*\n",
    "* **time** *[DateTimeField]*\n",
    "* **comment** *[RichTextField] (评论内容)*\n",
    "* **followed_blog** *[foreign key, blog_blog] (评论对象)*"
   ]
  },
  {
   "cell_type": "markdown",
   "metadata": {},
   "source": [
    "### 4.2 comment_bottomcomment表\n",
    "> 二级评论，对一级评论进行回复或自回复）  \n",
    "\n",
    "* **author** *[foreign key, mhuser_mhuser]*\n",
    "* **time** *[DateTimeField]*\n",
    "* **comment** *[RichTextField] (评论内容)*\n",
    "* **followed_comment** *[foreign key, blog_blog] (评论的评论对象)*\n",
    "* **followed_self** *[foreign key, self] (评论的二级评论对象)*"
   ]
  },
  {
   "cell_type": "markdown",
   "metadata": {},
   "source": [
    "## 5. 博客  "
   ]
  },
  {
   "cell_type": "markdown",
   "metadata": {},
   "source": [
    "### 5.1 blog_blog表\n",
    "* **author** *[foreign key, mhuser_mhuser]*\n",
    "* **date** *[DateTimeField]*\n",
    "* **essay** *[RichTexTextFieldtField] (博客正文)*\n",
    "* **label** *[CharField, max_length=20] (标签)*\n",
    "* **views** *[IntegerField, default=0] (观看次数)*"
   ]
  }
 ],
 "metadata": {
  "kernelspec": {
   "display_name": "Python 3",
   "language": "python",
   "name": "python3"
  },
  "language_info": {
   "codemirror_mode": {
    "name": "ipython",
    "version": 3
   },
   "file_extension": ".py",
   "mimetype": "text/x-python",
   "name": "python",
   "nbconvert_exporter": "python",
   "pygments_lexer": "ipython3",
   "version": "3.7.2"
  }
 },
 "nbformat": 4,
 "nbformat_minor": 2
}
