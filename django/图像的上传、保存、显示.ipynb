{
 "cells": [
  {
   "cell_type": "markdown",
   "metadata": {},
   "source": [
    "# Django 中图像的处理方法 "
   ]
  },
  {
   "cell_type": "markdown",
   "metadata": {},
   "source": [
    "## 图像的上传保存 \n",
    "1. 前端图片的上传：\n",
    "```html\n",
    "<form action=\"/updateinfo\" method=\"POST\" enctype=\"multipart/form-data\">\n",
    " \n",
    "            <div class=\"updateImg\">\n",
    "            <img src=\"{{ account.photo.url }}\" alt=\"\"/> </div>          \n",
    "             \n",
    "            <input name=\"photo\" type=\"file\" id=\"exampleInputFile\">            \n",
    "            <button id=\"photo\" class=\"btn btn-danger\" type=\"submit\">上传头像</button>\n",
    "</form>\n",
    "```\n",
    "其中input标签的type为file，\n",
    "2. 图片模型  \n",
    "models.ImageField(upload_to='path')\n",
    "upload_to的储存路径是相对于MEDIA_ROOT而来的，若MEDIA_ROOT为/media/，upload_to路径为image，则图片上传后的储存路径为/media/image"
   ]
  },
  {
   "cell_type": "markdown",
   "metadata": {},
   "source": [
    "## 在前端显示上传的图片\n",
    "```html\n",
    "{% load static %}\n",
    "<body data-media-url=\"{% get_media_prefix %}\">\n",
    "```\n",
    "使用get_media_prefxi模板tag，代表MEDIA_URL变量\n",
    "```html\n",
    " <img src=\"{% get_media_prefix %}/{{ page.cover }}\" alt = \"{{ page.cover }}\">\n",
    "```"
   ]
  },
  {
   "cell_type": "markdown",
   "metadata": {},
   "source": [
    "> ## 存在的问题\n",
    "每个用户上传的图片集中在一个文件夹下，容易造成命名冲突，\n",
    "\n",
    "可参考[这里](https://blog.csdn.net/weixin_42134789/article/details/80753051#commentBox)"
   ]
  }
 ],
 "metadata": {
  "kernelspec": {
   "display_name": "Python 3",
   "language": "python",
   "name": "python3"
  },
  "language_info": {
   "codemirror_mode": {
    "name": "ipython",
    "version": 3
   },
   "file_extension": ".py",
   "mimetype": "text/x-python",
   "name": "python",
   "nbconvert_exporter": "python",
   "pygments_lexer": "ipython3",
   "version": "3.7.2"
  }
 },
 "nbformat": 4,
 "nbformat_minor": 2
}
