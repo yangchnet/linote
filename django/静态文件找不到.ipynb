{
 "cells": [
  {
   "cell_type": "markdown",
   "metadata": {},
   "source": [
    "## 在19-2-18的开始，突然发现网页的静态文件找不到了 "
   ]
  },
  {
   "cell_type": "markdown",
   "metadata": {},
   "source": [
    "在将static目录移动到app目录内之后，发现网页可以正常显示。"
   ]
  },
  {
   "cell_type": "markdown",
   "metadata": {},
   "source": [
    "> 原来static目录是和app目录一个层级  "
   ]
  },
  {
   "cell_type": "markdown",
   "metadata": {},
   "source": [
    "## 针对此问题的思考 "
   ]
  },
  {
   "cell_type": "markdown",
   "metadata": {},
   "source": [
    "\n",
    "### STATIC_URL = '/static/'  \n",
    "    注意此处是url，即对于静态文件的定位，这是必要的前提配置  \n",
    "    STATIC_URL的定义制定了静态资源的url，具体指各个app下的static目录\n",
    "\n",
    "### STATIC_ROOT = os.path.join(BASE_DIR, \"static\")  \n",
    "    STATIC_ROOT是总的static目录，主要用于在运行 collectstatic命令时存储所有的静态文件\n",
    "    \n",
    "### STATICFILES_DIRS = [os.path.join(BASE_DIR, \"static\"), 'mysite/static',]  \n",
    "      STATICFILES_DIRS是一个列表，存放各个app的static目录及公共的static目录\n",
    "                        \n",
    "    \n"
   ]
  },
  {
   "cell_type": "markdown",
   "metadata": {},
   "source": [
    "### [官网配置](https://docs.djangoproject.com/en/2.0/howto/static-files/#configuring-static-files)\n",
    "1. 确保django.contrib.staticfiles包含在您的 INSTALLED_APPS。\n",
    "\n",
    "2. 在您的设置文件中，定义STATIC_URL，例如：\n",
    "```python\n",
    "STATIC_URL = '/static/'  \n",
    "```  \n",
    "3. 在模板中，使用static模板标记使用已配置的相对路径构建URL STATICFILES_STORAGE。  \n",
    "```html\n",
    "{% load static %}\n",
    "<img src=\"{% static \"my_app/example.jpg\" %}\" alt=\"My image\"/>\n",
    "```\n",
    "4. 将静态文件存储static在应用程序中调用的文件夹中。例如my_app/static/my_app/example.jpg。"
   ]
  },
  {
   "cell_type": "markdown",
   "metadata": {},
   "source": [
    "###  对于模板中的{% load static%}\n",
    "当在模板中使用过load static之后，再次使用static时，将会使用[STATICFILES_FINDERS](https://docs.djangoproject.com/en/2.0/ref/settings/#staticfiles-finders)寻找静态文件，其默认值为：\n",
    "```Python\n",
    "[\n",
    "    'django.contrib.staticfiles.finders.FileSystemFinder',\n",
    "    'django.contrib.staticfiles.finders.AppDirectoriesFinder',\n",
    "]\n",
    "```\n",
    "对此的解释是，将会从STATICFILES_DIRS的目录中以及每个app下的static目录中寻找静态文件。"
   ]
  }
 ],
 "metadata": {
  "kernelspec": {
   "display_name": "Python 3",
   "language": "python",
   "name": "python3"
  },
  "language_info": {
   "codemirror_mode": {
    "name": "ipython",
    "version": 3
   },
   "file_extension": ".py",
   "mimetype": "text/x-python",
   "name": "python",
   "nbconvert_exporter": "python",
   "pygments_lexer": "ipython3",
   "version": "3.7.2"
  }
 },
 "nbformat": 4,
 "nbformat_minor": 2
}
