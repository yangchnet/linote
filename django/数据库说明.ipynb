{
 "cells": [
  {
   "cell_type": "markdown",
   "metadata": {},
   "source": [
    "# **数据库表结构说明 && 远程访问说明** "
   ]
  },
  {
   "cell_type": "markdown",
   "metadata": {},
   "source": [
    "> code by lichang"
   ]
  },
  {
   "cell_type": "markdown",
   "metadata": {},
   "source": [
    "# 数据库表结构说明"
   ]
  },
  {
   "cell_type": "markdown",
   "metadata": {},
   "source": [
    "数据库名为django_mysql"
   ]
  },
  {
   "cell_type": "markdown",
   "metadata": {},
   "source": [
    "## 1.用户  \n",
    "> 所有和用户有关的数据"
   ]
  },
  {
   "cell_type": "markdown",
   "metadata": {},
   "source": [
    "### 1.1 mhuse_mhuser表  \n",
    "> 用户总表，包含基本用户信息  \n",
    "\n",
    "* id(key)\n",
    "* password（密文密码）\n",
    "* last_login\n",
    "* is_superuser\n",
    "* username\n",
    "* first_name\n",
    "* last_name\n",
    "* email\n",
    "* is_staff\n",
    "* is_active\n",
    "* date_joined\n",
    "* usertype(normal, doctor)\n",
    "* deviceid （设备id）\n",
    "* mypassword(明文密码)"
   ]
  },
  {
   "cell_type": "markdown",
   "metadata": {},
   "source": [
    "### 1.2 mhuser_normal表  \n",
    "> 普通用户表,包含普通用户的个人信息  \n",
    "\n",
    "* **user** *(foreign key, mhuser_mhuser.id)*\n",
    "* **age**  *[IntegerField, blank=True]*\n",
    "* **gender** *[CharField,default='man',choice=('man','woman'), max_length=10, blank=True] (性别)*\n",
    "* **weight** *[FloatField, blank=True] （体重）*\n",
    "* **marry**  *[BooleanField, blank=True]（婚否）*\n",
    "* **career**  *[CharField, blank=True]（职业）*\n",
    "* **signature**  *[CharField, blank=True]（个性签名）*\n",
    "* **medicalhistory** *[TextField, max_length=1000, blank=True] （用药史）*\n",
    "* **avatar**  *[ImageField, blank=True] (头像)*"
   ]
  },
  {
   "cell_type": "markdown",
   "metadata": {},
   "source": [
    "### 1.3 mhuser_doctoruser表  \n",
    "> 医生用户表, 包含医生用户的基本信息\n",
    "\n",
    "* **user** *(foreign key, mhuser_mhuser.id)*\n",
    "* **age** *[IntegerField, blank=True] \n",
    "* **gender** *[CharField,default='man',choice=('man','woman'), max_length=10, blank=True] (性别)*\n",
    "* **signature**  *[CharField, blank=True]（个性签名）*\n",
    "* **expert** *[CharField, blank=True] (擅长)*\n",
    "* **avatar**  *[ImageField, blank=True] (头像)*\n"
   ]
  },
  {
   "cell_type": "markdown",
   "metadata": {},
   "source": [
    "### 1.4 mhuser_match表  \n",
    "> 普通用户&医生匹配,包含负责项\n",
    "\n",
    "* **normaluser** *[foreign key, mhusr_normaluser.user]*\n",
    "* **doctor** *[foreign key, mhuser_doctoruser.user]*\n",
    "* **charged** *[CharField, choice=(('pressure', '血压数据'),('oxygen','血氧数据'),('heartbeat', '心跳数据'),('tem', '体温数据')] (负责的部分)*"
   ]
  },
  {
   "cell_type": "markdown",
   "metadata": {},
   "source": [
    "### 1.5 mhuser_temdata表\n",
    "> 普通用户个人体温信息表\n",
    "\n",
    "* **own** *[foreign key, mhuser_normaluser.user]*\n",
    "* **deviceid** *[CharField, default='', max_length=50]*\n",
    "* **time** *[DateTimeField]*\n",
    "* **tem_value** *[IntegerField] ××.×× 整数两位，小数两位*"
   ]
  },
  {
   "cell_type": "markdown",
   "metadata": {},
   "source": [
    "### 1.6 mhuser_heartdata表\n",
    "> 普通用户个人心率信息表\n",
    "\n",
    "* **own** *[foreign key, mhuser_normaluser.user]*\n",
    "* **time** *[DateTimeField]*\n",
    "* **deviceid** *[CharField, default='', max_length=50]*\n",
    "* **b_value** *[IntegerField] 心率 3位整数*\n",
    "* **q_value** *[IntegerField] 心率间隔 3位整数*\n",
    "* **s_value** *[IntegerField] 信号强度 3位整数*"
   ]
  },
  {
   "cell_type": "markdown",
   "metadata": {},
   "source": [
    "### 1.7 mhuser_oxygendata表\n",
    "> 普通用户个人血氧信息表\n",
    "\n",
    "* **own** *[foreign key, mhuser_normaluser.user]*\n",
    "* **time** *[DateTimeField]*\n",
    "* **deviceid** *[CharField, default='', max_length=50]*\n",
    "* **hr_value** *[IntegerField] 心率 3位整数*\n",
    "* **spo2_value** *[IntegerField] 血氧 3位整数*"
   ]
  },
  {
   "cell_type": "markdown",
   "metadata": {},
   "source": [
    "### 1.8 mhuser_pressuredata表\n",
    "> 普通用户个人血压信息表\n",
    "\n",
    "* **own** *[foreign key, mhuser_normaluser.user]*\n",
    "* **time** *[DateTimeField]*\n",
    "* **deviceid** *[CharField, default='', max_length=50]*\n",
    "* **bpss_value** *[IntegerField] 舒张压  3位整数* \n",
    "* **bpsz_value** *[IntegerField] 收缩压 3位整数*"
   ]
  },
  {
   "cell_type": "markdown",
   "metadata": {},
   "source": [
    "## 2. 留言 "
   ]
  },
  {
   "cell_type": "markdown",
   "metadata": {},
   "source": [
    "### 2.1  explain_explain表\n",
    "> 对普通用户健康数据的评论,称留言\n",
    "\n",
    "* **match** *[foreign key, mhuser_match]*\n",
    "* **author** *[foreign key, mhuser_mhuser]*\n",
    "* **touserid** *[foreign key, mhuser_normaluser]* \n",
    "* **time** *[DateTimeField]*\n",
    "* **context** *[RichTextField, max_length=10000]*\n",
    "* **read** *[CharField]*\n",
    "> author对应fromuserid, touserid为接受意见的用户，是普通用户。"
   ]
  },
  {
   "cell_type": "markdown",
   "metadata": {},
   "source": [
    "## 3. 设备"
   ]
  },
  {
   "cell_type": "markdown",
   "metadata": {},
   "source": [
    "### 3.1  device_device表\n",
    "> 有关设备,包含5张封面图,5张详情图\n",
    "\n",
    "* **name** *[CharField, max_length=30]*\n",
    "* **cover1** *[ImageField]*\n",
    "* **cover2** *[ImageField, blank=True]*\n",
    "* **cover3** *[ImageField, blank=True]*\n",
    "* **cover4** *[ImageField, blank=True]*\n",
    "* **cover5** *[ImageField, blank=True]*\n",
    "* **label** *[TextField, max_length=50] (标签)*\n",
    "* **sales** *[IntegerField, default=0] (销量)*\n",
    "* **price** *[FloatField, default=0.0] (价格)*\n",
    "* **detailimage1** *[ImageField, blank=True] (详情图片)*\n",
    "* **detailimage2** *[ImageField, blank=True] (详情图片)*\n",
    "* **detailimage3** *[ImageField, blank=True] (详情图片)*\n",
    "* **detailimage4** *[ImageField, blank=True] (详情图片)*\n",
    "* **detailimage5** *[ImageField, blank=True] (详情图片)*"
   ]
  },
  {
   "cell_type": "markdown",
   "metadata": {},
   "source": [
    "## 4. 评论\n",
    "> 对博客的评论系统"
   ]
  },
  {
   "cell_type": "markdown",
   "metadata": {},
   "source": [
    "### 4.1 comment_blogcomment表\n",
    "> 一级评论， 对博客进行评论  \n",
    "\n",
    "* **author** *[foreign key, mhuser_mhuser]*\n",
    "* **time** *[DateTimeField]*\n",
    "* **comment** *[RichTextField] (评论内容)*\n",
    "* **followed_blog** *[foreign key, blog_blog] (评论对象)*"
   ]
  },
  {
   "cell_type": "markdown",
   "metadata": {},
   "source": [
    "### 4.2 comment_bottomcomment表\n",
    "> 二级评论，对一级评论进行回复或自回复）  \n",
    "\n",
    "* **author** *[foreign key, mhuser_mhuser]*\n",
    "* **time** *[DateTimeField]*\n",
    "* **comment** *[RichTextField] (评论内容)*\n",
    "* **followed_comment** *[foreign key, blog_blog] (评论的评论对象)*\n",
    "* **followed_self** *[foreign key, self] (评论的二级评论对象)*"
   ]
  },
  {
   "cell_type": "markdown",
   "metadata": {},
   "source": [
    "## 5. 博客  "
   ]
  },
  {
   "cell_type": "markdown",
   "metadata": {},
   "source": [
    "### 5.1 blog_blog表\n",
    "> 博客的基本数据\n",
    "\n",
    "* **author** *[foreign key, mhuser_mhuser]*\n",
    "* **date** *[DateTimeField]*\n",
    "* **essay** *[RichTexTextFieldtField] (博客正文)*\n",
    "* **label** *[CharField, max_length=20] (标签)*\n",
    "* **views** *[IntegerField, default=0] (观看次数)*"
   ]
  },
  {
   "cell_type": "markdown",
   "metadata": {},
   "source": [
    "# 远程访问说明（通过navicat）"
   ]
  },
  {
   "cell_type": "markdown",
   "metadata": {},
   "source": [
    "> 也可使用代码段从服务器的ip地址访问MySql默认的3306端口，或者通过服务器的ssh代理访问。具体每种语言不尽相同，不再详说。"
   ]
  },
  {
   "cell_type": "markdown",
   "metadata": {},
   "source": [
    "## 1、直接访问服务器的3306端口 "
   ]
  },
  {
   "cell_type": "markdown",
   "metadata": {},
   "source": [
    "> navicat配置如下：\n",
    ">> 其中，用户名和密码为MySQL数据库的用户名和密码，分别是：  \n",
    ">> **用户名：root**  \n",
    ">> **密码：Lichang1-**  \n",
    "\n",
    "![常规选项卡](../image/选区_015.png)"
   ]
  },
  {
   "cell_type": "markdown",
   "metadata": {},
   "source": [
    "## 2、通过ssh代理访问 "
   ]
  },
  {
   "cell_type": "markdown",
   "metadata": {},
   "source": [
    "> navicat配置：\n",
    ">> 常规选项卡中主机地址配置为：0.0.0.0，其他不变，另外还要开启ssh代理，选中ssh选项卡，勾选使用ssh通道，ssh具体配置如下：  \n",
    ">> **主机：59.110.140.133**  \n",
    ">> **端口：22**  \n",
    ">> **用户名：ahnu**  \n",
    ">> **密码：ahnu2019**  \n",
    "\n",
    "配置截图如下：  \n",
    "![常规选项卡配置图](../image/选区_016.png)  \n",
    "![ssh选项卡配置图](../image/选区_017.png)"
   ]
  }
 ],
 "metadata": {
  "kernelspec": {
   "display_name": "Python 3",
   "language": "python",
   "name": "python3"
  },
  "language_info": {
   "codemirror_mode": {
    "name": "ipython",
    "version": 3
   },
   "file_extension": ".py",
   "mimetype": "text/x-python",
   "name": "python",
   "nbconvert_exporter": "python",
   "pygments_lexer": "ipython3",
   "version": "3.7.2"
  }
 },
 "nbformat": 4,
 "nbformat_minor": 2
}
