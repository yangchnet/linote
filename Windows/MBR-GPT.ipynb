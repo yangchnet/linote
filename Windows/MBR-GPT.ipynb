{
 "cells": [
  {
   "cell_type": "markdown",
   "metadata": {},
   "source": [
    "# Windows装系统遇到的问题"
   ]
  },
  {
   "cell_type": "markdown",
   "metadata": {},
   "source": [
    "### 1. 问题描述"
   ]
  },
  {
   "cell_type": "markdown",
   "metadata": {},
   "source": [
    "windows无法安装到这个磁盘，选中的磁盘具有MBR分区表。在EFI系统上，Windows只能安装到GPT磁盘"
   ]
  },
  {
   "cell_type": "markdown",
   "metadata": {},
   "source": [
    "### 2. 问题来源"
   ]
  },
  {
   "cell_type": "markdown",
   "metadata": {},
   "source": [
    "这个问题的根源网上众说纷纭，暂且不管他"
   ]
  },
  {
   "cell_type": "markdown",
   "metadata": {},
   "source": [
    "### 3. 解决办法"
   ]
  },
  {
   "cell_type": "markdown",
   "metadata": {},
   "source": [
    "1. 首先选择U盘安装，进入安装界面\n",
    "\n",
    "2. 按shift+F10打开命令行\n",
    "\n",
    "3. 输入```diskpart```并回车\n",
    "\n",
    "4. 输入```list disk```查看磁盘，一般会出现两个磁盘，一个是机器本身的磁盘，编号为0，另一个为U盘，编号为1\n",
    "\n",
    "5. 输入```select disk x```（x为要选择的磁盘编号） cmd会提示当前选择的磁盘为x\n",
    "\n",
    "6. 执行```clean```命令清除该磁盘上所有分区信息，并且会清空所有硬盘数据\n",
    "\n",
    "7. 执行```convert gpt```，将该硬盘转化为GPT格式\n",
    "\n",
    "8. 完成，继续安装系统"
   ]
  }
 ],
 "metadata": {
  "kernelspec": {
   "display_name": "Python 3",
   "language": "python",
   "name": "python3"
  },
  "language_info": {
   "codemirror_mode": {
    "name": "ipython",
    "version": 3
   },
   "file_extension": ".py",
   "mimetype": "text/x-python",
   "name": "python",
   "nbconvert_exporter": "python",
   "pygments_lexer": "ipython3",
   "version": "3.7.4"
  }
 },
 "nbformat": 4,
 "nbformat_minor": 2
}
