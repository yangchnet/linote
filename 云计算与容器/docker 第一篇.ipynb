{
 "cells": [
  {
   "cell_type": "code",
   "execution_count": 6,
   "metadata": {},
   "outputs": [],
   "source": [
    "from IPython.display import Image"
   ]
  },
  {
   "cell_type": "markdown",
   "metadata": {
    "toc-hr-collapsed": false
   },
   "source": [
    "## 1、docker的安装（Ubuntu)  "
   ]
  },
  {
   "cell_type": "markdown",
   "metadata": {
    "toc-hr-collapsed": true
   },
   "source": [
    "### 1.1、 设置存储库\n",
    "> 若是已安装旧版本的docker，  \n",
    "请卸载：sudo apt-get remove docker docker-engine docker.io containerd runc"
   ]
  },
  {
   "cell_type": "markdown",
   "metadata": {},
   "source": [
    "#### 1.1.1、更新apt索引\n",
    " ```bash\n",
    " sudo apt-get update\n",
    " ```"
   ]
  },
  {
   "cell_type": "markdown",
   "metadata": {},
   "source": [
    "#### 1.1.2、安装依赖\n",
    "```bash\n",
    "sudo apt-get install \\\n",
    "    apt-transport-https \\\n",
    "    ca-certificates \\\n",
    "    curl \\\n",
    "    gnupg-agent \\\n",
    "    software-properties-common\n",
    "```"
   ]
  },
  {
   "cell_type": "markdown",
   "metadata": {},
   "source": [
    "#### 1.1.3、添加docker官方的GPG秘钥\n",
    "```bash\n",
    "curl -fsSL https://download.docker.com/linux/ubuntu/gpg | sudo apt-key add -\n",
    "```\n",
    "> 在进行此步时，出现了sudo: unable to resolve host iZ2ze4512bfzoapfvch6btZ，这是因为机器不能反向解析  \n",
    "打开主机上的 /etc/hosts  \n",
    "添加： 127.0.0.1 【hostname】# 【hostname】用主机名替代  \n",
    "可在/etc/hostname中修改主机名，sudo shutdown -r now重启过后完成主机名修改\n",
    "\n",
    "验证添加成功：\n",
    "```bash\n",
    "sudo apt-key fingerprint 0EBFCD88\n",
    "```"
   ]
  },
  {
   "cell_type": "markdown",
   "metadata": {
    "slideshow": {
     "slide_type": "notes"
    },
    "toc-hr-collapsed": true
   },
   "source": [
    "#### 1.1.4、 设置存储库\n",
    "```\n",
    "sudo add-apt-repository \"deb [arch=amd64] https://download.docker.com/linux/ubuntu $(lsb_release -cs) \\stable\"\n",
    "\n",
    "```"
   ]
  },
  {
   "cell_type": "markdown",
   "metadata": {
    "toc-hr-collapsed": true
   },
   "source": [
    "### 1.2、安装dockerCE"
   ]
  },
  {
   "cell_type": "markdown",
   "metadata": {},
   "source": [
    "#### 1.2.1 更新apt索引\n",
    "```bash\n",
    "sudo apt-get update\n",
    "```"
   ]
  },
  {
   "cell_type": "markdown",
   "metadata": {},
   "source": [
    "#### 1.2.2、安装最新版本的dockerCE和containerd\n",
    "```bash\n",
    "sudo apt-get install docker-ce docker-ce-cli containerd.io\n",
    "```"
   ]
  },
  {
   "cell_type": "markdown",
   "metadata": {},
   "source": [
    "#### 1.2.3、通过运行hello-world验证是否正确安装了dockerCE\n",
    "```bash\n",
    "sudo docker run hello-world\n",
    "```"
   ]
  },
  {
   "cell_type": "markdown",
   "metadata": {
    "toc-hr-collapsed": false
   },
   "source": [
    "#### 1.2.4、卸载dockerCE\n",
    "1、卸载dockerCE软件包  \n",
    "```bash\n",
    "sudo apt-get purge docker-ce\n",
    "```\n",
    "2、主机上的图像，容器，卷或自定义配置文件不会自动删除。要删除所有图像，容器和卷：  \n",
    "```bash\n",
    "sudo rm -rf /var/lib/docker\n",
    "```"
   ]
  },
  {
   "cell_type": "markdown",
   "metadata": {
    "toc-hr-collapsed": false
   },
   "source": [
    "### 1.3、在docker中运行应用"
   ]
  },
  {
   "cell_type": "markdown",
   "metadata": {},
   "source": [
    "#### 1.3.1、创建工作目录\n",
    "```bash\n",
    "mkdir dockerwork\n",
    "```\n",
    "进入：  \n",
    "```bash\n",
    "cd dockerwork\n",
    "```"
   ]
  },
  {
   "cell_type": "markdown",
   "metadata": {
    "toc-hr-collapsed": false
   },
   "source": [
    "\n",
    "\n",
    "#### 1.3.2、 创建DockerFile\n",
    "内容如下：  \n",
    "```bash\n",
    "Use an official Python runtime as a parent image  \n",
    "FROM python:2.7-slim  \n",
    "\n",
    "# Set the working directory to /app  \n",
    "WORKDIR /app  \n",
    "\n",
    "# Copy the current directory contents into the container at /app  \n",
    "COPY . /app  \n",
    "\n",
    "# Install any needed packages specified in requirements.txt  \n",
    "RUN pip install --trusted-host pypi.python.org -r requirements.txt  \n",
    "\n",
    "# Make port 80 available to the world outside this container  \n",
    "EXPOSE 80  \n",
    "\n",
    "# Define environment variable  \n",
    "ENV NAME World  \n",
    "\n",
    "# Run app.py when the container launches  \n",
    "CMD [\"python\", \"app.py\"] \n",
    "```   \n",
    "有关DockerFile的解释可见[这里](https://docs.docker.com/develop/develop-images/dockerfile_best-practices/)\n",
    "> 其中 WORKDIR表示工作目录， COPY是把当前目录下（.）的内容复制到 /app  \n",
    "\n",
    "其中包含两个未建立的文件：requirements.txt & app.py\n",
    "其内容如下：\n",
    "> requirements.txt   \n",
    "\n",
    "```txt\n",
    "Flask\n",
    "Redis\n",
    "```\n",
    "> app.py  \n",
    "\n",
    "```python\n",
    "from flask import Flask\n",
    "from redis import Redis, RedisError\n",
    "import os\n",
    "import socket\n",
    "# Connect to Redis\n",
    "redis = Redis(host=\"redis\", db=0, socket_connect_timeout=2, socket_timeout=2)\n",
    "app = Flask(__name__)\n",
    "\n",
    "@app.route(\"/\")\n",
    "def hello():\n",
    "    try:\n",
    "        visits = redis.incr(\"counter\")\n",
    "    except RedisError:\n",
    "        visits = \"<i>cannot connect to Redis, counter disabled</i>\"\n",
    "\n",
    "    html = \"<h3>Hello {name}!</h3>\" \\\n",
    "           \"<b>Hostname:</b> {hostname}<br/>\" \\\n",
    "           \"<b>Visits:</b> {visits}\"\n",
    "    return html.format(name=os.getenv(\"NAME\", \"world\"), hostname=socket.gethostname(), visits=visits)\n",
    "\n",
    "if __name__ == \"__main__\":\n",
    "    app.run(host='0.0.0.0', port=80)\n",
    "```\n"
   ]
  },
  {
   "cell_type": "markdown",
   "metadata": {},
   "source": [
    "#### 1.3.3、构建应用程序\n",
    "```bash\n",
    "docker build --tag=friendlyhello .\n",
    "```"
   ]
  },
  {
   "cell_type": "markdown",
   "metadata": {},
   "source": [
    "#### 1.3.4、运行应用程序\n",
    "```bash\n",
    "docker run -p 4000:80 friendlyhello\n",
    "```\n",
    "![结果](./image/app-in-browser.png)\n",
    "> 这是运行一般程序的步骤，要构建django项目，请到[这里](./在docker中构建django项目.ipynb)"
   ]
  }
 ],
 "metadata": {
  "kernelspec": {
   "display_name": "Python 3",
   "language": "python",
   "name": "python3"
  },
  "language_info": {
   "codemirror_mode": {
    "name": "ipython",
    "version": 3
   },
   "file_extension": ".py",
   "mimetype": "text/x-python",
   "name": "python",
   "nbconvert_exporter": "python",
   "pygments_lexer": "ipython3",
   "version": "3.7.2"
  },
  "toc-autonumbering": false,
  "toc-showcode": true,
  "toc-showmarkdowntxt": false,
  "toc-showtags": false
 },
 "nbformat": 4,
 "nbformat_minor": 2
}
