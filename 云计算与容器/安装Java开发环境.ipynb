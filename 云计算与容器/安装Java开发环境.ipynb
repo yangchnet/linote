{
 "cells": [
  {
   "cell_type": "markdown",
   "metadata": {},
   "source": [
    "# Docker 搭建Java环境"
   ]
  },
  {
   "cell_type": "markdown",
   "metadata": {},
   "source": [
    "## 1. 拉取Ubuntu镜像"
   ]
  },
  {
   "cell_type": "markdown",
   "metadata": {},
   "source": [
    "```bash\n",
    "docker pull ubuntu\n",
    "```"
   ]
  },
  {
   "cell_type": "markdown",
   "metadata": {},
   "source": [
    "## 2. 运行docker镜像，并进入"
   ]
  },
  {
   "cell_type": "markdown",
   "metadata": {},
   "source": [
    "```bash\n",
    "docker run -it -v /home/hadoop/build:/root/build --name ubuntu ubuntu\n",
    "```\n",
    "> -i 表示Interaction，交互，开启交互模式  \n",
    "-t 表示分配一个tty，即控制台   \n",
    "-v 分配一个共享目录，  \n",
    "--name 为镜像命名  "
   ]
  },
  {
   "cell_type": "markdown",
   "metadata": {},
   "source": [
    "## 3. 基本操作"
   ]
  },
  {
   "cell_type": "markdown",
   "metadata": {},
   "source": [
    "* 首先更新源，并安装vim\n",
    "```bash\n",
    "apt-get update\n",
    "apt-get install vim\n",
    "```"
   ]
  },
  {
   "cell_type": "markdown",
   "metadata": {},
   "source": [
    "* 为保证后面的软件安装速度，进行换源  \n",
    "打开```/etc/apt/sources.list```，将其中的内容替换为：\n",
    "```\n",
    "deb http://mirrors.aliyun.com/ubuntu/ bionic main restricted universe multiverse\n",
    "deb http://mirrors.aliyun.com/ubuntu/ bionic-security main restricted universe multiverse\n",
    "deb http://mirrors.aliyun.com/ubuntu/ bionic-updates main restricted universe multiverse\n",
    "deb http://mirrors.aliyun.com/ubuntu/ bionic-proposed main restricted universe multiverse\n",
    "deb http://mirrors.aliyun.com/ubuntu/ bionic-backports main restricted universe multiverse\n",
    "deb-src http://mirrors.aliyun.com/ubuntu/ bionic main restricted universe multiverse\n",
    "deb-src http://mirrors.aliyun.com/ubuntu/ bionic-security main restricted universe multiverse\n",
    "deb-src http://mirrors.aliyun.com/ubuntu/ bionic-updates main restricted universe multiverse\n",
    "deb-src http://mirrors.aliyun.com/ubuntu/ bionic-proposed main restricted universe multiverse\n",
    "deb-src http://mirrors.aliyun.com/ubuntu/ bionic-backports main restricted universe multiverse\n",
    "```\n",
    "\n",
    "然后进行源更新\n",
    "```bash\n",
    "apt-get update\n",
    "apt-get upgrade\n",
    "```"
   ]
  },
  {
   "cell_type": "markdown",
   "metadata": {},
   "source": [
    "## 4. 安装jdk"
   ]
  },
  {
   "cell_type": "markdown",
   "metadata": {},
   "source": [
    "```bash\n",
    "apt-get install openjdk-8-jdk\n",
    "```\n",
    "设置环境变量```vim ~/.bashrc```   \n",
    "```\n",
    "export JAVA_HOME=/usr/lib/jvm/java-8-openjdk-amd64/\n",
    "export PATH=$PATH:$JAVA_HOME/bin\n",
    "```\n",
    "\n",
    "```\n",
    "source ~/.bashrc\n",
    "```"
   ]
  },
  {
   "cell_type": "markdown",
   "metadata": {},
   "source": [
    "## 5. 安装mysql"
   ]
  },
  {
   "cell_type": "markdown",
   "metadata": {},
   "source": [
    "```bash\n",
    "apt-get update\n",
    "apt-get install mysql-server\n",
    "```"
   ]
  },
  {
   "cell_type": "markdown",
   "metadata": {},
   "source": [
    "安装完成后并不知道MySQL的初始密码，可在```/etc/mysql/debian.cnf```寻找\n",
    "```\n",
    "user     = debian-sys-maint\n",
    "password = xXI6LBYyXzeWAwYj\n",
    "```\n",
    "这就是mysql初始的用户与密码  \n",
    "使用\n",
    "```\n",
    "mysql -u debian-sys-maint -p\n",
    "```\n",
    "登录，其密码为xXI6LBYyXzeWAwYj"
   ]
  },
  {
   "cell_type": "markdown",
   "metadata": {},
   "source": [
    "若出现```ERROR 2002 (HY000): Can't connect to local MySQL server through socket '/var/run/mysqld/mysqld.sock' (2)```，则可能是mysql服务尚未打开，可使用```/etc/init.d/mysql start```打开，同时可将```/etc/init.d/mysql start```添加到```~/.bashrc```，以开机启动。"
   ]
  },
  {
   "cell_type": "markdown",
   "metadata": {},
   "source": [
    "为mysql添加root用户  \n",
    "```sql\n",
    "mysql>set password for 'root'@'localhost' = password('123456');\n",
    "Query OK, 0 rows affected (0.00 sec)\n",
    "```"
   ]
  },
  {
   "cell_type": "markdown",
   "metadata": {},
   "source": [
    "更改root用户的访问位置\n",
    "```\n",
    "use mysql;\n",
    "update user set host = '%' where user = 'root';\n",
    "```\n",
    "改为%代表可在任何位置，原来是localhost，也就是只能本机访问"
   ]
  },
  {
   "cell_type": "markdown",
   "metadata": {},
   "source": [
    "## 6. 安装tomcat"
   ]
  },
  {
   "cell_type": "markdown",
   "metadata": {},
   "source": [
    "将下载好的tomcat安装包通过共享文件夹保存到docker容器的```/root/build```  \n",
    "解压到```/usr/local```\n",
    "```bash\n",
    "tar -zxvf apache-tomcat-7.0.77.tar.gz -C /usr/local\n",
    "cd /usr/local\n",
    "mv apache-tomcat-7.0.77.tar.gz tomcat7\n",
    "```\n",
    "\n",
    "设置环境变量\n",
    "```\n",
    "CATALINA_HOME=/usr/local/tomcat7\n",
    "export CATALINA_HOME\n",
    "```\n",
    "\n",
    "设置tomcat\n",
    "```\n",
    "vim  /usr/local/tomcat7/bin/catalina.sh\n",
    "```\n",
    "在其中增加\n",
    "```bash\n",
    "\n",
    "CATALINA_HOME=/usr/local/tomcat7\n",
    "JAVA_HOME=/usr/local/java/jdk1.8.0_121  # 这个要根据自己的来\n",
    "```\n",
    "\n",
    "启动tomcat\n",
    "```\n",
    "sudo ./bin/startup.sh\n",
    "```\n",
    "可将其写入~/.bashrc开机启动"
   ]
  }
 ],
 "metadata": {
  "kernelspec": {
   "display_name": "Python 3",
   "language": "python",
   "name": "python3"
  },
  "language_info": {
   "codemirror_mode": {
    "name": "ipython",
    "version": 3
   },
   "file_extension": ".py",
   "mimetype": "text/x-python",
   "name": "python",
   "nbconvert_exporter": "python",
   "pygments_lexer": "ipython3",
   "version": "3.7.2"
  }
 },
 "nbformat": 4,
 "nbformat_minor": 2
}
