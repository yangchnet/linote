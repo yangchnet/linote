{
 "cells": [
  {
   "cell_type": "markdown",
   "metadata": {},
   "source": [
    "# Vue中的指令介绍"
   ]
  },
  {
   "cell_type": "markdown",
   "metadata": {},
   "source": [
    "## 指令\n",
    "* 解释：指令 (Directives) 是带有 v- 前缀的特殊属性\n",
    "* 作用：当表达式的值改变时，将其产生的连带影响，响应式地作用于 DOM"
   ]
  },
  {
   "cell_type": "markdown",
   "metadata": {},
   "source": [
    "### **v-text**  \n",
    "解释：更新元素的 textContent\n",
    "```html\n",
    "<h1 v-text=\"msg\"></h1>\n",
    "```"
   ]
  },
  {
   "cell_type": "markdown",
   "metadata": {},
   "source": [
    "### **v-html**\n",
    "解释：更新元素的 innerHTML\n",
    "```html\n",
    "<h1 v-html=\"msg\"></h1>\n",
    "```"
   ]
  },
  {
   "cell_type": "markdown",
   "metadata": {},
   "source": [
    "### **v-bind**\n",
    "作用：当表达式的值改变时，将其产生的连带影响，响应式地作用于 DOM.响应式地更新 HTML attribute：\n",
    "语法：```v-bind:title=\"msg\"```\n",
    "简写：```:title=\"msg\"```\n",
    "```html\n",
    "<!-- 完整语法 -->\n",
    "<a v-bind:href=\"url\"></a>\n",
    "<!-- 缩写 -->\n",
    "<a :href=\"url\"></a>\n",
    "<script>\n",
    "    // 2 创建 Vue 的实例对象\n",
    "    var vm = new Vue({\n",
    "      // el 用来指定vue挂载到页面中的元素，值是：选择器\n",
    "      // 理解：用来指定vue管理的HTML区域\n",
    "      el: '#app',\n",
    "      // 数据对象，用来给视图中提供数据的\n",
    "      data: {\n",
    "        url: 'http://www.baidu.com'\n",
    "      }\n",
    "    })\n",
    "  </script>\n",
    "```"
   ]
  },
  {
   "cell_type": "markdown",
   "metadata": {},
   "source": [
    "### **v-on**\n",
    "作用：绑定事件\n",
    "语法：```v-on:click=\"say\" or v-on:click=\"say('参数', $event)\"```\n",
    "简写：```@click=\"say\"```\n",
    "说明：绑定的事件从methods中获取\n",
    "```html\n",
    "<!-- 完整语法 -->\n",
    "<a v-on:click=\"doSomething\"></a>\n",
    "<!-- 缩写 -->\n",
    "<a @click=\"doSomething\"></a>\n",
    "<!-- 方法传参 -->\n",
    "<a @click=\"doSomething（“123”）\"></a>\n",
    "\n",
    " <script>\n",
    "    // 2 创建 Vue 的实例对象\n",
    "    var vm = new Vue({\n",
    "      el: '#app',\n",
    "      // methods属性用来给vue实例提供方法（事件）\n",
    "      methods: {\n",
    "        doSomething: function(str) {\n",
    "          //接受参数，并输出\n",
    "          console.log(str);\n",
    "        }\n",
    "      }\n",
    "    })\n",
    "  </script>\n",
    "```"
   ]
  },
  {
   "cell_type": "markdown",
   "metadata": {},
   "source": [
    "### **事件修饰符**\n",
    "* .stop 阻止冒泡，调用 event.stopPropagation()\n",
    "* .prevent 阻止默认事件，调用 event.preventDefault()\n",
    "* .capture 添加事件侦听器时使用事件捕获模式\n",
    "* .self 只当事件在该元素本身（比如不是子元素）触发时触发回调\n",
    "* .once 事件只触发一次"
   ]
  },
  {
   "cell_type": "markdown",
   "metadata": {},
   "source": [
    "### **v-model**\n",
    "作用：在表单元素上创建双向数据绑定\n",
    "说明：监听用户的输入事件以更新数据\n",
    "```html\n",
    "<input v-model=\"message\" placeholder=\"edit me\">\n",
    "<p>Message is: {{ message }}</p>\n",
    "```"
   ]
  },
  {
   "cell_type": "markdown",
   "metadata": {},
   "source": [
    "### **v-for**\n",
    "作用：基于源数据多次渲染元素或模板块\n",
    "```html\n",
    "<!-- 1 基础用法 -->\n",
    "<div v-for=\"item in items\">\n",
    "  {{ item.text }}\n",
    "</div>\n",
    "\n",
    "<!-- item 为当前项，index 为索引 -->\n",
    "<p v-for=\"(item, index) in list\">{{item}} -- {{index}}</p>\n",
    "<!-- item 为值，key 为键，index 为索引 -->\n",
    "<p v-for=\"(item, key, index) in obj\">{{item}} -- {{key}}</p>\n",
    "<p v-for=\"item in 10\">{{item}}</p>\n",
    "```"
   ]
  },
  {
   "cell_type": "markdown",
   "metadata": {},
   "source": [
    "### **key属性**\n",
    "推荐：使用 v-for 的时候提供 key 属性，以获得性能提升。\n",
    "说明：使用 key，VUE会基于 key 的变化重新排列元素顺序，并且会移除 key 不存在的元素。\n",
    "```html\n",
    "<div v-for=\"item in items\" :key=\"item.id\">\n",
    "  <!-- 内容 -->\n",
    "</div>\n",
    "```"
   ]
  },
  {
   "cell_type": "markdown",
   "metadata": {},
   "source": [
    "### **样式处理 class和style**\n",
    "说明：这两个都是HTML元素的属性，使用v-bind，只需要通过表达式计算出字符串结果即可\n",
    "表达式的类型：字符串、数组、对象\n",
    "语法：\n",
    "```html\n",
    "<!-- 1 -->\n",
    "<div v-bind:class=\"{ active: true }\"></div> ===>\n",
    "<div class=\"active\"></div>\n",
    "\n",
    "<!-- 2 -->\n",
    "<div :class=\"['active', 'text-danger']\"></div> ===>\n",
    "<div class=\"active text-danger\"></div>\n",
    "\n",
    "<!-- 3 -->\n",
    "<div v-bind:class=\"[{ active: true }, errorClass]\"></div> ===>\n",
    "<div class=\"active text-danger\"></div>\n",
    "\n",
    "\n",
    "--- style ---\n",
    "<!-- 1 -->\n",
    "<div v-bind:style=\"{ color: activeColor, fontSize: fontSize + 'px' }\"></div>\n",
    "<!-- 2 将多个 样式对象 应用到一个元素上-->\n",
    "<div v-bind:style=\"[baseStyles, overridingStyles]\"></div>\n",
    "```"
   ]
  },
  {
   "cell_type": "markdown",
   "metadata": {},
   "source": [
    "### **v-if 和 v-show***\n",
    "* 条件渲染\n",
    "* v-if：根据表达式的值的真假条件，销毁或重建元素\n",
    "* v-show：根据表达式之真假值，切换元素的 display CSS 属性"
   ]
  },
  {
   "cell_type": "markdown",
   "metadata": {},
   "source": [
    "### **提升用户体验：v-cloak**\n",
    "这个指令保持在元素上直到关联实例结束编译。和 CSS 规则如``` [v-cloak] { display: none }``` 一起用时，这个指令可以隐藏未编译的 ```Mustache``` 标签直到实例准备完毕。\n",
    "防止刷新页面，网速慢的情况下出现```{{ message }}```等数据格式\n",
    "```html\n",
    "<div v-cloak>\n",
    "  {{ message }}\n",
    "</div>\n",
    "```"
   ]
  },
  {
   "cell_type": "markdown",
   "metadata": {},
   "source": [
    "### **提升性能：v-pre**\n",
    "说明：跳过这个元素和它的子元素的编译过程。可以用来显示原始 Mustache 标签。跳过大量没有指令的节点会加快编译。\n",
    "```html\n",
    "<span vpre>{{ this will not be compiled }}</span>\n",
    "```\n",
    "\n",
    "\n",
    "### **提升性能：v-once**\n",
    "说明：只渲染元素和组件一次。随后的重新渲染，元素/组件及其所有的子节点将被视为静态内容并跳过。这可以用于优化更新性能。\n",
    "```html\n",
    "<span v-once>This will never change: {{msg}}</span>\n",
    "```"
   ]
  }
 ],
 "metadata": {
  "kernelspec": {
   "display_name": "Python 3",
   "language": "python",
   "name": "python3"
  },
  "language_info": {
   "codemirror_mode": {
    "name": "ipython",
    "version": 3
   },
   "file_extension": ".py",
   "mimetype": "text/x-python",
   "name": "python",
   "nbconvert_exporter": "python",
   "pygments_lexer": "ipython3",
   "version": "3.7.2"
  }
 },
 "nbformat": 4,
 "nbformat_minor": 2
}
